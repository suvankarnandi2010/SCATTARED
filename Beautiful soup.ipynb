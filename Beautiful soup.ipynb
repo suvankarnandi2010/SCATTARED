{
 "cells": [
  {
   "attachments": {},
   "cell_type": "markdown",
   "id": "200d9d89",
   "metadata": {},
   "source": [
    "**1.REST API**\n",
    "\n",
    "1. **An API** lets two pieces of software talk to each other. For example, you have your program, you have some data and you know some other software components that can be used to simplyfy your data analysis. You can use API to import other software components to your program. Example - Pandas.\n",
    "2. **REST API** is the most Popular type of API if you want to retrive data form internet. The RE stands for Representational, the S stands for State, the T stand for Transfer. \n",
    "3. In rest api your program is called the **client**. The web services reffered as a **resourse**. The client Find the service in an **endpoint** of the resourse. The client send request to the resourse and it gives **response** to the client.\n",
    "3.  **http methods** are way of transmitting data over the internet. We tell the rest API what to do by sending a request. The request is usualy communicated via and http message. http message usualy contaibs a **jason** file which contain instruction that what operation we would like the service to perform. This operation is transmitted to the web service through the internet.And service perform the operation. In simillar mannar web service return a response via an http message where the information is usualy returned as a jason file to the client.\n",
    "4. An **API key** as a way to access the API. It's a unique set of characters that the API uses to identify you and authorize you. Usually, your first call to the API includes the **API key**. This will allow you access to the API. In many APIs, you may get charged for each call. So like your password, you should keep your API key a secret. An endpoint is simply the location of the service. It's used to find the API on the Internet just like a web address."
   ]
  },
  {
   "cell_type": "code",
   "execution_count": 1,
   "id": "24fc2ee7",
   "metadata": {},
   "outputs": [
    {
     "name": "stdout",
     "output_type": "stream",
     "text": [
      "Requirement already satisfied: pycoingecko in c:\\users\\suvankar\\appdata\\local\\programs\\python\\python311\\lib\\site-packages (3.1.0)"
     ]
    },
    {
     "name": "stderr",
     "output_type": "stream",
     "text": [
      "\n",
      "[notice] A new release of pip available: 22.3 -> 22.3.1\n",
      "[notice] To update, run: python.exe -m pip install --upgrade pip\n"
     ]
    },
    {
     "name": "stdout",
     "output_type": "stream",
     "text": [
      "\n",
      "Requirement already satisfied: requests in c:\\users\\suvankar\\appdata\\local\\programs\\python\\python311\\lib\\site-packages (from pycoingecko) (2.28.1)\n",
      "Requirement already satisfied: charset-normalizer<3,>=2 in c:\\users\\suvankar\\appdata\\local\\programs\\python\\python311\\lib\\site-packages (from requests->pycoingecko) (2.1.1)\n",
      "Requirement already satisfied: idna<4,>=2.5 in c:\\users\\suvankar\\appdata\\local\\programs\\python\\python311\\lib\\site-packages (from requests->pycoingecko) (3.4)\n",
      "Requirement already satisfied: urllib3<1.27,>=1.21.1 in c:\\users\\suvankar\\appdata\\local\\programs\\python\\python311\\lib\\site-packages (from requests->pycoingecko) (1.26.12)\n",
      "Requirement already satisfied: certifi>=2017.4.17 in c:\\users\\suvankar\\appdata\\local\\programs\\python\\python311\\lib\\site-packages (from requests->pycoingecko) (2022.9.24)\n",
      "Requirement already satisfied: plotly in c:\\users\\suvankar\\appdata\\local\\programs\\python\\python311\\lib\\site-packages (5.11.0)"
     ]
    },
    {
     "name": "stderr",
     "output_type": "stream",
     "text": [
      "\n",
      "[notice] A new release of pip available: 22.3 -> 22.3.1\n",
      "[notice] To update, run: python.exe -m pip install --upgrade pip\n"
     ]
    },
    {
     "name": "stdout",
     "output_type": "stream",
     "text": [
      "\n",
      "Requirement already satisfied: tenacity>=6.2.0 in c:\\users\\suvankar\\appdata\\local\\programs\\python\\python311\\lib\\site-packages (from plotly) (8.1.0)\n",
      "Requirement already satisfied: mplfinance in c:\\users\\suvankar\\appdata\\local\\programs\\python\\python311\\lib\\site-packages (0.12.9b5)\n",
      "Requirement already satisfied: matplotlib in c:\\users\\suvankar\\appdata\\local\\programs\\python\\python311\\lib\\site-packages (from mplfinance) (3.6.2)\n",
      "Requirement already satisfied: pandas in c:\\users\\suvankar\\appdata\\local\\programs\\python\\python311\\lib\\site-packages (from mplfinance) (1.5.1)\n",
      "Requirement already satisfied: contourpy>=1.0.1 in c:\\users\\suvankar\\appdata\\local\\programs\\python\\python311\\lib\\site-packages (from matplotlib->mplfinance) (1.0.6)\n",
      "Requirement already satisfied: cycler>=0.10 in c:\\users\\suvankar\\appdata\\local\\programs\\python\\python311\\lib\\site-packages (from matplotlib->mplfinance) (0.11.0)\n",
      "Requirement already satisfied: fonttools>=4.22.0 in c:\\users\\suvankar\\appdata\\local\\programs\\python\\python311\\lib\\site-packages (from matplotlib->mplfinance) (4.38.0)\n",
      "Requirement already satisfied: kiwisolver>=1.0.1 in c:\\users\\suvankar\\appdata\\local\\programs\\python\\python311\\lib\\site-packages (from matplotlib->mplfinance) (1.4.4)\n",
      "Requirement already satisfied: numpy>=1.19 in c:\\users\\suvankar\\appdata\\local\\programs\\python\\python311\\lib\\site-packages (from matplotlib->mplfinance) (1.23.4)\n",
      "Requirement already satisfied: packaging>=20.0 in c:\\users\\suvankar\\appdata\\local\\programs\\python\\python311\\lib\\site-packages (from matplotlib->mplfinance) (21.3)\n",
      "Requirement already satisfied: pillow>=6.2.0 in c:\\users\\suvankar\\appdata\\local\\programs\\python\\python311\\lib\\site-packages (from matplotlib->mplfinance) (9.3.0)\n",
      "Requirement already satisfied: pyparsing>=2.2.1 in c:\\users\\suvankar\\appdata\\local\\programs\\python\\python311\\lib\\site-packages (from matplotlib->mplfinance) (3.0.9)\n",
      "Requirement already satisfied: python-dateutil>=2.7 in c:\\users\\suvankar\\appdata\\local\\programs\\python\\python311\\lib\\site-packages (from matplotlib->mplfinance) (2.8.2)\n",
      "Requirement already satisfied: pytz>=2020.1 in c:\\users\\suvankar\\appdata\\local\\programs\\python\\python311\\lib\\site-packages (from pandas->mplfinance) (2022.6)\n",
      "Requirement already satisfied: six>=1.5 in c:\\users\\suvankar\\appdata\\local\\programs\\python\\python311\\lib\\site-packages (from python-dateutil>=2.7->matplotlib->mplfinance) (1.16.0)\n"
     ]
    },
    {
     "name": "stderr",
     "output_type": "stream",
     "text": [
      "\n",
      "[notice] A new release of pip available: 22.3 -> 22.3.1\n",
      "[notice] To update, run: python.exe -m pip install --upgrade pip\n"
     ]
    },
    {
     "name": "stdout",
     "output_type": "stream",
     "text": [
      "Requirement already satisfied: nbformat in c:\\users\\suvankar\\appdata\\local\\programs\\python\\python311\\lib\\site-packages (5.7.0)\n",
      "Requirement already satisfied: fastjsonschema in c:\\users\\suvankar\\appdata\\local\\programs\\python\\python311\\lib\\site-packages (from nbformat) (2.16.2)\n",
      "Requirement already satisfied: jsonschema>=2.6 in c:\\users\\suvankar\\appdata\\local\\programs\\python\\python311\\lib\\site-packages (from nbformat) (4.17.0)\n",
      "Requirement already satisfied: jupyter-core in c:\\users\\suvankar\\appdata\\local\\programs\\python\\python311\\lib\\site-packages (from nbformat) (4.11.2)\n",
      "Requirement already satisfied: traitlets>=5.1 in c:\\users\\suvankar\\appdata\\local\\programs\\python\\python311\\lib\\site-packages (from nbformat) (5.5.0)\n",
      "Requirement already satisfied: attrs>=17.4.0 in c:\\users\\suvankar\\appdata\\local\\programs\\python\\python311\\lib\\site-packages (from jsonschema>=2.6->nbformat) (22.1.0)\n",
      "Requirement already satisfied: pyrsistent!=0.17.0,!=0.17.1,!=0.17.2,>=0.14.0 in c:\\users\\suvankar\\appdata\\local\\programs\\python\\python311\\lib\\site-packages (from jsonschema>=2.6->nbformat) (0.19.2)\n",
      "Requirement already satisfied: pywin32>=1.0 in c:\\users\\suvankar\\appdata\\local\\programs\\python\\python311\\lib\\site-packages (from jupyter-core->nbformat) (304)\n"
     ]
    },
    {
     "name": "stderr",
     "output_type": "stream",
     "text": [
      "\n",
      "[notice] A new release of pip available: 22.3 -> 22.3.1\n",
      "[notice] To update, run: python.exe -m pip install --upgrade pip\n"
     ]
    }
   ],
   "source": [
    "!pip install pycoingecko\n",
    "!pip install plotly\n",
    "!pip install mplfinance\n",
    "!pip install --upgrade nbformat"
   ]
  },
  {
   "cell_type": "code",
   "execution_count": 2,
   "id": "deaf68c5",
   "metadata": {},
   "outputs": [],
   "source": [
    "import pandas as pd\n",
    "import numpy as np\n",
    "import plotly.graph_objects as go\n",
    "from plotly.offline import plot\n",
    "import matplotlib.pyplot as plt\n",
    "import datetime\n",
    "from pycoingecko import CoinGeckoAPI\n",
    "from mplfinance.original_flavor import candlestick2_ohlc"
   ]
  },
  {
   "cell_type": "code",
   "execution_count": 3,
   "id": "ee8f66dd",
   "metadata": {},
   "outputs": [],
   "source": [
    "dict_={'a':[11,21,31],'b':[12,22,32]}"
   ]
  },
  {
   "cell_type": "code",
   "execution_count": 4,
   "id": "b91021f0",
   "metadata": {},
   "outputs": [],
   "source": [
    "df=pd.DataFrame(dict_)"
   ]
  },
  {
   "cell_type": "code",
   "execution_count": 5,
   "id": "6d15c6ff",
   "metadata": {},
   "outputs": [
    {
     "name": "stdout",
     "output_type": "stream",
     "text": [
      "    a   b\n",
      "0  11  12\n",
      "1  21  22\n",
      "2  31  32\n"
     ]
    }
   ],
   "source": [
    "print(df)"
   ]
  },
  {
   "cell_type": "code",
   "execution_count": 6,
   "id": "db6f37fc",
   "metadata": {},
   "outputs": [
    {
     "data": {
      "text/html": [
       "<div>\n",
       "<style scoped>\n",
       "    .dataframe tbody tr th:only-of-type {\n",
       "        vertical-align: middle;\n",
       "    }\n",
       "\n",
       "    .dataframe tbody tr th {\n",
       "        vertical-align: top;\n",
       "    }\n",
       "\n",
       "    .dataframe thead th {\n",
       "        text-align: right;\n",
       "    }\n",
       "</style>\n",
       "<table border=\"1\" class=\"dataframe\">\n",
       "  <thead>\n",
       "    <tr style=\"text-align: right;\">\n",
       "      <th></th>\n",
       "      <th>a</th>\n",
       "      <th>b</th>\n",
       "    </tr>\n",
       "  </thead>\n",
       "  <tbody>\n",
       "    <tr>\n",
       "      <th>0</th>\n",
       "      <td>11</td>\n",
       "      <td>12</td>\n",
       "    </tr>\n",
       "    <tr>\n",
       "      <th>1</th>\n",
       "      <td>21</td>\n",
       "      <td>22</td>\n",
       "    </tr>\n",
       "    <tr>\n",
       "      <th>2</th>\n",
       "      <td>31</td>\n",
       "      <td>32</td>\n",
       "    </tr>\n",
       "  </tbody>\n",
       "</table>\n",
       "</div>"
      ],
      "text/plain": [
       "    a   b\n",
       "0  11  12\n",
       "1  21  22\n",
       "2  31  32"
      ]
     },
     "execution_count": 6,
     "metadata": {},
     "output_type": "execute_result"
    }
   ],
   "source": [
    "df.head()"
   ]
  },
  {
   "cell_type": "code",
   "execution_count": 7,
   "id": "3cf07bf0",
   "metadata": {},
   "outputs": [
    {
     "data": {
      "text/plain": [
       "a    21.0\n",
       "b    22.0\n",
       "dtype: float64"
      ]
     },
     "execution_count": 7,
     "metadata": {},
     "output_type": "execute_result"
    }
   ],
   "source": [
    "df.mean()"
   ]
  },
  {
   "cell_type": "code",
   "execution_count": 8,
   "id": "7e0605bd",
   "metadata": {},
   "outputs": [],
   "source": [
    "cg = CoinGeckoAPI()\n",
    "\n",
    "bitcoin_data = cg.get_coin_market_chart_by_id(id='bitcoin', vs_currency='usd', days=30)"
   ]
  },
  {
   "cell_type": "code",
   "execution_count": 9,
   "id": "b336b423",
   "metadata": {},
   "outputs": [
    {
     "data": {
      "text/plain": [
       "dict"
      ]
     },
     "execution_count": 9,
     "metadata": {},
     "output_type": "execute_result"
    }
   ],
   "source": [
    "type(bitcoin_data )"
   ]
  },
  {
   "cell_type": "code",
   "execution_count": 10,
   "id": "c7586071",
   "metadata": {},
   "outputs": [
    {
     "data": {
      "text/plain": [
       "[[1665547302682, 19052.305216194192],\n",
       " [1665551301105, 19104.047086682574],\n",
       " [1665554889009, 19120.268936075263],\n",
       " [1665558276843, 19154.96528273976],\n",
       " [1665561728230, 19104.156406139027]]"
      ]
     },
     "execution_count": 10,
     "metadata": {},
     "output_type": "execute_result"
    }
   ],
   "source": [
    "bitcoin_price_data = bitcoin_data['prices']\n",
    "\n",
    "bitcoin_price_data[0:5]"
   ]
  },
  {
   "cell_type": "code",
   "execution_count": null,
   "id": "c07d248c",
   "metadata": {},
   "outputs": [],
   "source": []
  }
 ],
 "metadata": {
  "kernelspec": {
   "display_name": "Python 3 (ipykernel)",
   "language": "python",
   "name": "python3"
  },
  "language_info": {
   "codemirror_mode": {
    "name": "ipython",
    "version": 3
   },
   "file_extension": ".py",
   "mimetype": "text/x-python",
   "name": "python",
   "nbconvert_exporter": "python",
   "pygments_lexer": "ipython3",
   "version": "3.11.0"
  }
 },
 "nbformat": 4,
 "nbformat_minor": 5
}
