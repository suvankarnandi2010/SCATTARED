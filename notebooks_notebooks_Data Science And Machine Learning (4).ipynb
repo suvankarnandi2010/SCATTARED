{
  "metadata": {
    "language_info": {
      "codemirror_mode": {
        "name": "python",
        "version": 3
      },
      "file_extension": ".py",
      "mimetype": "text/x-python",
      "name": "python",
      "nbconvert_exporter": "python",
      "pygments_lexer": "ipython3",
      "version": "3.8"
    },
    "kernelspec": {
      "name": "python",
      "display_name": "Python (Pyodide)",
      "language": "python"
    },
    "toc-showcode": false,
    "toc-showmarkdowntxt": true,
    "toc-autonumbering": false,
    "toc-showtags": false
  },
  "nbformat_minor": 4,
  "nbformat": 4,
  "cells": [
    {
      "cell_type": "markdown",
      "source": "# DATA SCIENCE AND MACHINE LEARNING",
      "metadata": {}
    },
    {
      "cell_type": "markdown",
      "source": "**CONTENTS -**\n\nPART - A - CONCEPTS\n\nPART - B - PYTHON\n",
      "metadata": {}
    },
    {
      "cell_type": "markdown",
      "source": "1. **Data Science Concept** -The Thought of Data Science Came from Data Analysis. Data Analysis isn't new. Statisticians have been doing it for many years. Even Normal people have been Doing it in excel for years.But Slowly amount of data increased due to Wide Internet usage. It is become impossible for statistician to analyze such huge quantity of data. So various software and programing languages have been developed for doing this Analysis. Analysis of data through this softwares and derive insights from it called Data Science. Also In Statistics we deal with samples of data, To find insights from it. But in Data Science we deal with total data. So Unlike Statistics in data Science insights are more accurate.",
      "metadata": {}
    },
    {
      "cell_type": "markdown",
      "source": "2. **Data Mining** - ",
      "metadata": {}
    },
    {
      "cell_type": "markdown",
      "source": "a. **Establishing Goals**\n- Identify Key Questions That to be Answered\n- Expected level of acquiricy of the result.\n- Higher the expected Level of Acquiricy Higher the Project cost\n- Usefullness of the result\n\nb. **Selecting Data**\n- The output  largely depends upon the quality of data being used. \n- If data is not readily available plan new data collection initiatives, including surveys.\n- Availability of Data Also effecting Cost\n\nc. **Preprocessing Data**\n- STEP 1 - Identify the irrelevant attributes and erroneous aspects of data to ensure integrity. \n- STEP 2 - Develop a formal method of dealing with missing data in advance and determine whether the data are missing randomly or systematically  and its impact on results.If observations or variables are missing randomly its impact is less, if data is missing systamaticaly This would lead to systematic biases in the analysis.\n- STEP 3 - After the relevant attributes of data have been retained, the next step is to determine the appropriate format in which data must be stored. \n- STEP 4 -  Reduce the number of attributes needed to explain the phenomena by transforming observations or variables reduction algorithms such as Principal Component Analysis without a significant loss in information. Often you need to transform variables from one type to another. Like Continious Variable to Categorial Variable. This could help capture the non-linearities in the underlying behaviors.\n\nd. **Storing Data**\n- Transformed data must be stored in a format that makes it conducive for data mining. \n- Data must be stored in a format that gives unrestricted and immediate read/write privileges to the data scientist. \n- During data mining, new variables are created, which are written back to the original database, which is why the data storage scheme should facilitate efficiently reading from and writing to the database. \n- It is also important to store data on servers or storage media that keeps the data secure and also prevents the data mining algorithm from unnecessarily searching for pieces of data scattered on different servers or storage media. Data safety and privacy should be a prime concern for storing data.\n\ne. **Mining Data** - Finding Trends - Finding Sonething - Data Analysis\n- Data analysis using, including parametric and non-parametric methods, and machine-learning algorithms. A good starting point for data mining is data visualization. \n- Multidimensional views of the data using the advanced graphing capabilities of data mining software are very helpful in developing a preliminary understanding of the trends hidden in the data set. \n\nf. **Evaluating Mining Results**\n- In-sample forecast means testing the predictive capabilities of the models on observed data to see how effective and efficient the algorithms have been in reproducing data. \n- Evalution of results in the light of the Stakeholders feedback and use better and improved algorithms to improve the quality of results. ",
      "metadata": {}
    },
    {
      "cell_type": "markdown",
      "source": "3. **The Report Structure**\n- **Detailed Report or Brief Report** - Before starting the analysis, think about the structure of the report. It can be a 5 page report or  100 page document. A brief report is more to the point and presents a summary of key findings.\nA detailed report incrementally builds the argument and contains details about other relevant works, research methodology, data sources, and intermediate findings along with the main results.\nThe length of the reports varied depending largely on the purpose of the report. Brief reports were drafted as commentaries on current trends and developments that attracted public or media attention.\nDetailed and comprehensive reports offered a critical review of the subject matter with extensive data analysis and commentary.\nOften, detailed reports collected new data or interviewed industry experts to answer the research questions. Even if you expect the report to be brief, sporting five or fewer pages, I recommend that the deliverable follow a prescribed\nformat including the cover page, table of contents, executive summary, detailed contents, acknowledgments, references, and appendices (if needed).\n- **Cover Report** - I often find the cover page to be missing in documents. It is not the inexperience of undergraduate students that is reflected in submissions that usually miss the cover page.\nIn fact, doctoral candidates also require an explicit reminder to include an informative cover page. I hasten to mention that the business world sleuths are hardly any better.\nJust search the Internet for reports and you will find plenty of reports from reputed firms that are missing the cover page. At a minimum, the cover page should include the title of the report, names of authors, their affiliations,\nand contacts, the name of the institutional publisher (if any), and the date of publication. I have seen numerous reports missing the date of publication, making it impossible to cite them without the year\nand month of publication. Also, from a business point of view, authors should make it easier for the reader to reach out to them. Having contact details at the front makes the task easier.\n- **Table of Contents** - \"A table of contents (ToC)\" is like a map needed for a trip never taken before. You need to have a sense of the journey before embarking on it.\nA map provides a visual proxy for the actual travel with details about the landmarks that you will pass by in your trip. The ToC with main headings and lists of tables and figures offers a glimpse of what lies ahead in the document.\nNever shy away from including a ToC, especially if your document, excluding cover page, table of contents, and references, is five or more pages in length.\nEven for a short document, I recommend an \"abstract\" or an \"executive summary\". Nothing is more powerful than explaining the crux of your arguments in three paragraphs or less.\nOf course, for larger documents running a few hundred pages, the executive summary could be longer.\n- **Introductory Section** - An \"introductory section\" is always helpful in setting up the problem for the reader who might be new to the topic and who might need to be gently introduced to the subject matter\nbefore being immersed in intricate details. A good follow-up to the introductory section is a review of available relevant research on the subject matter.\nThe length of the literature review section depends upon how contested the subject matter is. In instances where the vast majority of researchers have concluded in one direction,\n- **Nuanced arguments** - On the other hand, if the arguments are more nuanced with caveats aplenty, then you must cite the relevant research to offer adequate context before you embark on your analysis.\n- **Literature review**- You might use the literature review to highlight gaps in the existing knowledge, which your analysis will try to fill. This is where you formally introduce your research questions and hypothesis.\n- **Methodology** - In the \"methodology\" section, you introduce the research methods and data sources you used for the analysis. If you have collected new data, explain the data collection exercise in some detail.\nYou will refer to the literature review to bolster your choice for variables, data, and methods and how they will help you answer your research questions.\n- **Results** - The results section is where you present your empirical findings. Starting with descriptive statistics.and illustrative graphics you will move toward formally testing your hypothesis\nIn case you need to run statistical models, you might turn to regression models or categorical analysis. If you are working with time-series data\nYou can also report results from other empirical techniques that fall under the general rubric of data mining.\nNote that many reports in the business sector present results in a more palatable fashion by holding back the statistical details and relying on illustrative graphics to summarize the results.\nThe results section is followed by the discussion section, where you craft your main arguments by building on the results you have presented earlier.\n- **Discussion Knowledge Gaap**- The \"discussion section\" is where you rely on the power of narrative to enable numbers to communicate your thesis to your readers.\nYou refer the reader to the research question and the knowledge gaps you identified earlier. You highlight how your findings provide the ultimate missing piece to the puzzle.\nOf course, not all analytics return a smoking gun. At times, more frequently than I would like to acknowledge, the results provide only a partial answer to the question and that, too, with a long list of caveats.\n- **Conclusion** - In the \"conclusion\" section, you generalize your specific findings and take on a rather marketing approach to promote your findings so that the reader does not remain stuck in\nthe caveats that you have voluntarily outlined earlier. You might also identify future possible developments in research and applications that could result from your research.\nWhat remains is housekeeping, including a list of references, the acknowledgment section (acknowledging the support of those who have enabled your work is always good), and \"appendices\", if needed.\n- **Important Questions**\nHave You Done Your Job as a Writer? As a writer, you are responsible for communicating your findings to the readers.\nHave You done your Job as a Data Scientist? As a data scientist, you are expected to do thorough analysis with the appropriate data, deploying the appropriate tools.\nTransport Policy, a leading research publication in transportation planning, offers a checklist for authors interested in publishing with the journal.\nHave you told readers, at the outset, what they might gain by reading your paper?\nHave you made the aim of your work clear?\nHave you explained the significance of your contribution?\nHave you set your work in the appropriate context by giving sufficient background (including a complete set of relevant references) to your work?\nHave you addressed the question of practicality and usefulness?\nHave you identified future developments that might result from your work?\nHave you structured your paper in a clear and logical fashion?\n- **Leanth and Content** - The length and content of the final report will vary depending on the needs of the project.\nThe structure of the final report for a Data Science project should include a cover page, table of contents, executive summary, detailed contents, acknowledgements, references and appendices.\nThe report should present a thorough analysis of the data and communicate the project findings.",
      "metadata": {}
    },
    {
      "cell_type": "markdown",
      "source": "3. **Data Science Methodology**",
      "metadata": {}
    },
    {
      "cell_type": "markdown",
      "source": "A. **Business Understanding And Analytical Approach**",
      "metadata": {}
    },
    {
      "cell_type": "markdown",
      "source": "- The need to understand and prioritize the business goal.\n- The way stakeholder support influences a project.\n- The importance of selecting the right model.\n- When to use a predictive, descriptive, or classification model. ",
      "metadata": {}
    },
    {
      "cell_type": "markdown",
      "source": "B. **Data Requirement And Data Collection**",
      "metadata": {}
    },
    {
      "cell_type": "markdown",
      "source": "- Identify data requirements for your model.\n- Why the content, format, and representation of your data matter.   \n- The importance of identifying the correct sources of data for your project.\n- How to handle unavailable and redundant data.\n- To anticipate the needs of future stages in the process.",
      "metadata": {}
    },
    {
      "cell_type": "markdown",
      "source": "C. **Data Understanding And Preparation**",
      "metadata": {}
    },
    {
      "cell_type": "markdown",
      "source": "- The importance of descriptive statistics.\n- How to manage missing, invalid, or misleading data.\n- The need to clean data and sometimes transform it.\n- The consequences of bad data for the model.\n- Data understanding is iterative; you learn more about your data the more you study it. ",
      "metadata": {}
    },
    {
      "cell_type": "markdown",
      "source": "D. **Modeling And Evolution**",
      "metadata": {}
    },
    {
      "cell_type": "markdown",
      "source": "- The difference between descriptive and predictive models.\n- The role of training sets and test sets.\n- The importance of asking if the question has been answered.\n- Why diagnostic measures tools are needed.\n- The purpose of statistical significance tests.\n- That modeling and evaluation are iterative processes.",
      "metadata": {}
    },
    {
      "cell_type": "markdown",
      "source": "E. **Deployment And Feedback**",
      "metadata": {}
    },
    {
      "cell_type": "markdown",
      "source": "- The importance of stakeholder input.\n- To consider the scale of deployment.\n- The importance of incorporating feedback to refine the model.\n- The refined model must be redeployed.\n- This process should be repeated as often as necessary.",
      "metadata": {}
    },
    {
      "cell_type": "markdown",
      "source": "- **10 Questions to Ask**",
      "metadata": {}
    },
    {
      "cell_type": "markdown",
      "source": "1. What is the problem that you are trying to solve?\n2. How can you use the Data to Answer the Question?\n3. What data do you need to answer the question?\n4. Where is the data comming from and how you get it?\n5. Is the data you have collected representative of the problem to be solved?\n6. What additional work is required to manipulate and work with the data?\n7. In what way can the data be visualized to get the answer that is required?\n8. Does the model used realy answer the initial question or does it need to be adjusted?\n9. Can you put the model into practice?\n10. Can you get constructive feedback to answering the question?",
      "metadata": {}
    },
    {
      "cell_type": "markdown",
      "source": "4. **Machine learning**",
      "metadata": {}
    },
    {
      "cell_type": "markdown",
      "source": "Machine learning  is a subset of AI that uses computer algorithms to analyze data and make intelligent decisions based on what it is learned without being explicitly programmed.Machine learning algorithms are trained with large sets of data and they learn from examples. They do not follow rules-based algorithms. Machine learning is what enables machines to solve problems on their own and make accurate predictions using the provided data.",
      "metadata": {}
    },
    {
      "cell_type": "markdown",
      "source": "**Techniques** -",
      "metadata": {}
    },
    {
      "cell_type": "markdown",
      "source": "1. **Regression/Estimation** - Predecting Continioues values for example price of a house based on its characteristics or estimate co2 ommission from a car engine. \n2. **Classification** - Predecting class or catagory of a case.for example, if a cell is benign or malignant, or whether or not a customer will churn. \n3. **Clustering** - Groups of similar cases, for example, can find similar patients, or can be used for customer segmentation in the banking field.\n4. **Association** -  Technique is used for finding items or events that often co-occur, for example, grocery items that are usually bought together by a particular customer.\n5. **Anomaly detection**-  Is used to discover abnormal and unusual cases, for example, it is used for credit card fraud detection.\n6. **Sequence mining** -  Is used for predicting the next event, for instance, the click-stream in websites.\n7. **Dimension reduction** -  Is used to reduce the size of data.\n8. **Recommendation systems**- This associates people's preferences with others who have similar tastes, and recommends new items to them, such as books or movies. ",
      "metadata": {}
    },
    {
      "cell_type": "markdown",
      "source": "5. **Deep learning And Nural Networks**",
      "metadata": {}
    },
    {
      "cell_type": "markdown",
      "source": "6. **Artificial intelligence**",
      "metadata": {}
    },
    {
      "cell_type": "markdown",
      "source": "7. **Tools Available** -",
      "metadata": {}
    },
    {
      "cell_type": "markdown",
      "source": "",
      "metadata": {}
    },
    {
      "cell_type": "markdown",
      "source": "***PART - B - PYTHON***",
      "metadata": {}
    },
    {
      "cell_type": "markdown",
      "source": "1. Python Basics\n2. Python for importing files\n3. Python for Web scraping\n4. Python for Sql\n5. Python for Data Analysis \n6. Python for Data Visualization\n7. Python for Machine Learning\n8. Projects",
      "metadata": {}
    },
    {
      "cell_type": "markdown",
      "source": "# 1. **Python Syntax**",
      "metadata": {}
    },
    {
      "cell_type": "markdown",
      "source": "1. **Python syntax can be executed by writing directly in the Command Line.**\n\nWhere in other programming languages the indentation in code is for readability only, the indentation in Python is very important.\n\nPython uses indentation to indicate a block of code.",
      "metadata": {}
    },
    {
      "cell_type": "code",
      "source": "print(\"Hello, World!\")",
      "metadata": {
        "trusted": true
      },
      "execution_count": 80,
      "outputs": [
        {
          "name": "stdout",
          "text": "Hello, World!\n",
          "output_type": "stream"
        }
      ]
    },
    {
      "cell_type": "code",
      "source": "if 5 > 2:\n  print(\"Five is greater than two!\")",
      "metadata": {
        "trusted": true
      },
      "execution_count": 81,
      "outputs": [
        {
          "name": "stdout",
          "text": "Five is greater than two!\n",
          "output_type": "stream"
        }
      ]
    },
    {
      "cell_type": "markdown",
      "source": "2. **Python will give you an error if you skip the indentation:**",
      "metadata": {}
    },
    {
      "cell_type": "code",
      "source": "if 5 > 2:\nprint(\"Five is greater than two!\")",
      "metadata": {
        "trusted": true
      },
      "execution_count": 83,
      "outputs": [
        {
          "ename": "<class 'IndentationError'>",
          "evalue": "expected an indented block after 'if' statement on line 1 (<ipython-input-83-a314491c53bb>, line 2)",
          "traceback": [
            "\u001b[0;36m  Cell \u001b[0;32mIn [83], line 2\u001b[0;36m\u001b[0m\n\u001b[0;31m    print(\"Five is greater than two!\")\u001b[0m\n\u001b[0m    ^\u001b[0m\n\u001b[0;31mIndentationError\u001b[0m\u001b[0;31m:\u001b[0m expected an indented block after 'if' statement on line 1\n"
          ],
          "output_type": "error"
        }
      ]
    },
    {
      "cell_type": "markdown",
      "source": "3. **The number of spaces is up to you as a programmer, the most common use is four, but it has to be at least one**",
      "metadata": {}
    },
    {
      "cell_type": "code",
      "source": "if 5 > 2:\n print(\"Five is greater than two!\") \nif 5 > 2:\n        print(\"Five is greater than two!\") ",
      "metadata": {
        "trusted": true
      },
      "execution_count": 82,
      "outputs": [
        {
          "name": "stdout",
          "text": "Five is greater than two!\nFive is greater than two!\n",
          "output_type": "stream"
        }
      ]
    },
    {
      "cell_type": "markdown",
      "source": "# 2. Python Comments",
      "metadata": {}
    },
    {
      "cell_type": "markdown",
      "source": "- Comments can be used to explain Python code.\n- Comments can be used to make the code more readable.\n- Comments can be used to prevent execution when testing code.\n- Comments starts with a #,  and Python will ignore them.",
      "metadata": {}
    },
    {
      "cell_type": "code",
      "source": "#This is a comment\nprint(\"Hello, World!\")",
      "metadata": {
        "trusted": true
      },
      "execution_count": 90,
      "outputs": [
        {
          "name": "stdout",
          "text": "Hello, World!\n",
          "output_type": "stream"
        }
      ]
    },
    {
      "cell_type": "markdown",
      "source": "Comments can be placed at the end of a line, and Python will ignore the rest of the line.",
      "metadata": {}
    },
    {
      "cell_type": "code",
      "source": "print(\"Hello, World!\") #This is a comment",
      "metadata": {
        "trusted": true
      },
      "execution_count": 91,
      "outputs": [
        {
          "name": "stdout",
          "text": "Hello, World!\n",
          "output_type": "stream"
        }
      ]
    },
    {
      "cell_type": "code",
      "source": "#print(\"Hello, World!\")\nprint(\"Cheers, Mate!\")",
      "metadata": {
        "trusted": true
      },
      "execution_count": 92,
      "outputs": [
        {
          "name": "stdout",
          "text": "Cheers, Mate!\n",
          "output_type": "stream"
        }
      ]
    },
    {
      "cell_type": "markdown",
      "source": "# 3. Python Variables",
      "metadata": {}
    },
    {
      "cell_type": "markdown",
      "source": "- Variables are containers for storing data values.\n- Python has no command for declaring a variable.\n- A variable is created the moment you first assign a value to it.",
      "metadata": {}
    },
    {
      "cell_type": "code",
      "source": "x = 5\ny = \"John\"\nprint(x)\nprint(y)",
      "metadata": {
        "trusted": true
      },
      "execution_count": 94,
      "outputs": [
        {
          "name": "stdout",
          "text": "5\nJohn\n",
          "output_type": "stream"
        }
      ]
    },
    {
      "cell_type": "markdown",
      "source": "- Variables do not need to be declared with any particular type, and can even change type after they have been set.",
      "metadata": {}
    },
    {
      "cell_type": "code",
      "source": "x = 4       # x is of type int\nx = \"Sally\" # x is now of type str\nprint(x)",
      "metadata": {
        "trusted": true
      },
      "execution_count": 95,
      "outputs": [
        {
          "name": "stdout",
          "text": "Sally\n",
          "output_type": "stream"
        }
      ]
    },
    {
      "cell_type": "code",
      "source": "x = str(3)    # x will be '3'\ny = int(3)    # y will be 3\nz = float(3)  # z will be 3.0",
      "metadata": {
        "trusted": true
      },
      "execution_count": 96,
      "outputs": []
    },
    {
      "cell_type": "markdown",
      "source": "- **Variable Names**\n\nA variable can have a short name (like x and y) or a more descriptive name (age, carname, total_volume). Rules for Python variables:\n\nA variable name must start with a letter or the underscore character\n\nA variable name cannot start with a number\n\nA variable name can only contain alpha-numeric characters and underscores (A-z, 0-9, and _ )\n\nVariable names are case-sensitive (age, Age and AGE are three different variables)",
      "metadata": {}
    },
    {
      "cell_type": "code",
      "source": "myvar = \"John\"\nmy_var = \"John\"\n_my_var = \"John\"\nmyVar = \"John\"\nMYVAR = \"John\"\nmyvar2 = \"John\"",
      "metadata": {
        "trusted": true
      },
      "execution_count": 97,
      "outputs": []
    },
    {
      "cell_type": "markdown",
      "source": "**Illegal variable names:**",
      "metadata": {}
    },
    {
      "cell_type": "code",
      "source": "2myvar = \"John\"\nmy-var = \"John\"\nmy var = \"John\"",
      "metadata": {
        "trusted": true
      },
      "execution_count": 98,
      "outputs": [
        {
          "ename": "<class 'SyntaxError'>",
          "evalue": "invalid decimal literal (<ipython-input-98-0e82719f22b4>, line 1)",
          "traceback": [
            "\u001b[0;36m  Cell \u001b[0;32mIn [98], line 1\u001b[0;36m\u001b[0m\n\u001b[0;31m    2myvar = \"John\"\u001b[0m\n\u001b[0m    ^\u001b[0m\n\u001b[0;31mSyntaxError\u001b[0m\u001b[0;31m:\u001b[0m invalid decimal literal\n"
          ],
          "output_type": "error"
        }
      ]
    },
    {
      "cell_type": "markdown",
      "source": "**Python allows you to assign values to multiple variables in one line:**",
      "metadata": {}
    },
    {
      "cell_type": "code",
      "source": "x, y, z = \"Orange\", \"Banana\", \"Cherry\"\nprint(x)\nprint(y)\nprint(z)",
      "metadata": {
        "trusted": true
      },
      "execution_count": 99,
      "outputs": [
        {
          "name": "stdout",
          "text": "Orange\nBanana\nCherry\n",
          "output_type": "stream"
        }
      ]
    },
    {
      "cell_type": "markdown",
      "source": "**One Value to Multiple Variables**",
      "metadata": {}
    },
    {
      "cell_type": "code",
      "source": "x = y = z = \"Orange\"\nprint(x)\nprint(y)\nprint(z)",
      "metadata": {
        "trusted": true
      },
      "execution_count": 100,
      "outputs": [
        {
          "name": "stdout",
          "text": "Orange\nOrange\nOrange\n",
          "output_type": "stream"
        }
      ]
    },
    {
      "cell_type": "markdown",
      "source": "**Unpack a Collection**",
      "metadata": {}
    },
    {
      "cell_type": "code",
      "source": "fruits = [\"apple\", \"banana\", \"cherry\"]\nx, y, z = fruits\nprint(x)\nprint(y)\nprint(z)",
      "metadata": {
        "trusted": true
      },
      "execution_count": 101,
      "outputs": [
        {
          "name": "stdout",
          "text": "apple\nbanana\ncherry\n",
          "output_type": "stream"
        }
      ]
    },
    {
      "cell_type": "markdown",
      "source": "**Output Variables**\n\nThe Python print() function is often used to output variables.",
      "metadata": {}
    },
    {
      "cell_type": "code",
      "source": "x = \"Python is awesome\"\nprint(x)",
      "metadata": {
        "trusted": true
      },
      "execution_count": 102,
      "outputs": [
        {
          "name": "stdout",
          "text": "Python is awesome\n",
          "output_type": "stream"
        }
      ]
    },
    {
      "cell_type": "markdown",
      "source": "**In the print() function, you output multiple variables, separated by a comma:**",
      "metadata": {}
    },
    {
      "cell_type": "code",
      "source": "x = \"Python\"\ny = \"is\"\nz = \"awesome\"\nprint(x, y, z)",
      "metadata": {
        "trusted": true
      },
      "execution_count": 103,
      "outputs": [
        {
          "name": "stdout",
          "text": "Python is awesome\n",
          "output_type": "stream"
        }
      ]
    },
    {
      "cell_type": "markdown",
      "source": "**You can also use the + operator to output multiple variables:**",
      "metadata": {}
    },
    {
      "cell_type": "code",
      "source": "x = \"Python \"\ny = \"is \"\nz = \"awesome\"\nprint(x + y + z)",
      "metadata": {
        "trusted": true
      },
      "execution_count": 105,
      "outputs": [
        {
          "name": "stdout",
          "text": "Python is awesome\n",
          "output_type": "stream"
        }
      ]
    },
    {
      "cell_type": "markdown",
      "source": "For numbers, the + character works as a mathematical operator:",
      "metadata": {}
    },
    {
      "cell_type": "code",
      "source": "x = 5\ny = 10\nprint(x + y)",
      "metadata": {
        "trusted": true
      },
      "execution_count": 106,
      "outputs": [
        {
          "name": "stdout",
          "text": "15\n",
          "output_type": "stream"
        }
      ]
    },
    {
      "cell_type": "markdown",
      "source": "**In the print() function, when you try to combine a string and a number with the + operator, Python will give you an error**",
      "metadata": {}
    },
    {
      "cell_type": "code",
      "source": "x = 5\ny = \"John\"\nprint(x + y)",
      "metadata": {
        "trusted": true
      },
      "execution_count": 107,
      "outputs": [
        {
          "ename": "<class 'TypeError'>",
          "evalue": "unsupported operand type(s) for +: 'int' and 'str'",
          "traceback": [
            "\u001b[0;31m---------------------------------------------------------------------------\u001b[0m",
            "\u001b[0;31mTypeError\u001b[0m                                 Traceback (most recent call last)",
            "Cell \u001b[0;32mIn [107], line 3\u001b[0m\n\u001b[1;32m      1\u001b[0m x \u001b[38;5;241m=\u001b[39m \u001b[38;5;241m5\u001b[39m\n\u001b[1;32m      2\u001b[0m y \u001b[38;5;241m=\u001b[39m \u001b[38;5;124m\"\u001b[39m\u001b[38;5;124mJohn\u001b[39m\u001b[38;5;124m\"\u001b[39m\n\u001b[0;32m----> 3\u001b[0m \u001b[38;5;28mprint\u001b[39m(\u001b[43mx\u001b[49m\u001b[43m \u001b[49m\u001b[38;5;241;43m+\u001b[39;49m\u001b[43m \u001b[49m\u001b[43my\u001b[49m)\n",
            "\u001b[0;31mTypeError\u001b[0m: unsupported operand type(s) for +: 'int' and 'str'"
          ],
          "output_type": "error"
        }
      ]
    },
    {
      "cell_type": "markdown",
      "source": "**The best way to output multiple variables in the print() function is to separate them with commas, which even support different data types:**",
      "metadata": {}
    },
    {
      "cell_type": "code",
      "source": "x = 5\ny = \"John\"\nprint(x, y)",
      "metadata": {
        "trusted": true
      },
      "execution_count": 108,
      "outputs": [
        {
          "name": "stdout",
          "text": "5 John\n",
          "output_type": "stream"
        }
      ]
    },
    {
      "cell_type": "markdown",
      "source": "**Global Variables.**\n\nVariables that are created outside of a function (as in all of the examples above) are known as global variables.\n\nGlobal variables can be used by everyone, both inside of functions and outside.",
      "metadata": {}
    },
    {
      "cell_type": "code",
      "source": "x = \"awesome\"\n\ndef myfunc():\n  print(\"Python is \" + x)\n\nmyfunc()",
      "metadata": {
        "trusted": true
      },
      "execution_count": 109,
      "outputs": [
        {
          "name": "stdout",
          "text": "Python is awesome\n",
          "output_type": "stream"
        }
      ]
    },
    {
      "cell_type": "markdown",
      "source": "**If you create a variable with the same name inside a function, this variable will be local, and can only be used inside the function. The global variable with the same name will remain as it was, global and with the original value.**",
      "metadata": {}
    },
    {
      "cell_type": "code",
      "source": "x = \"awesome\"\n\ndef myfunc():\n  x = \"fantastic\"\n  print(\"Python is \" + x)\n\nmyfunc()\n\nprint(\"Python is \" + x)",
      "metadata": {
        "trusted": true
      },
      "execution_count": 110,
      "outputs": [
        {
          "name": "stdout",
          "text": "Python is fantastic\nPython is awesome\n",
          "output_type": "stream"
        }
      ]
    },
    {
      "cell_type": "markdown",
      "source": "# 4. Python Data Types",
      "metadata": {}
    },
    {
      "cell_type": "markdown",
      "source": "In programming, data type is an important concept.\n\nVariables can store data of different types, and different types can do different things.\n\nPython has the following data types built-in by default, in these categories:\n\nText Type:\tstr\n\nNumeric Types:\tint, float, complex\n\nSequence Types:\tlist, tuple, range\n\nMapping Type:\tdict\n\nSet Types:\tset, frozenset\n\nBoolean Type:\tbool\n\nBinary Types:\tbytes, bytearray, memoryview\n\nNone Type:\tNoneType",
      "metadata": {}
    },
    {
      "cell_type": "code",
      "source": "x = 5\nprint(type(x))",
      "metadata": {
        "trusted": true
      },
      "execution_count": 111,
      "outputs": [
        {
          "name": "stdout",
          "text": "<class 'int'>\n",
          "output_type": "stream"
        }
      ]
    },
    {
      "cell_type": "code",
      "source": "x = \"Hello World\"\n\n#display x:\nprint(x)\n\n#display the data type of x:\nprint(type(x)) ",
      "metadata": {
        "trusted": true
      },
      "execution_count": 112,
      "outputs": [
        {
          "name": "stdout",
          "text": "Hello World\n<class 'str'>\n",
          "output_type": "stream"
        }
      ]
    },
    {
      "cell_type": "code",
      "source": "x = 20\n\n#display x:\nprint(x)\n\n#display the data type of x:\nprint(type(x))",
      "metadata": {
        "trusted": true
      },
      "execution_count": 113,
      "outputs": [
        {
          "name": "stdout",
          "text": "20\n<class 'int'>\n",
          "output_type": "stream"
        }
      ]
    },
    {
      "cell_type": "code",
      "source": "x = 20.5\n\n#display x:\nprint(x)\n\n#display the data type of x:\nprint(type(x)) ",
      "metadata": {
        "trusted": true
      },
      "execution_count": 114,
      "outputs": [
        {
          "name": "stdout",
          "text": "20.5\n<class 'float'>\n",
          "output_type": "stream"
        }
      ]
    },
    {
      "cell_type": "code",
      "source": "x = 1j\n\n#display x:\nprint(x)\n\n#display the data type of x:\nprint(type(x))",
      "metadata": {
        "trusted": true
      },
      "execution_count": 115,
      "outputs": [
        {
          "name": "stdout",
          "text": "1j\n<class 'complex'>\n",
          "output_type": "stream"
        }
      ]
    },
    {
      "cell_type": "code",
      "source": "x = [\"apple\", \"banana\", \"cherry\"]\n\n#display x:\nprint(x)\n\n#display the data type of x:\nprint(type(x))",
      "metadata": {
        "trusted": true
      },
      "execution_count": 116,
      "outputs": [
        {
          "name": "stdout",
          "text": "['apple', 'banana', 'cherry']\n<class 'list'>\n",
          "output_type": "stream"
        }
      ]
    },
    {
      "cell_type": "code",
      "source": "x = (\"apple\", \"banana\", \"cherry\")\n\n#display x:\nprint(x)\n\n#display the data type of x:\nprint(type(x))",
      "metadata": {
        "trusted": true
      },
      "execution_count": 117,
      "outputs": [
        {
          "name": "stdout",
          "text": "('apple', 'banana', 'cherry')\n<class 'tuple'>\n",
          "output_type": "stream"
        }
      ]
    },
    {
      "cell_type": "code",
      "source": "x = range(6)\n\n#display x:\nprint(x)\n\n#display the data type of x:\nprint(type(x)) ",
      "metadata": {
        "trusted": true
      },
      "execution_count": 118,
      "outputs": [
        {
          "name": "stdout",
          "text": "range(0, 6)\n<class 'range'>\n",
          "output_type": "stream"
        }
      ]
    },
    {
      "cell_type": "code",
      "source": "x = {\"name\" : \"John\", \"age\" : 36}\n\n#display x:\nprint(x)\n\n#display the data type of x:\nprint(type(x)) ",
      "metadata": {
        "trusted": true
      },
      "execution_count": 119,
      "outputs": [
        {
          "name": "stdout",
          "text": "{'name': 'John', 'age': 36}\n<class 'dict'>\n",
          "output_type": "stream"
        }
      ]
    },
    {
      "cell_type": "code",
      "source": "x = {\"apple\", \"banana\", \"cherry\"}\n\n#display x:\nprint(x)\n\n#display the data type of x:\nprint(type(x)) ",
      "metadata": {
        "trusted": true
      },
      "execution_count": 120,
      "outputs": [
        {
          "name": "stdout",
          "text": "{'apple', 'banana', 'cherry'}\n<class 'set'>\n",
          "output_type": "stream"
        }
      ]
    },
    {
      "cell_type": "code",
      "source": "x = frozenset({\"apple\", \"banana\", \"cherry\"})\n\n#display x:\nprint(x)\n\n#display the data type of x:\nprint(type(x)) ",
      "metadata": {
        "trusted": true
      },
      "execution_count": 123,
      "outputs": [
        {
          "name": "stdout",
          "text": "frozenset({'apple', 'banana', 'cherry'})\n<class 'frozenset'>\n",
          "output_type": "stream"
        }
      ]
    },
    {
      "cell_type": "code",
      "source": "x = True\n\n#display x:\nprint(x)\n\n#display the data type of x:\nprint(type(x)) ",
      "metadata": {
        "trusted": true
      },
      "execution_count": 122,
      "outputs": [
        {
          "name": "stdout",
          "text": "True\n<class 'bool'>\n",
          "output_type": "stream"
        }
      ]
    },
    {
      "cell_type": "code",
      "source": "x = b\"Hello\"\n\n#display x:\nprint(x)\n\n#display the data type of x:\nprint(type(x)) ",
      "metadata": {
        "trusted": true
      },
      "execution_count": 124,
      "outputs": [
        {
          "name": "stdout",
          "text": "b'Hello'\n<class 'bytes'>\n",
          "output_type": "stream"
        }
      ]
    },
    {
      "cell_type": "code",
      "source": "x = bytearray(5)\n\n#display x:\nprint(x)\n\n#display the data type of x:\nprint(type(x)) ",
      "metadata": {
        "trusted": true
      },
      "execution_count": 125,
      "outputs": [
        {
          "name": "stdout",
          "text": "bytearray(b'\\x00\\x00\\x00\\x00\\x00')\n<class 'bytearray'>\n",
          "output_type": "stream"
        }
      ]
    },
    {
      "cell_type": "code",
      "source": "x = memoryview(bytes(5))\n\n#display x:\nprint(x)\n\n#display the data type of x:\nprint(type(x)) ",
      "metadata": {
        "trusted": true
      },
      "execution_count": 126,
      "outputs": [
        {
          "name": "stdout",
          "text": "<memory at 0x31dfa08>\n<class 'memoryview'>\n",
          "output_type": "stream"
        }
      ]
    },
    {
      "cell_type": "code",
      "source": "x = None\n\n#display x:\nprint(x)\n\n#display the data type of x:\nprint(type(x))",
      "metadata": {
        "trusted": true
      },
      "execution_count": 127,
      "outputs": [
        {
          "name": "stdout",
          "text": "None\n<class 'NoneType'>\n",
          "output_type": "stream"
        }
      ]
    },
    {
      "cell_type": "markdown",
      "source": "# 5. Python Numbers",
      "metadata": {}
    },
    {
      "cell_type": "markdown",
      "source": "There are three numeric types in Python:\n\nint\n\nfloat\n\ncomplex",
      "metadata": {}
    },
    {
      "cell_type": "code",
      "source": "x = 1    # int\ny = 2.8  # float\nz = 1j   # complex",
      "metadata": {
        "trusted": true
      },
      "execution_count": 129,
      "outputs": []
    },
    {
      "cell_type": "code",
      "source": "print(type(x))\nprint(type(y))\nprint(type(z))",
      "metadata": {
        "trusted": true
      },
      "execution_count": 130,
      "outputs": [
        {
          "name": "stdout",
          "text": "<class 'int'>\n<class 'float'>\n<class 'complex'>\n",
          "output_type": "stream"
        }
      ]
    },
    {
      "cell_type": "code",
      "source": "x = 1\ny = 35656222554887711\nz = -3255522\n\nprint(type(x))\nprint(type(y))\nprint(type(z))",
      "metadata": {
        "trusted": true
      },
      "execution_count": 131,
      "outputs": [
        {
          "name": "stdout",
          "text": "<class 'int'>\n<class 'int'>\n<class 'int'>\n",
          "output_type": "stream"
        }
      ]
    },
    {
      "cell_type": "code",
      "source": "x = 1.10\ny = 1.0\nz = -35.59\n\nprint(type(x))\nprint(type(y))\nprint(type(z))",
      "metadata": {
        "trusted": true
      },
      "execution_count": 132,
      "outputs": [
        {
          "name": "stdout",
          "text": "<class 'float'>\n<class 'float'>\n<class 'float'>\n",
          "output_type": "stream"
        }
      ]
    },
    {
      "cell_type": "code",
      "source": "x = 35e3\ny = 12E4\nz = -87.7e100\n\nprint(type(x))\nprint(type(y))\nprint(type(z))",
      "metadata": {
        "trusted": true
      },
      "execution_count": 133,
      "outputs": [
        {
          "name": "stdout",
          "text": "<class 'float'>\n<class 'float'>\n<class 'float'>\n",
          "output_type": "stream"
        }
      ]
    },
    {
      "cell_type": "code",
      "source": "x = 3+5j\ny = 5j\nz = -5j\n\nprint(type(x))\nprint(type(y))\nprint(type(z))",
      "metadata": {
        "trusted": true
      },
      "execution_count": 134,
      "outputs": [
        {
          "name": "stdout",
          "text": "<class 'complex'>\n<class 'complex'>\n<class 'complex'>\n",
          "output_type": "stream"
        }
      ]
    },
    {
      "cell_type": "markdown",
      "source": "**Convert from one type to another**",
      "metadata": {}
    },
    {
      "cell_type": "code",
      "source": "x = 1    # int\ny = 2.8  # float\nz = 1j   # complex\n\n#convert from int to float:\na = float(x)\n\n#convert from float to int:\nb = int(y)\n\n#convert from int to complex:\nc = complex(x)\n\nprint(a)\nprint(b)\nprint(c)\n\nprint(type(a))\nprint(type(b))\nprint(type(c))",
      "metadata": {
        "trusted": true
      },
      "execution_count": 135,
      "outputs": [
        {
          "name": "stdout",
          "text": "1.0\n2\n(1+0j)\n<class 'float'>\n<class 'int'>\n<class 'complex'>\n",
          "output_type": "stream"
        }
      ]
    },
    {
      "cell_type": "markdown",
      "source": "**Python does not have a random() function to make a random number, but Python has a built-in module called random that can be used to make random numbers.**",
      "metadata": {}
    },
    {
      "cell_type": "code",
      "source": "import random\n\nprint(random.randrange(1, 10))",
      "metadata": {
        "trusted": true
      },
      "execution_count": 137,
      "outputs": [
        {
          "name": "stdout",
          "text": "6\n",
          "output_type": "stream"
        }
      ]
    },
    {
      "cell_type": "markdown",
      "source": "# 6.Casting",
      "metadata": {}
    },
    {
      "cell_type": "markdown",
      "source": "Specify a Variable Type\n\nThere may be times when you want to specify a type on to a variable. This can be done with casting. Python is an object-orientated language, and as such it uses classes to define data types, including its primitive types.\n\nCasting in python is therefore done using constructor functions:\n\nint() - constructs an integer number from an integer literal, a float literal (by removing all decimals), or a string literal (providing the string represents a whole number)\n\nfloat() - constructs a float number from an integer literal, a float literal or a string literal (providing the string represents a float or an integer)\n\nstr() - constructs a string from a wide variety of data types, including strings, integer literals and float literals",
      "metadata": {}
    },
    {
      "cell_type": "code",
      "source": "x = int(1)   # x will be 1\ny = int(2.8) # y will be 2\nz = int(\"3\") # z will be 3",
      "metadata": {
        "trusted": true
      },
      "execution_count": 139,
      "outputs": []
    },
    {
      "cell_type": "code",
      "source": "x = float(1)     # x will be 1.0\ny = float(2.8)   # y will be 2.8\nz = float(\"3\")   # z will be 3.0\nw = float(\"4.2\") # w will be 4.2",
      "metadata": {
        "trusted": true
      },
      "execution_count": 142,
      "outputs": []
    },
    {
      "cell_type": "code",
      "source": "x = str(\"s1\") # x will be 's1'\ny = str(2)    # y will be '2'\nz = str(3.0)  # z will be '3.0'",
      "metadata": {
        "trusted": true
      },
      "execution_count": 143,
      "outputs": []
    },
    {
      "cell_type": "markdown",
      "source": "# 7. Python Strings",
      "metadata": {}
    },
    {
      "cell_type": "markdown",
      "source": "Strings\n\nStrings in python are surrounded by either single quotation marks, or double quotation marks.\n\n'hello' is the same as \"hello\".\n\nYou can display a string literal with the print() function:",
      "metadata": {}
    },
    {
      "cell_type": "code",
      "source": "print(\"Hello\")\nprint('Hello')",
      "metadata": {
        "trusted": true
      },
      "execution_count": 144,
      "outputs": [
        {
          "name": "stdout",
          "text": "Hello\nHello\n",
          "output_type": "stream"
        }
      ]
    },
    {
      "cell_type": "markdown",
      "source": "Assign String to a Variable",
      "metadata": {}
    },
    {
      "cell_type": "code",
      "source": "a = \"Hello\"\nprint(a)",
      "metadata": {
        "trusted": true
      },
      "execution_count": 145,
      "outputs": [
        {
          "name": "stdout",
          "text": "Hello\n",
          "output_type": "stream"
        }
      ]
    },
    {
      "cell_type": "markdown",
      "source": "You can use three double quotes:",
      "metadata": {}
    },
    {
      "cell_type": "code",
      "source": "a = \"\"\"Lorem ipsum dolor sit amet,\nconsectetur adipiscing elit,\nsed do eiusmod tempor incididunt\nut labore et dolore magna aliqua.\"\"\"\nprint(a)",
      "metadata": {
        "trusted": true
      },
      "execution_count": 146,
      "outputs": [
        {
          "name": "stdout",
          "text": "Lorem ipsum dolor sit amet,\nconsectetur adipiscing elit,\nsed do eiusmod tempor incididunt\nut labore et dolore magna aliqua.\n",
          "output_type": "stream"
        }
      ]
    },
    {
      "cell_type": "code",
      "source": "a = '''Lorem ipsum dolor sit amet,\nconsectetur adipiscing elit,\nsed do eiusmod tempor incididunt\nut labore et dolore magna aliqua.'''\nprint(a)",
      "metadata": {
        "trusted": true
      },
      "execution_count": 147,
      "outputs": [
        {
          "name": "stdout",
          "text": "Lorem ipsum dolor sit amet,\nconsectetur adipiscing elit,\nsed do eiusmod tempor incididunt\nut labore et dolore magna aliqua.\n",
          "output_type": "stream"
        }
      ]
    },
    {
      "cell_type": "markdown",
      "source": "**Slicing Strings**",
      "metadata": {}
    },
    {
      "cell_type": "markdown",
      "source": "You can return a range of characters by using the slice syntax.\n\nSpecify the start index and the end index, separated by a colon, to return a part of the string.",
      "metadata": {}
    },
    {
      "cell_type": "code",
      "source": "b = \"Hello, World!\"\nprint(b[2:5])",
      "metadata": {
        "trusted": true
      },
      "execution_count": 149,
      "outputs": [
        {
          "name": "stdout",
          "text": "llo\n",
          "output_type": "stream"
        }
      ]
    },
    {
      "cell_type": "markdown",
      "source": "Slice From the Start- Get the characters from the start to position 5 (not included):",
      "metadata": {}
    },
    {
      "cell_type": "code",
      "source": "b = \"Hello, World!\"\nprint(b[:5])",
      "metadata": {
        "trusted": true
      },
      "execution_count": 150,
      "outputs": [
        {
          "name": "stdout",
          "text": "Hello\n",
          "output_type": "stream"
        }
      ]
    },
    {
      "cell_type": "markdown",
      "source": "Slice To the End - Get the characters from position 2, and all the way to the end:",
      "metadata": {}
    },
    {
      "cell_type": "code",
      "source": "b = \"Hello, World!\"\nprint(b[2:])",
      "metadata": {
        "trusted": true
      },
      "execution_count": 151,
      "outputs": [
        {
          "name": "stdout",
          "text": "llo, World!\n",
          "output_type": "stream"
        }
      ]
    },
    {
      "cell_type": "markdown",
      "source": "**Negative Indexing**",
      "metadata": {}
    },
    {
      "cell_type": "markdown",
      "source": "Get the characters:\n\nFrom: \"o\" in \"World!\" (position -5)\n\nTo, but not included: \"d\" in \"World!\" (position -2):",
      "metadata": {}
    },
    {
      "cell_type": "code",
      "source": "b = \"Hello, World!\"\nprint(b[-5:-2])",
      "metadata": {
        "trusted": true
      },
      "execution_count": 152,
      "outputs": [
        {
          "name": "stdout",
          "text": "orl\n",
          "output_type": "stream"
        }
      ]
    },
    {
      "cell_type": "markdown",
      "source": "**Modify Strings**",
      "metadata": {}
    },
    {
      "cell_type": "markdown",
      "source": "Python has a set of built-in methods that you can use on strings.",
      "metadata": {}
    },
    {
      "cell_type": "markdown",
      "source": "The upper() method returns the string in upper case:",
      "metadata": {}
    },
    {
      "cell_type": "code",
      "source": "a = \"Hello, World!\"\nprint(a.upper())",
      "metadata": {
        "trusted": true
      },
      "execution_count": 154,
      "outputs": [
        {
          "name": "stdout",
          "text": "HELLO, WORLD!\n",
          "output_type": "stream"
        }
      ]
    },
    {
      "cell_type": "markdown",
      "source": "The lower() method returns the string in lower case:",
      "metadata": {}
    },
    {
      "cell_type": "code",
      "source": "a = \"Hello, World!\"\nprint(a.lower())",
      "metadata": {
        "trusted": true
      },
      "execution_count": 155,
      "outputs": [
        {
          "name": "stdout",
          "text": "hello, world!\n",
          "output_type": "stream"
        }
      ]
    },
    {
      "cell_type": "markdown",
      "source": "**Remove Whitespace**\n\nWhitespace is the space before and/or after the actual text, and very often you want to remove this space.",
      "metadata": {}
    },
    {
      "cell_type": "markdown",
      "source": "The strip() method removes any whitespace from the beginning or the end:",
      "metadata": {}
    },
    {
      "cell_type": "code",
      "source": "a = \" Hello, World! \"\nprint(a.strip()) # returns \"Hello, World!\"",
      "metadata": {
        "trusted": true
      },
      "execution_count": 158,
      "outputs": [
        {
          "name": "stdout",
          "text": "Hello, World!\n",
          "output_type": "stream"
        }
      ]
    },
    {
      "cell_type": "markdown",
      "source": "**Replace String**\n\nThe replace() method replaces a string with another string:",
      "metadata": {}
    },
    {
      "cell_type": "code",
      "source": "a = \"Hello, World!\"\nprint(a.replace(\"H\", \"J\"))",
      "metadata": {
        "trusted": true
      },
      "execution_count": 159,
      "outputs": [
        {
          "name": "stdout",
          "text": "Jello, World!\n",
          "output_type": "stream"
        }
      ]
    },
    {
      "cell_type": "markdown",
      "source": "**Split String**",
      "metadata": {}
    },
    {
      "cell_type": "markdown",
      "source": "The split() method splits the string into substrings if it finds instances of the separator:",
      "metadata": {}
    },
    {
      "cell_type": "code",
      "source": "a = \"Hello, World!\"\nprint(a.split(\",\")) # returns ['Hello', ' World!']",
      "metadata": {
        "trusted": true
      },
      "execution_count": 160,
      "outputs": [
        {
          "name": "stdout",
          "text": "['Hello', ' World!']\n",
          "output_type": "stream"
        }
      ]
    },
    {
      "cell_type": "markdown",
      "source": "**String Concatenation**",
      "metadata": {}
    },
    {
      "cell_type": "markdown",
      "source": "Merge variable a with variable b into variable c:",
      "metadata": {}
    },
    {
      "cell_type": "code",
      "source": "a = \"Hello\"\nb = \"World\"\nc = a + b\nprint(c)",
      "metadata": {
        "trusted": true
      },
      "execution_count": 161,
      "outputs": [
        {
          "name": "stdout",
          "text": "HelloWorld\n",
          "output_type": "stream"
        }
      ]
    },
    {
      "cell_type": "markdown",
      "source": "- add a space between them, add a \" \":",
      "metadata": {}
    },
    {
      "cell_type": "code",
      "source": "a = \"Hello\"\nb = \"World\"\nc = a + \" \" + b\nprint(c)",
      "metadata": {
        "trusted": true
      },
      "execution_count": 162,
      "outputs": [
        {
          "name": "stdout",
          "text": "Hello World\n",
          "output_type": "stream"
        }
      ]
    },
    {
      "cell_type": "markdown",
      "source": "**Format - Strings**\n",
      "metadata": {}
    },
    {
      "cell_type": "markdown",
      "source": "We cannot combine strings and numbers like this:",
      "metadata": {}
    },
    {
      "cell_type": "code",
      "source": "age = 36\ntxt = \"My name is John, I am \" + age\nprint(txt)",
      "metadata": {
        "trusted": true
      },
      "execution_count": 163,
      "outputs": [
        {
          "ename": "<class 'TypeError'>",
          "evalue": "can only concatenate str (not \"int\") to str",
          "traceback": [
            "\u001b[0;31m---------------------------------------------------------------------------\u001b[0m",
            "\u001b[0;31mTypeError\u001b[0m                                 Traceback (most recent call last)",
            "Cell \u001b[0;32mIn [163], line 2\u001b[0m\n\u001b[1;32m      1\u001b[0m age \u001b[38;5;241m=\u001b[39m \u001b[38;5;241m36\u001b[39m\n\u001b[0;32m----> 2\u001b[0m txt \u001b[38;5;241m=\u001b[39m \u001b[38;5;124;43m\"\u001b[39;49m\u001b[38;5;124;43mMy name is John, I am \u001b[39;49m\u001b[38;5;124;43m\"\u001b[39;49m\u001b[43m \u001b[49m\u001b[38;5;241;43m+\u001b[39;49m\u001b[43m \u001b[49m\u001b[43mage\u001b[49m\n\u001b[1;32m      3\u001b[0m \u001b[38;5;28mprint\u001b[39m(txt)\n",
            "\u001b[0;31mTypeError\u001b[0m: can only concatenate str (not \"int\") to str"
          ],
          "output_type": "error"
        }
      ]
    },
    {
      "cell_type": "markdown",
      "source": "But we can combine strings and numbers by using the format() method!\n\nThe format() method takes the passed arguments, formats them, and places them in the string where the placeholders {} are:",
      "metadata": {}
    },
    {
      "cell_type": "code",
      "source": "age = 36\ntxt = \"My name is John, and I am {}\"\nprint(txt.format(age))",
      "metadata": {
        "trusted": true
      },
      "execution_count": 164,
      "outputs": [
        {
          "name": "stdout",
          "text": "My name is John, and I am 36\n",
          "output_type": "stream"
        }
      ]
    },
    {
      "cell_type": "code",
      "source": "quantity = 3\nitemno = 567\nprice = 49.95\nmyorder = \"I want {} pieces of item {} for {} dollars.\"\nprint(myorder.format(quantity, itemno, price))",
      "metadata": {},
      "execution_count": null,
      "outputs": []
    },
    {
      "cell_type": "code",
      "source": "quantity = 3\nitemno = 567\nprice = 49.95\nmyorder = \"I want to pay {2} dollars for {0} pieces of item {1}.\"\nprint(myorder.format(quantity, itemno, price))",
      "metadata": {
        "trusted": true
      },
      "execution_count": 166,
      "outputs": [
        {
          "name": "stdout",
          "text": "I want to pay 49.95 dollars for 3 pieces of item 567.\n",
          "output_type": "stream"
        }
      ]
    },
    {
      "cell_type": "markdown",
      "source": "**Escape Character**",
      "metadata": {}
    },
    {
      "cell_type": "markdown",
      "source": "To insert characters that are illegal in a string, use an escape character.\n\nAn escape character is a backslash \\ followed by the character you want to insert.\n\nAn example of an illegal character is a double quote inside a string that is surrounded by double quotes:",
      "metadata": {}
    },
    {
      "cell_type": "markdown",
      "source": "You will get an error if you use double quotes inside a string that is surrounded by double quotes:",
      "metadata": {}
    },
    {
      "cell_type": "code",
      "source": "txt = \"We are the so-called \"Vikings\" from the north.\"",
      "metadata": {
        "trusted": true
      },
      "execution_count": 167,
      "outputs": [
        {
          "ename": "<class 'SyntaxError'>",
          "evalue": "invalid syntax (<ipython-input-167-56cdf4283a8e>, line 1)",
          "traceback": [
            "\u001b[0;36m  Cell \u001b[0;32mIn [167], line 1\u001b[0;36m\u001b[0m\n\u001b[0;31m    txt = \"We are the so-called \"Vikings\" from the north.\"\u001b[0m\n\u001b[0m                                 ^\u001b[0m\n\u001b[0;31mSyntaxError\u001b[0m\u001b[0;31m:\u001b[0m invalid syntax\n"
          ],
          "output_type": "error"
        }
      ]
    },
    {
      "cell_type": "markdown",
      "source": "**To fix this problem, use the escape character SLASS \": **",
      "metadata": {}
    },
    {
      "cell_type": "code",
      "source": "txt = \"We are the so-called \\\"Vikings\\\" from the north.\"",
      "metadata": {
        "trusted": true
      },
      "execution_count": 169,
      "outputs": []
    },
    {
      "cell_type": "code",
      "source": "txt",
      "metadata": {
        "trusted": true
      },
      "execution_count": 170,
      "outputs": [
        {
          "execution_count": 170,
          "output_type": "execute_result",
          "data": {
            "text/plain": "'We are the so-called \"Vikings\" from the north.'"
          },
          "metadata": {}
        }
      ]
    },
    {
      "cell_type": "markdown",
      "source": "**Single Quote**",
      "metadata": {}
    },
    {
      "cell_type": "code",
      "source": "txt = 'It\\'s alright.'\nprint(txt)",
      "metadata": {
        "trusted": true
      },
      "execution_count": 171,
      "outputs": [
        {
          "name": "stdout",
          "text": "It's alright.\n",
          "output_type": "stream"
        }
      ]
    },
    {
      "cell_type": "markdown",
      "source": "**Backslash**",
      "metadata": {}
    },
    {
      "cell_type": "code",
      "source": "txt = \"This will insert one \\\\ (backslash).\"\nprint(txt) ",
      "metadata": {
        "trusted": true
      },
      "execution_count": 172,
      "outputs": [
        {
          "name": "stdout",
          "text": "This will insert one \\ (backslash).\n",
          "output_type": "stream"
        }
      ]
    },
    {
      "cell_type": "markdown",
      "source": "**New Line**",
      "metadata": {}
    },
    {
      "cell_type": "code",
      "source": "txt = \"Hello\\nWorld!\"\nprint(txt) ",
      "metadata": {
        "trusted": true
      },
      "execution_count": 173,
      "outputs": [
        {
          "name": "stdout",
          "text": "Hello\nWorld!\n",
          "output_type": "stream"
        }
      ]
    },
    {
      "cell_type": "markdown",
      "source": "**Carriage Return**",
      "metadata": {}
    },
    {
      "cell_type": "code",
      "source": "txt = \"Hello\\rWorld!\"\nprint(txt) ",
      "metadata": {
        "trusted": true
      },
      "execution_count": 174,
      "outputs": [
        {
          "name": "stdout",
          "text": "World!\n",
          "output_type": "stream"
        }
      ]
    },
    {
      "cell_type": "markdown",
      "source": "**Tab**",
      "metadata": {}
    },
    {
      "cell_type": "code",
      "source": "txt = \"Hello\\tWorld!\"\nprint(txt) ",
      "metadata": {
        "trusted": true
      },
      "execution_count": 175,
      "outputs": [
        {
          "name": "stdout",
          "text": "Hello\tWorld!\n",
          "output_type": "stream"
        }
      ]
    },
    {
      "cell_type": "markdown",
      "source": "**Backspace**",
      "metadata": {}
    },
    {
      "cell_type": "code",
      "source": "#This example erases one character (backspace):\ntxt = \"Hello \\bWorld!\"\nprint(txt) ",
      "metadata": {
        "trusted": true
      },
      "execution_count": 176,
      "outputs": [
        {
          "name": "stdout",
          "text": "HelloWorld!\n",
          "output_type": "stream"
        }
      ]
    },
    {
      "cell_type": "markdown",
      "source": "**Form Feed**",
      "metadata": {}
    },
    {
      "cell_type": "code",
      "source": "#A backslash followed by three integers will result in a octal value:\ntxt = \"\\110\\145\\154\\154\\157\"\nprint(txt) ",
      "metadata": {
        "trusted": true
      },
      "execution_count": 177,
      "outputs": [
        {
          "name": "stdout",
          "text": "Hello\n",
          "output_type": "stream"
        }
      ]
    },
    {
      "cell_type": "markdown",
      "source": "**Octal value**",
      "metadata": {}
    },
    {
      "cell_type": "code",
      "source": "#A backslash followed by three integers will result in a octal value:\ntxt = \"\\110\\145\\154\\154\\157\"\nprint(txt) ",
      "metadata": {
        "trusted": true
      },
      "execution_count": 178,
      "outputs": [
        {
          "name": "stdout",
          "text": "Hello\n",
          "output_type": "stream"
        }
      ]
    },
    {
      "cell_type": "markdown",
      "source": "**Hex value**",
      "metadata": {}
    },
    {
      "cell_type": "code",
      "source": "#A backslash followed by an 'x' and a hex number represents a hex value:\ntxt = \"\\x48\\x65\\x6c\\x6c\\x6f\"\nprint(txt) ",
      "metadata": {
        "trusted": true
      },
      "execution_count": 179,
      "outputs": [
        {
          "name": "stdout",
          "text": "Hello\n",
          "output_type": "stream"
        }
      ]
    },
    {
      "cell_type": "markdown",
      "source": "**String Methods**",
      "metadata": {}
    },
    {
      "cell_type": "markdown",
      "source": "capitalize() Converts the first character to upper case",
      "metadata": {}
    },
    {
      "cell_type": "code",
      "source": "txt = \"hello, and welcome to my world.\"\n\nx = txt.capitalize()\n\nprint (x)",
      "metadata": {
        "trusted": true
      },
      "execution_count": 180,
      "outputs": [
        {
          "name": "stdout",
          "text": "Hello, and welcome to my world.\n",
          "output_type": "stream"
        }
      ]
    },
    {
      "cell_type": "markdown",
      "source": "casefold() Converts string into lower case",
      "metadata": {}
    },
    {
      "cell_type": "code",
      "source": "txt = \"Hello, And Welcome To My World!\"\n\nx = txt.casefold()\n\nprint(x)",
      "metadata": {
        "trusted": true
      },
      "execution_count": 181,
      "outputs": [
        {
          "name": "stdout",
          "text": "hello, and welcome to my world!\n",
          "output_type": "stream"
        }
      ]
    },
    {
      "cell_type": "markdown",
      "source": "center()\tReturns a centered string",
      "metadata": {}
    },
    {
      "cell_type": "markdown",
      "source": "Print the word \"banana\", taking up the space of 20 characters, with \"banana\" in the middle:",
      "metadata": {}
    },
    {
      "cell_type": "code",
      "source": "txt = \"banana\"\n\nx = txt.center(20)\n\nprint(x)",
      "metadata": {
        "trusted": true
      },
      "execution_count": 182,
      "outputs": [
        {
          "name": "stdout",
          "text": "       banana       \n",
          "output_type": "stream"
        }
      ]
    },
    {
      "cell_type": "markdown",
      "source": "Using the letter \"O\" as the padding character:",
      "metadata": {}
    },
    {
      "cell_type": "code",
      "source": "txt = \"banana\"\n\nx = txt.center(20, \"O\")\n\nprint(x)",
      "metadata": {
        "trusted": true
      },
      "execution_count": 183,
      "outputs": [
        {
          "name": "stdout",
          "text": "OOOOOOObananaOOOOOOO\n",
          "output_type": "stream"
        }
      ]
    },
    {
      "cell_type": "markdown",
      "source": "count()\tReturns the number of times a specified value occurs in a string",
      "metadata": {}
    },
    {
      "cell_type": "markdown",
      "source": "Return the number of times the value \"apple\" appears in the string:",
      "metadata": {}
    },
    {
      "cell_type": "code",
      "source": "txt = \"I love apples, apple are my favorite fruit\"\n\nx = txt.count(\"apple\")\n\nprint(x)",
      "metadata": {
        "trusted": true
      },
      "execution_count": 184,
      "outputs": [
        {
          "name": "stdout",
          "text": "2\n",
          "output_type": "stream"
        }
      ]
    },
    {
      "cell_type": "markdown",
      "source": "Search from position 10 to 24:",
      "metadata": {}
    },
    {
      "cell_type": "code",
      "source": "txt = \"I love apples, apple are my favorite fruit\"\n\nx = txt.count(\"apple\", 10, 24)\n\nprint(x)",
      "metadata": {
        "trusted": true
      },
      "execution_count": 186,
      "outputs": [
        {
          "name": "stdout",
          "text": "1\n",
          "output_type": "stream"
        }
      ]
    },
    {
      "cell_type": "markdown",
      "source": "Python String encode() Method",
      "metadata": {}
    },
    {
      "cell_type": "markdown",
      "source": "UTF-8 encode the string:",
      "metadata": {}
    },
    {
      "cell_type": "code",
      "source": "txt = \"My name is Ståle\"\n\nx = txt.encode()\n\nprint(x)",
      "metadata": {
        "trusted": true
      },
      "execution_count": 187,
      "outputs": [
        {
          "name": "stdout",
          "text": "b'My name is St\\xc3\\xa5le'\n",
          "output_type": "stream"
        }
      ]
    },
    {
      "cell_type": "markdown",
      "source": "Definition and Usage\n\nThe encode() method encodes the string, using the specified encoding. If no encoding is specified, UTF-8 will be used.",
      "metadata": {}
    },
    {
      "cell_type": "markdown",
      "source": "encoding\tOptional. A String specifying the encoding to use. Default is UTF-8\n\nerrors\tOptional. A String specifying the error method. Legal values are:\n    \n'backslashreplace'\t- uses a backslash instead of the character that could not be encoded\n\n'ignore'\t- ignores the characters that cannot be encoded\n\n'namereplace'\t- replaces the character with a text explaining the character\n\n'strict'\t- Default, raises an error on failure\n\n'replace'\t- replaces the character with a questionmark\n\n'xmlcharrefreplace'\t- replaces the character with an xml character\n",
      "metadata": {}
    },
    {
      "cell_type": "markdown",
      "source": "These examples uses ascii encoding, and a character that cannot be encoded, showing the result with different errors:",
      "metadata": {}
    },
    {
      "cell_type": "code",
      "source": "txt = \"My name is Ståle\"\n\nprint(txt.encode(encoding=\"ascii\",errors=\"backslashreplace\"))\nprint(txt.encode(encoding=\"ascii\",errors=\"ignore\"))\nprint(txt.encode(encoding=\"ascii\",errors=\"namereplace\"))\nprint(txt.encode(encoding=\"ascii\",errors=\"replace\"))\nprint(txt.encode(encoding=\"ascii\",errors=\"xmlcharrefreplace\"))",
      "metadata": {
        "trusted": true
      },
      "execution_count": 188,
      "outputs": [
        {
          "name": "stdout",
          "text": "b'My name is St\\\\xe5le'\nb'My name is Stle'\nb'My name is St\\\\N{LATIN SMALL LETTER A WITH RING ABOVE}le'\nb'My name is St?le'\nb'My name is St&#229;le'\n",
          "output_type": "stream"
        }
      ]
    },
    {
      "cell_type": "markdown",
      "source": "endswith()\tReturns true if the string ends with the specified value",
      "metadata": {}
    },
    {
      "cell_type": "code",
      "source": "txt = \"Hello, welcome to my world.\"\n\nx = txt.endswith(\".\")\n\nprint(x)",
      "metadata": {
        "trusted": true
      },
      "execution_count": 189,
      "outputs": [
        {
          "name": "stdout",
          "text": "True\n",
          "output_type": "stream"
        }
      ]
    },
    {
      "cell_type": "code",
      "source": "txt = \"Hello, welcome to my world.\"\n\nx = txt.endswith(\"my world.\")\n\nprint(x)",
      "metadata": {
        "trusted": true
      },
      "execution_count": 190,
      "outputs": [
        {
          "name": "stdout",
          "text": "True\n",
          "output_type": "stream"
        }
      ]
    },
    {
      "cell_type": "markdown",
      "source": "Check if position 5 to 11 ends with the phrase \"my world.\":",
      "metadata": {}
    },
    {
      "cell_type": "code",
      "source": "txt = \"Hello, welcome to my world.\"\n\nx = txt.endswith(\"my world.\", 5, 11)\n\nprint(x)",
      "metadata": {
        "trusted": true
      },
      "execution_count": 191,
      "outputs": [
        {
          "name": "stdout",
          "text": "False\n",
          "output_type": "stream"
        }
      ]
    },
    {
      "cell_type": "markdown",
      "source": "expandtabs()\tSets the tab size of the string",
      "metadata": {}
    },
    {
      "cell_type": "markdown",
      "source": "Set the tab size to 2 whitespaces:",
      "metadata": {}
    },
    {
      "cell_type": "code",
      "source": "txt = \"H\\te\\tl\\tl\\to\"\n\nx =  txt.expandtabs(2)\n\nprint(x)",
      "metadata": {
        "trusted": true
      },
      "execution_count": 192,
      "outputs": [
        {
          "name": "stdout",
          "text": "H e l l o\n",
          "output_type": "stream"
        }
      ]
    },
    {
      "cell_type": "code",
      "source": "txt = \"H\\te\\tl\\tl\\to\"\n\nprint(txt)\nprint(txt.expandtabs())\nprint(txt.expandtabs(2))\nprint(txt.expandtabs(4))\nprint(txt.expandtabs(10))",
      "metadata": {
        "trusted": true
      },
      "execution_count": 193,
      "outputs": [
        {
          "name": "stdout",
          "text": "H\te\tl\tl\to\nH       e       l       l       o\nH e l l o\nH   e   l   l   o\nH         e         l         l         o\n",
          "output_type": "stream"
        }
      ]
    },
    {
      "cell_type": "markdown",
      "source": "find()\tSearches the string for a specified value and returns the position of where it was found",
      "metadata": {}
    },
    {
      "cell_type": "code",
      "source": "txt = \"Hello, welcome to my world.\"\n\nx = txt.find(\"welcome\")\n\nprint(x)",
      "metadata": {
        "trusted": true
      },
      "execution_count": 194,
      "outputs": [
        {
          "name": "stdout",
          "text": "7\n",
          "output_type": "stream"
        }
      ]
    },
    {
      "cell_type": "markdown",
      "source": "The find() method finds the first occurrence of the specified value.\n\nThe find() method returns -1 if the value is not found.\n\nThe find() method is almost the same as the index() method, the only difference is that the index() method raises an exception if the value is not found. (See example below)",
      "metadata": {}
    },
    {
      "cell_type": "markdown",
      "source": "Where in the text is the first occurrence of the letter \"e\"?:",
      "metadata": {}
    },
    {
      "cell_type": "code",
      "source": "txt = \"Hello, welcome to my world.\"\n\nx = txt.find(\"e\")\n\nprint(x)",
      "metadata": {
        "trusted": true
      },
      "execution_count": 195,
      "outputs": [
        {
          "name": "stdout",
          "text": "1\n",
          "output_type": "stream"
        }
      ]
    },
    {
      "cell_type": "markdown",
      "source": "Where in the text is the first occurrence of the letter \"e\" when you only search between position 5 and 10?:",
      "metadata": {}
    },
    {
      "cell_type": "code",
      "source": "txt = \"Hello, welcome to my world.\"\n\nx = txt.find(\"e\", 5, 10)\n\nprint(x)",
      "metadata": {
        "trusted": true
      },
      "execution_count": 196,
      "outputs": [
        {
          "name": "stdout",
          "text": "8\n",
          "output_type": "stream"
        }
      ]
    },
    {
      "cell_type": "markdown",
      "source": "If the value is not found, the find() method returns -1, but the index() method will raise an exception:",
      "metadata": {}
    },
    {
      "cell_type": "code",
      "source": "txt = \"Hello, welcome to my world.\"\n\nprint(txt.find(\"q\"))\nprint(txt.index(\"q\"))",
      "metadata": {
        "trusted": true
      },
      "execution_count": 198,
      "outputs": [
        {
          "name": "stdout",
          "text": "-1\n",
          "output_type": "stream"
        },
        {
          "ename": "<class 'ValueError'>",
          "evalue": "substring not found",
          "traceback": [
            "\u001b[0;31m---------------------------------------------------------------------------\u001b[0m",
            "\u001b[0;31mValueError\u001b[0m                                Traceback (most recent call last)",
            "Cell \u001b[0;32mIn [198], line 4\u001b[0m\n\u001b[1;32m      1\u001b[0m txt \u001b[38;5;241m=\u001b[39m \u001b[38;5;124m\"\u001b[39m\u001b[38;5;124mHello, welcome to my world.\u001b[39m\u001b[38;5;124m\"\u001b[39m\n\u001b[1;32m      3\u001b[0m \u001b[38;5;28mprint\u001b[39m(txt\u001b[38;5;241m.\u001b[39mfind(\u001b[38;5;124m\"\u001b[39m\u001b[38;5;124mq\u001b[39m\u001b[38;5;124m\"\u001b[39m))\n\u001b[0;32m----> 4\u001b[0m \u001b[38;5;28mprint\u001b[39m(\u001b[43mtxt\u001b[49m\u001b[38;5;241;43m.\u001b[39;49m\u001b[43mindex\u001b[49m\u001b[43m(\u001b[49m\u001b[38;5;124;43m\"\u001b[39;49m\u001b[38;5;124;43mq\u001b[39;49m\u001b[38;5;124;43m\"\u001b[39;49m\u001b[43m)\u001b[49m)\n",
            "\u001b[0;31mValueError\u001b[0m: substring not found"
          ],
          "output_type": "error"
        }
      ]
    },
    {
      "cell_type": "markdown",
      "source": "format()\tFormats specified values in a string",
      "metadata": {}
    },
    {
      "cell_type": "markdown",
      "source": "Insert the price inside the placeholder, the price should be in fixed point, two-decimal format:",
      "metadata": {}
    },
    {
      "cell_type": "code",
      "source": "txt = \"For only {price:.2f} dollars!\"\nprint(txt.format(price = 49))",
      "metadata": {
        "trusted": true
      },
      "execution_count": 200,
      "outputs": [
        {
          "name": "stdout",
          "text": "For only 49.00 dollars!\n",
          "output_type": "stream"
        }
      ]
    },
    {
      "cell_type": "markdown",
      "source": "The format() method formats the specified value(s) and insert them inside the string's placeholder.\n\nThe placeholder is defined using curly brackets: {}. Read more about the placeholders in the Placeholder section below.\n\nThe format() method returns the formatted string.",
      "metadata": {}
    },
    {
      "cell_type": "markdown",
      "source": "The placeholders can be identified using named indexes {price}, numbered indexes {0}, or even empty placeholders {}.",
      "metadata": {}
    },
    {
      "cell_type": "markdown",
      "source": "txt1 = \"My name is {fname}, I'm {age}\".format(fname = \"John\", age = 36)\n\ntxt2 = \"My name is {0}, I'm {1}\".format(\"John\",36)\n\ntxt3 = \"My name is {}, I'm {}\".format(\"John\",36)",
      "metadata": {}
    },
    {
      "cell_type": "markdown",
      "source": ":<   Left aligns the result (within the available space)",
      "metadata": {}
    },
    {
      "cell_type": "code",
      "source": "#To demonstrate, we insert the number 8 to set the available space for the value to 8 characters.\n\n#Use \"<\" to left-align the value:\n\ntxt = \"We have {:<8} chickens.\"\nprint(txt.format(49))",
      "metadata": {
        "trusted": true
      },
      "execution_count": 201,
      "outputs": [
        {
          "name": "stdout",
          "text": "We have 49       chickens.\n",
          "output_type": "stream"
        }
      ]
    },
    {
      "cell_type": "markdown",
      "source": ":>\t\tRight aligns the result (within the available space)",
      "metadata": {}
    },
    {
      "cell_type": "code",
      "source": "#To demonstrate, we insert the number 8 to set the available space for the value to 8 characters.\n\n#Use \">\" to right-align the value:\n\ntxt = \"We have {:>8} chickens.\"\nprint(txt.format(49))",
      "metadata": {
        "trusted": true
      },
      "execution_count": 203,
      "outputs": [
        {
          "name": "stdout",
          "text": "We have       49 chickens.\n",
          "output_type": "stream"
        }
      ]
    },
    {
      "cell_type": "markdown",
      "source": ":^\t\tCenter aligns the result (within the available space)",
      "metadata": {}
    },
    {
      "cell_type": "code",
      "source": "#To demonstrate, we insert the number 8 to set the available space for the value to 8 characters.\n\n#Use \"^\" to center-align the value:\n\ntxt = \"We have {:^8} chickens.\"\nprint(txt.format(49))",
      "metadata": {
        "trusted": true
      },
      "execution_count": 204,
      "outputs": [
        {
          "name": "stdout",
          "text": "We have    49    chickens.\n",
          "output_type": "stream"
        }
      ]
    },
    {
      "cell_type": "markdown",
      "source": ":=\t\tPlaces the sign to the left most position",
      "metadata": {}
    },
    {
      "cell_type": "code",
      "source": "#To demonstrate, we insert the number 8 to specify the available space for the value.\n\n#Use \"=\" to place the plus/minus sign at the left most position:\n\ntxt = \"The temperature is {:=8} degrees celsius.\"\n\nprint(txt.format(-5))",
      "metadata": {
        "trusted": true
      },
      "execution_count": 205,
      "outputs": [
        {
          "name": "stdout",
          "text": "The temperature is -      5 degrees celsius.\n",
          "output_type": "stream"
        }
      ]
    },
    {
      "cell_type": "markdown",
      "source": ":+\t\tUse a plus sign to indicate if the result is positive or negative",
      "metadata": {}
    },
    {
      "cell_type": "code",
      "source": "#Use \"+\" to always indicate if the number is positive or negative:\n\ntxt = \"The temperature is between {:+} and {:+} degrees celsius.\"\n\nprint(txt.format(-3, 7))",
      "metadata": {
        "trusted": true
      },
      "execution_count": 207,
      "outputs": [
        {
          "name": "stdout",
          "text": "The temperature is between -3 and +7 degrees celsius.\n",
          "output_type": "stream"
        }
      ]
    },
    {
      "cell_type": "markdown",
      "source": ":-\t\tUse a minus sign for negative values only",
      "metadata": {}
    },
    {
      "cell_type": "code",
      "source": "#Use \"-\" to always indicate if the number is negative (positive numbers are displayed without any sign):\n\ntxt = \"The temperature is between {:-} and {:-} degrees celsius.\"\n\nprint(txt.format(-3, 7))",
      "metadata": {
        "trusted": true
      },
      "execution_count": 208,
      "outputs": [
        {
          "name": "stdout",
          "text": "The temperature is between -3 and 7 degrees celsius.\n",
          "output_type": "stream"
        }
      ]
    },
    {
      "cell_type": "markdown",
      "source": ": \t\tUse a space to insert an extra space before positive numbers (and a minus sign before negative numbers)",
      "metadata": {}
    },
    {
      "cell_type": "code",
      "source": "#Use \" \" (a space) to insert a space before positive numbers and a minus sign before negative numbers:\n\ntxt = \"The temperature is between {: } and {: } degrees celsius.\"\n\nprint(txt.format(-3, 7))",
      "metadata": {
        "trusted": true
      },
      "execution_count": 209,
      "outputs": [
        {
          "name": "stdout",
          "text": "The temperature is between -3 and  7 degrees celsius.\n",
          "output_type": "stream"
        }
      ]
    },
    {
      "cell_type": "markdown",
      "source": ":,\t\tUse a comma as a thousand separator",
      "metadata": {}
    },
    {
      "cell_type": "code",
      "source": "#Use \",\" to add a comma as a thousand separator:\n\ntxt = \"The universe is {:,} years old.\"\n\nprint(txt.format(13800000000))",
      "metadata": {
        "trusted": true
      },
      "execution_count": 210,
      "outputs": [
        {
          "name": "stdout",
          "text": "The universe is 13,800,000,000 years old.\n",
          "output_type": "stream"
        }
      ]
    },
    {
      "cell_type": "markdown",
      "source": ":_\t\tUse a underscore as a thousand separator",
      "metadata": {}
    },
    {
      "cell_type": "code",
      "source": "#Use \"_\" to add a underscore character as a thousand separator:\n\ntxt = \"The universe is {:_} years old.\"\n\nprint(txt.format(13800000000))",
      "metadata": {
        "trusted": true
      },
      "execution_count": 211,
      "outputs": [
        {
          "name": "stdout",
          "text": "The universe is 13_800_000_000 years old.\n",
          "output_type": "stream"
        }
      ]
    },
    {
      "cell_type": "markdown",
      "source": ":b\t\tBinary format",
      "metadata": {}
    },
    {
      "cell_type": "code",
      "source": "#Use \"b\" to convert the number into binary format:\n\ntxt = \"The binary version of {0} is {0:b}\"\n\nprint(txt.format(5))\n",
      "metadata": {
        "trusted": true
      },
      "execution_count": 212,
      "outputs": [
        {
          "name": "stdout",
          "text": "The binary version of 5 is 101\n",
          "output_type": "stream"
        }
      ]
    },
    {
      "cell_type": "markdown",
      "source": ":c\t\tConverts the value into the corresponding unicode character",
      "metadata": {}
    },
    {
      "cell_type": "markdown",
      "source": ":d\t\tDecimal format",
      "metadata": {}
    },
    {
      "cell_type": "code",
      "source": "#Use \"d\" to convert a number, in this case a binary number, into decimal number format:\n\ntxt = \"We have {:d} chickens.\"\nprint(txt.format(0b101))",
      "metadata": {
        "trusted": true
      },
      "execution_count": 213,
      "outputs": [
        {
          "name": "stdout",
          "text": "We have 5 chickens.\n",
          "output_type": "stream"
        }
      ]
    },
    {
      "cell_type": "markdown",
      "source": ":e\t\tScientific format, with a lower case e",
      "metadata": {}
    },
    {
      "cell_type": "code",
      "source": "#Use \"e\" to convert a number into scientific number format (with a lower-case e):\n\ntxt = \"We have {:e} chickens.\"\nprint(txt.format(5))",
      "metadata": {
        "trusted": true
      },
      "execution_count": 214,
      "outputs": [
        {
          "name": "stdout",
          "text": "We have 5.000000e+00 chickens.\n",
          "output_type": "stream"
        }
      ]
    },
    {
      "cell_type": "markdown",
      "source": ":e\t\tScientific format, with a lower case e",
      "metadata": {}
    },
    {
      "cell_type": "code",
      "source": "#Use \"e\" to convert a number into scientific number format (with a lower-case e):\n\ntxt = \"We have {:e} chickens.\"\nprint(txt.format(5))",
      "metadata": {
        "trusted": true
      },
      "execution_count": 215,
      "outputs": [
        {
          "name": "stdout",
          "text": "We have 5.000000e+00 chickens.\n",
          "output_type": "stream"
        }
      ]
    },
    {
      "cell_type": "markdown",
      "source": ":E\t\tScientific format, with an upper case E",
      "metadata": {}
    },
    {
      "cell_type": "code",
      "source": "#Use \"E\" to convert a number into scientific number format (with an upper-case E):\n\ntxt = \"We have {:E} chickens.\"\nprint(txt.format(5))",
      "metadata": {
        "trusted": true
      },
      "execution_count": 216,
      "outputs": [
        {
          "name": "stdout",
          "text": "We have 5.000000E+00 chickens.\n",
          "output_type": "stream"
        }
      ]
    },
    {
      "cell_type": "markdown",
      "source": ":E\t\tScientific format, with an upper case E",
      "metadata": {}
    },
    {
      "cell_type": "code",
      "source": "#Use \"f\" to convert a number into a fixed point number, default with 6 decimals, but use a period followed by a number to specify the number of decimals:\n\ntxt = \"The price is {:.2f} dollars.\"\nprint(txt.format(45))\n\n#without the \".2\" inside the placeholder, this number will be displayed like this:\n\ntxt = \"The price is {:f} dollars.\"\nprint(txt.format(45))",
      "metadata": {
        "trusted": true
      },
      "execution_count": 217,
      "outputs": [
        {
          "name": "stdout",
          "text": "The price is 45.00 dollars.\nThe price is 45.000000 dollars.\n",
          "output_type": "stream"
        }
      ]
    },
    {
      "cell_type": "markdown",
      "source": ":f\t\tFix point number format",
      "metadata": {}
    },
    {
      "cell_type": "code",
      "source": "#Use \"f\" to convert a number into a fixed point number, default with 6 decimals, but use a period followed by a number to specify the number of decimals:\n\ntxt = \"The price is {:.2f} dollars.\"\nprint(txt.format(45))\n\n#without the \".2\" inside the placeholder, this number will be displayed like this:\n\ntxt = \"The price is {:f} dollars.\"\nprint(txt.format(45))\n",
      "metadata": {
        "trusted": true
      },
      "execution_count": 218,
      "outputs": [
        {
          "name": "stdout",
          "text": "The price is 45.00 dollars.\nThe price is 45.000000 dollars.\n",
          "output_type": "stream"
        }
      ]
    },
    {
      "cell_type": "markdown",
      "source": ":F\t\tFix point number format, in uppercase format (show inf and nan as INF and NAN)",
      "metadata": {}
    },
    {
      "cell_type": "code",
      "source": "#Use \"F\" to convert a number into a fixed point number, but display inf and nan as INF and NAN:\n\nx = float('inf')\n\ntxt = \"The price is {:F} dollars.\"\nprint(txt.format(x))\n\n#same example, but with a lower case f:\n\ntxt = \"The price is {:f} dollars.\"\nprint(txt.format(x))",
      "metadata": {
        "trusted": true
      },
      "execution_count": 219,
      "outputs": [
        {
          "name": "stdout",
          "text": "The price is INF dollars.\nThe price is inf dollars.\n",
          "output_type": "stream"
        }
      ]
    },
    {
      "cell_type": "markdown",
      "source": ":g\t\tGeneral format",
      "metadata": {}
    },
    {
      "cell_type": "code",
      "source": ":G\t\tGeneral format (using a upper case E for scientific notations)",
      "metadata": {},
      "execution_count": null,
      "outputs": []
    },
    {
      "cell_type": "markdown",
      "source": ":o\t\tOctal format",
      "metadata": {}
    },
    {
      "cell_type": "code",
      "source": "#Use \"o\" to convert the number into octal format:\n\ntxt = \"The octal version of {0} is {0:o}\"\n\nprint(txt.format(10))",
      "metadata": {
        "trusted": true
      },
      "execution_count": 220,
      "outputs": [
        {
          "name": "stdout",
          "text": "The octal version of 10 is 12\n",
          "output_type": "stream"
        }
      ]
    },
    {
      "cell_type": "markdown",
      "source": ":x\t\tHex format, lower case",
      "metadata": {}
    },
    {
      "cell_type": "code",
      "source": "#Use \"x\" to convert the number into Hex format:\n\ntxt = \"The Hexadecimal version of {0} is {0:x}\"\n\nprint(txt.format(255))",
      "metadata": {
        "trusted": true
      },
      "execution_count": 221,
      "outputs": [
        {
          "name": "stdout",
          "text": "The Hexadecimal version of 255 is ff\n",
          "output_type": "stream"
        }
      ]
    },
    {
      "cell_type": "markdown",
      "source": ":X\t\tHex format, upper case",
      "metadata": {}
    },
    {
      "cell_type": "code",
      "source": "#Use \"X\" to convert the number into upper-case Hex format:\n\ntxt = \"The Hexadecimal version of {0} is {0:X}\"\n\nprint(txt.format(255))",
      "metadata": {
        "trusted": true
      },
      "execution_count": 222,
      "outputs": [
        {
          "name": "stdout",
          "text": "The Hexadecimal version of 255 is FF\n",
          "output_type": "stream"
        }
      ]
    },
    {
      "cell_type": "markdown",
      "source": ":n\t\tNumber format",
      "metadata": {}
    },
    {
      "cell_type": "markdown",
      "source": ":%\t\tPercentage format",
      "metadata": {}
    },
    {
      "cell_type": "code",
      "source": "#Use \"%\" to convert the number into a percentage format:\n\ntxt = \"You scored {:%}\"\nprint(txt.format(0.25))\n\n#Or, without any decimals:\n\ntxt = \"You scored {:.0%}\"\nprint(txt.format(0.25))",
      "metadata": {
        "trusted": true
      },
      "execution_count": 223,
      "outputs": [
        {
          "name": "stdout",
          "text": "You scored 25.000000%\nYou scored 25%\n",
          "output_type": "stream"
        }
      ]
    },
    {
      "cell_type": "markdown",
      "source": "format_map()\tFormats specified values in a string",
      "metadata": {}
    },
    {
      "cell_type": "markdown",
      "source": "index()\tSearches the string for a specified value and returns the position of where it was found",
      "metadata": {}
    },
    {
      "cell_type": "markdown",
      "source": "Where in the text is the word \"welcome\"?:",
      "metadata": {}
    },
    {
      "cell_type": "code",
      "source": "txt = \"Hello, welcome to my world.\"\n\nx = txt.index(\"welcome\")\n\nprint(x)",
      "metadata": {
        "trusted": true
      },
      "execution_count": 224,
      "outputs": [
        {
          "name": "stdout",
          "text": "7\n",
          "output_type": "stream"
        }
      ]
    },
    {
      "cell_type": "markdown",
      "source": "The index() method finds the first occurrence of the specified value.\n\nThe index() method raises an exception if the value is not found.\n\nThe index() method is almost the same as the find() method, the only difference is that the find() method returns -1 if the value is not found. (See example below)\n\n",
      "metadata": {}
    },
    {
      "cell_type": "code",
      "source": "txt = \"Hello, welcome to my world.\"\n\nx = txt.index(\"e\")\n\nprint(x)",
      "metadata": {
        "trusted": true
      },
      "execution_count": 225,
      "outputs": [
        {
          "name": "stdout",
          "text": "1\n",
          "output_type": "stream"
        }
      ]
    },
    {
      "cell_type": "markdown",
      "source": "isalnum()\tReturns True if all characters in the string are alphanumeric",
      "metadata": {}
    },
    {
      "cell_type": "code",
      "source": "txt = \"Company12\"\n\nx = txt.isalnum()\n\nprint(x)",
      "metadata": {
        "trusted": true
      },
      "execution_count": 226,
      "outputs": [
        {
          "name": "stdout",
          "text": "True\n",
          "output_type": "stream"
        }
      ]
    },
    {
      "cell_type": "markdown",
      "source": "The isalnum() method returns True if all the characters are alphanumeric, meaning alphabet letter (a-z) and numbers (0-9).\n\nExample of characters that are not alphanumeric: (space)!#%&? etc.",
      "metadata": {}
    },
    {
      "cell_type": "markdown",
      "source": "Check if all the characters in the text is alphanumeric:",
      "metadata": {}
    },
    {
      "cell_type": "code",
      "source": "txt = \"Company 12\"\n\nx = txt.isalnum()\n\nprint(x)",
      "metadata": {
        "trusted": true
      },
      "execution_count": 228,
      "outputs": [
        {
          "name": "stdout",
          "text": "False\n",
          "output_type": "stream"
        }
      ]
    },
    {
      "cell_type": "markdown",
      "source": "isalpha()\tReturns True if all characters in the string are in the alphabet",
      "metadata": {}
    },
    {
      "cell_type": "code",
      "source": "txt = \"CompanyX\"\n\nx = txt.isalpha()\n\nprint(x)",
      "metadata": {
        "trusted": true
      },
      "execution_count": 230,
      "outputs": [
        {
          "name": "stdout",
          "text": "True\n",
          "output_type": "stream"
        }
      ]
    },
    {
      "cell_type": "markdown",
      "source": "The isalpha() method returns True if all the characters are alphabet letters (a-z).\n\nExample of characters that are not alphabet letters: (space)!#%&? etc.",
      "metadata": {}
    },
    {
      "cell_type": "code",
      "source": "txt = \"Company10\"\n\nx = txt.isalpha()\n\nprint(x)",
      "metadata": {
        "trusted": true
      },
      "execution_count": 231,
      "outputs": [
        {
          "name": "stdout",
          "text": "False\n",
          "output_type": "stream"
        }
      ]
    },
    {
      "cell_type": "markdown",
      "source": "isdecimal()\tReturns True if all characters in the string are decimals",
      "metadata": {}
    },
    {
      "cell_type": "code",
      "source": "txt = \"\\u0033\" #unicode for 3\n\nx = txt.isdecimal()\n\nprint(x)",
      "metadata": {
        "trusted": true
      },
      "execution_count": 232,
      "outputs": [
        {
          "name": "stdout",
          "text": "True\n",
          "output_type": "stream"
        }
      ]
    },
    {
      "cell_type": "markdown",
      "source": "The isdecimal() method returns True if all the characters are decimals (0-9).\n\nThis method is used on unicode objects.",
      "metadata": {}
    },
    {
      "cell_type": "code",
      "source": "a = \"\\u0030\" #unicode for 0\nb = \"\\u0047\" #unicode for G\n\nprint(a.isdecimal())\nprint(b.isdecimal())",
      "metadata": {
        "trusted": true
      },
      "execution_count": 233,
      "outputs": [
        {
          "name": "stdout",
          "text": "True\nFalse\n",
          "output_type": "stream"
        }
      ]
    },
    {
      "cell_type": "markdown",
      "source": "isdigit()\tReturns True if all characters in the string are digits",
      "metadata": {}
    },
    {
      "cell_type": "code",
      "source": "txt = \"50800\"\n\nx = txt.isdigit()\n\nprint(x)",
      "metadata": {
        "trusted": true
      },
      "execution_count": 234,
      "outputs": [
        {
          "name": "stdout",
          "text": "True\n",
          "output_type": "stream"
        }
      ]
    },
    {
      "cell_type": "code",
      "source": "a = \"\\u0030\" #unicode for 0\nb = \"\\u00B2\" #unicode for ²\n\nprint(a.isdigit())\nprint(b.isdigit())",
      "metadata": {
        "trusted": true
      },
      "execution_count": 235,
      "outputs": [
        {
          "name": "stdout",
          "text": "True\nTrue\n",
          "output_type": "stream"
        }
      ]
    },
    {
      "cell_type": "markdown",
      "source": "isidentifier()\tReturns True if the string is an identifier",
      "metadata": {}
    },
    {
      "cell_type": "code",
      "source": "txt = \"Demo\"\n\nx = txt.isidentifier()\n\nprint(x)",
      "metadata": {
        "trusted": true
      },
      "execution_count": 236,
      "outputs": [
        {
          "name": "stdout",
          "text": "True\n",
          "output_type": "stream"
        }
      ]
    },
    {
      "cell_type": "markdown",
      "source": "The isidentifier() method returns True if the string is a valid identifier, otherwise False.\n\nA string is considered a valid identifier if it only contains alphanumeric letters (a-z) and (0-9), or underscores (_). A valid identifier cannot start with a number, or contain any spaces.\n\n",
      "metadata": {}
    },
    {
      "cell_type": "code",
      "source": "a = \"MyFolder\"\nb = \"Demo002\"\nc = \"2bring\"\nd = \"my demo\"\n\nprint(a.isidentifier())\nprint(b.isidentifier())\nprint(c.isidentifier())\nprint(d.isidentifier())",
      "metadata": {
        "trusted": true
      },
      "execution_count": 237,
      "outputs": [
        {
          "name": "stdout",
          "text": "True\nTrue\nFalse\nFalse\n",
          "output_type": "stream"
        }
      ]
    },
    {
      "cell_type": "markdown",
      "source": "islower()\tReturns True if all characters in the string are lower case",
      "metadata": {}
    },
    {
      "cell_type": "code",
      "source": "txt = \"hello world!\"\n\nx = txt.islower()\n\nprint(x)",
      "metadata": {
        "trusted": true
      },
      "execution_count": 238,
      "outputs": [
        {
          "name": "stdout",
          "text": "True\n",
          "output_type": "stream"
        }
      ]
    },
    {
      "cell_type": "markdown",
      "source": "The islower() method returns True if all the characters are in lower case, otherwise False.\n\nNumbers, symbols and spaces are not checked, only alphabet characters.",
      "metadata": {}
    },
    {
      "cell_type": "code",
      "source": "a = \"Hello world!\"\nb = \"hello 123\"\nc = \"mynameisPeter\"\n\nprint(a.islower())\nprint(b.islower())\nprint(c.islower())",
      "metadata": {
        "trusted": true
      },
      "execution_count": 239,
      "outputs": [
        {
          "name": "stdout",
          "text": "False\nTrue\nFalse\n",
          "output_type": "stream"
        }
      ]
    },
    {
      "cell_type": "markdown",
      "source": "isnumeric()\tReturns True if all characters in the string are numeric",
      "metadata": {}
    },
    {
      "cell_type": "code",
      "source": "txt = \"565543\"\n\nx = txt.isnumeric()\n\nprint(x)",
      "metadata": {
        "trusted": true
      },
      "execution_count": 240,
      "outputs": [
        {
          "name": "stdout",
          "text": "True\n",
          "output_type": "stream"
        }
      ]
    },
    {
      "cell_type": "markdown",
      "source": "The isnumeric() method returns True if all the characters are numeric (0-9), otherwise False.\n\nExponents, like ² and ¾ are also considered to be numeric values.\n\n\"-1\" and \"1.5\" are NOT considered numeric values, because all the characters in the string must be numeric, and the - and the . are not.",
      "metadata": {}
    },
    {
      "cell_type": "code",
      "source": "a = \"\\u0030\" #unicode for 0\nb = \"\\u00B2\" #unicode for &sup2;\nc = \"10km2\"\nd = \"-1\"\ne = \"1.5\"\n\nprint(a.isnumeric())\nprint(b.isnumeric())\nprint(c.isnumeric())\nprint(d.isnumeric())\nprint(e.isnumeric())",
      "metadata": {
        "trusted": true
      },
      "execution_count": 241,
      "outputs": [
        {
          "name": "stdout",
          "text": "True\nTrue\nFalse\nFalse\nFalse\n",
          "output_type": "stream"
        }
      ]
    },
    {
      "cell_type": "markdown",
      "source": "isprintable()\tReturns True if all characters in the string are printable",
      "metadata": {}
    },
    {
      "cell_type": "code",
      "source": "txt = \"Hello! Are you #1?\"\n\nx = txt.isprintable()\n\nprint(x)",
      "metadata": {
        "trusted": true
      },
      "execution_count": 242,
      "outputs": [
        {
          "name": "stdout",
          "text": "True\n",
          "output_type": "stream"
        }
      ]
    },
    {
      "cell_type": "markdown",
      "source": "The isprintable() method returns True if all the characters are printable, otherwise False.\n\nExample of none printable character can be carriage return and line feed.",
      "metadata": {}
    },
    {
      "cell_type": "code",
      "source": "txt = \"Hello!\\nAre you #1?\"\n\nx = txt.isprintable()\n\nprint(x)",
      "metadata": {
        "trusted": true
      },
      "execution_count": 243,
      "outputs": [
        {
          "name": "stdout",
          "text": "False\n",
          "output_type": "stream"
        }
      ]
    },
    {
      "cell_type": "markdown",
      "source": "isspace()\tReturns True if all characters in the string are whitespaces",
      "metadata": {}
    },
    {
      "cell_type": "code",
      "source": "txt = \"   \"\n\nx = txt.isspace()\n\nprint(x)",
      "metadata": {
        "trusted": true
      },
      "execution_count": 244,
      "outputs": [
        {
          "name": "stdout",
          "text": "True\n",
          "output_type": "stream"
        }
      ]
    },
    {
      "cell_type": "markdown",
      "source": "The isspace() method returns True if all the characters in a string are whitespaces, otherwise False.",
      "metadata": {}
    },
    {
      "cell_type": "code",
      "source": "txt = \"   s   \"\n\nx = txt.isspace()\n\nprint(x)",
      "metadata": {
        "trusted": true
      },
      "execution_count": 245,
      "outputs": [
        {
          "name": "stdout",
          "text": "False\n",
          "output_type": "stream"
        }
      ]
    },
    {
      "cell_type": "markdown",
      "source": "istitle()\tReturns True if the string follows the rules of a title",
      "metadata": {}
    },
    {
      "cell_type": "code",
      "source": "txt = \"Hello, And Welcome To My World!\"\n\nx = txt.istitle()\n\nprint(x)",
      "metadata": {
        "trusted": true
      },
      "execution_count": 247,
      "outputs": [
        {
          "name": "stdout",
          "text": "True\n",
          "output_type": "stream"
        }
      ]
    },
    {
      "cell_type": "markdown",
      "source": "The istitle() method returns True if all words in a text start with a upper case letter, AND the rest of the word are lower case letters, otherwise False.\n\nSymbols and numbers are ignored.",
      "metadata": {}
    },
    {
      "cell_type": "code",
      "source": "a = \"HELLO, AND WELCOME TO MY WORLD\"\nb = \"Hello\"\nc = \"22 Names\"\nd = \"This Is %'!?\"\n\nprint(a.istitle())\nprint(b.istitle())\nprint(c.istitle())\nprint(d.istitle())",
      "metadata": {
        "trusted": true
      },
      "execution_count": 248,
      "outputs": [
        {
          "name": "stdout",
          "text": "False\nTrue\nTrue\nTrue\n",
          "output_type": "stream"
        }
      ]
    },
    {
      "cell_type": "markdown",
      "source": "isupper() Returns True if all characters in the string are upper case",
      "metadata": {}
    },
    {
      "cell_type": "code",
      "source": "txt = \"THIS IS NOW!\"\n\nx = txt.isupper()\n\nprint(x)",
      "metadata": {
        "trusted": true
      },
      "execution_count": 249,
      "outputs": [
        {
          "name": "stdout",
          "text": "True\n",
          "output_type": "stream"
        }
      ]
    },
    {
      "cell_type": "markdown",
      "source": "he isupper() method returns True if all the characters are in upper case, otherwise False.\n\nNumbers, symbols and spaces are not checked, only alphabet characters.",
      "metadata": {}
    },
    {
      "cell_type": "code",
      "source": "a = \"Hello World!\"\nb = \"hello 123\"\nc = \"MY NAME IS PETER\"\n\nprint(a.isupper())\nprint(b.isupper())\nprint(c.isupper())",
      "metadata": {
        "trusted": true
      },
      "execution_count": 250,
      "outputs": [
        {
          "name": "stdout",
          "text": "False\nFalse\nTrue\n",
          "output_type": "stream"
        }
      ]
    },
    {
      "cell_type": "code",
      "source": "myTuple = (\"John\", \"Peter\", \"Vicky\")\n\nx = \"#\".join(myTuple)\n\nprint(x)",
      "metadata": {
        "trusted": true
      },
      "execution_count": 251,
      "outputs": [
        {
          "name": "stdout",
          "text": "John#Peter#Vicky\n",
          "output_type": "stream"
        }
      ]
    },
    {
      "cell_type": "markdown",
      "source": "The join() method takes all items in an iterable and joins them into one string.\n\nA string must be specified as the separator.",
      "metadata": {}
    },
    {
      "cell_type": "code",
      "source": "myDict = {\"name\": \"John\", \"country\": \"Norway\"}\nmySeparator = \"TEST\"\n\nx = mySeparator.join(myDict)\n\nprint(x)",
      "metadata": {
        "trusted": true
      },
      "execution_count": 252,
      "outputs": [
        {
          "name": "stdout",
          "text": "nameTESTcountry\n",
          "output_type": "stream"
        }
      ]
    },
    {
      "cell_type": "markdown",
      "source": "ljust()\tReturns a left justified version of the string",
      "metadata": {}
    },
    {
      "cell_type": "code",
      "source": "txt = \"banana\"\n\nx = txt.ljust(20)\n\nprint(x, \"is my favorite fruit.\")",
      "metadata": {
        "trusted": true
      },
      "execution_count": 254,
      "outputs": [
        {
          "name": "stdout",
          "text": "banana               is my favorite fruit.\n",
          "output_type": "stream"
        }
      ]
    },
    {
      "cell_type": "markdown",
      "source": "The ljust() method will left align the string, using a specified character (space is default) as the fill character.",
      "metadata": {}
    },
    {
      "cell_type": "code",
      "source": "txt = \"banana\"\n\nx = txt.ljust(20, \"O\")\n\nprint(x)",
      "metadata": {
        "trusted": true
      },
      "execution_count": 255,
      "outputs": [
        {
          "name": "stdout",
          "text": "bananaOOOOOOOOOOOOOO\n",
          "output_type": "stream"
        }
      ]
    },
    {
      "cell_type": "code",
      "source": "ljust()\tReturns a left justified version of the string",
      "metadata": {},
      "execution_count": null,
      "outputs": []
    },
    {
      "cell_type": "code",
      "source": "txt = \"banana\"\n\nx = txt.ljust(20)\n\nprint(x, \"is my favorite fruit.\")",
      "metadata": {
        "trusted": true
      },
      "execution_count": 256,
      "outputs": [
        {
          "name": "stdout",
          "text": "banana               is my favorite fruit.\n",
          "output_type": "stream"
        }
      ]
    },
    {
      "cell_type": "markdown",
      "source": "The ljust() method will left align the string, using a specified character (space is default) as the fill character.",
      "metadata": {}
    },
    {
      "cell_type": "code",
      "source": "txt = \"banana\"\n\nx = txt.ljust(20, \"O\")\n\nprint(x)",
      "metadata": {
        "trusted": true
      },
      "execution_count": 257,
      "outputs": [
        {
          "name": "stdout",
          "text": "bananaOOOOOOOOOOOOOO\n",
          "output_type": "stream"
        }
      ]
    },
    {
      "cell_type": "markdown",
      "source": "lower()\tConverts a string into lower case",
      "metadata": {}
    },
    {
      "cell_type": "code",
      "source": "txt = \"Hello my FRIENDS\"\n\nx = txt.lower()\n\nprint(x)",
      "metadata": {
        "trusted": true
      },
      "execution_count": 258,
      "outputs": [
        {
          "name": "stdout",
          "text": "hello my friends\n",
          "output_type": "stream"
        }
      ]
    },
    {
      "cell_type": "markdown",
      "source": "The lower() method returns a string where all characters are lower case.\n\n Symbols and Numbers are ignored.",
      "metadata": {}
    },
    {
      "cell_type": "markdown",
      "source": "lstrip()\tReturns a left trim version of the string",
      "metadata": {}
    },
    {
      "cell_type": "code",
      "source": "txt = \"     banana     \"\n\nx = txt.lstrip()\n\nprint(\"of all fruits\", x, \"is my favorite\")",
      "metadata": {
        "trusted": true
      },
      "execution_count": 259,
      "outputs": [
        {
          "name": "stdout",
          "text": "of all fruits banana      is my favorite\n",
          "output_type": "stream"
        }
      ]
    },
    {
      "cell_type": "markdown",
      "source": "he lstrip() method removes any leading characters (space is the default leading character to remove)",
      "metadata": {}
    },
    {
      "cell_type": "code",
      "source": "txt = \",,,,,ssaaww.....banana\"\n\nx = txt.lstrip(\",.asw\")\n\nprint(x)",
      "metadata": {
        "trusted": true
      },
      "execution_count": 260,
      "outputs": [
        {
          "name": "stdout",
          "text": "banana\n",
          "output_type": "stream"
        }
      ]
    },
    {
      "cell_type": "markdown",
      "source": "maketrans()\tReturns a translation table to be used in translations",
      "metadata": {}
    },
    {
      "cell_type": "markdown",
      "source": "Create a mapping table, and use it in the translate() method to replace any \"S\" characters with a \"P\" character:",
      "metadata": {}
    },
    {
      "cell_type": "code",
      "source": "txt = \"Hello Sam!\"\nmytable = txt.maketrans(\"S\", \"P\")\nprint(txt.translate(mytable))",
      "metadata": {
        "trusted": true
      },
      "execution_count": 261,
      "outputs": [
        {
          "name": "stdout",
          "text": "Hello Pam!\n",
          "output_type": "stream"
        }
      ]
    },
    {
      "cell_type": "markdown",
      "source": "The maketrans() method returns a mapping table that can be used with the translate() method to replace specified characters.",
      "metadata": {}
    },
    {
      "cell_type": "code",
      "source": "txt = \"Hi Sam!\"\nx = \"mSa\"\ny = \"eJo\"\nmytable = txt.maketrans(x, y)\nprint(txt.translate(mytable))",
      "metadata": {
        "trusted": true
      },
      "execution_count": 262,
      "outputs": [
        {
          "name": "stdout",
          "text": "Hi Joe!\n",
          "output_type": "stream"
        }
      ]
    },
    {
      "cell_type": "code",
      "source": "txt = \"Good night Sam!\"\nx = \"mSa\"\ny = \"eJo\"\nz = \"odnght\"\nmytable = txt.maketrans(x, y, z)\nprint(txt.translate(mytable))",
      "metadata": {
        "trusted": true
      },
      "execution_count": 263,
      "outputs": [
        {
          "name": "stdout",
          "text": "G i Joe!\n",
          "output_type": "stream"
        }
      ]
    },
    {
      "cell_type": "code",
      "source": "txt = \"Good night Sam!\"\nx = \"mSa\"\ny = \"eJo\"\nz = \"odnght\"\nprint(txt.maketrans(x, y, z))",
      "metadata": {
        "trusted": true
      },
      "execution_count": 264,
      "outputs": [
        {
          "name": "stdout",
          "text": "{109: 101, 83: 74, 97: 111, 111: None, 100: None, 110: None, 103: None, 104: None, 116: None}\n",
          "output_type": "stream"
        }
      ]
    },
    {
      "cell_type": "markdown",
      "source": "partition()\tReturns a tuple where the string is parted into three parts",
      "metadata": {}
    },
    {
      "cell_type": "markdown",
      "source": "Search for the word \"bananas\", and return a tuple with three elements:\n\n1 - everything before the \"match\"\n\n2 - the \"match\"\n\n3 - everything after the \"match\"",
      "metadata": {}
    },
    {
      "cell_type": "code",
      "source": "txt = \"I could eat bananas all day\"\n\nx = txt.partition(\"bananas\")\n\nprint(x)",
      "metadata": {
        "trusted": true
      },
      "execution_count": 265,
      "outputs": [
        {
          "name": "stdout",
          "text": "('I could eat ', 'bananas', ' all day')\n",
          "output_type": "stream"
        }
      ]
    },
    {
      "cell_type": "markdown",
      "source": "The partition() method searches for a specified string, and splits the string into a tuple containing three elements.\n\nThe first element contains the part before the specified string.\n\nThe second element contains the specified string.\n\nThe third element contains the part after the string.",
      "metadata": {}
    },
    {
      "cell_type": "markdown",
      "source": "If the specified value is not found, the partition() method returns a tuple containing: 1 - the whole string, 2 - an empty string, 3 - an empty string:",
      "metadata": {}
    },
    {
      "cell_type": "code",
      "source": "txt = \"I could eat bananas all day\"\n\nx = txt.partition(\"apples\")\n\nprint(x)",
      "metadata": {
        "trusted": true
      },
      "execution_count": 266,
      "outputs": [
        {
          "name": "stdout",
          "text": "('I could eat bananas all day', '', '')\n",
          "output_type": "stream"
        }
      ]
    },
    {
      "cell_type": "markdown",
      "source": "replace()\tReturns a string where a specified value is replaced with a specified value",
      "metadata": {}
    },
    {
      "cell_type": "code",
      "source": "txt = \"I like bananas\"\n\nx = txt.replace(\"bananas\", \"apples\")\n\nprint(x)",
      "metadata": {
        "trusted": true
      },
      "execution_count": 268,
      "outputs": [
        {
          "name": "stdout",
          "text": "I like apples\n",
          "output_type": "stream"
        }
      ]
    },
    {
      "cell_type": "markdown",
      "source": "The replace() method replaces a specified phrase with another specified phrase.",
      "metadata": {}
    },
    {
      "cell_type": "code",
      "source": "txt = \"one one was a race horse, two two was one too.\"\n\nx = txt.replace(\"one\", \"three\")\n\nprint(x)",
      "metadata": {
        "trusted": true
      },
      "execution_count": 269,
      "outputs": [
        {
          "name": "stdout",
          "text": "three three was a race horse, two two was three too.\n",
          "output_type": "stream"
        }
      ]
    },
    {
      "cell_type": "code",
      "source": "txt = \"one one was a race horse, two two was one too.\"\n\nx = txt.replace(\"one\", \"three\", 2)\n\nprint(x)",
      "metadata": {
        "trusted": true
      },
      "execution_count": 270,
      "outputs": [
        {
          "name": "stdout",
          "text": "three three was a race horse, two two was one too.\n",
          "output_type": "stream"
        }
      ]
    },
    {
      "cell_type": "markdown",
      "source": "rfind()\tSearches the string for a specified value and returns the last position of where it was found\n\nrindex()\tSearches the string for a specified value and returns the last position of where it was found",
      "metadata": {}
    },
    {
      "cell_type": "code",
      "source": "txt = \"Mi casa, su casa.\"\n\nx = txt.rfind(\"casa\")\n\nprint(x)",
      "metadata": {
        "trusted": true
      },
      "execution_count": 271,
      "outputs": [
        {
          "name": "stdout",
          "text": "12\n",
          "output_type": "stream"
        }
      ]
    },
    {
      "cell_type": "markdown",
      "source": "The rfind() method finds the last occurrence of the specified value.\n\nThe rfind() method returns -1 if the value is not found.\n\nThe rfind() method is almost the same as the rindex() method. See example below.",
      "metadata": {}
    },
    {
      "cell_type": "markdown",
      "source": "Where in the text is the last occurrence of the letter \"e\"?:",
      "metadata": {}
    },
    {
      "cell_type": "code",
      "source": "txt = \"Hello, welcome to my world.\"\n\nx = txt.rfind(\"e\")\n\nprint(x)",
      "metadata": {
        "trusted": true
      },
      "execution_count": 272,
      "outputs": [
        {
          "name": "stdout",
          "text": "13\n",
          "output_type": "stream"
        }
      ]
    },
    {
      "cell_type": "markdown",
      "source": "Where in the text is the last occurrence of the letter \"e\" when you only search between position 5 and 10?",
      "metadata": {}
    },
    {
      "cell_type": "code",
      "source": "txt = \"Hello, welcome to my world.\"\n\nx = txt.rfind(\"e\", 5, 10)\n\nprint(x)",
      "metadata": {
        "trusted": true
      },
      "execution_count": 273,
      "outputs": [
        {
          "name": "stdout",
          "text": "8\n",
          "output_type": "stream"
        }
      ]
    },
    {
      "cell_type": "markdown",
      "source": "If the value is not found, the rfind() method returns -1, but the rindex() method will raise an exception:",
      "metadata": {}
    },
    {
      "cell_type": "code",
      "source": "txt = \"Hello, welcome to my world.\"\n\nprint(txt.rfind(\"q\"))\nprint(txt.rindex(\"q\"))",
      "metadata": {
        "trusted": true
      },
      "execution_count": 275,
      "outputs": [
        {
          "name": "stdout",
          "text": "-1\n",
          "output_type": "stream"
        },
        {
          "ename": "<class 'ValueError'>",
          "evalue": "substring not found",
          "traceback": [
            "\u001b[0;31m---------------------------------------------------------------------------\u001b[0m",
            "\u001b[0;31mValueError\u001b[0m                                Traceback (most recent call last)",
            "Cell \u001b[0;32mIn [275], line 4\u001b[0m\n\u001b[1;32m      1\u001b[0m txt \u001b[38;5;241m=\u001b[39m \u001b[38;5;124m\"\u001b[39m\u001b[38;5;124mHello, welcome to my world.\u001b[39m\u001b[38;5;124m\"\u001b[39m\n\u001b[1;32m      3\u001b[0m \u001b[38;5;28mprint\u001b[39m(txt\u001b[38;5;241m.\u001b[39mrfind(\u001b[38;5;124m\"\u001b[39m\u001b[38;5;124mq\u001b[39m\u001b[38;5;124m\"\u001b[39m))\n\u001b[0;32m----> 4\u001b[0m \u001b[38;5;28mprint\u001b[39m(\u001b[43mtxt\u001b[49m\u001b[38;5;241;43m.\u001b[39;49m\u001b[43mrindex\u001b[49m\u001b[43m(\u001b[49m\u001b[38;5;124;43m\"\u001b[39;49m\u001b[38;5;124;43mq\u001b[39;49m\u001b[38;5;124;43m\"\u001b[39;49m\u001b[43m)\u001b[49m)\n",
            "\u001b[0;31mValueError\u001b[0m: substring not found"
          ],
          "output_type": "error"
        }
      ]
    },
    {
      "cell_type": "markdown",
      "source": "The rfind() method finds the last occurrence of the specified value.\n\nThe rfind() method returns -1 if the value is not found.\n\nThe rfind() method is almost the same as the rindex() method. See example below.",
      "metadata": {}
    },
    {
      "cell_type": "markdown",
      "source": "rjust()\tReturns a right justified version of the string",
      "metadata": {}
    },
    {
      "cell_type": "markdown",
      "source": "Return a 20 characters long, right justified version of the word \"banana\":",
      "metadata": {}
    },
    {
      "cell_type": "code",
      "source": "txt = \"banana\"\n\nx = txt.rjust(20)\n\nprint(x, \"is my favorite fruit.\")",
      "metadata": {
        "trusted": true
      },
      "execution_count": 279,
      "outputs": [
        {
          "name": "stdout",
          "text": "              banana is my favorite fruit.\n",
          "output_type": "stream"
        }
      ]
    },
    {
      "cell_type": "markdown",
      "source": "The rjust() method will right align the string, using a specified character (space is default) as the fill character.",
      "metadata": {}
    },
    {
      "cell_type": "code",
      "source": "txt = \"banana\"\n\nx = txt.rjust(20, \"O\")\n\nprint(x)",
      "metadata": {
        "trusted": true
      },
      "execution_count": 281,
      "outputs": [
        {
          "name": "stdout",
          "text": "OOOOOOOOOOOOOObanana\n",
          "output_type": "stream"
        }
      ]
    },
    {
      "cell_type": "markdown",
      "source": "rpartition()\tReturns a tuple where the string is parted into three parts",
      "metadata": {}
    },
    {
      "cell_type": "markdown",
      "source": "Search for the last occurrence of the word \"bananas\", and return a tuple with three elements:\n\n1 - everything before the \"match\"\n2 - the \"match\"\n3 - everything after the \"match\"",
      "metadata": {}
    },
    {
      "cell_type": "code",
      "source": "txt = \"I could eat bananas all day, bananas are my favorite fruit\"\n\nx = txt.rpartition(\"bananas\")\n\nprint(x)",
      "metadata": {
        "trusted": true
      },
      "execution_count": 282,
      "outputs": [
        {
          "name": "stdout",
          "text": "('I could eat bananas all day, ', 'bananas', ' are my favorite fruit')\n",
          "output_type": "stream"
        }
      ]
    },
    {
      "cell_type": "markdown",
      "source": "The rpartition() method searches for the last occurrence of a specified string, and splits the string into a tuple containing three elements.\n\nThe first element contains the part before the specified string.\n\nThe second element contains the specified string.\n\nThe third element contains the part after the string.",
      "metadata": {}
    },
    {
      "cell_type": "markdown",
      "source": "If the specified value is not found, the rpartition() method returns a tuple containing: 1 - an empty string, 2 - an empty string, 3 - the whole string:",
      "metadata": {}
    },
    {
      "cell_type": "code",
      "source": "txt = \"I could eat bananas all day, bananas are my favorite fruit\"\n\nx = txt.rpartition(\"apples\")\n\nprint(x)",
      "metadata": {
        "trusted": true
      },
      "execution_count": 283,
      "outputs": [
        {
          "name": "stdout",
          "text": "('', '', 'I could eat bananas all day, bananas are my favorite fruit')\n",
          "output_type": "stream"
        }
      ]
    },
    {
      "cell_type": "markdown",
      "source": "rsplit()\tSplits the string at the specified separator, and returns a list",
      "metadata": {}
    },
    {
      "cell_type": "code",
      "source": "txt = \"apple, banana, cherry\"\n\nx = txt.rsplit(\", \")\n\nprint(x)",
      "metadata": {
        "trusted": true
      },
      "execution_count": 284,
      "outputs": [
        {
          "name": "stdout",
          "text": "['apple', 'banana', 'cherry']\n",
          "output_type": "stream"
        }
      ]
    },
    {
      "cell_type": "code",
      "source": "txt = \"apple, banana, cherry\"\n\n# setting the maxsplit parameter to 1, will return a list with 2 elements!\nx = txt.rsplit(\", \", 1)\n\nprint(x)",
      "metadata": {
        "trusted": true
      },
      "execution_count": 285,
      "outputs": [
        {
          "name": "stdout",
          "text": "['apple, banana', 'cherry']\n",
          "output_type": "stream"
        }
      ]
    },
    {
      "cell_type": "markdown",
      "source": "Split a string into a list, using comma, followed by a space (, ) as the separator:",
      "metadata": {}
    },
    {
      "cell_type": "code",
      "source": "txt = \"apple, banana, cherry\"\n\nx = txt.rsplit(\", \")\n\nprint(x)",
      "metadata": {
        "trusted": true
      },
      "execution_count": 286,
      "outputs": [
        {
          "name": "stdout",
          "text": "['apple', 'banana', 'cherry']\n",
          "output_type": "stream"
        }
      ]
    },
    {
      "cell_type": "markdown",
      "source": "The rsplit() method splits a string into a list, starting from the right.\n\nIf no \"max\" is specified, this method will return the same as the split() method.",
      "metadata": {}
    },
    {
      "cell_type": "code",
      "source": "txt = \"apple, banana, cherry\"\n\n# setting the maxsplit parameter to 1, will return a list with 2 elements!\nx = txt.rsplit(\", \", 1)\n\nprint(x)",
      "metadata": {
        "trusted": true
      },
      "execution_count": 287,
      "outputs": [
        {
          "name": "stdout",
          "text": "['apple, banana', 'cherry']\n",
          "output_type": "stream"
        }
      ]
    },
    {
      "cell_type": "markdown",
      "source": "rstrip()\tReturns a right trim version of the string",
      "metadata": {}
    },
    {
      "cell_type": "markdown",
      "source": "Remove any white spaces at the end of the string:",
      "metadata": {}
    },
    {
      "cell_type": "code",
      "source": "txt = \"     banana     \"\n\nx = txt.rstrip()\n\nprint(\"of all fruits\", x, \"is my favorite\")",
      "metadata": {
        "trusted": true
      },
      "execution_count": 289,
      "outputs": [
        {
          "name": "stdout",
          "text": "of all fruits      banana is my favorite\n",
          "output_type": "stream"
        }
      ]
    },
    {
      "cell_type": "markdown",
      "source": "The rstrip() method removes any trailing characters (characters at the end a string), space is the default trailing character to remove.",
      "metadata": {}
    },
    {
      "cell_type": "markdown",
      "source": "Remove the trailing characters if they are commas, s, q, or w:",
      "metadata": {}
    },
    {
      "cell_type": "code",
      "source": "txt = \"banana,,,,,ssqqqww.....\"\n\nx = txt.rstrip(\",.qsw\")\n\nprint(x)",
      "metadata": {
        "trusted": true
      },
      "execution_count": 290,
      "outputs": [
        {
          "name": "stdout",
          "text": "banana\n",
          "output_type": "stream"
        }
      ]
    },
    {
      "cell_type": "markdown",
      "source": "split()\tSplits the string at the specified separator, and returns a list",
      "metadata": {}
    },
    {
      "cell_type": "code",
      "source": "txt = \"welcome to the jungle\"\n\nx = txt.split()\n\nprint(x)",
      "metadata": {
        "trusted": true
      },
      "execution_count": 291,
      "outputs": [
        {
          "name": "stdout",
          "text": "['welcome', 'to', 'the', 'jungle']\n",
          "output_type": "stream"
        }
      ]
    },
    {
      "cell_type": "markdown",
      "source": "The split() method splits a string into a list.\n\nYou can specify the separator, default separator is any whitespace.",
      "metadata": {}
    },
    {
      "cell_type": "markdown",
      "source": "Split the string, using comma, followed by a space, as a separator:",
      "metadata": {}
    },
    {
      "cell_type": "code",
      "source": "txt = \"hello, my name is Peter, I am 26 years old\"\n\nx = txt.split(\", \")\n\nprint(x)",
      "metadata": {
        "trusted": true
      },
      "execution_count": 292,
      "outputs": [
        {
          "name": "stdout",
          "text": "['hello', 'my name is Peter', 'I am 26 years old']\n",
          "output_type": "stream"
        }
      ]
    },
    {
      "cell_type": "markdown",
      "source": "Use a hash character as a separator:",
      "metadata": {}
    },
    {
      "cell_type": "code",
      "source": "txt = \"apple#banana#cherry#orange\"\n\nx = txt.split(\"#\")\n\nprint(x)",
      "metadata": {
        "trusted": true
      },
      "execution_count": 293,
      "outputs": [
        {
          "name": "stdout",
          "text": "['apple', 'banana', 'cherry', 'orange']\n",
          "output_type": "stream"
        }
      ]
    },
    {
      "cell_type": "markdown",
      "source": "Split the string into a list with max 2 items:",
      "metadata": {}
    },
    {
      "cell_type": "code",
      "source": "txt = \"apple#banana#cherry#orange\"\n\n# setting the maxsplit parameter to 1, will return a list with 2 elements!\nx = txt.split(\"#\", 1)\n\nprint(x)",
      "metadata": {
        "trusted": true
      },
      "execution_count": 294,
      "outputs": [
        {
          "name": "stdout",
          "text": "['apple', 'banana#cherry#orange']\n",
          "output_type": "stream"
        }
      ]
    },
    {
      "cell_type": "markdown",
      "source": "splitlines()\tSplits the string at line breaks and returns a list",
      "metadata": {}
    },
    {
      "cell_type": "markdown",
      "source": "Split a string into a list where each line is a list item:",
      "metadata": {}
    },
    {
      "cell_type": "code",
      "source": "txt = \"Thank you for the music\\nWelcome to the jungle\"\n\nx = txt.splitlines()\n\nprint(x)",
      "metadata": {
        "trusted": true
      },
      "execution_count": 295,
      "outputs": [
        {
          "name": "stdout",
          "text": "['Thank you for the music', 'Welcome to the jungle']\n",
          "output_type": "stream"
        }
      ]
    },
    {
      "cell_type": "markdown",
      "source": "The splitlines() method splits a string into a list. The splitting is done at line breaks.",
      "metadata": {}
    },
    {
      "cell_type": "code",
      "source": "txt = \"Thank you for the music\\nWelcome to the jungle\"\n\nx = txt.splitlines(True)\n\nprint(x)",
      "metadata": {
        "trusted": true
      },
      "execution_count": 296,
      "outputs": [
        {
          "name": "stdout",
          "text": "['Thank you for the music\\n', 'Welcome to the jungle']\n",
          "output_type": "stream"
        }
      ]
    },
    {
      "cell_type": "markdown",
      "source": "startswith()\tReturns true if the string starts with the specified value",
      "metadata": {}
    },
    {
      "cell_type": "code",
      "source": "txt = \"Hello, welcome to my world.\"\n\nx = txt.startswith(\"Hello\")\n\nprint(x)",
      "metadata": {
        "trusted": true
      },
      "execution_count": 297,
      "outputs": [
        {
          "name": "stdout",
          "text": "True\n",
          "output_type": "stream"
        }
      ]
    },
    {
      "cell_type": "markdown",
      "source": "The startswith() method returns True if the string starts with the specified value, otherwise False.\n\n",
      "metadata": {}
    },
    {
      "cell_type": "code",
      "source": "txt = \"Hello, welcome to my world.\"\n\nx = txt.startswith(\"wel\", 7, 20)\n\nprint(x)",
      "metadata": {
        "trusted": true
      },
      "execution_count": 298,
      "outputs": [
        {
          "name": "stdout",
          "text": "True\n",
          "output_type": "stream"
        }
      ]
    },
    {
      "cell_type": "markdown",
      "source": "strip()\tReturns a trimmed version of the string",
      "metadata": {}
    },
    {
      "cell_type": "code",
      "source": "txt = \"     banana     \"\n\nx = txt.strip()\n\nprint(\"of all fruits\", x, \"is my favorite\")",
      "metadata": {
        "trusted": true
      },
      "execution_count": 299,
      "outputs": [
        {
          "name": "stdout",
          "text": "of all fruits banana is my favorite\n",
          "output_type": "stream"
        }
      ]
    },
    {
      "cell_type": "markdown",
      "source": "The strip() method removes any leading (spaces at the beginning) and trailing (spaces at the end) characters (space is the default leading character to remove)",
      "metadata": {}
    },
    {
      "cell_type": "markdown",
      "source": "Remove the leading and trailing characters:",
      "metadata": {}
    },
    {
      "cell_type": "code",
      "source": "txt = \",,,,,rrttgg.....banana....rrr\"\n\nx = txt.strip(\",.grt\")\n\nprint(x)",
      "metadata": {
        "trusted": true
      },
      "execution_count": 301,
      "outputs": [
        {
          "name": "stdout",
          "text": "banana\n",
          "output_type": "stream"
        }
      ]
    },
    {
      "cell_type": "markdown",
      "source": "swapcase()\tSwaps cases, lower case becomes upper case and vice versa",
      "metadata": {}
    },
    {
      "cell_type": "markdown",
      "source": "Make the lower case letters upper case and the upper case letters lower case:",
      "metadata": {}
    },
    {
      "cell_type": "code",
      "source": "txt = \"Hello My Name Is PETER\"\n\nx = txt.swapcase()\n\nprint(x)",
      "metadata": {
        "trusted": true
      },
      "execution_count": 302,
      "outputs": [
        {
          "name": "stdout",
          "text": "hELLO mY nAME iS peter\n",
          "output_type": "stream"
        }
      ]
    },
    {
      "cell_type": "markdown",
      "source": "The swapcase() method returns a string where all the upper case letters are lower case and vice versa.",
      "metadata": {}
    },
    {
      "cell_type": "markdown",
      "source": "title()\tConverts the first character of each word to upper case",
      "metadata": {}
    },
    {
      "cell_type": "code",
      "source": "txt = \"Welcome to my world\"\n\nx = txt.title()\n\nprint(x)",
      "metadata": {
        "trusted": true
      },
      "execution_count": 303,
      "outputs": [
        {
          "name": "stdout",
          "text": "Welcome To My World\n",
          "output_type": "stream"
        }
      ]
    },
    {
      "cell_type": "markdown",
      "source": "The title() method returns a string where the first character in every word is upper case. Like a header, or a title.\n\nIf the word contains a number or a symbol, the first letter after that will be converted to upper case.",
      "metadata": {}
    },
    {
      "cell_type": "markdown",
      "source": "Make the first letter in each word upper case:",
      "metadata": {}
    },
    {
      "cell_type": "code",
      "source": "txt = \"Welcome to my 2nd world\"\n\nx = txt.title()\n\nprint(x)",
      "metadata": {
        "trusted": true
      },
      "execution_count": 305,
      "outputs": [
        {
          "name": "stdout",
          "text": "Welcome To My 2Nd World\n",
          "output_type": "stream"
        }
      ]
    },
    {
      "cell_type": "code",
      "source": "txt = \"hello b2b2b2 and 3g3g3g\"\n\nx = txt.title()\n\nprint(x)",
      "metadata": {
        "trusted": true
      },
      "execution_count": 306,
      "outputs": [
        {
          "name": "stdout",
          "text": "Hello B2B2B2 And 3G3G3G\n",
          "output_type": "stream"
        }
      ]
    },
    {
      "cell_type": "markdown",
      "source": "translate()\tReturns a translated string",
      "metadata": {}
    },
    {
      "cell_type": "markdown",
      "source": "Replace any \"S\" characters with a \"P\" character:",
      "metadata": {}
    },
    {
      "cell_type": "code",
      "source": "#use a dictionary with ascii codes to replace 83 (S) with 80 (P):\nmydict = {83:  80}\ntxt = \"Hello Sam!\"\nprint(txt.translate(mydict))",
      "metadata": {
        "trusted": true
      },
      "execution_count": 307,
      "outputs": [
        {
          "name": "stdout",
          "text": "Hello Pam!\n",
          "output_type": "stream"
        }
      ]
    },
    {
      "cell_type": "markdown",
      "source": "The translate() method returns a string where some specified characters are replaced with the character described in a dictionary, or in a mapping table.\n\nUse the maketrans() method to create a mapping table.\n\nIf a character is not specified in the dictionary/table, the character will not be replaced.\n\nIf you use a dictionary, you must use ascii codes instead of characters.",
      "metadata": {}
    },
    {
      "cell_type": "code",
      "source": "txt = \"Hello Sam!\"\nmytable = txt.maketrans(\"S\", \"P\")\nprint(txt.translate(mytable))",
      "metadata": {
        "trusted": true
      },
      "execution_count": 308,
      "outputs": [
        {
          "name": "stdout",
          "text": "Hello Pam!\n",
          "output_type": "stream"
        }
      ]
    },
    {
      "cell_type": "code",
      "source": "txt = \"Hi Sam!\"\nx = \"mSa\"\ny = \"eJo\"\nmytable = txt.maketrans(x, y)\nprint(txt.translate(mytable))",
      "metadata": {
        "trusted": true
      },
      "execution_count": 309,
      "outputs": [
        {
          "name": "stdout",
          "text": "Hi Joe!\n",
          "output_type": "stream"
        }
      ]
    },
    {
      "cell_type": "code",
      "source": "txt = \"Good night Sam!\"\nx = \"mSa\"\ny = \"eJo\"\nz = \"odnght\"\nmytable = txt.maketrans(x, y, z)\nprint(txt.translate(mytable))",
      "metadata": {
        "trusted": true
      },
      "execution_count": 310,
      "outputs": [
        {
          "name": "stdout",
          "text": "G i Joe!\n",
          "output_type": "stream"
        }
      ]
    },
    {
      "cell_type": "code",
      "source": "txt = \"Good night Sam!\"\nmydict = {109: 101, 83: 74, 97: 111, 111: None, 100: None, 110: None, 103: None, 104: None, 116: None}\nprint(txt.translate(mydict))",
      "metadata": {
        "trusted": true
      },
      "execution_count": 311,
      "outputs": [
        {
          "name": "stdout",
          "text": "G i Joe!\n",
          "output_type": "stream"
        }
      ]
    },
    {
      "cell_type": "markdown",
      "source": "upper()\tConverts a string into upper case",
      "metadata": {}
    },
    {
      "cell_type": "code",
      "source": "txt = \"Hello my friends\"\n\nx = txt.upper()\n\nprint(x)",
      "metadata": {
        "trusted": true
      },
      "execution_count": 312,
      "outputs": [
        {
          "name": "stdout",
          "text": "HELLO MY FRIENDS\n",
          "output_type": "stream"
        }
      ]
    },
    {
      "cell_type": "markdown",
      "source": "The upper() method returns a string where all characters are in upper case.\n\n Symbols and Numbers are ignored.",
      "metadata": {}
    },
    {
      "cell_type": "markdown",
      "source": "zfill()\tFills the string with a specified number of 0 values at the beginning",
      "metadata": {}
    },
    {
      "cell_type": "code",
      "source": "Fill the string with zeros until it is 10 characters long:",
      "metadata": {},
      "execution_count": null,
      "outputs": []
    },
    {
      "cell_type": "code",
      "source": "txt = \"50\"\n\nx = txt.zfill(10)\n\nprint(x)",
      "metadata": {
        "trusted": true
      },
      "execution_count": 313,
      "outputs": [
        {
          "name": "stdout",
          "text": "0000000050\n",
          "output_type": "stream"
        }
      ]
    },
    {
      "cell_type": "markdown",
      "source": "he zfill() method adds zeros (0) at the beginning of the string, until it reaches the specified length.\n\nIf the value of the len parameter is less than the length of the string, no filling is done.",
      "metadata": {}
    },
    {
      "cell_type": "markdown",
      "source": "Fill the strings with zeros until they are 10 characters long:",
      "metadata": {}
    },
    {
      "cell_type": "code",
      "source": "a = \"hello\"\nb = \"welcome to the jungle\"\nc = \"10.000\"\n\nprint(a.zfill(10))\nprint(b.zfill(10))\nprint(c.zfill(10))",
      "metadata": {
        "trusted": true
      },
      "execution_count": 315,
      "outputs": [
        {
          "name": "stdout",
          "text": "00000hello\nwelcome to the jungle\n000010.000\n",
          "output_type": "stream"
        }
      ]
    },
    {
      "cell_type": "code",
      "source": "",
      "metadata": {},
      "execution_count": null,
      "outputs": []
    },
    {
      "cell_type": "markdown",
      "source": "# 2. **Bullion** - \n\nBullion express true or false. If there is something in the bracket true if not false.",
      "metadata": {}
    },
    {
      "cell_type": "code",
      "source": "print(10 > 9)",
      "metadata": {
        "trusted": true
      },
      "execution_count": 15,
      "outputs": [
        {
          "name": "stdout",
          "text": "True\n",
          "output_type": "stream"
        }
      ]
    },
    {
      "cell_type": "code",
      "source": "print(10 == 9)",
      "metadata": {
        "trusted": true
      },
      "execution_count": 16,
      "outputs": [
        {
          "name": "stdout",
          "text": "False\n",
          "output_type": "stream"
        }
      ]
    },
    {
      "cell_type": "code",
      "source": "print(10 < 9)",
      "metadata": {
        "trusted": true
      },
      "execution_count": 17,
      "outputs": [
        {
          "name": "stdout",
          "text": "False\n",
          "output_type": "stream"
        }
      ]
    },
    {
      "cell_type": "code",
      "source": "print(bool(\"Hello\"))",
      "metadata": {
        "trusted": true
      },
      "execution_count": 19,
      "outputs": [
        {
          "name": "stdout",
          "text": "True\n",
          "output_type": "stream"
        }
      ]
    },
    {
      "cell_type": "code",
      "source": "print(bool(15))",
      "metadata": {
        "trusted": true
      },
      "execution_count": 20,
      "outputs": [
        {
          "name": "stdout",
          "text": "True\n",
          "output_type": "stream"
        }
      ]
    },
    {
      "cell_type": "code",
      "source": "x = \"Hello\"\ny = 15\n\nprint(bool(x))",
      "metadata": {
        "trusted": true
      },
      "execution_count": 21,
      "outputs": [
        {
          "name": "stdout",
          "text": "True\n",
          "output_type": "stream"
        }
      ]
    },
    {
      "cell_type": "code",
      "source": "print(bool(y))",
      "metadata": {
        "trusted": true
      },
      "execution_count": 22,
      "outputs": [
        {
          "name": "stdout",
          "text": "True\n",
          "output_type": "stream"
        }
      ]
    },
    {
      "cell_type": "code",
      "source": "bool(\"abc\")",
      "metadata": {
        "trusted": true
      },
      "execution_count": 23,
      "outputs": [
        {
          "execution_count": 23,
          "output_type": "execute_result",
          "data": {
            "text/plain": "True"
          },
          "metadata": {}
        }
      ]
    },
    {
      "cell_type": "code",
      "source": "bool(123)",
      "metadata": {
        "trusted": true
      },
      "execution_count": 24,
      "outputs": [
        {
          "execution_count": 24,
          "output_type": "execute_result",
          "data": {
            "text/plain": "True"
          },
          "metadata": {}
        }
      ]
    },
    {
      "cell_type": "code",
      "source": "bool([\"apple\", \"cherry\", \"banana\"])",
      "metadata": {
        "trusted": true
      },
      "execution_count": 25,
      "outputs": [
        {
          "execution_count": 25,
          "output_type": "execute_result",
          "data": {
            "text/plain": "True"
          },
          "metadata": {}
        }
      ]
    },
    {
      "cell_type": "code",
      "source": "bool(False)",
      "metadata": {
        "trusted": true
      },
      "execution_count": 26,
      "outputs": [
        {
          "execution_count": 26,
          "output_type": "execute_result",
          "data": {
            "text/plain": "False"
          },
          "metadata": {}
        }
      ]
    },
    {
      "cell_type": "code",
      "source": "bool(None)",
      "metadata": {
        "trusted": true
      },
      "execution_count": 27,
      "outputs": [
        {
          "execution_count": 27,
          "output_type": "execute_result",
          "data": {
            "text/plain": "False"
          },
          "metadata": {}
        }
      ]
    },
    {
      "cell_type": "code",
      "source": "bool(0)",
      "metadata": {
        "trusted": true
      },
      "execution_count": 28,
      "outputs": [
        {
          "execution_count": 28,
          "output_type": "execute_result",
          "data": {
            "text/plain": "False"
          },
          "metadata": {}
        }
      ]
    },
    {
      "cell_type": "code",
      "source": "bool(\"\")",
      "metadata": {
        "trusted": true
      },
      "execution_count": 29,
      "outputs": [
        {
          "execution_count": 29,
          "output_type": "execute_result",
          "data": {
            "text/plain": "False"
          },
          "metadata": {}
        }
      ]
    },
    {
      "cell_type": "code",
      "source": "bool(())",
      "metadata": {
        "trusted": true
      },
      "execution_count": 30,
      "outputs": [
        {
          "execution_count": 30,
          "output_type": "execute_result",
          "data": {
            "text/plain": "False"
          },
          "metadata": {}
        }
      ]
    },
    {
      "cell_type": "code",
      "source": "bool([])",
      "metadata": {
        "trusted": true
      },
      "execution_count": 31,
      "outputs": [
        {
          "execution_count": 31,
          "output_type": "execute_result",
          "data": {
            "text/plain": "False"
          },
          "metadata": {}
        }
      ]
    },
    {
      "cell_type": "code",
      "source": "bool({})",
      "metadata": {
        "trusted": true
      },
      "execution_count": 32,
      "outputs": [
        {
          "execution_count": 32,
          "output_type": "execute_result",
          "data": {
            "text/plain": "False"
          },
          "metadata": {}
        }
      ]
    },
    {
      "cell_type": "code",
      "source": "print(True)",
      "metadata": {
        "trusted": true
      },
      "execution_count": 34,
      "outputs": [
        {
          "name": "stdout",
          "text": "True\n",
          "output_type": "stream"
        }
      ]
    },
    {
      "cell_type": "code",
      "source": "print(int(True))",
      "metadata": {
        "trusted": true
      },
      "execution_count": 36,
      "outputs": [
        {
          "name": "stdout",
          "text": "1\n",
          "output_type": "stream"
        }
      ]
    },
    {
      "cell_type": "code",
      "source": "print(int(False))",
      "metadata": {
        "trusted": true
      },
      "execution_count": 38,
      "outputs": [
        {
          "name": "stdout",
          "text": "0\n",
          "output_type": "stream"
        }
      ]
    },
    {
      "cell_type": "code",
      "source": "print(False-True)",
      "metadata": {
        "trusted": true
      },
      "execution_count": 39,
      "outputs": [
        {
          "name": "stdout",
          "text": "-1\n",
          "output_type": "stream"
        }
      ]
    },
    {
      "cell_type": "code",
      "source": "print(True-False)",
      "metadata": {
        "trusted": true
      },
      "execution_count": 40,
      "outputs": [
        {
          "name": "stdout",
          "text": "1\n",
          "output_type": "stream"
        }
      ]
    },
    {
      "cell_type": "code",
      "source": "print(True>False)",
      "metadata": {
        "trusted": true
      },
      "execution_count": 42,
      "outputs": [
        {
          "name": "stdout",
          "text": "True\n",
          "output_type": "stream"
        }
      ]
    },
    {
      "cell_type": "code",
      "source": "print(True<False)",
      "metadata": {
        "trusted": true
      },
      "execution_count": 43,
      "outputs": [
        {
          "name": "stdout",
          "text": "False\n",
          "output_type": "stream"
        }
      ]
    },
    {
      "cell_type": "code",
      "source": "print(True+False)",
      "metadata": {
        "trusted": true
      },
      "execution_count": 44,
      "outputs": [
        {
          "name": "stdout",
          "text": "1\n",
          "output_type": "stream"
        }
      ]
    },
    {
      "cell_type": "code",
      "source": "print(True**False)",
      "metadata": {
        "trusted": true
      },
      "execution_count": 45,
      "outputs": [
        {
          "name": "stdout",
          "text": "1\n",
          "output_type": "stream"
        }
      ]
    },
    {
      "cell_type": "code",
      "source": "print(False/True)",
      "metadata": {
        "trusted": true
      },
      "execution_count": 46,
      "outputs": [
        {
          "name": "stdout",
          "text": "0.0\n",
          "output_type": "stream"
        }
      ]
    },
    {
      "cell_type": "code",
      "source": "x = 200\nprint(isinstance(x, int))",
      "metadata": {
        "trusted": true
      },
      "execution_count": 48,
      "outputs": [
        {
          "name": "stdout",
          "text": "True\n",
          "output_type": "stream"
        }
      ]
    },
    {
      "cell_type": "code",
      "source": "def myFunction() :\n  return True\n\nprint(myFunction())",
      "metadata": {
        "trusted": true
      },
      "execution_count": 49,
      "outputs": [
        {
          "name": "stdout",
          "text": "True\n",
          "output_type": "stream"
        }
      ]
    },
    {
      "cell_type": "code",
      "source": "def myFunction() :\n  return True\n\nif myFunction():\n  print(\"YES!\")\nelse:\n  print(\"NO!\")",
      "metadata": {
        "trusted": true
      },
      "execution_count": 50,
      "outputs": [
        {
          "name": "stdout",
          "text": "YES!\n",
          "output_type": "stream"
        }
      ]
    },
    {
      "cell_type": "markdown",
      "source": "# 8. Python Operators",
      "metadata": {}
    },
    {
      "cell_type": "markdown",
      "source": "Operators are used to perform operations on variables and values.",
      "metadata": {}
    },
    {
      "cell_type": "code",
      "source": "print(10 + 5)",
      "metadata": {
        "trusted": true
      },
      "execution_count": 316,
      "outputs": [
        {
          "name": "stdout",
          "text": "15\n",
          "output_type": "stream"
        }
      ]
    },
    {
      "cell_type": "markdown",
      "source": "Python divides the operators in the following groups:\n\nArithmetic operators\n\nAssignment operators\n\nComparison operators\n\nLogical operators\n\nIdentity operators\n\nMembership operators\n\nBitwise operators",
      "metadata": {}
    },
    {
      "cell_type": "markdown",
      "source": "Addition",
      "metadata": {}
    },
    {
      "cell_type": "code",
      "source": "x = 5\ny = 3\n\nprint(x + y)",
      "metadata": {
        "trusted": true
      },
      "execution_count": 317,
      "outputs": [
        {
          "name": "stdout",
          "text": "8\n",
          "output_type": "stream"
        }
      ]
    },
    {
      "cell_type": "markdown",
      "source": "Subtraction",
      "metadata": {}
    },
    {
      "cell_type": "code",
      "source": "x = 5\ny = 3\n\nprint(x - y)",
      "metadata": {
        "trusted": true
      },
      "execution_count": 318,
      "outputs": [
        {
          "name": "stdout",
          "text": "2\n",
          "output_type": "stream"
        }
      ]
    },
    {
      "cell_type": "markdown",
      "source": "Multiplication",
      "metadata": {}
    },
    {
      "cell_type": "code",
      "source": "x = 5\ny = 3\n\nprint(x * y)",
      "metadata": {},
      "execution_count": null,
      "outputs": []
    },
    {
      "cell_type": "markdown",
      "source": "Division",
      "metadata": {}
    },
    {
      "cell_type": "code",
      "source": "x = 12\ny = 3\n\nprint(x / y)",
      "metadata": {
        "trusted": true
      },
      "execution_count": 319,
      "outputs": [
        {
          "name": "stdout",
          "text": "4.0\n",
          "output_type": "stream"
        }
      ]
    },
    {
      "cell_type": "markdown",
      "source": "Modulus",
      "metadata": {}
    },
    {
      "cell_type": "code",
      "source": "x = 5\ny = 2\n\nprint(x % y)",
      "metadata": {
        "trusted": true
      },
      "execution_count": 320,
      "outputs": [
        {
          "name": "stdout",
          "text": "1\n",
          "output_type": "stream"
        }
      ]
    },
    {
      "cell_type": "markdown",
      "source": "Exponentiation",
      "metadata": {}
    },
    {
      "cell_type": "code",
      "source": "x = 2\ny = 5\n\nprint(x ** y) #same as 2*2*2*2*2",
      "metadata": {
        "trusted": true
      },
      "execution_count": 321,
      "outputs": [
        {
          "name": "stdout",
          "text": "32\n",
          "output_type": "stream"
        }
      ]
    },
    {
      "cell_type": "markdown",
      "source": "Floor division\t",
      "metadata": {}
    },
    {
      "cell_type": "code",
      "source": "x = 15\ny = 2\n\nprint(x // y)\n\n#the floor division // rounds the result down to the nearest whole number",
      "metadata": {
        "trusted": true
      },
      "execution_count": 322,
      "outputs": [
        {
          "name": "stdout",
          "text": "7\n",
          "output_type": "stream"
        }
      ]
    },
    {
      "cell_type": "markdown",
      "source": "=",
      "metadata": {}
    },
    {
      "cell_type": "code",
      "source": "x = 5\n\nprint(x)",
      "metadata": {
        "trusted": true
      },
      "execution_count": 323,
      "outputs": [
        {
          "name": "stdout",
          "text": "5\n",
          "output_type": "stream"
        }
      ]
    },
    {
      "cell_type": "markdown",
      "source": "+=",
      "metadata": {}
    },
    {
      "cell_type": "code",
      "source": "x = 5\n\nx += 3\n\nprint(x)",
      "metadata": {
        "trusted": true
      },
      "execution_count": 324,
      "outputs": [
        {
          "name": "stdout",
          "text": "8\n",
          "output_type": "stream"
        }
      ]
    },
    {
      "cell_type": "markdown",
      "source": "-=",
      "metadata": {}
    },
    {
      "cell_type": "code",
      "source": "x = 5\n\nx -= 3\n\nprint(x)",
      "metadata": {
        "trusted": true
      },
      "execution_count": 325,
      "outputs": [
        {
          "name": "stdout",
          "text": "2\n",
          "output_type": "stream"
        }
      ]
    },
    {
      "cell_type": "markdown",
      "source": "/=",
      "metadata": {}
    },
    {
      "cell_type": "code",
      "source": "x = 5\n\nx /= 3\n\nprint(x)\n",
      "metadata": {
        "trusted": true
      },
      "execution_count": 326,
      "outputs": [
        {
          "name": "stdout",
          "text": "1.6666666666666667\n",
          "output_type": "stream"
        }
      ]
    },
    {
      "cell_type": "markdown",
      "source": "%=",
      "metadata": {}
    },
    {
      "cell_type": "code",
      "source": "x = 5\n\nx%=3\n\nprint(x)",
      "metadata": {
        "trusted": true
      },
      "execution_count": 327,
      "outputs": [
        {
          "name": "stdout",
          "text": "2\n",
          "output_type": "stream"
        }
      ]
    },
    {
      "cell_type": "markdown",
      "source": "%=",
      "metadata": {}
    },
    {
      "cell_type": "code",
      "source": "x = 5\n\nx//=3\n\nprint(x)",
      "metadata": {
        "trusted": true
      },
      "execution_count": 328,
      "outputs": [
        {
          "name": "stdout",
          "text": "1\n",
          "output_type": "stream"
        }
      ]
    },
    {
      "cell_type": "markdown",
      "source": "//=",
      "metadata": {}
    },
    {
      "cell_type": "code",
      "source": "x = 5\n\nx//=3\n\nprint(x)",
      "metadata": {
        "trusted": true
      },
      "execution_count": 329,
      "outputs": [
        {
          "name": "stdout",
          "text": "1\n",
          "output_type": "stream"
        }
      ]
    },
    {
      "cell_type": "markdown",
      "source": "**=",
      "metadata": {}
    },
    {
      "cell_type": "code",
      "source": "x = 5\n\nx **= 3\n\nprint(x)\n",
      "metadata": {
        "trusted": true
      },
      "execution_count": 330,
      "outputs": [
        {
          "name": "stdout",
          "text": "125\n",
          "output_type": "stream"
        }
      ]
    },
    {
      "cell_type": "markdown",
      "source": "&=",
      "metadata": {}
    },
    {
      "cell_type": "code",
      "source": "x = 5\n\nx &= 3\n\nprint(x)",
      "metadata": {
        "trusted": true
      },
      "execution_count": 331,
      "outputs": [
        {
          "name": "stdout",
          "text": "1\n",
          "output_type": "stream"
        }
      ]
    },
    {
      "cell_type": "markdown",
      "source": "|=",
      "metadata": {}
    },
    {
      "cell_type": "code",
      "source": "x = 5\n\nx |= 3\n\nprint(x)",
      "metadata": {
        "trusted": true
      },
      "execution_count": 332,
      "outputs": [
        {
          "name": "stdout",
          "text": "7\n",
          "output_type": "stream"
        }
      ]
    },
    {
      "cell_type": "markdown",
      "source": "^=",
      "metadata": {}
    },
    {
      "cell_type": "code",
      "source": "x = 5\n\nx ^= 3\n\nprint(x)",
      "metadata": {
        "trusted": true
      },
      "execution_count": 333,
      "outputs": [
        {
          "name": "stdout",
          "text": "6\n",
          "output_type": "stream"
        }
      ]
    },
    {
      "cell_type": "markdown",
      "source": "'>>=\tx >>= 3\tx = x >> 3'",
      "metadata": {}
    },
    {
      "cell_type": "code",
      "source": "x = 5\n\nx >>= 3\n\nprint(x)",
      "metadata": {
        "trusted": true
      },
      "execution_count": 334,
      "outputs": [
        {
          "name": "stdout",
          "text": "0\n",
          "output_type": "stream"
        }
      ]
    },
    {
      "cell_type": "markdown",
      "source": "<<=\tx <<= 3\tx = x << 3",
      "metadata": {}
    },
    {
      "cell_type": "markdown",
      "source": "and \tReturns True if both statements are true\tx < 5 and  x < 10",
      "metadata": {}
    },
    {
      "cell_type": "code",
      "source": "x = 5\n\nprint(x > 3 and x < 10)\n\n# returns True because 5 is greater than 3 AND 5 is less than 10",
      "metadata": {
        "trusted": true
      },
      "execution_count": 335,
      "outputs": [
        {
          "name": "stdout",
          "text": "True\n",
          "output_type": "stream"
        }
      ]
    },
    {
      "cell_type": "markdown",
      "source": "or\tReturns True if one of the statements is true\tx < 5 or x < 4",
      "metadata": {}
    },
    {
      "cell_type": "code",
      "source": "x = 5\n\nprint(x > 3 or x < 4)\n\n# returns True because one of the conditions are true (5 is greater than 3, but 5 is not less than 4)",
      "metadata": {
        "trusted": true
      },
      "execution_count": 339,
      "outputs": [
        {
          "name": "stdout",
          "text": "True\n",
          "output_type": "stream"
        }
      ]
    },
    {
      "cell_type": "code",
      "source": "not\tReverse the result, returns False if the result is true\tnot(x < 5 and x < 10)\t\n",
      "metadata": {},
      "execution_count": null,
      "outputs": []
    },
    {
      "cell_type": "code",
      "source": "x = 5\n\nprint(not(x > 3 and x < 10))\n\n# returns False because not is used to reverse the result",
      "metadata": {
        "trusted": true
      },
      "execution_count": 340,
      "outputs": [
        {
          "name": "stdout",
          "text": "False\n",
          "output_type": "stream"
        }
      ]
    },
    {
      "cell_type": "markdown",
      "source": "is \tReturns True if both variables are the same object\tx is y",
      "metadata": {}
    },
    {
      "cell_type": "code",
      "source": "x = [\"apple\", \"banana\"]\ny = [\"apple\", \"banana\"]\nz = x\n\nprint(x is z)\n\n# returns True because z is the same object as x\n\nprint(x is y)\n\n# returns False because x is not the same object as y, even if they have the same content\n\nprint(x == y)\n\n# to demonstrate the difference betweeen \"is\" and \"==\": this comparison returns True because x is equal to y",
      "metadata": {
        "trusted": true
      },
      "execution_count": 341,
      "outputs": [
        {
          "name": "stdout",
          "text": "True\nFalse\nTrue\n",
          "output_type": "stream"
        }
      ]
    },
    {
      "cell_type": "markdown",
      "source": "is not\tReturns True if both variables are not the same object\tx is not y",
      "metadata": {}
    },
    {
      "cell_type": "code",
      "source": "x = [\"apple\", \"banana\"]\ny = [\"apple\", \"banana\"]\nz = x\n\nprint(x is not z)\n\n# returns False because z is the same object as x\n\nprint(x is not y)\n\n# returns True because x is not the same object as y, even if they have the same content\n\nprint(x != y)\n\n# to demonstrate the difference betweeen \"is not\" and \"!=\": this comparison returns False because x is equal to y\n",
      "metadata": {
        "trusted": true
      },
      "execution_count": 342,
      "outputs": [
        {
          "name": "stdout",
          "text": "False\nTrue\nFalse\n",
          "output_type": "stream"
        }
      ]
    },
    {
      "cell_type": "markdown",
      "source": "in \tReturns True if a sequence with the specified value is present in the object\tx in y",
      "metadata": {}
    },
    {
      "cell_type": "code",
      "source": "x = [\"apple\", \"banana\"]\n\nprint(\"banana\" in x)\n\n# returns True because a sequence with the value \"banana\" is in the list",
      "metadata": {
        "trusted": true
      },
      "execution_count": 343,
      "outputs": [
        {
          "name": "stdout",
          "text": "True\n",
          "output_type": "stream"
        }
      ]
    },
    {
      "cell_type": "markdown",
      "source": "not in\tReturns True if a sequence with the specified value is not present in the object\tx not in y",
      "metadata": {}
    },
    {
      "cell_type": "code",
      "source": "x = [\"apple\", \"banana\"]\n\nprint(\"pineapple\" not in x)\n\n# returns True because a sequence with the value \"pineapple\" is not in the list",
      "metadata": {
        "trusted": true
      },
      "execution_count": 344,
      "outputs": [
        {
          "name": "stdout",
          "text": "True\n",
          "output_type": "stream"
        }
      ]
    },
    {
      "cell_type": "markdown",
      "source": "\n**& AND**   Sets each bit to 1 if both bits are 1\n\n**| OR**  Sets each bit to 1 if one of two bits is 1\n\n**^XOR**     Sets each bit to 1 if only one of two bits is 1\n \n**~ NOT**     Inverts all the bits\n\n**Zero fill left shift**         Shift left by pushing zeros in from the right and let the leftmost bits fall off\n\n**Signed right shift**           Shift right by pushing copies of the leftmost bit in from the left, and let the rightmost bits fall off",
      "metadata": {}
    },
    {
      "cell_type": "markdown",
      "source": "# Python Tuples",
      "metadata": {}
    },
    {
      "cell_type": "markdown",
      "source": "Tuples are used to store multiple items in a single variable.\n\nTuple is one of 4 built-in data types in Python used to store collections of data, the other 3 are List, Set, and Dictionary, all with different qualities and usage.\n\nA tuple is a collection which is ordered and unchangeable.\n\nTuples are written with round brackets.",
      "metadata": {}
    },
    {
      "cell_type": "code",
      "source": "thistuple = (\"apple\", \"banana\", \"cherry\")\nprint(thistuple)",
      "metadata": {
        "trusted": true
      },
      "execution_count": 345,
      "outputs": [
        {
          "name": "stdout",
          "text": "('apple', 'banana', 'cherry')\n",
          "output_type": "stream"
        }
      ]
    },
    {
      "cell_type": "markdown",
      "source": "Tuple items are ordered, unchangeable, and allow duplicate values.\n\nTuple items are indexed, the first item has index [0], the second item has index [1] etc.\n\nWhen we say that tuples are ordered, it means that the items have a defined order, and that order will not change.\n\nTuples are unchangeable, meaning that we cannot change, add or remove items after the tuple has been created.\n\nSince tuples are indexed, they can have items with the same value.",
      "metadata": {}
    },
    {
      "cell_type": "code",
      "source": "thistuple = (\"apple\", \"banana\", \"cherry\", \"apple\", \"cherry\")\nprint(thistuple)",
      "metadata": {
        "trusted": true
      },
      "execution_count": 351,
      "outputs": [
        {
          "name": "stdout",
          "text": "('apple', 'banana', 'cherry', 'apple', 'cherry')\n",
          "output_type": "stream"
        }
      ]
    },
    {
      "cell_type": "markdown",
      "source": "To determine how many items a tuple has, use the len() function:",
      "metadata": {}
    },
    {
      "cell_type": "code",
      "source": "thistuple = (\"apple\", \"banana\", \"cherry\")\nprint(len(thistuple))",
      "metadata": {
        "trusted": true
      },
      "execution_count": 352,
      "outputs": [
        {
          "name": "stdout",
          "text": "3\n",
          "output_type": "stream"
        }
      ]
    },
    {
      "cell_type": "markdown",
      "source": "Create Tuple With One Item\n\nTo create a tuple with only one item, you have to add a comma after the item, otherwise Python will not recognize it as a tuple.",
      "metadata": {}
    },
    {
      "cell_type": "code",
      "source": "thistuple = (\"apple\",)\nprint(type(thistuple))\n\n#NOT a tuple\nthistuple = (\"apple\")\nprint(type(thistuple))",
      "metadata": {
        "trusted": true
      },
      "execution_count": 353,
      "outputs": [
        {
          "name": "stdout",
          "text": "<class 'tuple'>\n<class 'str'>\n",
          "output_type": "stream"
        }
      ]
    },
    {
      "cell_type": "markdown",
      "source": "Tuple items can be of any data type:",
      "metadata": {}
    },
    {
      "cell_type": "code",
      "source": "tuple1 = (\"apple\", \"banana\", \"cherry\")\ntuple2 = (1, 5, 7, 9, 3)\ntuple3 = (True, False, False)",
      "metadata": {
        "trusted": true
      },
      "execution_count": 354,
      "outputs": []
    },
    {
      "cell_type": "markdown",
      "source": "A tuple with strings, integers and boolean values:",
      "metadata": {}
    },
    {
      "cell_type": "code",
      "source": "tuple1 = (\"abc\", 34, True, 40, \"male\")",
      "metadata": {
        "trusted": true
      },
      "execution_count": 355,
      "outputs": []
    },
    {
      "cell_type": "markdown",
      "source": "From Python's perspective, tuples are defined as objects with the data type 'tuple':",
      "metadata": {}
    },
    {
      "cell_type": "code",
      "source": "mytuple = (\"apple\", \"banana\", \"cherry\")\nprint(type(mytuple))",
      "metadata": {
        "trusted": true
      },
      "execution_count": 356,
      "outputs": [
        {
          "name": "stdout",
          "text": "<class 'tuple'>\n",
          "output_type": "stream"
        }
      ]
    },
    {
      "cell_type": "markdown",
      "source": "It is also possible to use the tuple() constructor to make a tuple.",
      "metadata": {}
    },
    {
      "cell_type": "code",
      "source": "thistuple = tuple((\"apple\", \"banana\", \"cherry\")) # note the double round-brackets\nprint(thistuple)",
      "metadata": {
        "trusted": true
      },
      "execution_count": 1,
      "outputs": [
        {
          "name": "stdout",
          "text": "('apple', 'banana', 'cherry')\n",
          "output_type": "stream"
        }
      ]
    },
    {
      "cell_type": "markdown",
      "source": "Print the second item in the tuple:",
      "metadata": {}
    },
    {
      "cell_type": "code",
      "source": "thistuple = (\"apple\", \"banana\", \"cherry\")\nprint(thistuple[1])",
      "metadata": {
        "trusted": true
      },
      "execution_count": 2,
      "outputs": [
        {
          "name": "stdout",
          "text": "banana\n",
          "output_type": "stream"
        }
      ]
    },
    {
      "cell_type": "markdown",
      "source": "Negative indexing means start from the end.\n\n-1 refers to the last item, -2 refers to the second last item etc.",
      "metadata": {}
    },
    {
      "cell_type": "code",
      "source": "thistuple = (\"apple\", \"banana\", \"cherry\")\nprint(thistuple[-1])",
      "metadata": {
        "trusted": true
      },
      "execution_count": 3,
      "outputs": [
        {
          "name": "stdout",
          "text": "cherry\n",
          "output_type": "stream"
        }
      ]
    },
    {
      "cell_type": "markdown",
      "source": "Return the third, fourth, and fifth item:",
      "metadata": {}
    },
    {
      "cell_type": "code",
      "source": "thistuple = (\"apple\", \"banana\", \"cherry\", \"orange\", \"kiwi\", \"melon\", \"mango\")\nprint(thistuple[2:5])",
      "metadata": {
        "trusted": true
      },
      "execution_count": 4,
      "outputs": [
        {
          "name": "stdout",
          "text": "('cherry', 'orange', 'kiwi')\n",
          "output_type": "stream"
        }
      ]
    },
    {
      "cell_type": "markdown",
      "source": "This example returns the items from the beginning to, but NOT included, \"kiwi\":",
      "metadata": {}
    },
    {
      "cell_type": "code",
      "source": "thistuple = (\"apple\", \"banana\", \"cherry\", \"orange\", \"kiwi\", \"melon\", \"mango\")\nprint(thistuple[:4])",
      "metadata": {
        "trusted": true
      },
      "execution_count": 5,
      "outputs": [
        {
          "name": "stdout",
          "text": "('apple', 'banana', 'cherry', 'orange')\n",
          "output_type": "stream"
        }
      ]
    },
    {
      "cell_type": "markdown",
      "source": "This example returns the items from \"cherry\" and to the end:",
      "metadata": {}
    },
    {
      "cell_type": "code",
      "source": "thistuple = (\"apple\", \"banana\", \"cherry\", \"orange\", \"kiwi\", \"melon\", \"mango\")\nprint(thistuple[2:])",
      "metadata": {
        "trusted": true
      },
      "execution_count": 6,
      "outputs": [
        {
          "name": "stdout",
          "text": "('cherry', 'orange', 'kiwi', 'melon', 'mango')\n",
          "output_type": "stream"
        }
      ]
    },
    {
      "cell_type": "markdown",
      "source": "Tuples are unchangeable, meaning that you cannot change, add, or remove items once the tuple is created.\n\nBut there are some workarounds.\n\nOnce a tuple is created, you cannot change its values. Tuples are unchangeable, or immutable as it also is called.\n\nBut there is a workaround. You can convert the tuple into a list, change the list, and convert the list back into a tuple.\n\nConvert the tuple into a list to be able to change it:",
      "metadata": {}
    },
    {
      "cell_type": "code",
      "source": "x = (\"apple\", \"banana\", \"cherry\")\ny = list(x)\ny[1] = \"kiwi\"\nx = tuple(y)\n\nprint(x)",
      "metadata": {
        "trusted": true
      },
      "execution_count": 7,
      "outputs": [
        {
          "name": "stdout",
          "text": "('apple', 'kiwi', 'cherry')\n",
          "output_type": "stream"
        }
      ]
    },
    {
      "cell_type": "markdown",
      "source": "Since tuples are immutable, they do not have a build-in append() method, but there are other ways to add items to a tuple.\n\n1. Convert into a list: Just like the workaround for changing a tuple, you can convert it into a list, add your item(s), and convert it back into a tuple.",
      "metadata": {}
    },
    {
      "cell_type": "code",
      "source": "thistuple = (\"apple\", \"banana\", \"cherry\")\ny = list(thistuple)\ny.append(\"orange\")\nthistuple = tuple(y)",
      "metadata": {
        "trusted": true
      },
      "execution_count": 9,
      "outputs": []
    },
    {
      "cell_type": "markdown",
      "source": "2. Add tuple to a tuple. You are allowed to add tuples to tuples, so if you want to add one item, (or many), create a new tuple with the item(s), and add it to the existing tuple:",
      "metadata": {}
    },
    {
      "cell_type": "code",
      "source": "thistuple = (\"apple\", \"banana\", \"cherry\")\ny = (\"orange\",)\nthistuple += y\n\nprint(thistuple)",
      "metadata": {
        "trusted": true
      },
      "execution_count": 10,
      "outputs": [
        {
          "name": "stdout",
          "text": "('apple', 'banana', 'cherry', 'orange')\n",
          "output_type": "stream"
        }
      ]
    },
    {
      "cell_type": "markdown",
      "source": "When we create a tuple, we normally assign values to it. This is called \"packing\" a tuple:",
      "metadata": {}
    },
    {
      "cell_type": "code",
      "source": "fruits = (\"apple\", \"banana\", \"cherry\")",
      "metadata": {
        "trusted": true
      },
      "execution_count": 11,
      "outputs": []
    },
    {
      "cell_type": "code",
      "source": "fruits = (\"apple\", \"banana\", \"cherry\")\n\n(green, yellow, red) = fruits\n\nprint(green)\nprint(yellow)\nprint(red)",
      "metadata": {
        "trusted": true
      },
      "execution_count": 12,
      "outputs": [
        {
          "name": "stdout",
          "text": "apple\nbanana\ncherry\n",
          "output_type": "stream"
        }
      ]
    },
    {
      "cell_type": "markdown",
      "source": "You can loop through the tuple items by using a for loop.",
      "metadata": {}
    },
    {
      "cell_type": "code",
      "source": "thistuple = (\"apple\", \"banana\", \"cherry\")\nfor x in thistuple:\n  print(x)",
      "metadata": {
        "trusted": true
      },
      "execution_count": 14,
      "outputs": [
        {
          "name": "stdout",
          "text": "apple\nbanana\ncherry\n",
          "output_type": "stream"
        }
      ]
    },
    {
      "cell_type": "markdown",
      "source": "You can also loop through the tuple items by referring to their index number.\n\nUse the range() and len() functions to create a suitable iterable.",
      "metadata": {}
    },
    {
      "cell_type": "code",
      "source": "thistuple = (\"apple\", \"banana\", \"cherry\")\nfor i in range(len(thistuple)):\n  print(thistuple[i])",
      "metadata": {
        "trusted": true
      },
      "execution_count": 15,
      "outputs": [
        {
          "name": "stdout",
          "text": "apple\nbanana\ncherry\n",
          "output_type": "stream"
        }
      ]
    },
    {
      "cell_type": "markdown",
      "source": "To join two or more tuples you can use the + operator:",
      "metadata": {}
    },
    {
      "cell_type": "code",
      "source": "tuple1 = (\"a\", \"b\" , \"c\")\ntuple2 = (1, 2, 3)\n\ntuple3 = tuple1 + tuple2\nprint(tuple3)",
      "metadata": {
        "trusted": true
      },
      "execution_count": 16,
      "outputs": [
        {
          "name": "stdout",
          "text": "('a', 'b', 'c', 1, 2, 3)\n",
          "output_type": "stream"
        }
      ]
    },
    {
      "cell_type": "markdown",
      "source": "Multiply the fruits tuple by 2:",
      "metadata": {}
    },
    {
      "cell_type": "code",
      "source": "fruits = (\"apple\", \"banana\", \"cherry\")\nmytuple = fruits * 2\n\nprint(mytuple)",
      "metadata": {
        "trusted": true
      },
      "execution_count": 17,
      "outputs": [
        {
          "name": "stdout",
          "text": "('apple', 'banana', 'cherry', 'apple', 'banana', 'cherry')\n",
          "output_type": "stream"
        }
      ]
    },
    {
      "cell_type": "markdown",
      "source": "Return the number of times the value 5 appears in the tuple:",
      "metadata": {}
    },
    {
      "cell_type": "code",
      "source": "thistuple = (1, 3, 7, 8, 7, 5, 4, 6, 8, 5)\n\nx = thistuple.count(5)\n\nprint(x)",
      "metadata": {
        "trusted": true
      },
      "execution_count": 18,
      "outputs": [
        {
          "name": "stdout",
          "text": "2\n",
          "output_type": "stream"
        }
      ]
    },
    {
      "cell_type": "markdown",
      "source": "Search for the first occurrence of the value 8, and return its position:",
      "metadata": {}
    },
    {
      "cell_type": "code",
      "source": "thistuple = (1, 3, 7, 8, 7, 5, 4, 6, 8, 5)\n\nx = thistuple.index(8)\n\nprint(x)",
      "metadata": {
        "trusted": true
      },
      "execution_count": 19,
      "outputs": [
        {
          "name": "stdout",
          "text": "3\n",
          "output_type": "stream"
        }
      ]
    },
    {
      "cell_type": "markdown",
      "source": "# Python Lists",
      "metadata": {}
    },
    {
      "cell_type": "markdown",
      "source": "Lists are used to store multiple items in a single variable.\n\nLists are one of 4 built-in data types in Python used to store collections of data, the other 3 are Tuple, Set, and Dictionary, all with different qualities and usage.\n\nLists are created using square brackets:",
      "metadata": {}
    },
    {
      "cell_type": "code",
      "source": "thislist = [\"apple\", \"banana\", \"cherry\"]\nprint(thislist)",
      "metadata": {
        "trusted": true
      },
      "execution_count": 20,
      "outputs": [
        {
          "name": "stdout",
          "text": "['apple', 'banana', 'cherry']\n",
          "output_type": "stream"
        }
      ]
    },
    {
      "cell_type": "markdown",
      "source": "List items are ordered, changeable, and allow duplicate values.\n\nList items are indexed, the first item has index [0], the second item has index [1] etc.",
      "metadata": {}
    },
    {
      "cell_type": "markdown",
      "source": "When we say that lists are ordered, it means that the items have a defined order, and that order will not change.\n\nIf you add new items to a list, the new items will be placed at the end of the list.",
      "metadata": {}
    },
    {
      "cell_type": "markdown",
      "source": "The list is changeable, meaning that we can change, add, and remove items in a list after it has been created.",
      "metadata": {}
    },
    {
      "cell_type": "markdown",
      "source": "Since lists are indexed, lists can have items with the same value:",
      "metadata": {}
    },
    {
      "cell_type": "code",
      "source": "thislist = [\"apple\", \"banana\", \"cherry\", \"apple\", \"cherry\"]\nprint(thislist)",
      "metadata": {
        "trusted": true
      },
      "execution_count": 22,
      "outputs": [
        {
          "name": "stdout",
          "text": "['apple', 'banana', 'cherry', 'apple', 'cherry']\n",
          "output_type": "stream"
        }
      ]
    },
    {
      "cell_type": "markdown",
      "source": "Print the number of items in the list:",
      "metadata": {}
    },
    {
      "cell_type": "code",
      "source": "thislist = [\"apple\", \"banana\", \"cherry\"]\nprint(len(thislist))",
      "metadata": {
        "trusted": true
      },
      "execution_count": 23,
      "outputs": [
        {
          "name": "stdout",
          "text": "3\n",
          "output_type": "stream"
        }
      ]
    },
    {
      "cell_type": "markdown",
      "source": "String, int and boolean data types:",
      "metadata": {}
    },
    {
      "cell_type": "code",
      "source": "list1 = [\"apple\", \"banana\", \"cherry\"]\nlist2 = [1, 5, 7, 9, 3]\nlist3 = [True, False, False]",
      "metadata": {
        "trusted": true
      },
      "execution_count": 24,
      "outputs": []
    },
    {
      "cell_type": "markdown",
      "source": "A list with strings, integers and boolean values:",
      "metadata": {}
    },
    {
      "cell_type": "code",
      "source": "list1 = [\"abc\", 34, True, 40, \"male\"]",
      "metadata": {
        "trusted": true
      },
      "execution_count": 25,
      "outputs": []
    },
    {
      "cell_type": "markdown",
      "source": "What is the data type of a list?",
      "metadata": {}
    },
    {
      "cell_type": "code",
      "source": "mylist = [\"apple\", \"banana\", \"cherry\"]\nprint(type(mylist))",
      "metadata": {
        "trusted": true
      },
      "execution_count": 26,
      "outputs": [
        {
          "name": "stdout",
          "text": "<class 'list'>\n",
          "output_type": "stream"
        }
      ]
    },
    {
      "cell_type": "markdown",
      "source": "It is also possible to use the list() constructor when creating a new list.",
      "metadata": {}
    },
    {
      "cell_type": "markdown",
      "source": "Using the list() constructor to make a List:",
      "metadata": {}
    },
    {
      "cell_type": "code",
      "source": "thislist = list((\"apple\", \"banana\", \"cherry\")) # note the double round-brackets\nprint(thislist)",
      "metadata": {
        "trusted": true
      },
      "execution_count": 27,
      "outputs": [
        {
          "name": "stdout",
          "text": "['apple', 'banana', 'cherry']\n",
          "output_type": "stream"
        }
      ]
    },
    {
      "cell_type": "markdown",
      "source": "Print the second item of the list:",
      "metadata": {}
    },
    {
      "cell_type": "code",
      "source": "thislist = [\"apple\", \"banana\", \"cherry\"]\nprint(thislist[1])",
      "metadata": {
        "trusted": true
      },
      "execution_count": 28,
      "outputs": [
        {
          "name": "stdout",
          "text": "banana\n",
          "output_type": "stream"
        }
      ]
    },
    {
      "cell_type": "markdown",
      "source": "Negative indexing means start from the end\n\n-1 refers to the last item, -2 refers to the second last item etc\n\nPrint the last item of the list:",
      "metadata": {}
    },
    {
      "cell_type": "code",
      "source": "thislist = [\"apple\", \"banana\", \"cherry\"]\nprint(thislist[-1])",
      "metadata": {
        "trusted": true
      },
      "execution_count": 29,
      "outputs": [
        {
          "name": "stdout",
          "text": "cherry\n",
          "output_type": "stream"
        }
      ]
    },
    {
      "cell_type": "markdown",
      "source": "You can specify a range of indexes by specifying where to start and where to end the range.\n\nWhen specifying a range, the return value will be a new list with the specified items.",
      "metadata": {}
    },
    {
      "cell_type": "code",
      "source": "thislist = [\"apple\", \"banana\", \"cherry\", \"orange\", \"kiwi\", \"melon\", \"mango\"]\nprint(thislist[2:5])\n",
      "metadata": {
        "trusted": true
      },
      "execution_count": 30,
      "outputs": [
        {
          "name": "stdout",
          "text": "['cherry', 'orange', 'kiwi']\n",
          "output_type": "stream"
        }
      ]
    },
    {
      "cell_type": "markdown",
      "source": "By leaving out the start value, the range will start at the first item:\n\nThis example returns the items from the beginning to, but NOT including, \"kiwi\":",
      "metadata": {}
    },
    {
      "cell_type": "code",
      "source": "thislist = [\"apple\", \"banana\", \"cherry\", \"orange\", \"kiwi\", \"melon\", \"mango\"]\nprint(thislist[:4])\n",
      "metadata": {
        "trusted": true
      },
      "execution_count": 31,
      "outputs": [
        {
          "name": "stdout",
          "text": "['apple', 'banana', 'cherry', 'orange']\n",
          "output_type": "stream"
        }
      ]
    },
    {
      "cell_type": "markdown",
      "source": "By leaving out the end value, the range will go on to the end of the list:\n\nThis example returns the items from \"cherry\" to the end:",
      "metadata": {}
    },
    {
      "cell_type": "code",
      "source": "thislist = [\"apple\", \"banana\", \"cherry\", \"orange\", \"kiwi\", \"melon\", \"mango\"]\nprint(thislist[2:])",
      "metadata": {
        "trusted": true
      },
      "execution_count": 32,
      "outputs": [
        {
          "name": "stdout",
          "text": "['cherry', 'orange', 'kiwi', 'melon', 'mango']\n",
          "output_type": "stream"
        }
      ]
    },
    {
      "cell_type": "markdown",
      "source": "To change the value of a specific item, refer to the index number:\n\nChange the second item:",
      "metadata": {}
    },
    {
      "cell_type": "code",
      "source": "thislist = [\"apple\", \"banana\", \"cherry\"]\nthislist[1] = \"blackcurrant\"\nprint(thislist)\n",
      "metadata": {
        "trusted": true
      },
      "execution_count": 33,
      "outputs": [
        {
          "name": "stdout",
          "text": "['apple', 'blackcurrant', 'cherry']\n",
          "output_type": "stream"
        }
      ]
    },
    {
      "cell_type": "markdown",
      "source": "To change the value of items within a specific range, define a list with the new values, and refer to the range of index numbers where you want to insert the new values:\n\nChange the values \"banana\" and \"cherry\" with the values \"blackcurrant\" and \"watermelon\":",
      "metadata": {}
    },
    {
      "cell_type": "code",
      "source": "thislist = [\"apple\", \"banana\", \"cherry\", \"orange\", \"kiwi\", \"mango\"]\nthislist[1:3] = [\"blackcurrant\", \"watermelon\"]\nprint(thislist)",
      "metadata": {
        "trusted": true
      },
      "execution_count": 34,
      "outputs": [
        {
          "name": "stdout",
          "text": "['apple', 'blackcurrant', 'watermelon', 'orange', 'kiwi', 'mango']\n",
          "output_type": "stream"
        }
      ]
    },
    {
      "cell_type": "markdown",
      "source": "If you insert more items than you replace, the new items will be inserted where you specified, and the remaining items will move accordingly:",
      "metadata": {}
    },
    {
      "cell_type": "code",
      "source": "thislist = [\"apple\", \"banana\", \"cherry\"]\nthislist[1:2] = [\"blackcurrant\", \"watermelon\"]\nprint(thislist)",
      "metadata": {
        "trusted": true
      },
      "execution_count": 35,
      "outputs": [
        {
          "name": "stdout",
          "text": "['apple', 'blackcurrant', 'watermelon', 'cherry']\n",
          "output_type": "stream"
        }
      ]
    },
    {
      "cell_type": "markdown",
      "source": "If you insert less items than you replace, the new items will be inserted where you specified, and the remaining items will move accordingly:\n\nChange the second and third value by replacing it with one value:",
      "metadata": {}
    },
    {
      "cell_type": "code",
      "source": "thislist = [\"apple\", \"banana\", \"cherry\"]\nthislist[1:3] = [\"watermelon\"]\nprint(thislist)",
      "metadata": {
        "trusted": true
      },
      "execution_count": 36,
      "outputs": [
        {
          "name": "stdout",
          "text": "['apple', 'watermelon']\n",
          "output_type": "stream"
        }
      ]
    },
    {
      "cell_type": "markdown",
      "source": "To insert a new list item, without replacing any of the existing values, we can use the insert() method.\n\nThe insert() method inserts an item at the specified index:\n\nInsert \"watermelon\" as the third item:",
      "metadata": {}
    },
    {
      "cell_type": "code",
      "source": "thislist = [\"apple\", \"banana\", \"cherry\"]\nthislist.insert(2, \"watermelon\")\nprint(thislist)",
      "metadata": {
        "trusted": true
      },
      "execution_count": 37,
      "outputs": [
        {
          "name": "stdout",
          "text": "['apple', 'banana', 'watermelon', 'cherry']\n",
          "output_type": "stream"
        }
      ]
    },
    {
      "cell_type": "markdown",
      "source": "To add an item to the end of the list, use the append() method:\n\nUsing the append() method to append an item:",
      "metadata": {}
    },
    {
      "cell_type": "code",
      "source": "thislist = [\"apple\", \"banana\", \"cherry\"]\nthislist.append(\"orange\")\nprint(thislist)",
      "metadata": {
        "trusted": true
      },
      "execution_count": 38,
      "outputs": [
        {
          "name": "stdout",
          "text": "['apple', 'banana', 'cherry', 'orange']\n",
          "output_type": "stream"
        }
      ]
    },
    {
      "cell_type": "markdown",
      "source": "To insert a list item at a specified index, use the insert() method.\n\nThe insert() method inserts an item at the specified index:",
      "metadata": {}
    },
    {
      "cell_type": "code",
      "source": "thislist = [\"apple\", \"banana\", \"cherry\"]\nthislist.insert(1, \"orange\")\nprint(thislist)",
      "metadata": {
        "trusted": true
      },
      "execution_count": 39,
      "outputs": [
        {
          "name": "stdout",
          "text": "['apple', 'orange', 'banana', 'cherry']\n",
          "output_type": "stream"
        }
      ]
    },
    {
      "cell_type": "markdown",
      "source": "The remove() method removes the specified item.\n\nRemove \"banana\":",
      "metadata": {}
    },
    {
      "cell_type": "code",
      "source": "thislist = [\"apple\", \"banana\", \"cherry\"]\nthislist.remove(\"banana\")\nprint(thislist)",
      "metadata": {
        "trusted": true
      },
      "execution_count": 40,
      "outputs": [
        {
          "name": "stdout",
          "text": "['apple', 'cherry']\n",
          "output_type": "stream"
        }
      ]
    },
    {
      "cell_type": "markdown",
      "source": "The pop() method removes the specified index.",
      "metadata": {}
    },
    {
      "cell_type": "code",
      "source": "thislist = [\"apple\", \"banana\", \"cherry\"]\nthislist.pop(1)\nprint(thislist)",
      "metadata": {
        "trusted": true
      },
      "execution_count": 41,
      "outputs": [
        {
          "name": "stdout",
          "text": "['apple', 'cherry']\n",
          "output_type": "stream"
        }
      ]
    },
    {
      "cell_type": "markdown",
      "source": "If you do not specify the index, the pop() method removes the last item.\n\nRemove the last item:",
      "metadata": {}
    },
    {
      "cell_type": "code",
      "source": "thislist = [\"apple\", \"banana\", \"cherry\"]\nthislist.pop()\nprint(thislist)",
      "metadata": {
        "trusted": true
      },
      "execution_count": 42,
      "outputs": [
        {
          "name": "stdout",
          "text": "['apple', 'banana']\n",
          "output_type": "stream"
        }
      ]
    },
    {
      "cell_type": "markdown",
      "source": "The del keyword also removes the specified index:\n\nRemove the first item:",
      "metadata": {}
    },
    {
      "cell_type": "code",
      "source": "thislist = [\"apple\", \"banana\", \"cherry\"]\ndel thislist[0]\nprint(thislist)",
      "metadata": {
        "trusted": true
      },
      "execution_count": 43,
      "outputs": [
        {
          "name": "stdout",
          "text": "['banana', 'cherry']\n",
          "output_type": "stream"
        }
      ]
    },
    {
      "cell_type": "markdown",
      "source": "The del keyword can also delete the list completely.\n\nDelete the entire list:",
      "metadata": {}
    },
    {
      "cell_type": "code",
      "source": "thislist = [\"apple\", \"banana\", \"cherry\"]\ndel thislist",
      "metadata": {
        "trusted": true
      },
      "execution_count": 44,
      "outputs": []
    },
    {
      "cell_type": "markdown",
      "source": "The clear() method empties the list.\n\nThe list still remains, but it has no content.\n\nClear the list content:",
      "metadata": {}
    },
    {
      "cell_type": "code",
      "source": "thislist = [\"apple\", \"banana\", \"cherry\"]\nthislist.clear()\nprint(thislist)",
      "metadata": {
        "trusted": true
      },
      "execution_count": 45,
      "outputs": [
        {
          "name": "stdout",
          "text": "[]\n",
          "output_type": "stream"
        }
      ]
    },
    {
      "cell_type": "markdown",
      "source": "You can loop through the list items by using a for loop:\n\nPrint all items in the list, one by one:",
      "metadata": {}
    },
    {
      "cell_type": "code",
      "source": "thislist = [\"apple\", \"banana\", \"cherry\"]\nfor x in thislist:\n  print(x)",
      "metadata": {
        "trusted": true
      },
      "execution_count": 46,
      "outputs": [
        {
          "name": "stdout",
          "text": "apple\nbanana\ncherry\n",
          "output_type": "stream"
        }
      ]
    },
    {
      "cell_type": "markdown",
      "source": "Loop Through the Index Numbers\n\nYou can also loop through the list items by referring to their index number.\n\nUse the range() and len() functions to create a suitable iterable.\n\nPrint all items by referring to their index number:",
      "metadata": {}
    },
    {
      "cell_type": "code",
      "source": "thislist = [\"apple\", \"banana\", \"cherry\"]\nfor i in range(len(thislist)):\n  print(thislist[i])",
      "metadata": {
        "trusted": true
      },
      "execution_count": 47,
      "outputs": [
        {
          "name": "stdout",
          "text": "apple\nbanana\ncherry\n",
          "output_type": "stream"
        }
      ]
    },
    {
      "cell_type": "markdown",
      "source": "You can loop through the list items by using a while loop.\n\nUse the len() function to determine the length of the list, then start at 0 and loop your way through the list items by referring to their indexes.\n\nRemember to increase the index by 1 after each iteration.\n\nPrint all items, using a while loop to go through all the index numbers",
      "metadata": {}
    },
    {
      "cell_type": "code",
      "source": "thislist = [\"apple\", \"banana\", \"cherry\"]\ni = 0\nwhile i < len(thislist):\n  print(thislist[i])\n  i = i + 1",
      "metadata": {
        "trusted": true
      },
      "execution_count": 48,
      "outputs": [
        {
          "name": "stdout",
          "text": "apple\nbanana\ncherry\n",
          "output_type": "stream"
        }
      ]
    },
    {
      "cell_type": "markdown",
      "source": "List Comprehension offers the shortest syntax for looping through lists:\n\nA short hand for loop that will print all items in a list:",
      "metadata": {}
    },
    {
      "cell_type": "code",
      "source": "thislist = [\"apple\", \"banana\", \"cherry\"]\n[print(x) for x in thislist]",
      "metadata": {
        "trusted": true
      },
      "execution_count": 49,
      "outputs": [
        {
          "name": "stdout",
          "text": "apple\nbanana\ncherry\n",
          "output_type": "stream"
        },
        {
          "execution_count": 49,
          "output_type": "execute_result",
          "data": {
            "text/plain": "[None, None, None]"
          },
          "metadata": {}
        }
      ]
    },
    {
      "cell_type": "markdown",
      "source": "List comprehension offers a shorter syntax when you want to create a new list based on the values of an existing list.\n\nExample:\n\nBased on a list of fruits, you want a new list, containing only the fruits with the letter \"a\" in the name.\n\nWithout list comprehension you will have to write a for statement with a conditional test inside:",
      "metadata": {}
    },
    {
      "cell_type": "code",
      "source": "fruits = [\"apple\", \"banana\", \"cherry\", \"kiwi\", \"mango\"]\nnewlist = []\n\nfor x in fruits:\n  if \"a\" in x:\n    newlist.append(x)\n\nprint(newlist)",
      "metadata": {
        "trusted": true
      },
      "execution_count": 53,
      "outputs": [
        {
          "name": "stdout",
          "text": "['apple', 'banana', 'mango']\n",
          "output_type": "stream"
        }
      ]
    },
    {
      "cell_type": "markdown",
      "source": "With list comprehension you can do all that with only one line of code:",
      "metadata": {}
    },
    {
      "cell_type": "code",
      "source": "fruits = [\"apple\", \"banana\", \"cherry\", \"kiwi\", \"mango\"]\n\nnewlist = [x for x in fruits if \"a\" in x]\n\nprint(newlist)",
      "metadata": {
        "trusted": true
      },
      "execution_count": 52,
      "outputs": [
        {
          "name": "stdout",
          "text": "['apple', 'banana', 'mango']\n",
          "output_type": "stream"
        }
      ]
    },
    {
      "cell_type": "code",
      "source": "newlist = [expression for item in iterable if condition == True]",
      "metadata": {
        "trusted": true
      },
      "execution_count": 54,
      "outputs": [
        {
          "ename": "<class 'NameError'>",
          "evalue": "name 'iterable' is not defined",
          "traceback": [
            "\u001b[0;31m---------------------------------------------------------------------------\u001b[0m",
            "\u001b[0;31mNameError\u001b[0m                                 Traceback (most recent call last)",
            "Cell \u001b[0;32mIn [54], line 1\u001b[0m\n\u001b[0;32m----> 1\u001b[0m newlist \u001b[38;5;241m=\u001b[39m [expression \u001b[38;5;28;01mfor\u001b[39;00m item \u001b[38;5;129;01min\u001b[39;00m \u001b[43miterable\u001b[49m \u001b[38;5;28;01mif\u001b[39;00m condition \u001b[38;5;241m==\u001b[39m \u001b[38;5;28;01mTrue\u001b[39;00m]\n",
            "\u001b[0;31mNameError\u001b[0m: name 'iterable' is not defined"
          ],
          "output_type": "error"
        }
      ]
    },
    {
      "cell_type": "markdown",
      "source": "The return value is a new list, leaving the old list unchanged.",
      "metadata": {}
    },
    {
      "cell_type": "markdown",
      "source": "The condition is like a filter that only accepts the items that valuate to True",
      "metadata": {}
    },
    {
      "cell_type": "markdown",
      "source": "Only accept items that are not \"apple\":",
      "metadata": {}
    },
    {
      "cell_type": "code",
      "source": "newlist = [x for x in fruits if x != \"apple\"]",
      "metadata": {
        "trusted": true
      },
      "execution_count": 58,
      "outputs": []
    },
    {
      "cell_type": "markdown",
      "source": "The condition if x != \"apple\"  will return True for all elements other than \"apple\", making the new list contain all fruits except \"apple\".\n\nThe condition is optional and can be omitted:",
      "metadata": {}
    },
    {
      "cell_type": "markdown",
      "source": "With no if statement:",
      "metadata": {}
    },
    {
      "cell_type": "code",
      "source": "newlist = [x for x in fruits]",
      "metadata": {
        "trusted": true
      },
      "execution_count": 56,
      "outputs": []
    },
    {
      "cell_type": "markdown",
      "source": "The iterable can be any iterable object, like a list, tuple, set etc.",
      "metadata": {}
    },
    {
      "cell_type": "markdown",
      "source": "You can use the range() function to create an iterable:",
      "metadata": {}
    },
    {
      "cell_type": "code",
      "source": "newlist = [x for x in range(10)]",
      "metadata": {
        "trusted": true
      },
      "execution_count": 57,
      "outputs": []
    },
    {
      "cell_type": "markdown",
      "source": "Same example, but with a condition:\n\nAccept only numbers lower than 5:",
      "metadata": {}
    },
    {
      "cell_type": "code",
      "source": "newlist = [x for x in range(10) if x < 5]",
      "metadata": {
        "trusted": true
      },
      "execution_count": 59,
      "outputs": []
    },
    {
      "cell_type": "markdown",
      "source": "The expression is the current item in the iteration, but it is also the outcome, which you can manipulate before it ends up like a list item in the new list:",
      "metadata": {}
    },
    {
      "cell_type": "markdown",
      "source": "Set the values in the new list to upper case:",
      "metadata": {}
    },
    {
      "cell_type": "code",
      "source": "newlist = [x.upper() for x in fruits]",
      "metadata": {
        "trusted": true
      },
      "execution_count": 60,
      "outputs": []
    },
    {
      "cell_type": "markdown",
      "source": "Set all values in the new list to 'hello':",
      "metadata": {}
    },
    {
      "cell_type": "code",
      "source": "newlist = ['hello' for x in fruits]",
      "metadata": {
        "trusted": true
      },
      "execution_count": 61,
      "outputs": []
    },
    {
      "cell_type": "markdown",
      "source": "The expression can also contain conditions, not like a filter, but as a way to manipulate the outcome:\n\nReturn \"orange\" instead of \"banana\":",
      "metadata": {}
    },
    {
      "cell_type": "code",
      "source": "newlist = [x if x != \"banana\" else \"orange\" for x in fruits]",
      "metadata": {
        "trusted": true
      },
      "execution_count": 62,
      "outputs": []
    },
    {
      "cell_type": "markdown",
      "source": "The expression in the example above says:\n\n\"Return the item if it is not banana, if it is banana return orange\".",
      "metadata": {}
    },
    {
      "cell_type": "markdown",
      "source": "List objects have a sort() method that will sort the list alphanumerically, ascending, by default:",
      "metadata": {}
    },
    {
      "cell_type": "markdown",
      "source": "Sort the list alphabetically:",
      "metadata": {}
    },
    {
      "cell_type": "markdown",
      "source": "thislist = [\"orange\", \"mango\", \"kiwi\", \"pineapple\", \"banana\"]\nthislist.sort()\nprint(thislist)",
      "metadata": {}
    },
    {
      "cell_type": "markdown",
      "source": "Sort the list numerically:",
      "metadata": {}
    },
    {
      "cell_type": "code",
      "source": "thislist = [100, 50, 65, 82, 23]\nthislist.sort()\nprint(thislist)",
      "metadata": {
        "trusted": true
      },
      "execution_count": 64,
      "outputs": [
        {
          "name": "stdout",
          "text": "[23, 50, 65, 82, 100]\n",
          "output_type": "stream"
        }
      ]
    },
    {
      "cell_type": "markdown",
      "source": "Sort the list descending:",
      "metadata": {}
    },
    {
      "cell_type": "code",
      "source": "thislist = [\"orange\", \"mango\", \"kiwi\", \"pineapple\", \"banana\"]\nthislist.sort(reverse = True)\nprint(thislist)",
      "metadata": {
        "trusted": true
      },
      "execution_count": 65,
      "outputs": [
        {
          "name": "stdout",
          "text": "['pineapple', 'orange', 'mango', 'kiwi', 'banana']\n",
          "output_type": "stream"
        }
      ]
    },
    {
      "cell_type": "markdown",
      "source": "Sort the list descending:",
      "metadata": {}
    },
    {
      "cell_type": "code",
      "source": "thislist = [100, 50, 65, 82, 23]\nthislist.sort(reverse = True)\nprint(thislist)",
      "metadata": {
        "trusted": true
      },
      "execution_count": 66,
      "outputs": [
        {
          "name": "stdout",
          "text": "[100, 82, 65, 50, 23]\n",
          "output_type": "stream"
        }
      ]
    },
    {
      "cell_type": "code",
      "source": "You can also customize your own function by using the keyword argument key = function.\n\nThe function will return a number that will be used to sort the list (the lowest number first):",
      "metadata": {},
      "execution_count": null,
      "outputs": []
    },
    {
      "cell_type": "markdown",
      "source": "Sort the list based on how close the number is to 50:",
      "metadata": {}
    },
    {
      "cell_type": "code",
      "source": "def myfunc(n):\n  return abs(n - 50)\n\nthislist = [100, 50, 65, 82, 23]\nthislist.sort(key = myfunc)\nprint(thislist)",
      "metadata": {
        "trusted": true
      },
      "execution_count": 67,
      "outputs": [
        {
          "name": "stdout",
          "text": "[50, 65, 23, 82, 100]\n",
          "output_type": "stream"
        }
      ]
    },
    {
      "cell_type": "markdown",
      "source": "By default the sort() method is case sensitive, resulting in all capital letters being sorted before lower case letters:",
      "metadata": {}
    },
    {
      "cell_type": "markdown",
      "source": "Case sensitive sorting can give an unexpected result:",
      "metadata": {}
    },
    {
      "cell_type": "code",
      "source": "thislist = [\"banana\", \"Orange\", \"Kiwi\", \"cherry\"]\nthislist.sort()\nprint(thislist)",
      "metadata": {
        "trusted": true
      },
      "execution_count": 68,
      "outputs": [
        {
          "name": "stdout",
          "text": "['Kiwi', 'Orange', 'banana', 'cherry']\n",
          "output_type": "stream"
        }
      ]
    },
    {
      "cell_type": "markdown",
      "source": "Luckily we can use built-in functions as key functions when sorting a list.\n\nSo if you want a case-insensitive sort function, use str.lower as a key function:",
      "metadata": {}
    },
    {
      "cell_type": "markdown",
      "source": "Perform a case-insensitive sort of the list:",
      "metadata": {}
    },
    {
      "cell_type": "code",
      "source": "thislist = [\"banana\", \"Orange\", \"Kiwi\", \"cherry\"]\nthislist.sort(key = str.lower)\nprint(thislist)",
      "metadata": {
        "trusted": true
      },
      "execution_count": 69,
      "outputs": [
        {
          "name": "stdout",
          "text": "['banana', 'cherry', 'Kiwi', 'Orange']\n",
          "output_type": "stream"
        }
      ]
    },
    {
      "cell_type": "markdown",
      "source": "Reverse Order\n\nWhat if you want to reverse the order of a list, regardless of the alphabet?\n\nThe reverse() method reverses the current sorting order of the elements.",
      "metadata": {}
    },
    {
      "cell_type": "markdown",
      "source": "Reverse the order of the list items:",
      "metadata": {}
    },
    {
      "cell_type": "code",
      "source": "thislist = [\"banana\", \"Orange\", \"Kiwi\", \"cherry\"]\nthislist.reverse()\nprint(thislist)",
      "metadata": {
        "trusted": true
      },
      "execution_count": 71,
      "outputs": [
        {
          "name": "stdout",
          "text": "['cherry', 'Kiwi', 'Orange', 'banana']\n",
          "output_type": "stream"
        }
      ]
    },
    {
      "cell_type": "markdown",
      "source": "You cannot copy a list simply by typing list2 = list1, because: list2 will only be a reference to list1, and changes made in list1 will automatically also be made in list2.\n\nThere are ways to make a copy, one way is to use the built-in List method copy().",
      "metadata": {}
    },
    {
      "cell_type": "markdown",
      "source": "Make a copy of a list with the copy() method:",
      "metadata": {}
    },
    {
      "cell_type": "code",
      "source": "thislist = [\"apple\", \"banana\", \"cherry\"]\nmylist = thislist.copy()\nprint(mylist)",
      "metadata": {
        "trusted": true
      },
      "execution_count": 73,
      "outputs": [
        {
          "name": "stdout",
          "text": "['apple', 'banana', 'cherry']\n",
          "output_type": "stream"
        }
      ]
    },
    {
      "cell_type": "markdown",
      "source": "Another way to make a copy is to use the built-in method list().",
      "metadata": {}
    },
    {
      "cell_type": "markdown",
      "source": "Make a copy of a list with the list() method:",
      "metadata": {}
    },
    {
      "cell_type": "code",
      "source": "thislist = [\"apple\", \"banana\", \"cherry\"]\nmylist = list(thislist)\nprint(mylist)",
      "metadata": {
        "trusted": true
      },
      "execution_count": 74,
      "outputs": [
        {
          "name": "stdout",
          "text": "['apple', 'banana', 'cherry']\n",
          "output_type": "stream"
        }
      ]
    },
    {
      "cell_type": "markdown",
      "source": "There are several ways to join, or concatenate, two or more lists in Python.\n\nOne of the easiest ways are by using the + operator.",
      "metadata": {}
    },
    {
      "cell_type": "code",
      "source": "list1 = [\"a\", \"b\", \"c\"]\nlist2 = [1, 2, 3]\n\nlist3 = list1 + list2\nprint(list3)",
      "metadata": {
        "trusted": true
      },
      "execution_count": 75,
      "outputs": [
        {
          "name": "stdout",
          "text": "['a', 'b', 'c', 1, 2, 3]\n",
          "output_type": "stream"
        }
      ]
    },
    {
      "cell_type": "code",
      "source": "list1 = [\"a\", \"b\" , \"c\"]\nlist2 = [1, 2, 3]\n\nfor x in list2:\n  list1.append(x)\n\nprint(list1)",
      "metadata": {
        "trusted": true
      },
      "execution_count": 76,
      "outputs": [
        {
          "name": "stdout",
          "text": "['a', 'b', 'c', 1, 2, 3]\n",
          "output_type": "stream"
        }
      ]
    },
    {
      "cell_type": "markdown",
      "source": "Or you can use the extend() method, which purpose is to add elements from one list to another list:",
      "metadata": {}
    },
    {
      "cell_type": "code",
      "source": "list1 = [\"a\", \"b\" , \"c\"]\nlist2 = [1, 2, 3]\n\nlist1.extend(list2)\nprint(list1)",
      "metadata": {
        "trusted": true
      },
      "execution_count": 77,
      "outputs": [
        {
          "name": "stdout",
          "text": "['a', 'b', 'c', 1, 2, 3]\n",
          "output_type": "stream"
        }
      ]
    },
    {
      "cell_type": "markdown",
      "source": "append()\tAdds an element at the end of the list\n\nclear()\tRemoves all the elements from the list\n\ncopy()\tReturns a copy of the list\n\ncount()\tReturns the number of elements with the specified value\n\nextend()\tAdd the elements of a list (or any iterable), to the end of the current list\n\nindex()\tReturns the index of the first element with the specified value\n\ninsert()\tAdds an element at the specified position\n\npop()\tRemoves the element at the specified position\n\nremove()\tRemoves the item with the specified value\n\nreverse()\tReverses the order of the list\n\nsort()\tSorts the list\n",
      "metadata": {}
    },
    {
      "cell_type": "markdown",
      "source": "# Set",
      "metadata": {}
    },
    {
      "cell_type": "markdown",
      "source": "Sets are used to store multiple items in a single variable.\n\nSet is one of 4 built-in data types in Python used to store collections of data, the other 3 are List, Tuple, and Dictionary, all with different qualities and usage.\n\nA set is a collection which is unordered, unchangeable*, and unindexed.",
      "metadata": {}
    },
    {
      "cell_type": "markdown",
      "source": "Sets are written with curly brackets.",
      "metadata": {}
    },
    {
      "cell_type": "code",
      "source": "thisset = {\"apple\", \"banana\", \"cherry\"}\nprint(thisset)",
      "metadata": {
        "trusted": true
      },
      "execution_count": 79,
      "outputs": [
        {
          "name": "stdout",
          "text": "{'banana', 'cherry', 'apple'}\n",
          "output_type": "stream"
        }
      ]
    },
    {
      "cell_type": "markdown",
      "source": "Set items are unordered, unchangeable, and do not allow duplicate values.",
      "metadata": {}
    },
    {
      "cell_type": "markdown",
      "source": "Unordered means that the items in a set do not have a defined order.\n\nSet items can appear in a different order every time you use them, and cannot be referred to by index or key.",
      "metadata": {}
    },
    {
      "cell_type": "markdown",
      "source": "Set items are unchangeable, meaning that we cannot change the items after the set has been created.",
      "metadata": {}
    },
    {
      "cell_type": "markdown",
      "source": "Duplicates Not Allowed.\nSets cannot have two items with the same value.",
      "metadata": {}
    },
    {
      "cell_type": "code",
      "source": "thisset = {\"apple\", \"banana\", \"cherry\", \"apple\"}\n\nprint(thisset)",
      "metadata": {
        "trusted": true
      },
      "execution_count": 80,
      "outputs": [
        {
          "name": "stdout",
          "text": "{'banana', 'cherry', 'apple'}\n",
          "output_type": "stream"
        }
      ]
    },
    {
      "cell_type": "markdown",
      "source": "To determine how many items a set has, use the len() function.",
      "metadata": {}
    },
    {
      "cell_type": "code",
      "source": "thisset = {\"apple\", \"banana\", \"cherry\"}\n\nprint(len(thisset))",
      "metadata": {
        "trusted": true
      },
      "execution_count": 81,
      "outputs": [
        {
          "name": "stdout",
          "text": "3\n",
          "output_type": "stream"
        }
      ]
    },
    {
      "cell_type": "markdown",
      "source": "String, int and boolean data types:",
      "metadata": {}
    },
    {
      "cell_type": "code",
      "source": "set1 = {\"apple\", \"banana\", \"cherry\"}\nset2 = {1, 5, 7, 9, 3}\nset3 = {True, False, False}",
      "metadata": {
        "trusted": true
      },
      "execution_count": 82,
      "outputs": []
    },
    {
      "cell_type": "markdown",
      "source": "A set with strings, integers and boolean values:",
      "metadata": {}
    },
    {
      "cell_type": "code",
      "source": "set1 = {\"abc\", 34, True, 40, \"male\"}",
      "metadata": {},
      "execution_count": null,
      "outputs": []
    },
    {
      "cell_type": "markdown",
      "source": "type()\nFrom Python's perspective, sets are defined as objects with the data type 'set':",
      "metadata": {}
    },
    {
      "cell_type": "code",
      "source": "myset = {\"apple\", \"banana\", \"cherry\"}\nprint(type(myset))",
      "metadata": {
        "trusted": true
      },
      "execution_count": 83,
      "outputs": [
        {
          "name": "stdout",
          "text": "<class 'set'>\n",
          "output_type": "stream"
        }
      ]
    },
    {
      "cell_type": "markdown",
      "source": "It is also possible to use the set() constructor to make a set.",
      "metadata": {}
    },
    {
      "cell_type": "code",
      "source": "thisset = set((\"apple\", \"banana\", \"cherry\")) # note the double round-brackets\nprint(thisset)",
      "metadata": {
        "trusted": true
      },
      "execution_count": 84,
      "outputs": [
        {
          "name": "stdout",
          "text": "{'banana', 'cherry', 'apple'}\n",
          "output_type": "stream"
        }
      ]
    },
    {
      "cell_type": "markdown",
      "source": "Access Items-\nYou cannot access items in a set by referring to an index or a key.\n\nBut you can loop through the set items using a for loop, or ask if a specified value is present in a set, by using the in keyword.",
      "metadata": {}
    },
    {
      "cell_type": "markdown",
      "source": "Loop through the set, and print the values:",
      "metadata": {}
    },
    {
      "cell_type": "code",
      "source": "thisset = {\"apple\", \"banana\", \"cherry\"}\n\nfor x in thisset:\n  print(x)",
      "metadata": {
        "trusted": true
      },
      "execution_count": 85,
      "outputs": [
        {
          "name": "stdout",
          "text": "banana\ncherry\napple\n",
          "output_type": "stream"
        }
      ]
    },
    {
      "cell_type": "markdown",
      "source": "Check if \"banana\" is present in the set:",
      "metadata": {}
    },
    {
      "cell_type": "code",
      "source": "thisset = {\"apple\", \"banana\", \"cherry\"}\n\nprint(\"banana\" in thisset)",
      "metadata": {
        "trusted": true
      },
      "execution_count": 86,
      "outputs": [
        {
          "name": "stdout",
          "text": "True\n",
          "output_type": "stream"
        }
      ]
    },
    {
      "cell_type": "markdown",
      "source": "Add Items-\nOnce a set is created, you cannot change its items, but you can add new items.",
      "metadata": {}
    },
    {
      "cell_type": "markdown",
      "source": "To add one item to a set use the add() method",
      "metadata": {
        "tags": []
      }
    },
    {
      "cell_type": "code",
      "source": "thisset = {\"apple\", \"banana\", \"cherry\"}\n\nthisset.add(\"orange\")\n\nprint(thisset)",
      "metadata": {
        "trusted": true
      },
      "execution_count": 88,
      "outputs": [
        {
          "name": "stdout",
          "text": "{'orange', 'banana', 'cherry', 'apple'}\n",
          "output_type": "stream"
        }
      ]
    },
    {
      "cell_type": "markdown",
      "source": "Add elements from tropical into thisset:",
      "metadata": {}
    },
    {
      "cell_type": "code",
      "source": "thisset = {\"apple\", \"banana\", \"cherry\"}\ntropical = {\"pineapple\", \"mango\", \"papaya\"}\n\nthisset.update(tropical)\n\nprint(thisset)",
      "metadata": {
        "trusted": true
      },
      "execution_count": 89,
      "outputs": [
        {
          "name": "stdout",
          "text": "{'pineapple', 'apple', 'mango', 'papaya', 'banana', 'cherry'}\n",
          "output_type": "stream"
        }
      ]
    },
    {
      "cell_type": "markdown",
      "source": "Add Any Iterable\nThe object in the update() method does not have to be a set, it can be any iterable object (tuples, lists, dictionaries etc.).",
      "metadata": {}
    },
    {
      "cell_type": "markdown",
      "source": "Add elements of a list to at set:",
      "metadata": {}
    },
    {
      "cell_type": "code",
      "source": "thisset = {\"apple\", \"banana\", \"cherry\"}\nmylist = [\"kiwi\", \"orange\"]\n\nthisset.update(mylist)\n\nprint(thisset)",
      "metadata": {
        "trusted": true
      },
      "execution_count": 90,
      "outputs": [
        {
          "name": "stdout",
          "text": "{'kiwi', 'apple', 'cherry', 'orange', 'banana'}\n",
          "output_type": "stream"
        }
      ]
    },
    {
      "cell_type": "markdown",
      "source": "Remove Item-\nTo remove an item in a set, use the remove(), or the discard() method.",
      "metadata": {}
    },
    {
      "cell_type": "code",
      "source": "thisset = {\"apple\", \"banana\", \"cherry\"}\n\nthisset.remove(\"banana\")\n\nprint(thisset)",
      "metadata": {
        "trusted": true
      },
      "execution_count": 91,
      "outputs": [
        {
          "name": "stdout",
          "text": "{'cherry', 'apple'}\n",
          "output_type": "stream"
        }
      ]
    },
    {
      "cell_type": "code",
      "source": "thisset = {\"apple\", \"banana\", \"cherry\"}\n\nthisset.discard(\"banana\")\n\nprint(thisset)",
      "metadata": {
        "trusted": true
      },
      "execution_count": 92,
      "outputs": [
        {
          "name": "stdout",
          "text": "{'cherry', 'apple'}\n",
          "output_type": "stream"
        }
      ]
    },
    {
      "cell_type": "markdown",
      "source": "Note: If the item to remove does not exist, discard() will NOT raise an error.\n\nYou can also use the pop() method to remove an item, but this method will remove the last item. Remember that sets are unordered, so you will not know what item that gets removed.\n\nThe return value of the pop() method is the removed item.",
      "metadata": {}
    },
    {
      "cell_type": "code",
      "source": "thisset = {\"apple\", \"banana\", \"cherry\"}\n\nx = thisset.pop()\n\nprint(x)\n\nprint(thisset)",
      "metadata": {
        "trusted": true
      },
      "execution_count": 93,
      "outputs": [
        {
          "name": "stdout",
          "text": "banana\n{'cherry', 'apple'}\n",
          "output_type": "stream"
        }
      ]
    },
    {
      "cell_type": "markdown",
      "source": "Sets are unordered, so when using the pop() method, you do not know which item that gets removed.",
      "metadata": {}
    },
    {
      "cell_type": "markdown",
      "source": "The clear() method empties the set:",
      "metadata": {}
    },
    {
      "cell_type": "code",
      "source": "thisset = {\"apple\", \"banana\", \"cherry\"}\n\nthisset.clear()\n\nprint(thisset)",
      "metadata": {
        "trusted": true
      },
      "execution_count": 94,
      "outputs": [
        {
          "name": "stdout",
          "text": "set()\n",
          "output_type": "stream"
        }
      ]
    },
    {
      "cell_type": "markdown",
      "source": "The del keyword will delete the set completely:",
      "metadata": {}
    },
    {
      "cell_type": "code",
      "source": "thisset = {\"apple\", \"banana\", \"cherry\"}\n\ndel thisset\n\nprint(thisset)",
      "metadata": {
        "trusted": true
      },
      "execution_count": 96,
      "outputs": [
        {
          "ename": "<class 'NameError'>",
          "evalue": "name 'thisset' is not defined",
          "traceback": [
            "\u001b[0;31m---------------------------------------------------------------------------\u001b[0m",
            "\u001b[0;31mNameError\u001b[0m                                 Traceback (most recent call last)",
            "Cell \u001b[0;32mIn [96], line 5\u001b[0m\n\u001b[1;32m      1\u001b[0m thisset \u001b[38;5;241m=\u001b[39m {\u001b[38;5;124m\"\u001b[39m\u001b[38;5;124mapple\u001b[39m\u001b[38;5;124m\"\u001b[39m, \u001b[38;5;124m\"\u001b[39m\u001b[38;5;124mbanana\u001b[39m\u001b[38;5;124m\"\u001b[39m, \u001b[38;5;124m\"\u001b[39m\u001b[38;5;124mcherry\u001b[39m\u001b[38;5;124m\"\u001b[39m}\n\u001b[1;32m      3\u001b[0m \u001b[38;5;28;01mdel\u001b[39;00m thisset\n\u001b[0;32m----> 5\u001b[0m \u001b[38;5;28mprint\u001b[39m(\u001b[43mthisset\u001b[49m)\n",
            "\u001b[0;31mNameError\u001b[0m: name 'thisset' is not defined"
          ],
          "output_type": "error"
        }
      ]
    },
    {
      "cell_type": "markdown",
      "source": "You can loop through the set items by using a for loop:",
      "metadata": {}
    },
    {
      "cell_type": "code",
      "source": "thisset = {\"apple\", \"banana\", \"cherry\"}\n\nfor x in thisset:\n  print(x)",
      "metadata": {
        "trusted": true
      },
      "execution_count": 100,
      "outputs": [
        {
          "name": "stdout",
          "text": "banana\ncherry\napple\n",
          "output_type": "stream"
        }
      ]
    },
    {
      "cell_type": "markdown",
      "source": "Join Two Sets-\nThere are several ways to join two or more sets in Python.\n\nYou can use the union() method that returns a new set containing all items from both sets, or the update() method that inserts all the items from one set into another:",
      "metadata": {}
    },
    {
      "cell_type": "markdown",
      "source": "The union() method returns a new set with all items from both sets:",
      "metadata": {}
    },
    {
      "cell_type": "code",
      "source": "set1 = {\"a\", \"b\" , \"c\"}\nset2 = {1, 2, 3}\n\nset3 = set1.union(set2)\nprint(set3)",
      "metadata": {
        "trusted": true
      },
      "execution_count": 98,
      "outputs": [
        {
          "name": "stdout",
          "text": "{1, 2, 3, 'a', 'b', 'c'}\n",
          "output_type": "stream"
        }
      ]
    },
    {
      "cell_type": "markdown",
      "source": "The update() method inserts the items in set2 into set1:",
      "metadata": {}
    },
    {
      "cell_type": "code",
      "source": "set1 = {\"a\", \"b\" , \"c\"}\nset2 = {1, 2, 3}\n\nset1.update(set2)\nprint(set1)",
      "metadata": {
        "trusted": true
      },
      "execution_count": 99,
      "outputs": [
        {
          "name": "stdout",
          "text": "{1, 2, 3, 'a', 'b', 'c'}\n",
          "output_type": "stream"
        }
      ]
    },
    {
      "cell_type": "markdown",
      "source": "Both union() and update() will exclude any duplicate items.",
      "metadata": {}
    },
    {
      "cell_type": "markdown",
      "source": "Keep ONLY the Duplicates - \nThe intersection_update() method will keep only the items that are present in both sets.",
      "metadata": {}
    },
    {
      "cell_type": "code",
      "source": "x = {\"apple\", \"banana\", \"cherry\"}\ny = {\"google\", \"microsoft\", \"apple\"}\n\nx.intersection_update(y)\n\nprint(x)",
      "metadata": {
        "trusted": true
      },
      "execution_count": 102,
      "outputs": [
        {
          "name": "stdout",
          "text": "{'apple'}\n",
          "output_type": "stream"
        }
      ]
    },
    {
      "cell_type": "markdown",
      "source": "The intersection() method will return a new set, that only contains the items that are present in both sets.",
      "metadata": {}
    },
    {
      "cell_type": "code",
      "source": "x = {\"apple\", \"banana\", \"cherry\"}\ny = {\"google\", \"microsoft\", \"apple\"}\n\nz = x.intersection(y)\n\nprint(z)",
      "metadata": {
        "trusted": true
      },
      "execution_count": 103,
      "outputs": [
        {
          "name": "stdout",
          "text": "{'apple'}\n",
          "output_type": "stream"
        }
      ]
    },
    {
      "cell_type": "markdown",
      "source": "Keep All, But NOT the Duplicates- The symmetric_difference_update() method will keep only the elements that are NOT present in both sets.",
      "metadata": {}
    },
    {
      "cell_type": "code",
      "source": "x = {\"apple\", \"banana\", \"cherry\"}\ny = {\"google\", \"microsoft\", \"apple\"}\n\nx.symmetric_difference_update(y)\n\nprint(x)",
      "metadata": {
        "trusted": true
      },
      "execution_count": 105,
      "outputs": [
        {
          "name": "stdout",
          "text": "{'microsoft', 'cherry', 'google', 'banana'}\n",
          "output_type": "stream"
        }
      ]
    },
    {
      "cell_type": "markdown",
      "source": "The symmetric_difference() method will return a new set, that contains only the elements that are NOT present in both sets.",
      "metadata": {}
    },
    {
      "cell_type": "code",
      "source": "x = {\"apple\", \"banana\", \"cherry\"}\ny = {\"google\", \"microsoft\", \"apple\"}\n\nz = x.symmetric_difference(y)\n\nprint(z)",
      "metadata": {
        "trusted": true
      },
      "execution_count": 106,
      "outputs": [
        {
          "name": "stdout",
          "text": "{'microsoft', 'cherry', 'google', 'banana'}\n",
          "output_type": "stream"
        }
      ]
    },
    {
      "cell_type": "markdown",
      "source": "Set Methods\nPython has a set of built-in methods that you can use on sets.\n\nMethod\tDescription\n\nadd()\tAdds an element to the set\n\nclear()\tRemoves all the elements from the set\n\ncopy()\tReturns a copy of the set\n\ndifference()\tReturns a set containing the difference between two or more sets\n\ndifference_update()\tRemoves the items in this set that are also included in another, specified set\n\ndiscard()\tRemove the specified item\n\nintersection()\tReturns a set, that is the intersection of two other sets\n\nintersection_update()\tRemoves the items in this set that are not present in other, specified set(s)\n\nisdisjoint()\tReturns whether two sets have a intersection or not\n\nissubset()\tReturns whether another set contains this set or not\n\nissuperset()\tReturns whether this set contains another set or not\n\npop()\tRemoves an element from the set\n\nremove()\tRemoves the specified element\n\nsymmetric_difference()\tReturns a set with the symmetric differences of two sets\n\nsymmetric_difference_update()\tinserts the symmetric differences from this set and another\n\nunion()\tReturn a set containing the union of sets\n\nupdate()\tUpdate the set with the union of this set and others\n",
      "metadata": {}
    },
    {
      "cell_type": "markdown",
      "source": "# Python Dictionaries",
      "metadata": {}
    },
    {
      "cell_type": "code",
      "source": "thisdict = {\n  \"brand\": \"Ford\",\n  \"model\": \"Mustang\",\n  \"year\": 1964\n}",
      "metadata": {
        "trusted": true
      },
      "execution_count": 107,
      "outputs": []
    },
    {
      "cell_type": "markdown",
      "source": "Dictionaries are used to store data values in key:value pairs.\n\nA dictionary is a collection which is ordered*, changeable and do not allow duplicates.",
      "metadata": {}
    },
    {
      "cell_type": "markdown",
      "source": "Dictionaries are written with curly brackets, and have keys and values:",
      "metadata": {}
    },
    {
      "cell_type": "code",
      "source": "thisdict = {\n  \"brand\": \"Ford\",\n  \"model\": \"Mustang\",\n  \"year\": 1964\n}\nprint(thisdict)",
      "metadata": {
        "trusted": true
      },
      "execution_count": 108,
      "outputs": [
        {
          "name": "stdout",
          "text": "{'brand': 'Ford', 'model': 'Mustang', 'year': 1964}\n",
          "output_type": "stream"
        }
      ]
    },
    {
      "cell_type": "markdown",
      "source": "Dictionary items are ordered, changeable, and does not allow duplicates.\n\nDictionary items are presented in key:value pairs, and can be referred to by using the key name.",
      "metadata": {}
    },
    {
      "cell_type": "markdown",
      "source": "Print the \"brand\" value of the dictionary:",
      "metadata": {}
    },
    {
      "cell_type": "code",
      "source": "thisdict = {\n  \"brand\": \"Ford\",\n  \"model\": \"Mustang\",\n  \"year\": 1964\n}\nprint(thisdict[\"brand\"])",
      "metadata": {
        "trusted": true
      },
      "execution_count": 109,
      "outputs": [
        {
          "name": "stdout",
          "text": "Ford\n",
          "output_type": "stream"
        }
      ]
    },
    {
      "cell_type": "markdown",
      "source": "When we say that dictionaries are ordered, it means that the items have a defined order, and that order will not change.\n\nUnordered means that the items does not have a defined order, you cannot refer to an item by using an index.",
      "metadata": {}
    },
    {
      "cell_type": "markdown",
      "source": "Dictionaries are changeable, meaning that we can change, add or remove items after the dictionary has been created.\n\n",
      "metadata": {}
    },
    {
      "cell_type": "markdown",
      "source": "Duplicates Not Allowed- Dictionaries cannot have two items with the same key, Duplicate values will overwrite existing values:",
      "metadata": {}
    },
    {
      "cell_type": "code",
      "source": "hisdict = {\n  \"brand\": \"Ford\",\n  \"model\": \"Mustang\",\n  \"year\": 1964,\n  \"year\": 2020\n}\nprint(thisdict)",
      "metadata": {
        "trusted": true
      },
      "execution_count": 111,
      "outputs": [
        {
          "name": "stdout",
          "text": "{'brand': 'Ford', 'model': 'Mustang', 'year': 1964}\n",
          "output_type": "stream"
        }
      ]
    },
    {
      "cell_type": "markdown",
      "source": "To determine how many items a dictionary has, use the len() function:",
      "metadata": {}
    },
    {
      "cell_type": "code",
      "source": "print(len(thisdict))",
      "metadata": {
        "trusted": true
      },
      "execution_count": 112,
      "outputs": [
        {
          "name": "stdout",
          "text": "3\n",
          "output_type": "stream"
        }
      ]
    },
    {
      "cell_type": "markdown",
      "source": "The values in dictionary items can be of any data type:",
      "metadata": {}
    },
    {
      "cell_type": "code",
      "source": "thisdict = {\n  \"brand\": \"Ford\",\n  \"electric\": False,\n  \"year\": 1964,\n  \"colors\": [\"red\", \"white\", \"blue\"]\n}",
      "metadata": {
        "trusted": true
      },
      "execution_count": 113,
      "outputs": []
    },
    {
      "cell_type": "markdown",
      "source": "type() - From Python's perspective, dictionaries are defined as objects with the data type 'dict':",
      "metadata": {}
    },
    {
      "cell_type": "markdown",
      "source": "thisdict = {\n  \"brand\": \"Ford\",\n  \"model\": \"Mustang\",\n  \"year\": 1964\n}\nprint(type(thisdict))",
      "metadata": {}
    },
    {
      "cell_type": "markdown",
      "source": "Accessing Items\nYou can access the items of a dictionary by referring to its key name, inside square brackets:",
      "metadata": {}
    },
    {
      "cell_type": "code",
      "source": "",
      "metadata": {},
      "execution_count": null,
      "outputs": []
    },
    {
      "cell_type": "code",
      "source": "thisdict = {\n  \"brand\": \"Ford\",\n  \"model\": \"Mustang\",\n  \"year\": 1964\n}\nx = thisdict[\"model\"]",
      "metadata": {},
      "execution_count": null,
      "outputs": []
    },
    {
      "cell_type": "code",
      "source": "x = thisdict.get(\"model\")",
      "metadata": {
        "trusted": true
      },
      "execution_count": 116,
      "outputs": []
    },
    {
      "cell_type": "markdown",
      "source": "There is also a method called get() that will give you the same result:",
      "metadata": {}
    },
    {
      "cell_type": "code",
      "source": "Get the value of the \"model\" key:",
      "metadata": {},
      "execution_count": null,
      "outputs": []
    },
    {
      "cell_type": "markdown",
      "source": "The keys() method will return a list of all the keys in the dictionary.",
      "metadata": {}
    },
    {
      "cell_type": "code",
      "source": "x = thisdict.keys()",
      "metadata": {
        "trusted": true
      },
      "execution_count": 117,
      "outputs": []
    },
    {
      "cell_type": "markdown",
      "source": "The list of the keys is a view of the dictionary, meaning that any changes done to the dictionary will be reflected in the keys list.",
      "metadata": {}
    },
    {
      "cell_type": "code",
      "source": "car = {\n\"brand\": \"Ford\",\n\"model\": \"Mustang\",\n\"year\": 1964\n}\n\nx = car.keys()\n\nprint(x) #before the change\n\ncar[\"color\"] = \"white\"\n\nprint(x) #after the change\n",
      "metadata": {
        "trusted": true
      },
      "execution_count": 118,
      "outputs": [
        {
          "name": "stdout",
          "text": "dict_keys(['brand', 'model', 'year'])\ndict_keys(['brand', 'model', 'year', 'color'])\n",
          "output_type": "stream"
        }
      ]
    },
    {
      "cell_type": "markdown",
      "source": "The values() method will return a list of all the values in the dictionary.",
      "metadata": {}
    },
    {
      "cell_type": "code",
      "source": "x = thisdict.values()",
      "metadata": {
        "trusted": true
      },
      "execution_count": 119,
      "outputs": []
    },
    {
      "cell_type": "markdown",
      "source": "The list of the values is a view of the dictionary, meaning that any changes done to the dictionary will be reflected in the values list.",
      "metadata": {}
    },
    {
      "cell_type": "markdown",
      "source": "Make a change in the original dictionary, and see that the values list gets updated as well:",
      "metadata": {}
    },
    {
      "cell_type": "markdown",
      "source": "car = {\n\"brand\": \"Ford\",\n\"model\": \"Mustang\",\n\"year\": 1964\n}\n\nx = car.values()\n\nprint(x) #before the change\n\ncar[\"year\"] = 2020\n\nprint(x) #after the change\n",
      "metadata": {}
    },
    {
      "cell_type": "markdown",
      "source": "Add a new item to the original dictionary, and see that the values list gets updated as well:",
      "metadata": {}
    },
    {
      "cell_type": "code",
      "source": "car = {\n\"brand\": \"Ford\",\n\"model\": \"Mustang\",\n\"year\": 1964\n}\n\nx = car.values()\n\nprint(x) #before the change\n\ncar[\"color\"] = \"red\"\n\nprint(x) #after the change",
      "metadata": {
        "trusted": true
      },
      "execution_count": 121,
      "outputs": [
        {
          "name": "stdout",
          "text": "dict_values(['Ford', 'Mustang', 1964])\ndict_values(['Ford', 'Mustang', 1964, 'red'])\n",
          "output_type": "stream"
        }
      ]
    },
    {
      "cell_type": "markdown",
      "source": "Get Items-\nThe items() method will return each item in a dictionary, as tuples in a list.",
      "metadata": {}
    },
    {
      "cell_type": "code",
      "source": "x = thisdict.items()",
      "metadata": {
        "trusted": true
      },
      "execution_count": 122,
      "outputs": []
    },
    {
      "cell_type": "markdown",
      "source": "The returned list is a view of the items of the dictionary, meaning that any changes done to the dictionary will be reflected in the items list.",
      "metadata": {}
    },
    {
      "cell_type": "markdown",
      "source": "Make a change in the original dictionary, and see that the items list gets updated as well:",
      "metadata": {}
    },
    {
      "cell_type": "code",
      "source": "car = {\n\"brand\": \"Ford\",\n\"model\": \"Mustang\",\n\"year\": 1964\n}\n\nx = car.items()\n\nprint(x) #before the change\n\ncar[\"year\"] = 2020\n\nprint(x) #after the change",
      "metadata": {
        "trusted": true
      },
      "execution_count": 123,
      "outputs": [
        {
          "name": "stdout",
          "text": "dict_items([('brand', 'Ford'), ('model', 'Mustang'), ('year', 1964)])\ndict_items([('brand', 'Ford'), ('model', 'Mustang'), ('year', 2020)])\n",
          "output_type": "stream"
        }
      ]
    },
    {
      "cell_type": "markdown",
      "source": "Add a new item to the original dictionary, and see that the items list gets updated as well:\n\n",
      "metadata": {}
    },
    {
      "cell_type": "code",
      "source": "car = {\n\"brand\": \"Ford\",\n\"model\": \"Mustang\",\n\"year\": 1964\n}\n\nx = car.items()\n\nprint(x) #before the change\n\ncar[\"color\"] = \"red\"\n\nprint(x) #after the change\n",
      "metadata": {
        "trusted": true
      },
      "execution_count": 124,
      "outputs": [
        {
          "name": "stdout",
          "text": "dict_items([('brand', 'Ford'), ('model', 'Mustang'), ('year', 1964)])\ndict_items([('brand', 'Ford'), ('model', 'Mustang'), ('year', 1964), ('color', 'red')])\n",
          "output_type": "stream"
        }
      ]
    },
    {
      "cell_type": "markdown",
      "source": "Check if Key Exists - To determine if a specified key is present in a dictionary use the in keyword:",
      "metadata": {}
    },
    {
      "cell_type": "code",
      "source": "thisdict = {\n  \"brand\": \"Ford\",\n  \"model\": \"Mustang\",\n  \"year\": 1964\n}\nif \"model\" in thisdict:\n  print(\"Yes, 'model' is one of the keys in the thisdict dictionary\")",
      "metadata": {
        "trusted": true
      },
      "execution_count": 125,
      "outputs": [
        {
          "name": "stdout",
          "text": "Yes, 'model' is one of the keys in the thisdict dictionary\n",
          "output_type": "stream"
        }
      ]
    },
    {
      "cell_type": "markdown",
      "source": "Change Values- You can change the value of a specific item by referring to its key name:\n\nChange the \"year\" to 2018:",
      "metadata": {}
    },
    {
      "cell_type": "code",
      "source": "thisdict = {\n  \"brand\": \"Ford\",\n  \"model\": \"Mustang\",\n  \"year\": 1964\n}\nthisdict[\"year\"] = 2018",
      "metadata": {
        "trusted": true
      },
      "execution_count": 126,
      "outputs": []
    },
    {
      "cell_type": "markdown",
      "source": "Update Dictionary - \nThe update() method will update the dictionary with the items from the given argument.\n\nThe argument must be a dictionary, or an iterable object with key:value pairs.",
      "metadata": {}
    },
    {
      "cell_type": "markdown",
      "source": "Update the \"year\" of the car by using the update() method:",
      "metadata": {}
    },
    {
      "cell_type": "code",
      "source": "thisdict = {\n  \"brand\": \"Ford\",\n  \"model\": \"Mustang\",\n  \"year\": 1964\n}\nthisdict.update({\"year\": 2020})",
      "metadata": {
        "trusted": true
      },
      "execution_count": 127,
      "outputs": []
    },
    {
      "cell_type": "markdown",
      "source": "Adding Items - Adding an item to the dictionary is done by using a new index key and assigning a value to it:",
      "metadata": {}
    },
    {
      "cell_type": "code",
      "source": "thisdict = {\n  \"brand\": \"Ford\",\n  \"model\": \"Mustang\",\n  \"year\": 1964\n}\nthisdict[\"color\"] = \"red\"\nprint(thisdict)",
      "metadata": {},
      "execution_count": null,
      "outputs": []
    },
    {
      "cell_type": "markdown",
      "source": "Update Dictionary - The update() method will update the dictionary with the items from a given argument. If the item does not exist, the item will be added.\n\nThe argument must be a dictionary, or an iterable object with key:value pairs.",
      "metadata": {}
    },
    {
      "cell_type": "markdown",
      "source": "Add a color item to the dictionary by using the update() method:",
      "metadata": {}
    },
    {
      "cell_type": "code",
      "source": "thisdict = {\n  \"brand\": \"Ford\",\n  \"model\": \"Mustang\",\n  \"year\": 1964\n}\nthisdict.update({\"color\": \"red\"})",
      "metadata": {
        "trusted": true
      },
      "execution_count": 128,
      "outputs": []
    },
    {
      "cell_type": "markdown",
      "source": "Removing Items- \nThere are several methods to remove items from a dictionary:",
      "metadata": {}
    },
    {
      "cell_type": "markdown",
      "source": "The pop() method removes the item with the specified key name:",
      "metadata": {}
    },
    {
      "cell_type": "code",
      "source": "thisdict = {\n  \"brand\": \"Ford\",\n  \"model\": \"Mustang\",\n  \"year\": 1964\n}\nthisdict.pop(\"model\")\nprint(thisdict)",
      "metadata": {
        "trusted": true
      },
      "execution_count": 129,
      "outputs": [
        {
          "name": "stdout",
          "text": "{'brand': 'Ford', 'year': 1964}\n",
          "output_type": "stream"
        }
      ]
    },
    {
      "cell_type": "markdown",
      "source": "The popitem() method removes the last inserted item (in versions before 3.7, a random item is removed instead):",
      "metadata": {}
    },
    {
      "cell_type": "code",
      "source": "thisdict = {\n  \"brand\": \"Ford\",\n  \"model\": \"Mustang\",\n  \"year\": 1964\n}\nthisdict.popitem()\nprint(thisdict)",
      "metadata": {
        "trusted": true
      },
      "execution_count": 130,
      "outputs": [
        {
          "name": "stdout",
          "text": "{'brand': 'Ford', 'model': 'Mustang'}\n",
          "output_type": "stream"
        }
      ]
    },
    {
      "cell_type": "markdown",
      "source": "he del keyword removes the item with the specified key name:",
      "metadata": {}
    },
    {
      "cell_type": "code",
      "source": "thisdict = {\n  \"brand\": \"Ford\",\n  \"model\": \"Mustang\",\n  \"year\": 1964\n}\ndel thisdict[\"model\"]\nprint(thisdict)",
      "metadata": {
        "trusted": true
      },
      "execution_count": 131,
      "outputs": [
        {
          "name": "stdout",
          "text": "{'brand': 'Ford', 'year': 1964}\n",
          "output_type": "stream"
        }
      ]
    },
    {
      "cell_type": "markdown",
      "source": "The del keyword removes the item with the specified key name:",
      "metadata": {}
    },
    {
      "cell_type": "code",
      "source": "thisdict = {\n  \"brand\": \"Ford\",\n  \"model\": \"Mustang\",\n  \"year\": 1964\n}\ndel thisdict[\"model\"]\nprint(thisdict)",
      "metadata": {
        "trusted": true
      },
      "execution_count": 132,
      "outputs": [
        {
          "name": "stdout",
          "text": "{'brand': 'Ford', 'year': 1964}\n",
          "output_type": "stream"
        }
      ]
    },
    {
      "cell_type": "code",
      "source": "thisdict = {\n  \"brand\": \"Ford\",\n  \"model\": \"Mustang\",\n  \"year\": 1964\n}\ndel thisdict\nprint(thisdict) #this will cause an error because \"thisdict\" no longer exists.",
      "metadata": {
        "trusted": true
      },
      "execution_count": 133,
      "outputs": [
        {
          "ename": "<class 'NameError'>",
          "evalue": "name 'thisdict' is not defined",
          "traceback": [
            "\u001b[0;31m---------------------------------------------------------------------------\u001b[0m",
            "\u001b[0;31mNameError\u001b[0m                                 Traceback (most recent call last)",
            "Cell \u001b[0;32mIn [133], line 7\u001b[0m\n\u001b[1;32m      1\u001b[0m thisdict \u001b[38;5;241m=\u001b[39m {\n\u001b[1;32m      2\u001b[0m   \u001b[38;5;124m\"\u001b[39m\u001b[38;5;124mbrand\u001b[39m\u001b[38;5;124m\"\u001b[39m: \u001b[38;5;124m\"\u001b[39m\u001b[38;5;124mFord\u001b[39m\u001b[38;5;124m\"\u001b[39m,\n\u001b[1;32m      3\u001b[0m   \u001b[38;5;124m\"\u001b[39m\u001b[38;5;124mmodel\u001b[39m\u001b[38;5;124m\"\u001b[39m: \u001b[38;5;124m\"\u001b[39m\u001b[38;5;124mMustang\u001b[39m\u001b[38;5;124m\"\u001b[39m,\n\u001b[1;32m      4\u001b[0m   \u001b[38;5;124m\"\u001b[39m\u001b[38;5;124myear\u001b[39m\u001b[38;5;124m\"\u001b[39m: \u001b[38;5;241m1964\u001b[39m\n\u001b[1;32m      5\u001b[0m }\n\u001b[1;32m      6\u001b[0m \u001b[38;5;28;01mdel\u001b[39;00m thisdict\n\u001b[0;32m----> 7\u001b[0m \u001b[38;5;28mprint\u001b[39m(\u001b[43mthisdict\u001b[49m) \u001b[38;5;66;03m#this will cause an error because \"thisdict\" no longer exists.\u001b[39;00m\n",
            "\u001b[0;31mNameError\u001b[0m: name 'thisdict' is not defined"
          ],
          "output_type": "error"
        }
      ]
    },
    {
      "cell_type": "markdown",
      "source": "The clear() method empties the dictionary:",
      "metadata": {}
    },
    {
      "cell_type": "markdown",
      "source": "Loop Through a Dictionary- \nYou can loop through a dictionary by using a for loop.\n\nWhen looping through a dictionary, the return value are the keys of the dictionary, but there are methods to return the values as well.",
      "metadata": {}
    },
    {
      "cell_type": "code",
      "source": "Print all key names in the dictionary, one by one:",
      "metadata": {},
      "execution_count": null,
      "outputs": []
    },
    {
      "cell_type": "code",
      "source": "thisdict =\t{\n  \"brand\": \"Ford\",\n  \"model\": \"Mustang\",\n  \"year\": 1964\n}\nfor x in thisdict:\n  print(x)\n",
      "metadata": {
        "trusted": true
      },
      "execution_count": 135,
      "outputs": [
        {
          "name": "stdout",
          "text": "brand\nmodel\nyear\n",
          "output_type": "stream"
        }
      ]
    },
    {
      "cell_type": "code",
      "source": "thisdict =\t{\n  \"brand\": \"Ford\",\n  \"model\": \"Mustang\",\n  \"year\": 1964\n}\nfor x in thisdict:\n  print(thisdict[x])",
      "metadata": {
        "trusted": true
      },
      "execution_count": 136,
      "outputs": [
        {
          "name": "stdout",
          "text": "Ford\nMustang\n1964\n",
          "output_type": "stream"
        }
      ]
    },
    {
      "cell_type": "markdown",
      "source": "Copy a Dictionary - \nYou cannot copy a dictionary simply by typing dict2 = dict1, because: dict2 will only be a reference to dict1, and changes made in dict1 will automatically also be made in dict2.\n\nThere are ways to make a copy, one way is to use the built-in Dictionary method copy().",
      "metadata": {}
    },
    {
      "cell_type": "code",
      "source": "thisdict = {\n  \"brand\": \"Ford\",\n  \"model\": \"Mustang\",\n  \"year\": 1964\n}\nmydict = thisdict.copy()\nprint(mydict)",
      "metadata": {
        "trusted": true
      },
      "execution_count": 137,
      "outputs": [
        {
          "name": "stdout",
          "text": "{'brand': 'Ford', 'model': 'Mustang', 'year': 1964}\n",
          "output_type": "stream"
        }
      ]
    },
    {
      "cell_type": "markdown",
      "source": "Another way to make a copy is to use the built-in function dict().",
      "metadata": {}
    },
    {
      "cell_type": "markdown",
      "source": "Make a copy of a dictionary with the dict() function:",
      "metadata": {}
    },
    {
      "cell_type": "code",
      "source": "thisdict = {\n  \"brand\": \"Ford\",\n  \"model\": \"Mustang\",\n  \"year\": 1964\n}\nmydict = dict(thisdict)\nprint(mydict)\n",
      "metadata": {
        "trusted": true
      },
      "execution_count": 138,
      "outputs": [
        {
          "name": "stdout",
          "text": "{'brand': 'Ford', 'model': 'Mustang', 'year': 1964}\n",
          "output_type": "stream"
        }
      ]
    },
    {
      "cell_type": "code",
      "source": "Nested Dictionaries-  A dictionary can contain dictionaries, this is called nested dictionaries.",
      "metadata": {},
      "execution_count": null,
      "outputs": []
    },
    {
      "cell_type": "markdown",
      "source": "Create a dictionary that contain three dictionaries:",
      "metadata": {}
    },
    {
      "cell_type": "code",
      "source": "myfamily = {\n  \"child1\" : {\n    \"name\" : \"Emil\",\n    \"year\" : 2004\n  },\n  \"child2\" : {\n    \"name\" : \"Tobias\",\n    \"year\" : 2007\n  },\n  \"child3\" : {\n    \"name\" : \"Linus\",\n    \"year\" : 2011\n  }\n}\n\nprint(myfamily)",
      "metadata": {
        "trusted": true
      },
      "execution_count": 141,
      "outputs": [
        {
          "name": "stdout",
          "text": "{'child1': {'name': 'Emil', 'year': 2004}, 'child2': {'name': 'Tobias', 'year': 2007}, 'child3': {'name': 'Linus', 'year': 2011}}\n",
          "output_type": "stream"
        }
      ]
    },
    {
      "cell_type": "code",
      "source": "Create three dictionaries, then create one dictionary that will contain the other three dictionaries:",
      "metadata": {},
      "execution_count": null,
      "outputs": []
    },
    {
      "cell_type": "code",
      "source": "child1 = {\n  \"name\" : \"Emil\",\n  \"year\" : 2004\n}\nchild2 = {\n  \"name\" : \"Tobias\",\n  \"year\" : 2007\n}\nchild3 = {\n  \"name\" : \"Linus\",\n  \"year\" : 2011\n}\n\nmyfamily = {\n  \"child1\" : child1,\n  \"child2\" : child2,\n  \"child3\" : child3\n}\n\nprint(myfamily)\n",
      "metadata": {
        "trusted": true
      },
      "execution_count": 140,
      "outputs": [
        {
          "name": "stdout",
          "text": "{'child1': {'name': 'Emil', 'year': 2004}, 'child2': {'name': 'Tobias', 'year': 2007}, 'child3': {'name': 'Linus', 'year': 2011}}\n",
          "output_type": "stream"
        }
      ]
    },
    {
      "cell_type": "markdown",
      "source": "Dictionary Methods\nPython has a set of built-in methods that you can use on dictionaries.\n\nMethod\tDescription\n\nclear()\tRemoves all the elements from the dictionary\n\ncopy()\tReturns a copy of the dictionary\n\nfromkeys()\tReturns a dictionary with the specified keys and value\n\nget()\tReturns the value of the specified key\n\nitems()\tReturns a list containing a tuple for each key value pair\n\nkeys()\tReturns a list containing the dictionary's keys\n\npop()\tRemoves the element with the specified key\n\npopitem()\tRemoves the last inserted key-value pair\n\nsetdefault()\tReturns the value of the specified key. If the key does not exist: insert the key, with the specified value\n\nupdate()\tUpdates the dictionary with the specified key-value pairs\n\nvalues()\tReturns a list of all the values in the dictionary\n",
      "metadata": {}
    },
    {
      "cell_type": "markdown",
      "source": "# Python If ... Else",
      "metadata": {}
    },
    {
      "cell_type": "markdown",
      "source": "Python Conditions and If statements\n\nPython supports the usual logical conditions from mathematics:\n\nEquals: a == b\n\nNot Equals: a != b\n\nLess than: a < b\n\nLess than or equal to: a <= b\n\nGreater than: a > b\n\nGreater than or equal to: a >= b\n\nThese conditions can be used in several ways, most commonly in \"if statements\" and loops.\n\nAn \"if statement\" is written by using the if keyword.",
      "metadata": {}
    },
    {
      "cell_type": "code",
      "source": "a = 33\nb = 200\nif b > a:\n  print(\"b is greater than a\")",
      "metadata": {
        "trusted": true
      },
      "execution_count": 142,
      "outputs": [
        {
          "name": "stdout",
          "text": "b is greater than a\n",
          "output_type": "stream"
        }
      ]
    },
    {
      "cell_type": "markdown",
      "source": "In this example we use two variables, a and b, which are used as part of the if statement to test whether b is greater than a. As a is 33, and b is 200, we know that 200 is greater than 33, and so we print to screen that \"b is greater than a\".",
      "metadata": {}
    },
    {
      "cell_type": "code",
      "source": "a = 33\nb = 200\nif b > a:\nprint(\"b is greater than a\") # you will get an error",
      "metadata": {
        "trusted": true
      },
      "execution_count": 143,
      "outputs": [
        {
          "ename": "<class 'IndentationError'>",
          "evalue": "expected an indented block after 'if' statement on line 3 (<ipython-input-143-4276c1871af7>, line 4)",
          "traceback": [
            "\u001b[0;36m  Cell \u001b[0;32mIn [143], line 4\u001b[0;36m\u001b[0m\n\u001b[0;31m    print(\"b is greater than a\") # you will get an error\u001b[0m\n\u001b[0m    ^\u001b[0m\n\u001b[0;31mIndentationError\u001b[0m\u001b[0;31m:\u001b[0m expected an indented block after 'if' statement on line 3\n"
          ],
          "output_type": "error"
        }
      ]
    },
    {
      "cell_type": "markdown",
      "source": "Python relies on indentation (whitespace at the beginning of a line) to define scope in the code. Other programming languages often use curly-brackets for this purpose.",
      "metadata": {}
    },
    {
      "cell_type": "markdown",
      "source": "The elif keyword is pythons way of saying \"if the previous conditions were not true, then try this condition\".",
      "metadata": {}
    },
    {
      "cell_type": "code",
      "source": "a = 33\nb = 33\nif b > a:\n  print(\"b is greater than a\")\nelif a == b:\n  print(\"a and b are equal\")",
      "metadata": {
        "trusted": true
      },
      "execution_count": 144,
      "outputs": [
        {
          "name": "stdout",
          "text": "a and b are equal\n",
          "output_type": "stream"
        }
      ]
    },
    {
      "cell_type": "markdown",
      "source": "In this example a is equal to b, so the first condition is not true, but the elif condition is true, so we print to screen that \"a and b are equal\".",
      "metadata": {}
    },
    {
      "cell_type": "markdown",
      "source": "The else keyword catches anything which isn't caught by the preceding conditions.",
      "metadata": {}
    },
    {
      "cell_type": "code",
      "source": "a = 200\nb = 33\nif b > a:\n  print(\"b is greater than a\")\nelif a == b:\n  print(\"a and b are equal\")\nelse:\n  print(\"a is greater than b\")",
      "metadata": {
        "trusted": true
      },
      "execution_count": 145,
      "outputs": [
        {
          "name": "stdout",
          "text": "a is greater than b\n",
          "output_type": "stream"
        }
      ]
    },
    {
      "cell_type": "markdown",
      "source": "In this example a is greater than b, so the first condition is not true, also the elif condition is not true, so we go to the else condition and print to screen that \"a is greater than b\".\n\nYou can also have an else without the elif:",
      "metadata": {}
    },
    {
      "cell_type": "code",
      "source": "a = 200\nb = 33\nif b > a:\n  print(\"b is greater than a\")\nelse:\n  print(\"b is not greater than a\")\n",
      "metadata": {
        "trusted": true
      },
      "execution_count": 146,
      "outputs": [
        {
          "name": "stdout",
          "text": "b is not greater than a\n",
          "output_type": "stream"
        }
      ]
    },
    {
      "cell_type": "markdown",
      "source": "Short Hand If - \nIf you have only one statement to execute, you can put it on the same line as the if statement.",
      "metadata": {}
    },
    {
      "cell_type": "code",
      "source": "if a > b: print(\"a is greater than b\")",
      "metadata": {
        "trusted": true
      },
      "execution_count": 147,
      "outputs": [
        {
          "name": "stdout",
          "text": "a is greater than b\n",
          "output_type": "stream"
        }
      ]
    },
    {
      "cell_type": "markdown",
      "source": "Short Hand If ... Else",
      "metadata": {}
    },
    {
      "cell_type": "code",
      "source": "a = 2\nb = 330\nprint(\"A\") if a > b else print(\"B\")",
      "metadata": {
        "trusted": true
      },
      "execution_count": 148,
      "outputs": [
        {
          "name": "stdout",
          "text": "B\n",
          "output_type": "stream"
        }
      ]
    },
    {
      "cell_type": "code",
      "source": "a = 330\nb = 330\nprint(\"A\") if a > b else print(\"=\") if a == b else print(\"B\")",
      "metadata": {
        "trusted": true
      },
      "execution_count": 149,
      "outputs": [
        {
          "name": "stdout",
          "text": "=\n",
          "output_type": "stream"
        }
      ]
    },
    {
      "cell_type": "markdown",
      "source": "And - \nThe and keyword is a logical operator, and is used to combine conditional statements:",
      "metadata": {}
    },
    {
      "cell_type": "markdown",
      "source": "Test if a is greater than b, AND if c is greater than a:",
      "metadata": {}
    },
    {
      "cell_type": "code",
      "source": "a = 200\nb = 33\nc = 500\nif a > b and c > a:\n  print(\"Both conditions are True\")",
      "metadata": {
        "trusted": true
      },
      "execution_count": 151,
      "outputs": [
        {
          "name": "stdout",
          "text": "Both conditions are True\n",
          "output_type": "stream"
        }
      ]
    },
    {
      "cell_type": "markdown",
      "source": "Or\nThe or keyword is a logical operator, and is used to combine conditional statements:",
      "metadata": {}
    },
    {
      "cell_type": "markdown",
      "source": "Test if a is greater than b, OR if a is greater than c:",
      "metadata": {}
    },
    {
      "cell_type": "code",
      "source": "a = 200\nb = 33\nc = 500\nif a > b or a > c:\n  print(\"At least one of the conditions is True\")",
      "metadata": {
        "trusted": true
      },
      "execution_count": 152,
      "outputs": [
        {
          "name": "stdout",
          "text": "At least one of the conditions is True\n",
          "output_type": "stream"
        }
      ]
    },
    {
      "cell_type": "markdown",
      "source": "Nested If- \nYou can have if statements inside if statements, this is called nested if statements.",
      "metadata": {}
    },
    {
      "cell_type": "code",
      "source": "x = 41\n\nif x > 10:\n  print(\"Above ten,\")\n  if x > 20:\n    print(\"and also above 20!\")\n  else:\n    print(\"but not above 20.\")",
      "metadata": {
        "trusted": true
      },
      "execution_count": 153,
      "outputs": [
        {
          "name": "stdout",
          "text": "Above ten,\nand also above 20!\n",
          "output_type": "stream"
        }
      ]
    },
    {
      "cell_type": "markdown",
      "source": "The pass Statement - \nif statements cannot be empty, but if you for some reason have an if statement with no content, put in the pass statement to avoid getting an error.",
      "metadata": {}
    },
    {
      "cell_type": "code",
      "source": "a = 33\nb = 200\n\nif b > a:\n  pass",
      "metadata": {
        "trusted": true
      },
      "execution_count": 154,
      "outputs": []
    },
    {
      "cell_type": "markdown",
      "source": "# Python  Loops",
      "metadata": {}
    },
    {
      "cell_type": "markdown",
      "source": "**The while Loop**\nWith the while loop we can execute a set of statements as long as a condition is true.",
      "metadata": {}
    },
    {
      "cell_type": "markdown",
      "source": "Print i as long as i is less than 6:",
      "metadata": {}
    },
    {
      "cell_type": "code",
      "source": "i = 1\nwhile i < 6:\n  print(i)\n  i += 1\n",
      "metadata": {
        "trusted": true
      },
      "execution_count": 155,
      "outputs": [
        {
          "name": "stdout",
          "text": "1\n2\n3\n4\n5\n",
          "output_type": "stream"
        }
      ]
    },
    {
      "cell_type": "markdown",
      "source": "The while loop requires relevant variables to be ready, in this example we need to define an indexing variable, i, which we set to 1.",
      "metadata": {}
    },
    {
      "cell_type": "markdown",
      "source": "The break Statement- \nWith the break statement we can stop the loop even if the while condition is true:",
      "metadata": {}
    },
    {
      "cell_type": "code",
      "source": "i = 1\nwhile i < 6:\n  print(i)\n  if i == 3:\n    break\n  i += 1\n",
      "metadata": {
        "trusted": true
      },
      "execution_count": 156,
      "outputs": [
        {
          "name": "stdout",
          "text": "1\n2\n3\n",
          "output_type": "stream"
        }
      ]
    },
    {
      "cell_type": "markdown",
      "source": "The continue Statement - \nWith the continue statement we can stop the current iteration, and continue with the next:",
      "metadata": {}
    },
    {
      "cell_type": "markdown",
      "source": "Continue to the next iteration if i is 3:",
      "metadata": {}
    },
    {
      "cell_type": "code",
      "source": "i = 0\nwhile i < 6:\n  i += 1\n  if i == 3:\n    continue\n  print(i)",
      "metadata": {
        "trusted": true
      },
      "execution_count": 158,
      "outputs": [
        {
          "name": "stdout",
          "text": "1\n2\n4\n5\n6\n",
          "output_type": "stream"
        }
      ]
    },
    {
      "cell_type": "markdown",
      "source": "The else Statement - \nWith the else statement we can run a block of code once when the condition no longer is true:",
      "metadata": {}
    },
    {
      "cell_type": "markdown",
      "source": "Print a message once the condition is false:",
      "metadata": {}
    },
    {
      "cell_type": "code",
      "source": "i = 1\nwhile i < 6:\n  print(i)\n  i += 1\nelse:\n  print(\"i is no longer less than 6\")",
      "metadata": {
        "trusted": true
      },
      "execution_count": 159,
      "outputs": [
        {
          "name": "stdout",
          "text": "1\n2\n3\n4\n5\ni is no longer less than 6\n",
          "output_type": "stream"
        }
      ]
    },
    {
      "cell_type": "markdown",
      "source": "**Python For Loops**\n\nA for loop is used for iterating over a sequence (that is either a list, a tuple, a dictionary, a set, or a string).\n\nThis is less like the for keyword in other programming languages, and works more like an iterator method as found in other object-orientated programming languages.\n\nWith the for loop we can execute a set of statements, once for each item in a list, tuple, set etc.",
      "metadata": {}
    },
    {
      "cell_type": "markdown",
      "source": "Print each fruit in a fruit list:",
      "metadata": {}
    },
    {
      "cell_type": "code",
      "source": "fruits = [\"apple\", \"banana\", \"cherry\"]\nfor x in fruits:\n  print(x)",
      "metadata": {
        "trusted": true
      },
      "execution_count": 160,
      "outputs": [
        {
          "name": "stdout",
          "text": "apple\nbanana\ncherry\n",
          "output_type": "stream"
        }
      ]
    },
    {
      "cell_type": "markdown",
      "source": "Looping Through a String",
      "metadata": {}
    },
    {
      "cell_type": "markdown",
      "source": "Even strings are iterable objects, they contain a sequence of characters:",
      "metadata": {}
    },
    {
      "cell_type": "markdown",
      "source": "Loop through the letters in the word \"banana\":",
      "metadata": {}
    },
    {
      "cell_type": "code",
      "source": "for x in \"banana\":\n  print(x)",
      "metadata": {
        "trusted": true
      },
      "execution_count": 163,
      "outputs": [
        {
          "name": "stdout",
          "text": "b\na\nn\na\nn\na\n",
          "output_type": "stream"
        }
      ]
    },
    {
      "cell_type": "markdown",
      "source": "The break Statement - \nWith the break statement we can stop the loop before it has looped through all the items:",
      "metadata": {}
    },
    {
      "cell_type": "markdown",
      "source": "Exit the loop when x is \"banana\":",
      "metadata": {}
    },
    {
      "cell_type": "code",
      "source": "fruits = [\"apple\", \"banana\", \"cherry\"]\nfor x in fruits:\n  print(x)\n  if x == \"banana\":\n    break",
      "metadata": {
        "trusted": true
      },
      "execution_count": 162,
      "outputs": [
        {
          "name": "stdout",
          "text": "apple\nbanana\n",
          "output_type": "stream"
        }
      ]
    },
    {
      "cell_type": "code",
      "source": "Exit the loop when x is \"banana\", but this time the break comes before the print:",
      "metadata": {},
      "execution_count": null,
      "outputs": []
    },
    {
      "cell_type": "code",
      "source": "fruits = [\"apple\", \"banana\", \"cherry\"]\nfor x in fruits:\n  if x == \"banana\":\n    break\n  print(x)",
      "metadata": {
        "trusted": true
      },
      "execution_count": 164,
      "outputs": [
        {
          "name": "stdout",
          "text": "apple\n",
          "output_type": "stream"
        }
      ]
    },
    {
      "cell_type": "markdown",
      "source": "The continue Statement -  With the continue statement we can stop the current iteration of the loop, and continue with the next:",
      "metadata": {}
    },
    {
      "cell_type": "markdown",
      "source": "Do not print banana:",
      "metadata": {}
    },
    {
      "cell_type": "code",
      "source": "fruits = [\"apple\", \"banana\", \"cherry\"]\nfor x in fruits:\n  if x == \"banana\":\n    continue\n  print(x)",
      "metadata": {
        "trusted": true
      },
      "execution_count": 165,
      "outputs": [
        {
          "name": "stdout",
          "text": "apple\ncherry\n",
          "output_type": "stream"
        }
      ]
    },
    {
      "cell_type": "markdown",
      "source": "The range() Function",
      "metadata": {}
    },
    {
      "cell_type": "markdown",
      "source": "To loop through a set of code a specified number of times, we can use the range() function,\nThe range() function returns a sequence of numbers, starting from 0 by default, and increments by 1 (by default), and ends at a specified number.",
      "metadata": {}
    },
    {
      "cell_type": "code",
      "source": "for x in range(6):\n  print(x)",
      "metadata": {
        "trusted": true
      },
      "execution_count": 166,
      "outputs": [
        {
          "name": "stdout",
          "text": "0\n1\n2\n3\n4\n5\n",
          "output_type": "stream"
        }
      ]
    },
    {
      "cell_type": "markdown",
      "source": "The range() function defaults to 0 as a starting value, however it is possible to specify the starting value by adding a parameter: range(2, 6), which means values from 2 to 6 (but not including 6):",
      "metadata": {}
    },
    {
      "cell_type": "code",
      "source": "for x in range(2, 6):\n  print(x)",
      "metadata": {
        "trusted": true
      },
      "execution_count": 167,
      "outputs": [
        {
          "name": "stdout",
          "text": "2\n3\n4\n5\n",
          "output_type": "stream"
        }
      ]
    },
    {
      "cell_type": "markdown",
      "source": "The range() function defaults to increment the sequence by 1, however it is possible to specify the increment value by adding a third parameter: range(2, 30, 3):",
      "metadata": {}
    },
    {
      "cell_type": "markdown",
      "source": "Increment the sequence with 3 (default is 1):",
      "metadata": {}
    },
    {
      "cell_type": "code",
      "source": "for x in range(2, 30, 3):\n  print(x)",
      "metadata": {
        "trusted": true
      },
      "execution_count": 169,
      "outputs": [
        {
          "name": "stdout",
          "text": "2\n5\n8\n11\n14\n17\n20\n23\n26\n29\n",
          "output_type": "stream"
        }
      ]
    },
    {
      "cell_type": "markdown",
      "source": "Else in For Loop",
      "metadata": {}
    },
    {
      "cell_type": "markdown",
      "source": "The else keyword in a for loop specifies a block of code to be executed when the loop is finished:",
      "metadata": {}
    },
    {
      "cell_type": "markdown",
      "source": "Print all numbers from 0 to 5, and print a message when the loop has ended:",
      "metadata": {}
    },
    {
      "cell_type": "code",
      "source": "for x in range(6):\n  print(x)\nelse:\n  print(\"Finally finished!\")",
      "metadata": {
        "trusted": true
      },
      "execution_count": 170,
      "outputs": [
        {
          "name": "stdout",
          "text": "0\n1\n2\n3\n4\n5\nFinally finished!\n",
          "output_type": "stream"
        }
      ]
    },
    {
      "cell_type": "code",
      "source": "for x in range(6):\n  if x == 3: break\n  print(x)\nelse:\n  print(\"Finally finished!\")",
      "metadata": {
        "trusted": true
      },
      "execution_count": 171,
      "outputs": [
        {
          "name": "stdout",
          "text": "0\n1\n2\n",
          "output_type": "stream"
        }
      ]
    },
    {
      "cell_type": "markdown",
      "source": "Nested Loops\n\nA nested loop is a loop inside a loop.\n\nThe \"inner loop\" will be executed one time for each iteration of the \"outer loop\":",
      "metadata": {}
    },
    {
      "cell_type": "code",
      "source": "adj = [\"red\", \"big\", \"tasty\"]\nfruits = [\"apple\", \"banana\", \"cherry\"]\n\nfor x in adj:\n  for y in fruits:\n    print(x, y)",
      "metadata": {
        "trusted": true
      },
      "execution_count": 172,
      "outputs": [
        {
          "name": "stdout",
          "text": "red apple\nred banana\nred cherry\nbig apple\nbig banana\nbig cherry\ntasty apple\ntasty banana\ntasty cherry\n",
          "output_type": "stream"
        }
      ]
    },
    {
      "cell_type": "markdown",
      "source": "The pass Statement",
      "metadata": {}
    },
    {
      "cell_type": "markdown",
      "source": "for loops cannot be empty, but if you for some reason have a for loop with no content, put in the pass statement to avoid getting an error.\n",
      "metadata": {}
    },
    {
      "cell_type": "code",
      "source": "for x in [0, 1, 2]:\n  pass",
      "metadata": {
        "trusted": true
      },
      "execution_count": 173,
      "outputs": []
    },
    {
      "cell_type": "markdown",
      "source": "# Python Functions",
      "metadata": {}
    },
    {
      "cell_type": "markdown",
      "source": "A function is a block of code which only runs when it is called.\n\nYou can pass data, known as parameters, into a function.\n\nA function can return data as a result.",
      "metadata": {}
    },
    {
      "cell_type": "markdown",
      "source": "Creating a Function\n\nIn Python a function is defined using the def keyword:",
      "metadata": {}
    },
    {
      "cell_type": "code",
      "source": "def my_function():\n  print(\"Hello from a function\")\n\nmy_function()",
      "metadata": {
        "trusted": true
      },
      "execution_count": 175,
      "outputs": [
        {
          "name": "stdout",
          "text": "Hello from a function\n",
          "output_type": "stream"
        }
      ]
    },
    {
      "cell_type": "markdown",
      "source": "Arguments\n\nInformation can be passed into functions as arguments.\n\nArguments are specified after the function name, inside the parentheses. You can add as many arguments as you want, just separate them with a comma.\n\nThe following example has a function with one argument (fname). When the function is called, we pass along a first name, which is used inside the function to print the full name:",
      "metadata": {}
    },
    {
      "cell_type": "code",
      "source": "def my_function(fname):\n  print(fname + \" Refsnes\")\n\nmy_function(\"Emil\")\nmy_function(\"Tobias\")\nmy_function(\"Linus\")",
      "metadata": {
        "trusted": true
      },
      "execution_count": 178,
      "outputs": [
        {
          "name": "stdout",
          "text": "Emil Refsnes\nTobias Refsnes\nLinus Refsnes\n",
          "output_type": "stream"
        }
      ]
    },
    {
      "cell_type": "markdown",
      "source": "Parameters or Arguments?\nThe terms parameter and argument can be used for the same thing: information that are passed into a function.\n\nFrom a function's perspective:\n\nA parameter is the variable listed inside the parentheses in the function definition.\n\nAn argument is the value that is sent to the function when it is called.",
      "metadata": {}
    },
    {
      "cell_type": "markdown",
      "source": "Number of Arguments\nBy default, a function must be called with the correct number of arguments. Meaning that if your function expects 2 arguments, you have to call the function with 2 arguments, not more, and not less.",
      "metadata": {}
    },
    {
      "cell_type": "code",
      "source": "This function expects 2 arguments, and gets 2 arguments:",
      "metadata": {},
      "execution_count": null,
      "outputs": []
    },
    {
      "cell_type": "code",
      "source": "def my_function(fname, lname):\n  print(fname + \" \" + lname)\n\nmy_function(\"Emil\", \"Refsnes\")",
      "metadata": {
        "trusted": true
      },
      "execution_count": 179,
      "outputs": [
        {
          "name": "stdout",
          "text": "Emil Refsnes\n",
          "output_type": "stream"
        }
      ]
    },
    {
      "cell_type": "markdown",
      "source": "If you try to call the function with 1 or 3 arguments, you will get an error:",
      "metadata": {}
    },
    {
      "cell_type": "markdown",
      "source": "This function expects 2 arguments, but gets only 1:",
      "metadata": {}
    },
    {
      "cell_type": "code",
      "source": "def my_function(fname, lname):\n  print(fname + \" \" + lname)\n\nmy_function(\"Emil\")",
      "metadata": {
        "trusted": true
      },
      "execution_count": 180,
      "outputs": [
        {
          "ename": "<class 'TypeError'>",
          "evalue": "my_function() missing 1 required positional argument: 'lname'",
          "traceback": [
            "\u001b[0;31m---------------------------------------------------------------------------\u001b[0m",
            "\u001b[0;31mTypeError\u001b[0m                                 Traceback (most recent call last)",
            "Cell \u001b[0;32mIn [180], line 4\u001b[0m\n\u001b[1;32m      1\u001b[0m \u001b[38;5;28;01mdef\u001b[39;00m \u001b[38;5;21mmy_function\u001b[39m(fname, lname):\n\u001b[1;32m      2\u001b[0m   \u001b[38;5;28mprint\u001b[39m(fname \u001b[38;5;241m+\u001b[39m \u001b[38;5;124m\"\u001b[39m\u001b[38;5;124m \u001b[39m\u001b[38;5;124m\"\u001b[39m \u001b[38;5;241m+\u001b[39m lname)\n\u001b[0;32m----> 4\u001b[0m \u001b[43mmy_function\u001b[49m\u001b[43m(\u001b[49m\u001b[38;5;124;43m\"\u001b[39;49m\u001b[38;5;124;43mEmil\u001b[39;49m\u001b[38;5;124;43m\"\u001b[39;49m\u001b[43m)\u001b[49m\n",
            "\u001b[0;31mTypeError\u001b[0m: my_function() missing 1 required positional argument: 'lname'"
          ],
          "output_type": "error"
        }
      ]
    },
    {
      "cell_type": "markdown",
      "source": "Arbitrary Arguments, *args\n\nIf you do not know how many arguments that will be passed into your function, add a * before the parameter name in the function definition.\n\nThis way the function will receive a tuple of arguments, and can access the items accordingly:",
      "metadata": {}
    },
    {
      "cell_type": "markdown",
      "source": "If the number of arguments is unknown, add a * before the parameter name:",
      "metadata": {}
    },
    {
      "cell_type": "code",
      "source": "def my_function(*kids):\n  print(\"The youngest child is \" + kids[2])\n\nmy_function(\"Emil\", \"Tobias\", \"Linus\")",
      "metadata": {
        "trusted": true
      },
      "execution_count": 181,
      "outputs": [
        {
          "name": "stdout",
          "text": "The youngest child is Linus\n",
          "output_type": "stream"
        }
      ]
    },
    {
      "cell_type": "markdown",
      "source": "Keyword Arguments\n\nYou can also send arguments with the key = value syntax.\n\nThis way the order of the arguments does not matter.",
      "metadata": {}
    },
    {
      "cell_type": "code",
      "source": "def my_function(child3, child2, child1):\n  print(\"The youngest child is \" + child3)\n\nmy_function(child1 = \"Emil\", child2 = \"Tobias\", child3 = \"Linus\")\n",
      "metadata": {
        "trusted": true
      },
      "execution_count": 182,
      "outputs": [
        {
          "name": "stdout",
          "text": "The youngest child is Linus\n",
          "output_type": "stream"
        }
      ]
    },
    {
      "cell_type": "markdown",
      "source": "Arbitrary Keyword Arguments, **kwargs\n\nIf you do not know how many keyword arguments that will be passed into your function, add two asterisk: ** before the parameter name in the function definition.\n\nThis way the function will receive a dictionary of arguments, and can access the items accordingly:",
      "metadata": {}
    },
    {
      "cell_type": "markdown",
      "source": "If the number of keyword arguments is unknown, add a double ** before the parameter name:",
      "metadata": {}
    },
    {
      "cell_type": "code",
      "source": "def my_function(**kid):\n  print(\"His last name is \" + kid[\"lname\"])\n\nmy_function(fname = \"Tobias\", lname = \"Refsnes\")",
      "metadata": {
        "trusted": true
      },
      "execution_count": 183,
      "outputs": [
        {
          "name": "stdout",
          "text": "His last name is Refsnes\n",
          "output_type": "stream"
        }
      ]
    },
    {
      "cell_type": "markdown",
      "source": "Default Parameter Value\n\nThe following example shows how to use a default parameter value.\n\nIf we call the function without argument, it uses the default value:",
      "metadata": {}
    },
    {
      "cell_type": "code",
      "source": "def my_function(country = \"Norway\"):\n  print(\"I am from \" + country)\n\nmy_function(\"Sweden\")\nmy_function(\"India\")\nmy_function()\nmy_function(\"Brazil\")",
      "metadata": {
        "trusted": true
      },
      "execution_count": 184,
      "outputs": [
        {
          "name": "stdout",
          "text": "I am from Sweden\nI am from India\nI am from Norway\nI am from Brazil\n",
          "output_type": "stream"
        }
      ]
    },
    {
      "cell_type": "markdown",
      "source": "Passing a List as an Argument\n\nYou can send any data types of argument to a function (string, number, list, dictionary etc.), and it will be treated as the same data type inside the function.\n\nE.g. if you send a List as an argument, it will still be a List when it reaches the function:",
      "metadata": {}
    },
    {
      "cell_type": "code",
      "source": "def my_function(food):\n  for x in food:\n    print(x)\n\nfruits = [\"apple\", \"banana\", \"cherry\"]\n\nmy_function(fruits)",
      "metadata": {
        "trusted": true
      },
      "execution_count": 185,
      "outputs": [
        {
          "name": "stdout",
          "text": "apple\nbanana\ncherry\n",
          "output_type": "stream"
        }
      ]
    },
    {
      "cell_type": "markdown",
      "source": "Return Values\n\nTo let a function return a value, use the return statement:",
      "metadata": {}
    },
    {
      "cell_type": "code",
      "source": "def my_function(x):\n  return 5 * x\n\nprint(my_function(3))\nprint(my_function(5))\nprint(my_function(9))",
      "metadata": {
        "trusted": true
      },
      "execution_count": 186,
      "outputs": [
        {
          "name": "stdout",
          "text": "15\n25\n45\n",
          "output_type": "stream"
        }
      ]
    },
    {
      "cell_type": "markdown",
      "source": "The pass Statement\n\nfunction definitions cannot be empty, but if you for some reason have a function definition with no content, put in the pass statement to avoid getting an error.",
      "metadata": {}
    },
    {
      "cell_type": "code",
      "source": "def myfunction():\n  pass",
      "metadata": {
        "trusted": true
      },
      "execution_count": 188,
      "outputs": []
    },
    {
      "cell_type": "markdown",
      "source": "Recursion-\n\nPython also accepts function recursion, which means a defined function can call itself.\n\nRecursion is a common mathematical and programming concept. It means that a function calls itself. This has the benefit of meaning that you can loop through data to reach a result.\n\nThe developer should be very careful with recursion as it can be quite easy to slip into writing a function which never terminates, or one that uses excess amounts of memory or processor power. However, when written correctly recursion can be a very efficient and mathematically-elegant approach to programming.\n\nIn this example, tri_recursion() is a function that we have defined to call itself (\"recurse\"). We use the k variable as the data, which decrements (-1) every time we recurse. The recursion ends when the condition is not greater than 0 (i.e. when it is 0).\n\nTo a new developer it can take some time to work out how exactly this works, best way to find out is by testing and modifying it.",
      "metadata": {}
    },
    {
      "cell_type": "code",
      "source": "def tri_recursion(k):\n  if(k > 0):\n    result = k + tri_recursion(k - 1)\n    print(result)\n  else:\n    result = 0\n  return result\n\nprint(\"\\n\\nRecursion Example Results\")\ntri_recursion(6)",
      "metadata": {
        "trusted": true
      },
      "execution_count": 189,
      "outputs": [
        {
          "name": "stdout",
          "text": "\n\nRecursion Example Results\n1\n3\n6\n10\n15\n21\n",
          "output_type": "stream"
        },
        {
          "execution_count": 189,
          "output_type": "execute_result",
          "data": {
            "text/plain": "21"
          },
          "metadata": {}
        }
      ]
    },
    {
      "cell_type": "markdown",
      "source": "# Python Lambda",
      "metadata": {}
    },
    {
      "cell_type": "markdown",
      "source": "A lambda function is a small anonymous function.\n\nA lambda function can take any number of arguments, but can only have one expression.",
      "metadata": {}
    },
    {
      "cell_type": "markdown",
      "source": "The expression is executed and the result is returned:\n\nAdd 10 to argument a, and return the result:",
      "metadata": {}
    },
    {
      "cell_type": "code",
      "source": "x = lambda a : a + 10\nprint(x(5))",
      "metadata": {
        "trusted": true
      },
      "execution_count": 190,
      "outputs": [
        {
          "name": "stdout",
          "text": "15\n",
          "output_type": "stream"
        }
      ]
    },
    {
      "cell_type": "markdown",
      "source": "Lambda functions can take any number of arguments:\n\nMultiply argument a with argument b and return the result:",
      "metadata": {}
    },
    {
      "cell_type": "code",
      "source": "x = lambda a, b : a * b\nprint(x(5, 6))",
      "metadata": {
        "trusted": true
      },
      "execution_count": 191,
      "outputs": [
        {
          "name": "stdout",
          "text": "30\n",
          "output_type": "stream"
        }
      ]
    },
    {
      "cell_type": "markdown",
      "source": "Summarize argument a, b, and c and return the result:",
      "metadata": {}
    },
    {
      "cell_type": "code",
      "source": "x = lambda a, b, c : a + b + c\nprint(x(5, 6, 2))",
      "metadata": {
        "trusted": true
      },
      "execution_count": 192,
      "outputs": [
        {
          "name": "stdout",
          "text": "13\n",
          "output_type": "stream"
        }
      ]
    },
    {
      "cell_type": "markdown",
      "source": "Why Use Lambda Functions?\n\n\nThe power of lambda is better shown when you use them as an anonymous function inside another function.\n\nSay you have a function definition that takes one argument, and that argument will be multiplied with an unknown number:",
      "metadata": {}
    },
    {
      "cell_type": "code",
      "source": "def myfunc(n):\n  return lambda a : a * n",
      "metadata": {
        "trusted": true
      },
      "execution_count": 193,
      "outputs": []
    },
    {
      "cell_type": "markdown",
      "source": "Use that function definition to make a function that always doubles the number you send in:",
      "metadata": {}
    },
    {
      "cell_type": "code",
      "source": "def myfunc(n):\n  return lambda a : a * n\n\nmydoubler = myfunc(2)\n\nprint(mydoubler(11))",
      "metadata": {
        "trusted": true
      },
      "execution_count": 194,
      "outputs": [
        {
          "name": "stdout",
          "text": "22\n",
          "output_type": "stream"
        }
      ]
    },
    {
      "cell_type": "markdown",
      "source": "Or, use the same function definition to make a function that always triples the number you send in:",
      "metadata": {}
    },
    {
      "cell_type": "code",
      "source": "def myfunc(n):\n  return lambda a : a * n\n\nmytripler = myfunc(3)\n\nprint(mytripler(11))",
      "metadata": {
        "trusted": true
      },
      "execution_count": 195,
      "outputs": [
        {
          "name": "stdout",
          "text": "33\n",
          "output_type": "stream"
        }
      ]
    },
    {
      "cell_type": "markdown",
      "source": "Or, use the same function definition to make both functions, in the same program:",
      "metadata": {}
    },
    {
      "cell_type": "code",
      "source": "def myfunc(n):\n  return lambda a : a * n\n\nmydoubler = myfunc(2)\nmytripler = myfunc(3)\n\nprint(mydoubler(11))\nprint(mytripler(11))\n",
      "metadata": {
        "trusted": true
      },
      "execution_count": 197,
      "outputs": [
        {
          "name": "stdout",
          "text": "22\n33\n",
          "output_type": "stream"
        }
      ]
    },
    {
      "cell_type": "markdown",
      "source": "# Python Arrays",
      "metadata": {}
    },
    {
      "cell_type": "markdown",
      "source": "Create an array containing car names:",
      "metadata": {}
    },
    {
      "cell_type": "code",
      "source": "cars = [\"Ford\", \"Volvo\", \"BMW\"]",
      "metadata": {
        "trusted": true
      },
      "execution_count": 199,
      "outputs": []
    },
    {
      "cell_type": "markdown",
      "source": "What is an Array?\n\nAn array is a special variable, which can hold more than one value at a time.\n\nIf you have a list of items (a list of car names, for example), storing the cars in single variables could look like this:\n\ncar1 = \"Ford\"\ncar2 = \"Volvo\"\ncar3 = \"BMW\"\nHowever, what if you want to loop through the cars and find a specific one? And what if you had not 3 cars, but 300?\n\nThe solution is an array!\n\nAn array can hold many values under a single name, and you can access the values by referring to an index number.\n\nAccess the Elements of an Array\nYou refer to an array element by referring to the index number.",
      "metadata": {}
    },
    {
      "cell_type": "code",
      "source": "Get the value of the first array item:",
      "metadata": {},
      "execution_count": null,
      "outputs": []
    },
    {
      "cell_type": "code",
      "source": "cars = [\"Ford\", \"Volvo\", \"BMW\"]\n\nx = cars[0]\n\nprint(x)\n",
      "metadata": {
        "trusted": true
      },
      "execution_count": 202,
      "outputs": [
        {
          "name": "stdout",
          "text": "Ford\n",
          "output_type": "stream"
        }
      ]
    },
    {
      "cell_type": "code",
      "source": "Modify the value of the first array item:",
      "metadata": {},
      "execution_count": null,
      "outputs": []
    },
    {
      "cell_type": "code",
      "source": "cars = [\"Ford\", \"Volvo\", \"BMW\"]\n\ncars[0] = \"Toyota\"\n\nprint(cars)",
      "metadata": {
        "trusted": true
      },
      "execution_count": 203,
      "outputs": [
        {
          "name": "stdout",
          "text": "['Toyota', 'Volvo', 'BMW']\n",
          "output_type": "stream"
        }
      ]
    },
    {
      "cell_type": "markdown",
      "source": "The Length of an Array\n\nUse the len() method to return the length of an array (the number of elements in an array).",
      "metadata": {}
    },
    {
      "cell_type": "code",
      "source": "cars = [\"Ford\", \"Volvo\", \"BMW\"]\n\nx = len(cars)\n\nprint(x)\n",
      "metadata": {
        "trusted": true
      },
      "execution_count": 205,
      "outputs": [
        {
          "name": "stdout",
          "text": "3\n",
          "output_type": "stream"
        }
      ]
    },
    {
      "cell_type": "markdown",
      "source": "Looping Array Elements\n\nYou can use the for in loop to loop through all the elements of an array.",
      "metadata": {}
    },
    {
      "cell_type": "code",
      "source": "for x in cars:\n  print(x)",
      "metadata": {
        "trusted": true
      },
      "execution_count": 206,
      "outputs": [
        {
          "name": "stdout",
          "text": "Ford\nVolvo\nBMW\n",
          "output_type": "stream"
        }
      ]
    },
    {
      "cell_type": "markdown",
      "source": "Adding Array Elements\n\nYou can use the append() method to add an element to an array.",
      "metadata": {}
    },
    {
      "cell_type": "code",
      "source": "cars = [\"Ford\", \"Volvo\", \"BMW\"]\n\ncars.append(\"Honda\")\n\nprint(cars)\n",
      "metadata": {
        "trusted": true
      },
      "execution_count": 208,
      "outputs": [
        {
          "name": "stdout",
          "text": "['Ford', 'Volvo', 'BMW', 'Honda']\n",
          "output_type": "stream"
        }
      ]
    },
    {
      "cell_type": "markdown",
      "source": "Removing Array Elements\n\nYou can use the pop() method to remove an element from the array.",
      "metadata": {}
    },
    {
      "cell_type": "code",
      "source": "Delete the second element of the cars array:",
      "metadata": {},
      "execution_count": null,
      "outputs": []
    },
    {
      "cell_type": "code",
      "source": "cars = [\"Ford\", \"Volvo\", \"BMW\"]\n\ncars.pop(1)\n\nprint(cars)",
      "metadata": {
        "trusted": true
      },
      "execution_count": 209,
      "outputs": [
        {
          "name": "stdout",
          "text": "['Ford', 'BMW']\n",
          "output_type": "stream"
        }
      ]
    },
    {
      "cell_type": "markdown",
      "source": "You can also use the remove() method to remove an element from the array.",
      "metadata": {}
    },
    {
      "cell_type": "markdown",
      "source": "Delete the element that has the value \"Volvo\":",
      "metadata": {}
    },
    {
      "cell_type": "code",
      "source": "cars = [\"Ford\", \"Volvo\", \"BMW\"]\n\ncars.remove(\"Volvo\")\n\nprint(cars)",
      "metadata": {
        "trusted": true
      },
      "execution_count": 214,
      "outputs": [
        {
          "name": "stdout",
          "text": "['Ford', 'BMW']\n",
          "output_type": "stream"
        }
      ]
    },
    {
      "cell_type": "markdown",
      "source": "Array Methods\n\nPython has a set of built-in methods that you can use on lists/arrays.\n\nMethod\tDescription\n\nappend()\tAdds an element at the end of the list\n\nclear()\tRemoves all the elements from the list\n\ncopy()\tReturns a copy of the list\n\ncount()\tReturns the number of elements with the specified value\n\nextend()\tAdd the elements of a list (or any iterable), to the end of the current list\n\nindex()\tReturns the index of the first element with the specified value\n\ninsert()\tAdds an element at the specified position\n\npop()\tRemoves the element at the specified position\n\nremove()\tRemoves the first item with the specified value\n\nreverse()\tReverses the order of the list\n\nsort()\tSorts the list",
      "metadata": {}
    },
    {
      "cell_type": "markdown",
      "source": "# Python Classes and Objects\n",
      "metadata": {}
    },
    {
      "cell_type": "markdown",
      "source": "Python Classes/Objects\nPython is an object oriented programming language.\n\nAlmost everything in Python is an object, with its properties and methods.\n\nA Class is like an object constructor, or a \"blueprint\" for creating objects.\n\n",
      "metadata": {}
    },
    {
      "cell_type": "markdown",
      "source": "Create a Class- \nTo create a class, use the keyword class:",
      "metadata": {}
    },
    {
      "cell_type": "code",
      "source": "class MyClass:\n  x = 5\n\nprint(MyClass)\n",
      "metadata": {
        "trusted": true
      },
      "execution_count": 215,
      "outputs": [
        {
          "name": "stdout",
          "text": "<class '__main__.MyClass'>\n",
          "output_type": "stream"
        }
      ]
    },
    {
      "cell_type": "markdown",
      "source": "Create Object\n\nNow we can use the class named MyClass to create objects:",
      "metadata": {}
    },
    {
      "cell_type": "code",
      "source": "p1 = MyClass()\nprint(p1.x)",
      "metadata": {
        "trusted": true
      },
      "execution_count": 216,
      "outputs": [
        {
          "name": "stdout",
          "text": "5\n",
          "output_type": "stream"
        }
      ]
    },
    {
      "cell_type": "markdown",
      "source": "The __init__() Function\nThe examples above are classes and objects in their simplest form, and are not really useful in real life applications.\n\nTo understand the meaning of classes we have to understand the built-in __init__() function.\n\nAll classes have a function called __init__(), which is always executed when the class is being initiated.\n\nUse the __init__() function to assign values to object properties, or other operations that are necessary to do when the object is being created:",
      "metadata": {}
    },
    {
      "cell_type": "markdown",
      "source": "Create a class named Person, use the __init__() function to assign values for name and age:",
      "metadata": {}
    },
    {
      "cell_type": "code",
      "source": "class Person:\n  def __init__(self, name, age):\n    self.name = name\n    self.age = age\n\np1 = Person(\"John\", 36)\n\nprint(p1.name)\nprint(p1.age)",
      "metadata": {
        "trusted": true
      },
      "execution_count": 217,
      "outputs": [
        {
          "name": "stdout",
          "text": "John\n36\n",
          "output_type": "stream"
        }
      ]
    },
    {
      "cell_type": "markdown",
      "source": "The __str__() Function\nThe __str__() function controls what should be returned when the class object is represented as a string.\n\nIf the __str__() function is not set, the string representation of the object is returned:",
      "metadata": {}
    },
    {
      "cell_type": "markdown",
      "source": "The string representation of an object WITHOUT the __str__() function:",
      "metadata": {}
    },
    {
      "cell_type": "markdown",
      "source": "class Person:\n  def __init__(self, name, age):\n    self.name = name\n    self.age = age\n\np1 = Person(\"John\", 36)\n\nprint(p1)\n",
      "metadata": {}
    },
    {
      "cell_type": "code",
      "source": "The string representation of an object WITH the __str__() function:",
      "metadata": {},
      "execution_count": null,
      "outputs": []
    },
    {
      "cell_type": "markdown",
      "source": "class Person:\n  def __init__(self, name, age):\n    self.name = name\n    self.age = age\n\n  def __str__(self):\n    return f\"{self.name}({self.age})\"\n\np1 = Person(\"John\", 36)\n\nprint(p1)",
      "metadata": {}
    },
    {
      "cell_type": "markdown",
      "source": "Object Methods\n\nObjects can also contain methods. Methods in objects are functions that belong to the object.\n\nLet us create a method in the Person class:",
      "metadata": {}
    },
    {
      "cell_type": "code",
      "source": "Insert a function that prints a greeting, and execute it on the p1 object:",
      "metadata": {},
      "execution_count": null,
      "outputs": []
    },
    {
      "cell_type": "code",
      "source": "class Person:\n  def __init__(self, name, age):\n    self.name = name\n    self.age = age\n\n  def myfunc(self):\n    print(\"Hello my name is \" + self.name)\n\np1 = Person(\"John\", 36)\np1.myfunc()\n",
      "metadata": {
        "trusted": true
      },
      "execution_count": 220,
      "outputs": [
        {
          "name": "stdout",
          "text": "Hello my name is John\n",
          "output_type": "stream"
        }
      ]
    },
    {
      "cell_type": "markdown",
      "source": "The self Parameter\n\nThe self parameter is a reference to the current instance of the class, and is used to access variables that belongs to the class.\n\nIt does not have to be named self , you can call it whatever you like, but it has to be the first parameter of any function in the class:",
      "metadata": {}
    },
    {
      "cell_type": "markdown",
      "source": "class Person:\n  def __init__(mysillyobject, name, age):\n    mysillyobject.name = name\n    mysillyobject.age = age\n\n  def myfunc(abc):\n    print(\"Hello my name is \" + abc.name)\n\np1 = Person(\"John\", 36)\np1.myfunc()",
      "metadata": {}
    },
    {
      "cell_type": "markdown",
      "source": "Modify Object Properties\n\nYou can modify properties on objects like this:",
      "metadata": {}
    },
    {
      "cell_type": "code",
      "source": "class Person:\n  def __init__(self, name, age):\n    self.name = name\n    self.age = age\n\n  def myfunc(self):\n    print(\"Hello my name is \" + self.name)\n\np1 = Person(\"John\", 36)\n\np1.age = 40\n\nprint(p1.age)",
      "metadata": {
        "trusted": true
      },
      "execution_count": 223,
      "outputs": [
        {
          "name": "stdout",
          "text": "40\n",
          "output_type": "stream"
        }
      ]
    },
    {
      "cell_type": "markdown",
      "source": "Delete Object Properties\n\nYou can delete properties on objects by using the del keyword:",
      "metadata": {}
    },
    {
      "cell_type": "code",
      "source": "del p1.age",
      "metadata": {
        "trusted": true
      },
      "execution_count": 224,
      "outputs": []
    },
    {
      "cell_type": "code",
      "source": "class Person:\n  def __init__(self, name, age):\n    self.name = name\n    self.age = age\n\n  def myfunc(self):\n    print(\"Hello my name is \" + self.name)\n\np1 = Person(\"John\", 36)\n\ndel p1.age\n\nprint(p1.age)",
      "metadata": {
        "trusted": true
      },
      "execution_count": 225,
      "outputs": [
        {
          "ename": "<class 'AttributeError'>",
          "evalue": "'Person' object has no attribute 'age'",
          "traceback": [
            "\u001b[0;31m---------------------------------------------------------------------------\u001b[0m",
            "\u001b[0;31mAttributeError\u001b[0m                            Traceback (most recent call last)",
            "Cell \u001b[0;32mIn [225], line 13\u001b[0m\n\u001b[1;32m      9\u001b[0m p1 \u001b[38;5;241m=\u001b[39m Person(\u001b[38;5;124m\"\u001b[39m\u001b[38;5;124mJohn\u001b[39m\u001b[38;5;124m\"\u001b[39m, \u001b[38;5;241m36\u001b[39m)\n\u001b[1;32m     11\u001b[0m \u001b[38;5;28;01mdel\u001b[39;00m p1\u001b[38;5;241m.\u001b[39mage\n\u001b[0;32m---> 13\u001b[0m \u001b[38;5;28mprint\u001b[39m(\u001b[43mp1\u001b[49m\u001b[38;5;241;43m.\u001b[39;49m\u001b[43mage\u001b[49m)\n",
            "\u001b[0;31mAttributeError\u001b[0m: 'Person' object has no attribute 'age'"
          ],
          "output_type": "error"
        }
      ]
    },
    {
      "cell_type": "code",
      "source": "Delete Objects\n\nYou can delete objects by using the del keyword:",
      "metadata": {},
      "execution_count": null,
      "outputs": []
    },
    {
      "cell_type": "code",
      "source": "class Person:\n  def __init__(self, name, age):\n    self.name = name\n    self.age = age\n\n  def myfunc(self):\n    print(\"Hello my name is \" + self.name)\n\np1 = Person(\"John\", 36)\n\ndel p1\n\nprint(p1)\n",
      "metadata": {
        "trusted": true
      },
      "execution_count": 226,
      "outputs": [
        {
          "ename": "<class 'NameError'>",
          "evalue": "name 'p1' is not defined",
          "traceback": [
            "\u001b[0;31m---------------------------------------------------------------------------\u001b[0m",
            "\u001b[0;31mNameError\u001b[0m                                 Traceback (most recent call last)",
            "Cell \u001b[0;32mIn [226], line 13\u001b[0m\n\u001b[1;32m      9\u001b[0m p1 \u001b[38;5;241m=\u001b[39m Person(\u001b[38;5;124m\"\u001b[39m\u001b[38;5;124mJohn\u001b[39m\u001b[38;5;124m\"\u001b[39m, \u001b[38;5;241m36\u001b[39m)\n\u001b[1;32m     11\u001b[0m \u001b[38;5;28;01mdel\u001b[39;00m p1\n\u001b[0;32m---> 13\u001b[0m \u001b[38;5;28mprint\u001b[39m(\u001b[43mp1\u001b[49m)\n",
            "\u001b[0;31mNameError\u001b[0m: name 'p1' is not defined"
          ],
          "output_type": "error"
        }
      ]
    },
    {
      "cell_type": "markdown",
      "source": "The pass Statement\n\nclass definitions cannot be empty, but if you for some reason have a class definition with no content, put in the pass statement to avoid getting an error.",
      "metadata": {}
    },
    {
      "cell_type": "code",
      "source": "class Person:\n  pass\n\n# having an empty class definition like this, would raise an error without the pass statement\n",
      "metadata": {
        "trusted": true
      },
      "execution_count": 227,
      "outputs": []
    },
    {
      "cell_type": "markdown",
      "source": "**Python Inheritance**",
      "metadata": {}
    },
    {
      "cell_type": "markdown",
      "source": "Inheritance allows us to define a class that inherits all the methods and properties from another class.\n\nParent class is the class being inherited from, also called base class.\n\nChild class is the class that inherits from another class, also called derived class.\n\n",
      "metadata": {}
    },
    {
      "cell_type": "markdown",
      "source": "Create a Parent Class\n\nAny class can be a parent class, so the syntax is the same as creating any other class:",
      "metadata": {}
    },
    {
      "cell_type": "markdown",
      "source": "Create a class named Person, with firstname and lastname properties, and a printname method:",
      "metadata": {}
    },
    {
      "cell_type": "code",
      "source": "class Person:\n  def __init__(self, fname, lname):\n    self.firstname = fname\n    self.lastname = lname\n\n  def printname(self):\n    print(self.firstname, self.lastname)\n\n#Use the Person class to create an object, and then execute the printname method:\n\nx = Person(\"John\", \"Doe\")\nx.printname()",
      "metadata": {
        "trusted": true
      },
      "execution_count": 228,
      "outputs": [
        {
          "name": "stdout",
          "text": "John Doe\n",
          "output_type": "stream"
        }
      ]
    },
    {
      "cell_type": "markdown",
      "source": "Create a Child Class\n\nTo create a class that inherits the functionality from another class, send the parent class as a parameter when creating the child class:",
      "metadata": {}
    },
    {
      "cell_type": "markdown",
      "source": "Create a class named Student, which will inherit the properties and methods from the Person class:",
      "metadata": {}
    },
    {
      "cell_type": "code",
      "source": "class Student(Person):\n  pass",
      "metadata": {
        "trusted": true
      },
      "execution_count": 229,
      "outputs": []
    },
    {
      "cell_type": "markdown",
      "source": "Now the Student class has the same properties and methods as the Person class.",
      "metadata": {}
    },
    {
      "cell_type": "markdown",
      "source": "Use the Student class to create an object, and then execute the printname method:",
      "metadata": {}
    },
    {
      "cell_type": "code",
      "source": "x = Student(\"Mike\", \"Olsen\")\nx.printname()",
      "metadata": {
        "trusted": true
      },
      "execution_count": 231,
      "outputs": [
        {
          "name": "stdout",
          "text": "Mike Olsen\n",
          "output_type": "stream"
        }
      ]
    },
    {
      "cell_type": "markdown",
      "source": "'Add the __init__() Function'",
      "metadata": {}
    },
    {
      "cell_type": "markdown",
      "source": "So far we have created a child class that inherits the properties and methods from its parent.\n\nWe want to add the __init__() function to the child class (instead of the pass keyword).",
      "metadata": {}
    },
    {
      "cell_type": "markdown",
      "source": "Add the __init__() function to the Student class:",
      "metadata": {}
    },
    {
      "cell_type": "code",
      "source": "class Student(Person):\n  def __init__(self, fname, lname):",
      "metadata": {
        "trusted": true
      },
      "execution_count": 237,
      "outputs": [
        {
          "ename": "<class 'IndentationError'>",
          "evalue": "expected an indented block after function definition on line 2 (<ipython-input-237-b7d7333a4222>, line 2)",
          "traceback": [
            "\u001b[0;36m  Cell \u001b[0;32mIn [237], line 2\u001b[0;36m\u001b[0m\n\u001b[0;31m    def __init__(self, fname, lname):\u001b[0m\n\u001b[0m                                     ^\u001b[0m\n\u001b[0;31mIndentationError\u001b[0m\u001b[0;31m:\u001b[0m expected an indented block after function definition on line 2\n"
          ],
          "output_type": "error"
        }
      ]
    },
    {
      "cell_type": "markdown",
      "source": "When you add the __init__() function, the child class will no longer inherit the parent's __init__() function.\n\nThe child's __init__() function overrides the inheritance of the parent's __init__() function.\n\nTo keep the inheritance of the parent's __init__() function, add a call to the parent's __init__() function:",
      "metadata": {}
    },
    {
      "cell_type": "code",
      "source": "class Student(Person):\n  def __init__(self, fname, lname):\n    Person.__init__(self, fname, lname)",
      "metadata": {
        "trusted": true
      },
      "execution_count": 238,
      "outputs": []
    },
    {
      "cell_type": "markdown",
      "source": "Now we have successfully added the __init__() function, and kept the inheritance of the parent class, and we are ready to add functionality in the __init__() function.",
      "metadata": {}
    },
    {
      "cell_type": "markdown",
      "source": "Use the super() Function\nPython also has a super() function that will make the child class inherit all the methods and properties from its parent:",
      "metadata": {}
    },
    {
      "cell_type": "code",
      "source": "class Person:\n  def __init__(self, fname, lname):\n    self.firstname = fname\n    self.lastname = lname\n\n  def printname(self):\n    print(self.firstname, self.lastname)\n\nclass Student(Person):\n  def __init__(self, fname, lname):\n    super().__init__(fname, lname)\n\nx = Student(\"Mike\", \"Olsen\")\nx.printname()",
      "metadata": {
        "trusted": true
      },
      "execution_count": 242,
      "outputs": [
        {
          "name": "stdout",
          "text": "Mike Olsen\n",
          "output_type": "stream"
        }
      ]
    },
    {
      "cell_type": "markdown",
      "source": "By using the super() function, you do not have to use the name of the parent element, it will automatically inherit the methods and properties from its parent.\nAdd a property called graduationyear to the Student class:",
      "metadata": {}
    },
    {
      "cell_type": "code",
      "source": "class Person:\n  def __init__(self, fname, lname):\n    self.firstname = fname\n    self.lastname = lname\n\n  def printname(self):\n    print(self.firstname, self.lastname)\n\nclass Student(Person):\n  def __init__(self, fname, lname):\n    super().__init__(fname, lname)\n    self.graduationyear = 2019\n\nx = Student(\"Mike\", \"Olsen\")\nprint(x.graduationyear)\n",
      "metadata": {
        "trusted": true
      },
      "execution_count": 241,
      "outputs": [
        {
          "name": "stdout",
          "text": "2019\n",
          "output_type": "stream"
        }
      ]
    },
    {
      "cell_type": "markdown",
      "source": "Add a method called welcome to the Student class:",
      "metadata": {}
    },
    {
      "cell_type": "code",
      "source": "class Person:\n  def __init__(self, fname, lname):\n    self.firstname = fname\n    self.lastname = lname\n\n  def printname(self):\n    print(self.firstname, self.lastname)\n\nclass Student(Person):\n  def __init__(self, fname, lname, year):\n    super().__init__(fname, lname)\n    self.graduationyear = year\n\n  def welcome(self):\n    print(\"Welcome\", self.firstname, self.lastname, \"to the class of\", self.graduationyear)\n\nx = Student(\"Mike\", \"Olsen\", 2019)\nx.welcome()",
      "metadata": {
        "trusted": true
      },
      "execution_count": 244,
      "outputs": [
        {
          "name": "stdout",
          "text": "Welcome Mike Olsen to the class of 2019\n",
          "output_type": "stream"
        }
      ]
    },
    {
      "cell_type": "markdown",
      "source": "**Python Iterators**",
      "metadata": {}
    },
    {
      "cell_type": "markdown",
      "source": "An iterator is an object that contains a countable number of values.\n\nAn iterator is an object that can be iterated upon, meaning that you can traverse through all the values.\n\nTechnically, in Python, an iterator is an object which implements the iterator protocol, which consist of the methods __iter__() and __next__().",
      "metadata": {}
    },
    {
      "cell_type": "markdown",
      "source": "Iterator vs Iterable\nLists, tuples, dictionaries, and sets are all iterable objects. They are iterable containers which you can get an iterator from.\n\nAll these objects have a iter() method which is used to get an iterator:",
      "metadata": {}
    },
    {
      "cell_type": "markdown",
      "source": "Return an iterator from a tuple, and print each value:",
      "metadata": {}
    },
    {
      "cell_type": "code",
      "source": "mytuple = (\"apple\", \"banana\", \"cherry\")\nmyit = iter(mytuple)\n\nprint(next(myit))\nprint(next(myit))\nprint(next(myit))",
      "metadata": {
        "trusted": true
      },
      "execution_count": 245,
      "outputs": [
        {
          "name": "stdout",
          "text": "apple\nbanana\ncherry\n",
          "output_type": "stream"
        }
      ]
    },
    {
      "cell_type": "markdown",
      "source": "Even strings are iterable objects, and can return an iterator:",
      "metadata": {}
    },
    {
      "cell_type": "markdown",
      "source": "Strings are also iterable objects, containing a sequence of characters:",
      "metadata": {}
    },
    {
      "cell_type": "code",
      "source": "mystr = \"banana\"\nmyit = iter(mystr)\n\nprint(next(myit))\nprint(next(myit))\nprint(next(myit))\nprint(next(myit))\nprint(next(myit))\nprint(next(myit))\n",
      "metadata": {
        "trusted": true
      },
      "execution_count": 246,
      "outputs": [
        {
          "name": "stdout",
          "text": "b\na\nn\na\nn\na\n",
          "output_type": "stream"
        }
      ]
    },
    {
      "cell_type": "markdown",
      "source": "Looping Through an Iterator\n\nWe can also use a for loop to iterate through an iterable object:\n\nIterate the values of a tuple:",
      "metadata": {}
    },
    {
      "cell_type": "code",
      "source": "mytuple = (\"apple\", \"banana\", \"cherry\")\n\nfor x in mytuple:\n  print(x)",
      "metadata": {
        "trusted": true
      },
      "execution_count": 247,
      "outputs": [
        {
          "name": "stdout",
          "text": "apple\nbanana\ncherry\n",
          "output_type": "stream"
        }
      ]
    },
    {
      "cell_type": "markdown",
      "source": "Iterate the characters of a string:",
      "metadata": {}
    },
    {
      "cell_type": "code",
      "source": "mystr = \"banana\"\n\nfor x in mystr:\n  print(x)",
      "metadata": {
        "trusted": true
      },
      "execution_count": 248,
      "outputs": [
        {
          "name": "stdout",
          "text": "b\na\nn\na\nn\na\n",
          "output_type": "stream"
        }
      ]
    },
    {
      "cell_type": "markdown",
      "source": "The for loop actually creates an iterator object and executes the next() method for each loop.",
      "metadata": {}
    },
    {
      "cell_type": "markdown",
      "source": "Create an Iterator\n\nTo create an object/class as an iterator you have to implement the methods __iter__() and __next__() to your object.\n\nAs you have learned in the Python Classes/Objects chapter, all classes have a function called __init__(), which allows you to do some initializing when the object is being created.\n\nThe __iter__() method acts similar, you can do operations (initializing etc.), but must always return the iterator object itself.\n\nThe __next__() method also allows you to do operations, and must return the next item in the sequence.",
      "metadata": {}
    },
    {
      "cell_type": "markdown",
      "source": "Create an iterator that returns numbers, starting with 1, and each sequence will increase by one (returning 1,2,3,4,5 etc.):",
      "metadata": {}
    },
    {
      "cell_type": "markdown",
      "source": "class MyNumbers:\n  def __iter__(self):\n    self.a = 1\n    return self\n\n  def __next__(self):\n    x = self.a\n    self.a += 1\n    return x\n\nmyclass = MyNumbers()\nmyiter = iter(myclass)\n\nprint(next(myiter))\nprint(next(myiter))\nprint(next(myiter))\nprint(next(myiter))\nprint(next(myiter))",
      "metadata": {}
    },
    {
      "cell_type": "markdown",
      "source": "StopIteration\n\nThe example above would continue forever if you had enough next() statements, or if it was used in a for loop.\n\nTo prevent the iteration to go on forever, we can use the StopIteration statement.\n\nIn the __next__() method, we can add a terminating condition to raise an error if the iteration is done a specified number of times:",
      "metadata": {}
    },
    {
      "cell_type": "markdown",
      "source": "Stop after 20 iterations:",
      "metadata": {}
    },
    {
      "cell_type": "code",
      "source": "class MyNumbers:\n  def __iter__(self):\n    self.a = 1\n    return self\n\n  def __next__(self):\n    if self.a <= 20:\n      x = self.a\n      self.a += 1\n      return x\n    else:\n      raise StopIteration\n\nmyclass = MyNumbers()\nmyiter = iter(myclass)\n\nfor x in myiter:\n  print(x)",
      "metadata": {
        "trusted": true
      },
      "execution_count": 251,
      "outputs": [
        {
          "name": "stdout",
          "text": "1\n2\n3\n4\n5\n6\n7\n8\n9\n10\n11\n12\n13\n14\n15\n16\n17\n18\n19\n20\n",
          "output_type": "stream"
        }
      ]
    },
    {
      "cell_type": "markdown",
      "source": "**Python Scope**",
      "metadata": {}
    },
    {
      "cell_type": "markdown",
      "source": "A variable is only available from inside the region it is created. This is called scope.",
      "metadata": {}
    },
    {
      "cell_type": "markdown",
      "source": "Local Scope\n\nA variable created inside a function belongs to the local scope of that function, and can only be used inside that function.",
      "metadata": {}
    },
    {
      "cell_type": "markdown",
      "source": "A variable created inside a function is available inside that function:",
      "metadata": {}
    },
    {
      "cell_type": "code",
      "source": "def myfunc():\n  x = 300\n  print(x)\n\nmyfunc()",
      "metadata": {
        "trusted": true
      },
      "execution_count": 254,
      "outputs": [
        {
          "name": "stdout",
          "text": "300\n",
          "output_type": "stream"
        }
      ]
    },
    {
      "cell_type": "markdown",
      "source": "Function Inside Function",
      "metadata": {}
    },
    {
      "cell_type": "markdown",
      "source": "As explained in the example above, the variable x is not available outside the function, but it is available for any function inside the function:",
      "metadata": {}
    },
    {
      "cell_type": "code",
      "source": "The local variable can be accessed from a function within the function:",
      "metadata": {},
      "execution_count": null,
      "outputs": []
    },
    {
      "cell_type": "code",
      "source": "def myfunc():\n  x = 300\n  def myinnerfunc():\n    print(x)\n  myinnerfunc()\n\nmyfunc()",
      "metadata": {
        "trusted": true
      },
      "execution_count": 255,
      "outputs": [
        {
          "name": "stdout",
          "text": "300\n",
          "output_type": "stream"
        }
      ]
    },
    {
      "cell_type": "markdown",
      "source": "Global Scope\n\nA variable created in the main body of the Python code is a global variable and belongs to the global scope.\n\nGlobal variables are available from within any scope, global and local.",
      "metadata": {}
    },
    {
      "cell_type": "markdown",
      "source": "A variable created outside of a function is global and can be used by anyone:",
      "metadata": {}
    },
    {
      "cell_type": "code",
      "source": "x = 300\n\ndef myfunc():\n  print(x)\n\nmyfunc()\n\nprint(x)",
      "metadata": {
        "trusted": true
      },
      "execution_count": 256,
      "outputs": [
        {
          "name": "stdout",
          "text": "300\n300\n",
          "output_type": "stream"
        }
      ]
    },
    {
      "cell_type": "markdown",
      "source": "Naming Variables\n\nIf you operate with the same variable name inside and outside of a function, Python will treat them as two separate variables, one available in the global scope (outside the function) and one available in the local scope (inside the function):",
      "metadata": {}
    },
    {
      "cell_type": "markdown",
      "source": "The function will print the local x, and then the code will print the global x:",
      "metadata": {}
    },
    {
      "cell_type": "code",
      "source": "x = 300\n\ndef myfunc():\n  x = 200\n  print(x)\n\nmyfunc()\n\nprint(x)\n",
      "metadata": {
        "trusted": true
      },
      "execution_count": 257,
      "outputs": [
        {
          "name": "stdout",
          "text": "200\n300\n",
          "output_type": "stream"
        }
      ]
    },
    {
      "cell_type": "markdown",
      "source": "Global Keyword\n\nIf you need to create a global variable, but are stuck in the local scope, you can use the global keyword.\n\nThe global keyword makes the variable global.",
      "metadata": {}
    },
    {
      "cell_type": "markdown",
      "source": "If you use the global keyword, the variable belongs to the global scope:",
      "metadata": {}
    },
    {
      "cell_type": "code",
      "source": "def myfunc():\n  global x\n  x = 300\n\nmyfunc()\n\nprint(x)",
      "metadata": {
        "trusted": true
      },
      "execution_count": 259,
      "outputs": [
        {
          "name": "stdout",
          "text": "300\n",
          "output_type": "stream"
        }
      ]
    },
    {
      "cell_type": "markdown",
      "source": "Also, use the global keyword if you want to make a change to a global variable inside a function.",
      "metadata": {}
    },
    {
      "cell_type": "markdown",
      "source": "To change the value of a global variable inside a function, refer to the variable by using the global keyword:",
      "metadata": {}
    },
    {
      "cell_type": "code",
      "source": "x = 300\n\ndef myfunc():\n  global x\n  x = 200\n\nmyfunc()\n\nprint(x)",
      "metadata": {
        "trusted": true
      },
      "execution_count": 260,
      "outputs": [
        {
          "name": "stdout",
          "text": "200\n",
          "output_type": "stream"
        }
      ]
    },
    {
      "cell_type": "markdown",
      "source": "# Python Modules",
      "metadata": {}
    },
    {
      "cell_type": "markdown",
      "source": "What is a Module?\n\nConsider a module to be the same as a code library.\n\nA file containing a set of functions you want to include in your application.\n\n",
      "metadata": {}
    },
    {
      "cell_type": "markdown",
      "source": "Create a Module\n\nTo create a module just save the code you want in a file with the file extension .py:",
      "metadata": {}
    },
    {
      "cell_type": "code",
      "source": "def greeting(name):\n  print(\"Hello, \" + name)",
      "metadata": {
        "trusted": true
      },
      "execution_count": 270,
      "outputs": []
    },
    {
      "cell_type": "markdown",
      "source": "Use a Module\n\nNow we can use the module we just created, by using the import statement:",
      "metadata": {}
    },
    {
      "cell_type": "code",
      "source": "import mymodule\n\nmymodule.greeting(\"Jonathan\")\n",
      "metadata": {
        "trusted": true
      },
      "execution_count": 273,
      "outputs": [
        {
          "ename": "<class 'ModuleNotFoundError'>",
          "evalue": "No module named 'mymodule'",
          "traceback": [
            "\u001b[0;31m---------------------------------------------------------------------------\u001b[0m",
            "\u001b[0;31mModuleNotFoundError\u001b[0m                       Traceback (most recent call last)",
            "Cell \u001b[0;32mIn [273], line 1\u001b[0m\n\u001b[0;32m----> 1\u001b[0m \u001b[38;5;28;01mimport\u001b[39;00m \u001b[38;5;21;01mmymodule\u001b[39;00m\n\u001b[1;32m      3\u001b[0m mymodule\u001b[38;5;241m.\u001b[39mgreeting(\u001b[38;5;124m\"\u001b[39m\u001b[38;5;124mJonathan\u001b[39m\u001b[38;5;124m\"\u001b[39m)\n",
            "\u001b[0;31mModuleNotFoundError\u001b[0m: No module named 'mymodule'"
          ],
          "output_type": "error"
        }
      ]
    },
    {
      "cell_type": "markdown",
      "source": "# Python Datetime",
      "metadata": {}
    },
    {
      "cell_type": "markdown",
      "source": "Python Dates\n\nA date in Python is not a data type of its own, but we can import a module named datetime to work with dates as date objects.",
      "metadata": {}
    },
    {
      "cell_type": "markdown",
      "source": "Import the datetime module and display the current date:",
      "metadata": {}
    },
    {
      "cell_type": "code",
      "source": "import datetime\n\nx = datetime.datetime.now()\nprint(x)",
      "metadata": {
        "trusted": true
      },
      "execution_count": 274,
      "outputs": [
        {
          "name": "stdout",
          "text": "2022-11-02 22:26:03.165000\n",
          "output_type": "stream"
        }
      ]
    },
    {
      "cell_type": "markdown",
      "source": "Date Output\nWhen we execute the code from the example above the result will be:\n\n2022-11-02 22:24:48.301976\nThe date contains year, month, day, hour, minute, second, and microsecond.\n\nThe datetime module has many methods to return information about the date object.\n\nHere are a few examples, you will learn more about them later in this chapter:",
      "metadata": {}
    },
    {
      "cell_type": "markdown",
      "source": "Return the year and name of weekday:",
      "metadata": {}
    },
    {
      "cell_type": "code",
      "source": "import datetime\n\nx = datetime.datetime.now()\n\nprint(x.year)\nprint(x.strftime(\"%A\"))\n",
      "metadata": {
        "trusted": true
      },
      "execution_count": 275,
      "outputs": [
        {
          "name": "stdout",
          "text": "2022\nWednesday\n",
          "output_type": "stream"
        }
      ]
    },
    {
      "cell_type": "markdown",
      "source": "Creating Date Objects\n\nTo create a date, we can use the datetime() class (constructor) of the datetime module.\n\nThe datetime() class requires three parameters to create a date: year, month, day.",
      "metadata": {}
    },
    {
      "cell_type": "code",
      "source": "import datetime\n\nx = datetime.datetime(2020, 5, 17)\n\nprint(x)",
      "metadata": {
        "trusted": true
      },
      "execution_count": 276,
      "outputs": [
        {
          "name": "stdout",
          "text": "2020-05-17 00:00:00\n",
          "output_type": "stream"
        }
      ]
    },
    {
      "cell_type": "markdown",
      "source": "The datetime() class also takes parameters for time and timezone (hour, minute, second, microsecond, tzone), but they are optional, and has a default value of 0, (None for timezone).\n\n",
      "metadata": {}
    },
    {
      "cell_type": "markdown",
      "source": "The strftime() Method\n\nThe datetime object has a method for formatting date objects into readable strings.\n\nThe method is called strftime(), and takes one parameter, format, to specify the format of the returned string:",
      "metadata": {}
    },
    {
      "cell_type": "markdown",
      "source": "Display the name of the month:",
      "metadata": {}
    },
    {
      "cell_type": "code",
      "source": "import datetime\n\nx = datetime.datetime(2018, 6, 1)\n\nprint(x.strftime(\"%B\"))",
      "metadata": {
        "trusted": true
      },
      "execution_count": 277,
      "outputs": [
        {
          "name": "stdout",
          "text": "June\n",
          "output_type": "stream"
        }
      ]
    },
    {
      "cell_type": "markdown",
      "source": "%a\tWeekday, short version",
      "metadata": {}
    },
    {
      "cell_type": "code",
      "source": "import datetime\n\nx = datetime.datetime.now()\n\nprint(x.strftime(\"%a\"))\n",
      "metadata": {
        "trusted": true
      },
      "execution_count": 278,
      "outputs": [
        {
          "name": "stdout",
          "text": "Wed\n",
          "output_type": "stream"
        }
      ]
    },
    {
      "cell_type": "markdown",
      "source": "%A\tWeekday, full version",
      "metadata": {}
    },
    {
      "cell_type": "code",
      "source": "import datetime\n\nx = datetime.datetime.now()\n\nprint(x.strftime(\"%A\"))\n",
      "metadata": {
        "trusted": true
      },
      "execution_count": 279,
      "outputs": [
        {
          "name": "stdout",
          "text": "Wednesday\n",
          "output_type": "stream"
        }
      ]
    },
    {
      "cell_type": "markdown",
      "source": "%w\tWeekday as a number 0-6, 0 is Sunday",
      "metadata": {}
    },
    {
      "cell_type": "code",
      "source": "import datetime\n\nx = datetime.datetime.now()\n\nprint(x.strftime(\"%w\"))\n",
      "metadata": {
        "trusted": true
      },
      "execution_count": 280,
      "outputs": [
        {
          "name": "stdout",
          "text": "3\n",
          "output_type": "stream"
        }
      ]
    },
    {
      "cell_type": "markdown",
      "source": "%d\tDay of month 01-31",
      "metadata": {}
    },
    {
      "cell_type": "code",
      "source": "import datetime\n\nx = datetime.datetime.now()\n\nprint(x.strftime(\"%d\"))\n",
      "metadata": {
        "trusted": true
      },
      "execution_count": 281,
      "outputs": [
        {
          "name": "stdout",
          "text": "02\n",
          "output_type": "stream"
        }
      ]
    },
    {
      "cell_type": "markdown",
      "source": "%b\tMonth name, short version",
      "metadata": {}
    },
    {
      "cell_type": "code",
      "source": "import datetime\n\nx = datetime.datetime.now()\n\nprint(x.strftime(\"%b\"))",
      "metadata": {
        "trusted": true
      },
      "execution_count": 282,
      "outputs": [
        {
          "name": "stdout",
          "text": "Nov\n",
          "output_type": "stream"
        }
      ]
    },
    {
      "cell_type": "markdown",
      "source": "%B\tMonth name, full version",
      "metadata": {}
    },
    {
      "cell_type": "code",
      "source": "import datetime\n\nx = datetime.datetime.now()\n\nprint(x.strftime(\"%B\"))",
      "metadata": {
        "trusted": true
      },
      "execution_count": 283,
      "outputs": [
        {
          "name": "stdout",
          "text": "November\n",
          "output_type": "stream"
        }
      ]
    },
    {
      "cell_type": "markdown",
      "source": "%m\tMonth as a number 01-12",
      "metadata": {}
    },
    {
      "cell_type": "code",
      "source": "import datetime\n\nx = datetime.datetime.now()\n\nprint(x.strftime(\"%m\"))\n",
      "metadata": {
        "trusted": true
      },
      "execution_count": 284,
      "outputs": [
        {
          "name": "stdout",
          "text": "11\n",
          "output_type": "stream"
        }
      ]
    },
    {
      "cell_type": "markdown",
      "source": "%y\tYear, short version, without century",
      "metadata": {}
    },
    {
      "cell_type": "code",
      "source": "import datetime\n\nx = datetime.datetime.now()\n\nprint(x.strftime(\"%y\"))\n",
      "metadata": {
        "trusted": true
      },
      "execution_count": 285,
      "outputs": [
        {
          "name": "stdout",
          "text": "22\n",
          "output_type": "stream"
        }
      ]
    },
    {
      "cell_type": "markdown",
      "source": "%Y\tYear, full version",
      "metadata": {}
    },
    {
      "cell_type": "code",
      "source": "import datetime\n\nx = datetime.datetime.now()\n\nprint(x.strftime(\"%Y\"))\n",
      "metadata": {
        "trusted": true
      },
      "execution_count": 286,
      "outputs": [
        {
          "name": "stdout",
          "text": "2022\n",
          "output_type": "stream"
        }
      ]
    },
    {
      "cell_type": "markdown",
      "source": "%H\tHour 00-23",
      "metadata": {}
    },
    {
      "cell_type": "markdown",
      "source": "import datetime\n\nx = datetime.datetime.now()\n\nprint(x.strftime(\"%H\"))",
      "metadata": {}
    },
    {
      "cell_type": "markdown",
      "source": "%I\tHour 00-12",
      "metadata": {}
    },
    {
      "cell_type": "code",
      "source": "import datetime\n\nx = datetime.datetime.now()\n\nprint(x.strftime(\"%I\"))\n",
      "metadata": {
        "trusted": true
      },
      "execution_count": 288,
      "outputs": [
        {
          "name": "stdout",
          "text": "10\n",
          "output_type": "stream"
        }
      ]
    },
    {
      "cell_type": "markdown",
      "source": "%p AM/PM",
      "metadata": {}
    },
    {
      "cell_type": "code",
      "source": "import datetime\n\nx = datetime.datetime.now()\n\nprint(x.strftime(\"%p\"))\n",
      "metadata": {
        "trusted": true
      },
      "execution_count": 291,
      "outputs": [
        {
          "name": "stdout",
          "text": "PM\n",
          "output_type": "stream"
        }
      ]
    },
    {
      "cell_type": "markdown",
      "source": "%M\tMinute 00-59",
      "metadata": {}
    },
    {
      "cell_type": "code",
      "source": "import datetime\n\nx = datetime.datetime.now()\n\nprint(x.strftime(\"%M\"))",
      "metadata": {
        "trusted": true
      },
      "execution_count": 292,
      "outputs": [
        {
          "name": "stdout",
          "text": "34\n",
          "output_type": "stream"
        }
      ]
    },
    {
      "cell_type": "markdown",
      "source": "%S\tSecond 00-59",
      "metadata": {}
    },
    {
      "cell_type": "code",
      "source": "import datetime\n\nx = datetime.datetime.now()\n\nprint(x.strftime(\"%S\"))\n",
      "metadata": {
        "trusted": true
      },
      "execution_count": 293,
      "outputs": [
        {
          "name": "stdout",
          "text": "02\n",
          "output_type": "stream"
        }
      ]
    },
    {
      "cell_type": "markdown",
      "source": "%f\tMicrosecond 000000-999999",
      "metadata": {}
    },
    {
      "cell_type": "markdown",
      "source": "import datetime\n\nx = datetime.datetime.now()\n\nprint(x.strftime(\"%f\"))\n",
      "metadata": {}
    },
    {
      "cell_type": "markdown",
      "source": "%z\tUTC offset",
      "metadata": {}
    },
    {
      "cell_type": "markdown",
      "source": "%Z\tTimezone",
      "metadata": {}
    },
    {
      "cell_type": "markdown",
      "source": "%j\tDay number of year 001-366",
      "metadata": {}
    },
    {
      "cell_type": "code",
      "source": "import datetime\n\nx = datetime.datetime.now()\n\nprint(x.strftime(\"%j\"))\n",
      "metadata": {
        "trusted": true
      },
      "execution_count": 295,
      "outputs": [
        {
          "name": "stdout",
          "text": "306\n",
          "output_type": "stream"
        }
      ]
    },
    {
      "cell_type": "markdown",
      "source": "%U\tWeek number of year, Sunday as the first day of week, 00-53",
      "metadata": {}
    },
    {
      "cell_type": "code",
      "source": "import datetime\n\nx = datetime.datetime.now()\n\nprint(x.strftime(\"%U\"))\n",
      "metadata": {
        "trusted": true
      },
      "execution_count": 299,
      "outputs": [
        {
          "name": "stdout",
          "text": "44\n",
          "output_type": "stream"
        }
      ]
    },
    {
      "cell_type": "markdown",
      "source": "%W\tWeek number of year, Monday as the first day of week, 00-53",
      "metadata": {}
    },
    {
      "cell_type": "code",
      "source": "import datetime\n\nx = datetime.datetime(2018, 5, 31)\n\nprint(x.strftime(\"%W\"))\n",
      "metadata": {
        "trusted": true
      },
      "execution_count": 298,
      "outputs": [
        {
          "name": "stdout",
          "text": "22\n",
          "output_type": "stream"
        }
      ]
    },
    {
      "cell_type": "markdown",
      "source": "%c\tLocal version of date and time",
      "metadata": {}
    },
    {
      "cell_type": "code",
      "source": "import datetime\n\nx = datetime.datetime.now()\n\nprint(x.strftime(\"%c\"))\n",
      "metadata": {
        "trusted": true
      },
      "execution_count": 300,
      "outputs": [
        {
          "name": "stdout",
          "text": "Wed Nov 02 22:37:43 2022\n",
          "output_type": "stream"
        }
      ]
    },
    {
      "cell_type": "markdown",
      "source": "%C\tCentury",
      "metadata": {}
    },
    {
      "cell_type": "code",
      "source": "import datetime\n\nx = datetime.datetime.now()\n\nprint(x.strftime(\"%C\"))\n",
      "metadata": {
        "trusted": true
      },
      "execution_count": 301,
      "outputs": [
        {
          "name": "stdout",
          "text": "20\n",
          "output_type": "stream"
        }
      ]
    },
    {
      "cell_type": "markdown",
      "source": "%x\tLocal version of date",
      "metadata": {}
    },
    {
      "cell_type": "code",
      "source": "import datetime\n\nx = datetime.datetime.now()\n\nprint(x.strftime(\"%x\"))\n",
      "metadata": {
        "trusted": true
      },
      "execution_count": 302,
      "outputs": [
        {
          "name": "stdout",
          "text": "11/02/22\n",
          "output_type": "stream"
        }
      ]
    },
    {
      "cell_type": "markdown",
      "source": "%X\tLocal version of time",
      "metadata": {}
    },
    {
      "cell_type": "code",
      "source": "import datetime\n\nx = datetime.datetime.now()\n\nprint(x.strftime(\"%X\"))",
      "metadata": {
        "trusted": true
      },
      "execution_count": 303,
      "outputs": [
        {
          "name": "stdout",
          "text": "22:38:45\n",
          "output_type": "stream"
        }
      ]
    },
    {
      "cell_type": "markdown",
      "source": "%%\tA % character",
      "metadata": {}
    },
    {
      "cell_type": "code",
      "source": "import datetime\n\nx = datetime.datetime.now()\n\nprint(x.strftime(\"%%\"))\n",
      "metadata": {
        "trusted": true
      },
      "execution_count": 304,
      "outputs": [
        {
          "name": "stdout",
          "text": "%\n",
          "output_type": "stream"
        }
      ]
    },
    {
      "cell_type": "markdown",
      "source": "%G\tISO 8601 year",
      "metadata": {}
    },
    {
      "cell_type": "code",
      "source": "import datetime\n\nx = datetime.datetime.now()\n\nprint(x.strftime(\"%G\"))",
      "metadata": {
        "trusted": true
      },
      "execution_count": 305,
      "outputs": [
        {
          "name": "stdout",
          "text": "2022\n",
          "output_type": "stream"
        }
      ]
    },
    {
      "cell_type": "markdown",
      "source": "%u\tISO 8601 weekday (1-7)",
      "metadata": {}
    },
    {
      "cell_type": "code",
      "source": "import datetime\n\nx = datetime.datetime.now()\n\nprint(x.strftime(\"%u\"))\n",
      "metadata": {
        "trusted": true
      },
      "execution_count": 306,
      "outputs": [
        {
          "name": "stdout",
          "text": "3\n",
          "output_type": "stream"
        }
      ]
    },
    {
      "cell_type": "markdown",
      "source": "%V\tISO 8601 weeknumber (01-53)",
      "metadata": {}
    },
    {
      "cell_type": "code",
      "source": "import datetime\n\nx = datetime.datetime.now()\n\nprint(x.strftime(\"%V\"))\n",
      "metadata": {
        "trusted": true
      },
      "execution_count": 307,
      "outputs": [
        {
          "name": "stdout",
          "text": "44\n",
          "output_type": "stream"
        }
      ]
    },
    {
      "cell_type": "code",
      "source": "",
      "metadata": {},
      "execution_count": null,
      "outputs": []
    },
    {
      "cell_type": "code",
      "source": "",
      "metadata": {},
      "execution_count": null,
      "outputs": []
    },
    {
      "cell_type": "code",
      "source": "",
      "metadata": {},
      "execution_count": null,
      "outputs": []
    },
    {
      "cell_type": "markdown",
      "source": "3. **Expressions/Mathematical Operations And Variables** -",
      "metadata": {}
    },
    {
      "cell_type": "code",
      "source": "43+60+16+41",
      "metadata": {
        "trusted": true
      },
      "execution_count": 51,
      "outputs": [
        {
          "execution_count": 51,
          "output_type": "execute_result",
          "data": {
            "text/plain": "160"
          },
          "metadata": {}
        }
      ]
    },
    {
      "cell_type": "code",
      "source": "50-60",
      "metadata": {
        "trusted": true
      },
      "execution_count": 52,
      "outputs": [
        {
          "execution_count": 52,
          "output_type": "execute_result",
          "data": {
            "text/plain": "-10"
          },
          "metadata": {}
        }
      ]
    },
    {
      "cell_type": "code",
      "source": "5*5",
      "metadata": {
        "trusted": true
      },
      "execution_count": 53,
      "outputs": [
        {
          "execution_count": 53,
          "output_type": "execute_result",
          "data": {
            "text/plain": "25"
          },
          "metadata": {}
        }
      ]
    },
    {
      "cell_type": "code",
      "source": "25/5",
      "metadata": {
        "trusted": true
      },
      "execution_count": 54,
      "outputs": [
        {
          "execution_count": 54,
          "output_type": "execute_result",
          "data": {
            "text/plain": "5.0"
          },
          "metadata": {}
        }
      ]
    },
    {
      "cell_type": "code",
      "source": "25/6",
      "metadata": {
        "trusted": true
      },
      "execution_count": 55,
      "outputs": [
        {
          "execution_count": 55,
          "output_type": "execute_result",
          "data": {
            "text/plain": "4.166666666666667"
          },
          "metadata": {}
        }
      ]
    },
    {
      "cell_type": "code",
      "source": "25//6",
      "metadata": {
        "trusted": true
      },
      "execution_count": 56,
      "outputs": [
        {
          "execution_count": 56,
          "output_type": "execute_result",
          "data": {
            "text/plain": "4"
          },
          "metadata": {}
        }
      ]
    },
    {
      "cell_type": "code",
      "source": "2*60+30",
      "metadata": {
        "trusted": true
      },
      "execution_count": 57,
      "outputs": [
        {
          "execution_count": 57,
          "output_type": "execute_result",
          "data": {
            "text/plain": "150"
          },
          "metadata": {}
        }
      ]
    },
    {
      "cell_type": "code",
      "source": "30+2*60",
      "metadata": {
        "trusted": true
      },
      "execution_count": 58,
      "outputs": [
        {
          "execution_count": 58,
          "output_type": "execute_result",
          "data": {
            "text/plain": "150"
          },
          "metadata": {}
        }
      ]
    },
    {
      "cell_type": "code",
      "source": "(30+2)*60",
      "metadata": {
        "trusted": true
      },
      "execution_count": 60,
      "outputs": [
        {
          "execution_count": 60,
          "output_type": "execute_result",
          "data": {
            "text/plain": "1920"
          },
          "metadata": {}
        }
      ]
    },
    {
      "cell_type": "code",
      "source": "x=5\ny=1",
      "metadata": {
        "trusted": true
      },
      "execution_count": 61,
      "outputs": []
    },
    {
      "cell_type": "code",
      "source": "x+y",
      "metadata": {
        "trusted": true
      },
      "execution_count": 62,
      "outputs": [
        {
          "execution_count": 62,
          "output_type": "execute_result",
          "data": {
            "text/plain": "6"
          },
          "metadata": {}
        }
      ]
    },
    {
      "cell_type": "code",
      "source": "x=160",
      "metadata": {
        "trusted": true
      },
      "execution_count": 63,
      "outputs": []
    },
    {
      "cell_type": "code",
      "source": "x=x/60",
      "metadata": {
        "trusted": true
      },
      "execution_count": 64,
      "outputs": []
    },
    {
      "cell_type": "code",
      "source": "x",
      "metadata": {
        "trusted": true
      },
      "execution_count": 70,
      "outputs": [
        {
          "execution_count": 70,
          "output_type": "execute_result",
          "data": {
            "text/plain": "2.6666666666666665"
          },
          "metadata": {}
        }
      ]
    },
    {
      "cell_type": "code",
      "source": "type(x)",
      "metadata": {
        "trusted": true
      },
      "execution_count": 71,
      "outputs": [
        {
          "execution_count": 71,
          "output_type": "execute_result",
          "data": {
            "text/plain": "float"
          },
          "metadata": {}
        }
      ]
    },
    {
      "cell_type": "code",
      "source": "total_min=42+45+98",
      "metadata": {
        "trusted": true
      },
      "execution_count": 72,
      "outputs": []
    },
    {
      "cell_type": "code",
      "source": "total_hour=total_min//60",
      "metadata": {
        "trusted": true
      },
      "execution_count": 75,
      "outputs": []
    },
    {
      "cell_type": "code",
      "source": "total_hour",
      "metadata": {
        "trusted": true
      },
      "execution_count": 76,
      "outputs": [
        {
          "execution_count": 76,
          "output_type": "execute_result",
          "data": {
            "text/plain": "3"
          },
          "metadata": {}
        }
      ]
    },
    {
      "cell_type": "markdown",
      "source": "4. **String And Index** - String can be spaces,digits or special character.",
      "metadata": {}
    },
    {
      "cell_type": "code",
      "source": "\"1 2  3 4 5\"",
      "metadata": {
        "trusted": true
      },
      "execution_count": 77,
      "outputs": [
        {
          "execution_count": 77,
          "output_type": "execute_result",
          "data": {
            "text/plain": "'1 2  3 4 5'"
          },
          "metadata": {}
        }
      ]
    },
    {
      "cell_type": "code",
      "source": "\"@#$%^&*!\"",
      "metadata": {
        "trusted": true
      },
      "execution_count": 78,
      "outputs": [
        {
          "execution_count": 78,
          "output_type": "execute_result",
          "data": {
            "text/plain": "'@#$%^&*!'"
          },
          "metadata": {}
        }
      ]
    },
    {
      "cell_type": "code",
      "source": "Name=\"Michael Jackson\"",
      "metadata": {
        "trusted": true
      },
      "execution_count": 79,
      "outputs": []
    },
    {
      "cell_type": "code",
      "source": "Name[0]",
      "metadata": {
        "trusted": true
      },
      "execution_count": 80,
      "outputs": [
        {
          "execution_count": 80,
          "output_type": "execute_result",
          "data": {
            "text/plain": "'M'"
          },
          "metadata": {}
        }
      ]
    },
    {
      "cell_type": "code",
      "source": "Name[0:4]",
      "metadata": {
        "trusted": true
      },
      "execution_count": 83,
      "outputs": [
        {
          "execution_count": 83,
          "output_type": "execute_result",
          "data": {
            "text/plain": "'Mich'"
          },
          "metadata": {}
        }
      ]
    },
    {
      "cell_type": "code",
      "source": "Name[-1]",
      "metadata": {
        "trusted": true
      },
      "execution_count": 84,
      "outputs": [
        {
          "execution_count": 84,
          "output_type": "execute_result",
          "data": {
            "text/plain": "'n'"
          },
          "metadata": {}
        }
      ]
    },
    {
      "cell_type": "code",
      "source": "Name[8:12]",
      "metadata": {
        "trusted": true
      },
      "execution_count": 85,
      "outputs": [
        {
          "execution_count": 85,
          "output_type": "execute_result",
          "data": {
            "text/plain": "'Jack'"
          },
          "metadata": {}
        }
      ]
    },
    {
      "cell_type": "code",
      "source": "Name[::2]",
      "metadata": {
        "trusted": true
      },
      "execution_count": 87,
      "outputs": [
        {
          "execution_count": 87,
          "output_type": "execute_result",
          "data": {
            "text/plain": "'McalJcsn'"
          },
          "metadata": {}
        }
      ]
    },
    {
      "cell_type": "code",
      "source": "Name[0:5:2]",
      "metadata": {
        "trusted": true
      },
      "execution_count": 88,
      "outputs": [
        {
          "execution_count": 88,
          "output_type": "execute_result",
          "data": {
            "text/plain": "'Mca'"
          },
          "metadata": {}
        }
      ]
    },
    {
      "cell_type": "code",
      "source": "len(Name)",
      "metadata": {
        "trusted": true
      },
      "execution_count": 89,
      "outputs": [
        {
          "execution_count": 89,
          "output_type": "execute_result",
          "data": {
            "text/plain": "15"
          },
          "metadata": {}
        }
      ]
    },
    {
      "cell_type": "code",
      "source": "Statement=Name+'is the best'",
      "metadata": {
        "trusted": true
      },
      "execution_count": 90,
      "outputs": []
    },
    {
      "cell_type": "code",
      "source": "Statement",
      "metadata": {
        "trusted": true
      },
      "execution_count": 91,
      "outputs": [
        {
          "execution_count": 91,
          "output_type": "execute_result",
          "data": {
            "text/plain": "'Michael Jacksonis the best'"
          },
          "metadata": {}
        }
      ]
    },
    {
      "cell_type": "code",
      "source": "3*Statement",
      "metadata": {
        "trusted": true
      },
      "execution_count": 92,
      "outputs": [
        {
          "execution_count": 92,
          "output_type": "execute_result",
          "data": {
            "text/plain": "'Michael Jacksonis the bestMichael Jacksonis the bestMichael Jacksonis the best'"
          },
          "metadata": {}
        }
      ]
    },
    {
      "cell_type": "code",
      "source": "Name=Name+' is a danser'",
      "metadata": {
        "trusted": true
      },
      "execution_count": 93,
      "outputs": []
    },
    {
      "cell_type": "code",
      "source": "Name",
      "metadata": {
        "trusted": true
      },
      "execution_count": 115,
      "outputs": [
        {
          "execution_count": 115,
          "output_type": "execute_result",
          "data": {
            "text/plain": "'Michael Jacksonis a danser'"
          },
          "metadata": {}
        }
      ]
    },
    {
      "cell_type": "code",
      "source": "print('Michael Jackson \\n is a danser')",
      "metadata": {
        "trusted": true
      },
      "execution_count": 111,
      "outputs": [
        {
          "name": "stdout",
          "text": "Michael Jackson \n is a danser\n",
          "output_type": "stream"
        }
      ]
    },
    {
      "cell_type": "code",
      "source": "print('Michael Jackson \\\\ is a danser')",
      "metadata": {
        "trusted": true
      },
      "execution_count": 112,
      "outputs": [
        {
          "name": "stdout",
          "text": "Michael Jackson \\ is a danser\n",
          "output_type": "stream"
        }
      ]
    },
    {
      "cell_type": "code",
      "source": "A=Name.upper()",
      "metadata": {
        "trusted": true
      },
      "execution_count": 113,
      "outputs": []
    },
    {
      "cell_type": "code",
      "source": "A",
      "metadata": {
        "trusted": true
      },
      "execution_count": 114,
      "outputs": [
        {
          "execution_count": 114,
          "output_type": "execute_result",
          "data": {
            "text/plain": "'MICHAEL JACKSONIS A DANSER'"
          },
          "metadata": {}
        }
      ]
    },
    {
      "cell_type": "code",
      "source": "B=A.lower()",
      "metadata": {
        "trusted": true
      },
      "execution_count": 106,
      "outputs": []
    },
    {
      "cell_type": "code",
      "source": "B",
      "metadata": {
        "trusted": true
      },
      "execution_count": 107,
      "outputs": [
        {
          "execution_count": 107,
          "output_type": "execute_result",
          "data": {
            "text/plain": "'michael jacksonis a danser'"
          },
          "metadata": {}
        }
      ]
    },
    {
      "cell_type": "code",
      "source": "C=A.replace('MICHAEL','JANET')",
      "metadata": {
        "trusted": true
      },
      "execution_count": 108,
      "outputs": []
    },
    {
      "cell_type": "code",
      "source": "C",
      "metadata": {
        "trusted": true
      },
      "execution_count": 109,
      "outputs": [
        {
          "execution_count": 109,
          "output_type": "execute_result",
          "data": {
            "text/plain": "'JANET JACKSONIS A DANSER'"
          },
          "metadata": {}
        }
      ]
    },
    {
      "cell_type": "code",
      "source": "C.find('er')",
      "metadata": {
        "trusted": true
      },
      "execution_count": 118,
      "outputs": [
        {
          "execution_count": 118,
          "output_type": "execute_result",
          "data": {
            "text/plain": "-1"
          },
          "metadata": {}
        }
      ]
    },
    {
      "cell_type": "code",
      "source": "C.find('JANET')",
      "metadata": {
        "trusted": true
      },
      "execution_count": 120,
      "outputs": [
        {
          "execution_count": 120,
          "output_type": "execute_result",
          "data": {
            "text/plain": "0"
          },
          "metadata": {}
        }
      ]
    },
    {
      "cell_type": "markdown",
      "source": "5. **Touples**",
      "metadata": {}
    },
    {
      "cell_type": "code",
      "source": "Ratings=(10,9,6,5,10,8,9,6,2)",
      "metadata": {
        "trusted": true
      },
      "execution_count": 121,
      "outputs": []
    },
    {
      "cell_type": "code",
      "source": "Touple1=(\"Disco\",10,1.2)",
      "metadata": {
        "trusted": true
      },
      "execution_count": 122,
      "outputs": []
    },
    {
      "cell_type": "code",
      "source": "Touple1[0]",
      "metadata": {
        "trusted": true
      },
      "execution_count": 123,
      "outputs": [
        {
          "execution_count": 123,
          "output_type": "execute_result",
          "data": {
            "text/plain": "'Disco'"
          },
          "metadata": {}
        }
      ]
    },
    {
      "cell_type": "code",
      "source": "Touple2=Touple1+(\"hard rock\",10)",
      "metadata": {
        "trusted": true
      },
      "execution_count": 124,
      "outputs": []
    },
    {
      "cell_type": "code",
      "source": "Touple2",
      "metadata": {
        "trusted": true
      },
      "execution_count": 125,
      "outputs": [
        {
          "execution_count": 125,
          "output_type": "execute_result",
          "data": {
            "text/plain": "('Disco', 10, 1.2, 'hard rock', 10)"
          },
          "metadata": {}
        }
      ]
    },
    {
      "cell_type": "code",
      "source": "Touple2[0:3]",
      "metadata": {
        "trusted": true
      },
      "execution_count": 126,
      "outputs": [
        {
          "execution_count": 126,
          "output_type": "execute_result",
          "data": {
            "text/plain": "('Disco', 10, 1.2)"
          },
          "metadata": {}
        }
      ]
    },
    {
      "cell_type": "code",
      "source": "Touple2[3:5]",
      "metadata": {
        "trusted": true
      },
      "execution_count": 127,
      "outputs": [
        {
          "execution_count": 127,
          "output_type": "execute_result",
          "data": {
            "text/plain": "('hard rock', 10)"
          },
          "metadata": {}
        }
      ]
    },
    {
      "cell_type": "code",
      "source": "len(Touple2)",
      "metadata": {
        "trusted": true
      },
      "execution_count": 130,
      "outputs": [
        {
          "execution_count": 130,
          "output_type": "execute_result",
          "data": {
            "text/plain": "5"
          },
          "metadata": {}
        }
      ]
    },
    {
      "cell_type": "code",
      "source": "Ratings2=Ratings",
      "metadata": {
        "trusted": true
      },
      "execution_count": 131,
      "outputs": []
    },
    {
      "cell_type": "code",
      "source": "Ratings=(2,10,1)",
      "metadata": {
        "trusted": true
      },
      "execution_count": 138,
      "outputs": []
    },
    {
      "cell_type": "code",
      "source": "Ratings2",
      "metadata": {
        "trusted": true
      },
      "execution_count": 133,
      "outputs": [
        {
          "execution_count": 133,
          "output_type": "execute_result",
          "data": {
            "text/plain": "(10, 9, 6, 5, 10, 8, 9, 6, 2)"
          },
          "metadata": {}
        }
      ]
    },
    {
      "cell_type": "code",
      "source": "Ratings",
      "metadata": {
        "trusted": true
      },
      "execution_count": 135,
      "outputs": [
        {
          "execution_count": 135,
          "output_type": "execute_result",
          "data": {
            "text/plain": "(2, 10, 1)"
          },
          "metadata": {}
        }
      ]
    },
    {
      "cell_type": "code",
      "source": "RatingsSorted=sorted(Ratings)",
      "metadata": {
        "trusted": true
      },
      "execution_count": 136,
      "outputs": []
    },
    {
      "cell_type": "code",
      "source": "RatingsSorted",
      "metadata": {
        "trusted": true
      },
      "execution_count": 137,
      "outputs": [
        {
          "execution_count": 137,
          "output_type": "execute_result",
          "data": {
            "text/plain": "[1, 2, 10]"
          },
          "metadata": {}
        }
      ]
    },
    {
      "cell_type": "code",
      "source": "NT=(1,2,(\"POP\",\"ROCK\"),(3,4),(\"DISCO\",(1,2)))",
      "metadata": {
        "trusted": true
      },
      "execution_count": 139,
      "outputs": []
    },
    {
      "cell_type": "code",
      "source": "NT[2]",
      "metadata": {
        "trusted": true
      },
      "execution_count": 140,
      "outputs": [
        {
          "execution_count": 140,
          "output_type": "execute_result",
          "data": {
            "text/plain": "('POP', 'ROCK')"
          },
          "metadata": {}
        }
      ]
    },
    {
      "cell_type": "code",
      "source": "NT[2][0]",
      "metadata": {
        "trusted": true
      },
      "execution_count": 141,
      "outputs": [
        {
          "execution_count": 141,
          "output_type": "execute_result",
          "data": {
            "text/plain": "'POP'"
          },
          "metadata": {}
        }
      ]
    },
    {
      "cell_type": "code",
      "source": "NT[4][1][0]",
      "metadata": {
        "trusted": true
      },
      "execution_count": 142,
      "outputs": [
        {
          "execution_count": 142,
          "output_type": "execute_result",
          "data": {
            "text/plain": "1"
          },
          "metadata": {}
        }
      ]
    },
    {
      "cell_type": "markdown",
      "source": "6. **LISTS**",
      "metadata": {}
    },
    {
      "cell_type": "code",
      "source": "L=[\"MICHEL JACKSON\",10.1,1982,[1,2],('A',1)]",
      "metadata": {
        "trusted": true
      },
      "execution_count": 143,
      "outputs": []
    },
    {
      "cell_type": "code",
      "source": "L[0]",
      "metadata": {
        "trusted": true
      },
      "execution_count": 144,
      "outputs": [
        {
          "execution_count": 144,
          "output_type": "execute_result",
          "data": {
            "text/plain": "'MICHEL JACKSON'"
          },
          "metadata": {}
        }
      ]
    },
    {
      "cell_type": "code",
      "source": "L[3:5]",
      "metadata": {
        "trusted": true
      },
      "execution_count": 145,
      "outputs": [
        {
          "execution_count": 145,
          "output_type": "execute_result",
          "data": {
            "text/plain": "[[1, 2], ('A', 1)]"
          },
          "metadata": {}
        }
      ]
    },
    {
      "cell_type": "code",
      "source": "L1=L+[\"POP\",10]",
      "metadata": {
        "trusted": true
      },
      "execution_count": 146,
      "outputs": []
    },
    {
      "cell_type": "code",
      "source": "L1",
      "metadata": {
        "trusted": true
      },
      "execution_count": 147,
      "outputs": [
        {
          "execution_count": 147,
          "output_type": "execute_result",
          "data": {
            "text/plain": "['MICHEL JACKSON', 10.1, 1982, [1, 2], ('A', 1), 'POP', 10]"
          },
          "metadata": {}
        }
      ]
    },
    {
      "cell_type": "code",
      "source": "L1.extend([11,12])",
      "metadata": {
        "trusted": true
      },
      "execution_count": 150,
      "outputs": []
    },
    {
      "cell_type": "code",
      "source": "L1",
      "metadata": {
        "trusted": true
      },
      "execution_count": 151,
      "outputs": [
        {
          "execution_count": 151,
          "output_type": "execute_result",
          "data": {
            "text/plain": "['MICHEL JACKSON', 10.1, 1982, [1, 2], ('A', 1), 'POP', 10, 11, 12]"
          },
          "metadata": {}
        }
      ]
    },
    {
      "cell_type": "code",
      "source": "L1.append([\"13\",\"14\"])",
      "metadata": {
        "trusted": true
      },
      "execution_count": 153,
      "outputs": []
    },
    {
      "cell_type": "code",
      "source": "L1",
      "metadata": {
        "trusted": true
      },
      "execution_count": 154,
      "outputs": [
        {
          "execution_count": 154,
          "output_type": "execute_result",
          "data": {
            "text/plain": "['MICHEL JACKSON',\n 10.1,\n 1982,\n [1, 2],\n ('A', 1),\n 'POP',\n 10,\n 11,\n 12,\n ['13', '14']]"
          },
          "metadata": {}
        }
      ]
    },
    {
      "cell_type": "code",
      "source": "del(L1[0])",
      "metadata": {
        "trusted": true
      },
      "execution_count": 155,
      "outputs": []
    },
    {
      "cell_type": "code",
      "source": "L1",
      "metadata": {
        "trusted": true
      },
      "execution_count": 156,
      "outputs": [
        {
          "execution_count": 156,
          "output_type": "execute_result",
          "data": {
            "text/plain": "[10.1, 1982, [1, 2], ('A', 1), 'POP', 10, 11, 12, ['13', '14']]"
          },
          "metadata": {}
        }
      ]
    },
    {
      "cell_type": "code",
      "source": "L1.extend(['MICHEL JACKSON'])",
      "metadata": {
        "trusted": true
      },
      "execution_count": 157,
      "outputs": []
    },
    {
      "cell_type": "code",
      "source": "L1",
      "metadata": {
        "trusted": true
      },
      "execution_count": 158,
      "outputs": [
        {
          "execution_count": 158,
          "output_type": "execute_result",
          "data": {
            "text/plain": "[10.1,\n 1982,\n [1, 2],\n ('A', 1),\n 'POP',\n 10,\n 11,\n 12,\n ['13', '14'],\n 'MICHEL JACKSON']"
          },
          "metadata": {}
        }
      ]
    },
    {
      "cell_type": "code",
      "source": "'MICHEL JACKSON'.split()",
      "metadata": {
        "trusted": true
      },
      "execution_count": 159,
      "outputs": [
        {
          "execution_count": 159,
          "output_type": "execute_result",
          "data": {
            "text/plain": "['MICHEL', 'JACKSON']"
          },
          "metadata": {}
        }
      ]
    },
    {
      "cell_type": "code",
      "source": "L1",
      "metadata": {
        "trusted": true
      },
      "execution_count": 160,
      "outputs": [
        {
          "execution_count": 160,
          "output_type": "execute_result",
          "data": {
            "text/plain": "[10.1,\n 1982,\n [1, 2],\n ('A', 1),\n 'POP',\n 10,\n 11,\n 12,\n ['13', '14'],\n 'MICHEL JACKSON']"
          },
          "metadata": {}
        }
      ]
    },
    {
      "cell_type": "code",
      "source": "\"A,B,C,D,E\".split(\",\")",
      "metadata": {
        "trusted": true
      },
      "execution_count": 163,
      "outputs": [
        {
          "execution_count": 163,
          "output_type": "execute_result",
          "data": {
            "text/plain": "['A', 'B', 'C', 'D', 'E']"
          },
          "metadata": {}
        }
      ]
    },
    {
      "cell_type": "code",
      "source": "L2=L1",
      "metadata": {
        "trusted": true
      },
      "execution_count": 164,
      "outputs": []
    },
    {
      "cell_type": "code",
      "source": "L2",
      "metadata": {
        "trusted": true
      },
      "execution_count": 165,
      "outputs": [
        {
          "execution_count": 165,
          "output_type": "execute_result",
          "data": {
            "text/plain": "[10.1,\n 1982,\n [1, 2],\n ('A', 1),\n 'POP',\n 10,\n 11,\n 12,\n ['13', '14'],\n 'MICHEL JACKSON']"
          },
          "metadata": {}
        }
      ]
    },
    {
      "cell_type": "code",
      "source": "del(L2[0])",
      "metadata": {
        "trusted": true
      },
      "execution_count": 166,
      "outputs": []
    },
    {
      "cell_type": "code",
      "source": "L2",
      "metadata": {
        "trusted": true
      },
      "execution_count": 167,
      "outputs": [
        {
          "execution_count": 167,
          "output_type": "execute_result",
          "data": {
            "text/plain": "[1982, [1, 2], ('A', 1), 'POP', 10, 11, 12, ['13', '14'], 'MICHEL JACKSON']"
          },
          "metadata": {}
        }
      ]
    },
    {
      "cell_type": "code",
      "source": "L1",
      "metadata": {
        "trusted": true
      },
      "execution_count": 168,
      "outputs": [
        {
          "execution_count": 168,
          "output_type": "execute_result",
          "data": {
            "text/plain": "[1982, [1, 2], ('A', 1), 'POP', 10, 11, 12, ['13', '14'], 'MICHEL JACKSON']"
          },
          "metadata": {}
        }
      ]
    },
    {
      "cell_type": "code",
      "source": "L2=L1[:]",
      "metadata": {
        "trusted": true
      },
      "execution_count": 169,
      "outputs": []
    },
    {
      "cell_type": "code",
      "source": "L2[0]=\"banana\"",
      "metadata": {
        "trusted": true
      },
      "execution_count": 170,
      "outputs": []
    },
    {
      "cell_type": "code",
      "source": "L2",
      "metadata": {
        "trusted": true
      },
      "execution_count": 171,
      "outputs": [
        {
          "execution_count": 171,
          "output_type": "execute_result",
          "data": {
            "text/plain": "['banana', [1, 2], ('A', 1), 'POP', 10, 11, 12, ['13', '14'], 'MICHEL JACKSON']"
          },
          "metadata": {}
        }
      ]
    },
    {
      "cell_type": "code",
      "source": "L1",
      "metadata": {
        "trusted": true
      },
      "execution_count": 172,
      "outputs": [
        {
          "execution_count": 172,
          "output_type": "execute_result",
          "data": {
            "text/plain": "[1982, [1, 2], ('A', 1), 'POP', 10, 11, 12, ['13', '14'], 'MICHEL JACKSON']"
          },
          "metadata": {}
        }
      ]
    },
    {
      "cell_type": "markdown",
      "source": "7. **Dictionaries**",
      "metadata": {}
    },
    {
      "cell_type": "code",
      "source": "dict={\"Thriller\":1982,\"black in black\":1980,\"The dark side of the moon\":1973,\"The Bodyguard\":1992}",
      "metadata": {
        "trusted": true
      },
      "execution_count": 179,
      "outputs": []
    },
    {
      "cell_type": "code",
      "source": "dict[\"Thriller\"]",
      "metadata": {
        "trusted": true
      },
      "execution_count": 182,
      "outputs": [
        {
          "execution_count": 182,
          "output_type": "execute_result",
          "data": {
            "text/plain": "1982"
          },
          "metadata": {}
        }
      ]
    },
    {
      "cell_type": "code",
      "source": "dict['graduation']=2007",
      "metadata": {
        "trusted": true
      },
      "execution_count": 186,
      "outputs": []
    },
    {
      "cell_type": "code",
      "source": "dict",
      "metadata": {
        "trusted": true
      },
      "execution_count": 187,
      "outputs": [
        {
          "execution_count": 187,
          "output_type": "execute_result",
          "data": {
            "text/plain": "{'Thriller': 1982,\n 'black in black': 1980,\n 'The dark side of the moon': 1973,\n 'The Bodyguard': 1992,\n 'graduation': 2007}"
          },
          "metadata": {}
        }
      ]
    },
    {
      "cell_type": "code",
      "source": "del(dict['Thriller'])",
      "metadata": {
        "trusted": true
      },
      "execution_count": 188,
      "outputs": []
    },
    {
      "cell_type": "code",
      "source": "dict",
      "metadata": {
        "trusted": true
      },
      "execution_count": 189,
      "outputs": [
        {
          "execution_count": 189,
          "output_type": "execute_result",
          "data": {
            "text/plain": "{'black in black': 1980,\n 'The dark side of the moon': 1973,\n 'The Bodyguard': 1992,\n 'graduation': 2007}"
          },
          "metadata": {}
        }
      ]
    },
    {
      "cell_type": "code",
      "source": "'The Bodyguard' in dict",
      "metadata": {
        "trusted": true
      },
      "execution_count": 190,
      "outputs": [
        {
          "execution_count": 190,
          "output_type": "execute_result",
          "data": {
            "text/plain": "True"
          },
          "metadata": {}
        }
      ]
    },
    {
      "cell_type": "code",
      "source": "'starboy' in dict",
      "metadata": {
        "trusted": true
      },
      "execution_count": 191,
      "outputs": [
        {
          "execution_count": 191,
          "output_type": "execute_result",
          "data": {
            "text/plain": "False"
          },
          "metadata": {}
        }
      ]
    },
    {
      "cell_type": "code",
      "source": "dict.keys()",
      "metadata": {
        "trusted": true
      },
      "execution_count": 192,
      "outputs": [
        {
          "execution_count": 192,
          "output_type": "execute_result",
          "data": {
            "text/plain": "dict_keys(['black in black', 'The dark side of the moon', 'The Bodyguard', 'graduation'])"
          },
          "metadata": {}
        }
      ]
    },
    {
      "cell_type": "code",
      "source": "dict.values()",
      "metadata": {
        "trusted": true
      },
      "execution_count": 193,
      "outputs": [
        {
          "execution_count": 193,
          "output_type": "execute_result",
          "data": {
            "text/plain": "dict_values([1980, 1973, 1992, 2007])"
          },
          "metadata": {}
        }
      ]
    },
    {
      "cell_type": "markdown",
      "source": "8. **SETS**",
      "metadata": {}
    },
    {
      "cell_type": "markdown",
      "source": "- Sets are type of collection.This Means like list and Touples you can input different python types.\n- Unlike List and touples they are unordered,ie. Sets do not record element position.\n- Sets only have unique elements this means there is only one of a particular element is a Set.\n- You can convert list to a set.",
      "metadata": {}
    },
    {
      "cell_type": "code",
      "source": "set1={\"pop\",\"rock\",\"soul\",\"hard rock\",\"rock\",\"R&B\",\"rock\",\"disco\"}",
      "metadata": {
        "trusted": true
      },
      "execution_count": 195,
      "outputs": []
    },
    {
      "cell_type": "code",
      "source": "set1",
      "metadata": {
        "trusted": true
      },
      "execution_count": 196,
      "outputs": [
        {
          "execution_count": 196,
          "output_type": "execute_result",
          "data": {
            "text/plain": "{'R&B', 'disco', 'hard rock', 'pop', 'rock', 'soul'}"
          },
          "metadata": {}
        }
      ]
    },
    {
      "cell_type": "code",
      "source": "L5=[1,2,2,3,4]",
      "metadata": {
        "trusted": true
      },
      "execution_count": 197,
      "outputs": []
    },
    {
      "cell_type": "code",
      "source": "L5",
      "metadata": {
        "trusted": true
      },
      "execution_count": 200,
      "outputs": [
        {
          "execution_count": 200,
          "output_type": "execute_result",
          "data": {
            "text/plain": "[1, 2, 2, 3, 4]"
          },
          "metadata": {}
        }
      ]
    },
    {
      "cell_type": "code",
      "source": "S1=set(L5)",
      "metadata": {
        "trusted": true
      },
      "execution_count": 198,
      "outputs": []
    },
    {
      "cell_type": "code",
      "source": "S1",
      "metadata": {
        "trusted": true
      },
      "execution_count": 199,
      "outputs": [
        {
          "execution_count": 199,
          "output_type": "execute_result",
          "data": {
            "text/plain": "{1, 2, 3, 4}"
          },
          "metadata": {}
        }
      ]
    },
    {
      "cell_type": "code",
      "source": "A={'Thriller','Back in black','AC/DC'}",
      "metadata": {
        "trusted": true
      },
      "execution_count": 201,
      "outputs": []
    },
    {
      "cell_type": "code",
      "source": "A.add(\"NSYNC\")",
      "metadata": {
        "trusted": true
      },
      "execution_count": 202,
      "outputs": []
    },
    {
      "cell_type": "code",
      "source": "A",
      "metadata": {
        "trusted": true
      },
      "execution_count": 203,
      "outputs": [
        {
          "execution_count": 203,
          "output_type": "execute_result",
          "data": {
            "text/plain": "{'AC/DC', 'Back in black', 'NSYNC', 'Thriller'}"
          },
          "metadata": {}
        }
      ]
    },
    {
      "cell_type": "code",
      "source": "A.remove('Thriller')",
      "metadata": {
        "trusted": true
      },
      "execution_count": 204,
      "outputs": []
    },
    {
      "cell_type": "code",
      "source": "A",
      "metadata": {
        "trusted": true
      },
      "execution_count": 205,
      "outputs": [
        {
          "execution_count": 205,
          "output_type": "execute_result",
          "data": {
            "text/plain": "{'AC/DC', 'Back in black', 'NSYNC'}"
          },
          "metadata": {}
        }
      ]
    },
    {
      "cell_type": "code",
      "source": "album_set_1={'Thriller','Back in black','Moon'}",
      "metadata": {
        "trusted": true
      },
      "execution_count": 3,
      "outputs": []
    },
    {
      "cell_type": "code",
      "source": "album_set_2={'Thriller','Back in black','NSYNC'}",
      "metadata": {
        "trusted": true
      },
      "execution_count": 4,
      "outputs": []
    },
    {
      "cell_type": "code",
      "source": "album_set_3=album_set_1&album_set_2",
      "metadata": {
        "trusted": true
      },
      "execution_count": 5,
      "outputs": []
    },
    {
      "cell_type": "code",
      "source": "album_set_3",
      "metadata": {
        "trusted": true
      },
      "execution_count": 6,
      "outputs": [
        {
          "execution_count": 6,
          "output_type": "execute_result",
          "data": {
            "text/plain": "{'Back in black', 'Thriller'}"
          },
          "metadata": {}
        }
      ]
    },
    {
      "cell_type": "code",
      "source": "album_set_4=album_set_1.union(album_set_2)",
      "metadata": {
        "trusted": true
      },
      "execution_count": 8,
      "outputs": []
    },
    {
      "cell_type": "code",
      "source": "album_set_4",
      "metadata": {
        "trusted": true
      },
      "execution_count": 9,
      "outputs": [
        {
          "execution_count": 9,
          "output_type": "execute_result",
          "data": {
            "text/plain": "{'Back in black', 'Moon', 'NSYNC', 'Thriller'}"
          },
          "metadata": {}
        }
      ]
    },
    {
      "cell_type": "code",
      "source": "album_set_4.issubset(album_set_1)",
      "metadata": {
        "trusted": true
      },
      "execution_count": 13,
      "outputs": [
        {
          "execution_count": 13,
          "output_type": "execute_result",
          "data": {
            "text/plain": "False"
          },
          "metadata": {}
        }
      ]
    },
    {
      "cell_type": "code",
      "source": "album_set_1.issubset(album_set_4)",
      "metadata": {
        "trusted": true
      },
      "execution_count": 14,
      "outputs": [
        {
          "execution_count": 14,
          "output_type": "execute_result",
          "data": {
            "text/plain": "True"
          },
          "metadata": {}
        }
      ]
    },
    {
      "cell_type": "markdown",
      "source": "9. **Conditions and Branching**",
      "metadata": {}
    },
    {
      "cell_type": "code",
      "source": "A=6",
      "metadata": {
        "trusted": true
      },
      "execution_count": 15,
      "outputs": []
    },
    {
      "cell_type": "code",
      "source": "A==6",
      "metadata": {
        "trusted": true
      },
      "execution_count": 16,
      "outputs": [
        {
          "execution_count": 16,
          "output_type": "execute_result",
          "data": {
            "text/plain": "True"
          },
          "metadata": {}
        }
      ]
    },
    {
      "cell_type": "code",
      "source": "A==7",
      "metadata": {
        "trusted": true
      },
      "execution_count": 17,
      "outputs": [
        {
          "execution_count": 17,
          "output_type": "execute_result",
          "data": {
            "text/plain": "False"
          },
          "metadata": {}
        }
      ]
    },
    {
      "cell_type": "code",
      "source": "A>7",
      "metadata": {
        "trusted": true
      },
      "execution_count": 25,
      "outputs": [
        {
          "execution_count": 25,
          "output_type": "execute_result",
          "data": {
            "text/plain": "False"
          },
          "metadata": {}
        }
      ]
    },
    {
      "cell_type": "code",
      "source": "A<7",
      "metadata": {
        "trusted": true
      },
      "execution_count": 26,
      "outputs": [
        {
          "execution_count": 26,
          "output_type": "execute_result",
          "data": {
            "text/plain": "True"
          },
          "metadata": {}
        }
      ]
    },
    {
      "cell_type": "code",
      "source": "A!=7",
      "metadata": {
        "trusted": true
      },
      "execution_count": 28,
      "outputs": [
        {
          "execution_count": 28,
          "output_type": "execute_result",
          "data": {
            "text/plain": "True"
          },
          "metadata": {}
        }
      ]
    },
    {
      "cell_type": "code",
      "source": "A!=6",
      "metadata": {
        "trusted": true
      },
      "execution_count": 29,
      "outputs": [
        {
          "execution_count": 29,
          "output_type": "execute_result",
          "data": {
            "text/plain": "False"
          },
          "metadata": {}
        }
      ]
    },
    {
      "cell_type": "code",
      "source": "\"LOVE\"==\"HATE\"",
      "metadata": {
        "trusted": true
      },
      "execution_count": 30,
      "outputs": [
        {
          "execution_count": 30,
          "output_type": "execute_result",
          "data": {
            "text/plain": "False"
          },
          "metadata": {}
        }
      ]
    },
    {
      "cell_type": "code",
      "source": "\"LOVE\"!=\"HATE\"",
      "metadata": {
        "trusted": true
      },
      "execution_count": 31,
      "outputs": [
        {
          "execution_count": 31,
          "output_type": "execute_result",
          "data": {
            "text/plain": "True"
          },
          "metadata": {}
        }
      ]
    },
    {
      "cell_type": "code",
      "source": "age=19",
      "metadata": {
        "trusted": true
      },
      "execution_count": 61,
      "outputs": []
    },
    {
      "cell_type": "code",
      "source": "if (age>18):\n    print(\"you can enter\")\nelse:\n    print(\"move on\")",
      "metadata": {
        "trusted": true
      },
      "execution_count": 60,
      "outputs": [
        {
          "name": "stdout",
          "text": "you can enter\n",
          "output_type": "stream"
        }
      ]
    },
    {
      "cell_type": "code",
      "source": "if (age>18):\n    print(\"you can enter\")\nelif (age>16):\n    print(\"medical test\")\nelse:\n    print(\"move on\")",
      "metadata": {
        "trusted": true
      },
      "execution_count": 48,
      "outputs": [
        {
          "name": "stdout",
          "text": "medical test\n",
          "output_type": "stream"
        }
      ]
    },
    {
      "cell_type": "code",
      "source": "if age<18 or age>16:\n    print (\"ok\")\nelse:\n    print(\"not ok\")",
      "metadata": {
        "trusted": true
      },
      "execution_count": 64,
      "outputs": [
        {
          "name": "stdout",
          "text": "ok\n",
          "output_type": "stream"
        }
      ]
    },
    {
      "cell_type": "code",
      "source": "if age<18 and age>16:\n    print (\"ok\")\nelse:\n    print(\"not ok\")",
      "metadata": {
        "trusted": true
      },
      "execution_count": 65,
      "outputs": [
        {
          "name": "stdout",
          "text": "not ok\n",
          "output_type": "stream"
        }
      ]
    },
    {
      "cell_type": "markdown",
      "source": "10. **Loops**",
      "metadata": {}
    },
    {
      "cell_type": "code",
      "source": "x = range(6)\nfor n in x:\n  print(n)",
      "metadata": {
        "trusted": true
      },
      "execution_count": 69,
      "outputs": [
        {
          "name": "stdout",
          "text": "0\n1\n2\n3\n4\n5\n",
          "output_type": "stream"
        }
      ]
    },
    {
      "cell_type": "code",
      "source": "x = range(3, 6)\nfor n in x:\n  print(n)",
      "metadata": {
        "trusted": true
      },
      "execution_count": 70,
      "outputs": [
        {
          "name": "stdout",
          "text": "3\n4\n5\n",
          "output_type": "stream"
        }
      ]
    },
    {
      "cell_type": "code",
      "source": "x = range(3, 20, 2)\nfor n in x:\n  print(n)",
      "metadata": {
        "trusted": true
      },
      "execution_count": 71,
      "outputs": [
        {
          "name": "stdout",
          "text": "3\n5\n7\n9\n11\n13\n15\n17\n19\n",
          "output_type": "stream"
        }
      ]
    },
    {
      "cell_type": "markdown",
      "source": "# Python Math",
      "metadata": {}
    },
    {
      "cell_type": "markdown",
      "source": "Python has a set of built-in math functions, including an extensive math module, that allows you to perform mathematical tasks on numbers.",
      "metadata": {}
    },
    {
      "cell_type": "markdown",
      "source": "The min() and max() functions can be used to find the lowest or highest value in an iterable:",
      "metadata": {}
    },
    {
      "cell_type": "code",
      "source": "x = min(5, 10, 25)\ny = max(5, 10, 25)\n\nprint(x)\nprint(y)",
      "metadata": {
        "trusted": true
      },
      "execution_count": 308,
      "outputs": [
        {
          "name": "stdout",
          "text": "5\n25\n",
          "output_type": "stream"
        }
      ]
    },
    {
      "cell_type": "markdown",
      "source": "he abs() function returns the absolute (positive) value of the specified number",
      "metadata": {}
    },
    {
      "cell_type": "code",
      "source": "x = abs(-7.25)\n\nprint(x)",
      "metadata": {
        "trusted": true
      },
      "execution_count": 309,
      "outputs": [
        {
          "name": "stdout",
          "text": "7.25\n",
          "output_type": "stream"
        }
      ]
    },
    {
      "cell_type": "markdown",
      "source": "The pow(x, y) function returns the value of x to the power of y (xy).",
      "metadata": {}
    },
    {
      "cell_type": "markdown",
      "source": "Return the value of 4 to the power of 3 (same as 4 * 4 * 4):",
      "metadata": {}
    },
    {
      "cell_type": "code",
      "source": "x = pow(4, 3)\n\nprint(x)",
      "metadata": {
        "trusted": true
      },
      "execution_count": 311,
      "outputs": [
        {
          "name": "stdout",
          "text": "64\n",
          "output_type": "stream"
        }
      ]
    },
    {
      "cell_type": "markdown",
      "source": "Python has a built-in module that you can use for mathematical tasks.\n\nThe math module has a set of methods and constants.",
      "metadata": {}
    },
    {
      "cell_type": "markdown",
      "source": "math.acos()\tReturns the arc cosine of a number",
      "metadata": {}
    },
    {
      "cell_type": "code",
      "source": "# Import math Library\nimport math\n\n# Return the arc cosine of numbers\nprint(math.acos(0.55))\nprint(math.acos(-0.55))\nprint(math.acos(0))\nprint(math.acos(1))\nprint(math.acos(-1))",
      "metadata": {
        "trusted": true
      },
      "execution_count": 312,
      "outputs": [
        {
          "name": "stdout",
          "text": "0.9884320889261531\n2.15316056466364\n1.5707963267948966\n0.0\n3.141592653589793\n",
          "output_type": "stream"
        }
      ]
    },
    {
      "cell_type": "markdown",
      "source": "math.acosh()\tReturns the inverse hyperbolic cosine of a number",
      "metadata": {}
    },
    {
      "cell_type": "code",
      "source": "# Import math Library\nimport math\n\n# Return the inverse hyperbolic cosine of different numbers\nprint (math.acosh(7))\nprint (math.acosh(56))\nprint (math.acosh(2.45))\nprint (math.acosh(1))",
      "metadata": {
        "trusted": true
      },
      "execution_count": 313,
      "outputs": [
        {
          "name": "stdout",
          "text": "2.6339157938496336\n4.718419142372879\n1.5447131178707394\n0.0\n",
          "output_type": "stream"
        }
      ]
    },
    {
      "cell_type": "markdown",
      "source": "math.asin()\tReturns the arc sine of a number",
      "metadata": {}
    },
    {
      "cell_type": "code",
      "source": "# Import math Library\nimport math\n\n# Return the arc sine of numbers\nprint(math.asin(0.55))\nprint(math.asin(-0.55))\nprint(math.asin(0))\nprint(math.asin(1))\nprint(math.asin(-1))",
      "metadata": {
        "trusted": true
      },
      "execution_count": 314,
      "outputs": [
        {
          "name": "stdout",
          "text": "0.5823642378687435\n-0.5823642378687435\n0.0\n1.5707963267948966\n-1.5707963267948966\n",
          "output_type": "stream"
        }
      ]
    },
    {
      "cell_type": "markdown",
      "source": "The math.asin() method returns the arc sine of a number.\n\nNote: The parameter passed in math.asin() must lie between -1 to 1.\n\nTip: math.asin(1) will return the value of PI/2, and math.asin(-1) will return the value of -PI/2.",
      "metadata": {}
    },
    {
      "cell_type": "markdown",
      "source": "Python math.asinh() Method - Return the inverse hyperbolic sine of different numbers:\nThe math.asinh() method returns the inverse hyperbolic sine of a number.",
      "metadata": {}
    },
    {
      "cell_type": "code",
      "source": "# Import math Library\nimport math\n\n# Return the inverse hyperbolic sine of numbers\nprint(math.asinh(7))\nprint(math.asinh(56))\nprint(math.asinh(2.45))\nprint(math.asinh(1))",
      "metadata": {
        "trusted": true
      },
      "execution_count": 315,
      "outputs": [
        {
          "name": "stdout",
          "text": "2.644120761058629\n4.718578581151767\n1.6284998192841909\n0.881373587019543\n",
          "output_type": "stream"
        }
      ]
    },
    {
      "cell_type": "markdown",
      "source": "Python math.atan() Method \n\nReturn the arc tangent of different numbers:\n    \nThe math.atan() method returns the arc tangent of a number (x) as a numeric value between -PI/2 and PI/2 radians.\n\nArc tangent is also defined as an inverse tangent function of x, where x is the value of the arc tangent is to be calculated.\n\n",
      "metadata": {}
    },
    {
      "cell_type": "code",
      "source": "#Import math Library\nimport math\n\n#fReturn the arc tangent of different numbers\nprint (math.atan(0.39))\nprint (math.atan(67))\nprint (math.atan(-21))",
      "metadata": {
        "trusted": true
      },
      "execution_count": 317,
      "outputs": [
        {
          "name": "stdout",
          "text": "0.37185607384858127\n1.5558720618048116\n-1.5232132235179132\n",
          "output_type": "stream"
        }
      ]
    },
    {
      "cell_type": "markdown",
      "source": "Python math.atan2() Method - Return the arc tangent of y/x in radians: - The math.atan2() method returns the arc tangent of y/x, in radians. Where x and y are the coordinates of a point (x,y).\n\nThe returned value is between PI and -PI.\n\n",
      "metadata": {}
    },
    {
      "cell_type": "code",
      "source": "# Import math Library\nimport math\n\n# Return the arc tangent of y/x in radians\nprint(math.atan2(8, 5))\nprint(math.atan2(20, 10))\nprint(math.atan2(34, -7))",
      "metadata": {
        "trusted": true
      },
      "execution_count": 319,
      "outputs": [
        {
          "name": "stdout",
          "text": "1.0121970114513341\n1.1071487177940904\n1.773841544048362\n",
          "output_type": "stream"
        }
      ]
    },
    {
      "cell_type": "markdown",
      "source": "Python math.atanh() Method - Find the hyperbolic arctangent value of different numbers: - The math.atanh() method returns the inverse hyperbolic tangent of a number.The parameter passed in math.atanh() must lie between -0.99 to 0.99.",
      "metadata": {}
    },
    {
      "cell_type": "code",
      "source": "#Import math Library\nimport math\n\n#print the hyperbolic arctangent of different numbers\nprint(math.atanh(0.59))\nprint(math.atanh(-0.12))",
      "metadata": {
        "trusted": true
      },
      "execution_count": 320,
      "outputs": [
        {
          "name": "stdout",
          "text": "0.6776660677579618\n-0.12058102840844404\n",
          "output_type": "stream"
        }
      ]
    },
    {
      "cell_type": "markdown",
      "source": "Python math.ceil() Method - Round a number upward to its nearest integer: - The math.ceil() method rounds a number UP to the nearest integer, if necessary, and returns the result.\n\nTip: To round a number DOWN to the nearest integer, look at the math.floor() method.",
      "metadata": {}
    },
    {
      "cell_type": "code",
      "source": "# Import math library\nimport math\n\n# Round a number upward to its nearest integer\nprint(math.ceil(1.4))\nprint(math.ceil(5.3))\nprint(math.ceil(-5.3))\nprint(math.ceil(22.6))\nprint(math.ceil(10.0))",
      "metadata": {
        "trusted": true
      },
      "execution_count": 321,
      "outputs": [
        {
          "name": "stdout",
          "text": "2\n6\n-5\n23\n10\n",
          "output_type": "stream"
        }
      ]
    },
    {
      "cell_type": "markdown",
      "source": "Python math.comb() Method - Find the total number of possibilities to choose k things from n items: - The math.comb() method returns the number of ways picking k unordered outcomes from n possibilities, without repetition, also known as combinations.\n\nNote: The parameters passed in this method must be positive integers.\n\nNote: If the value of k is greater than the value of n it will return 0 as a result.\n\nNote: If the parameters are negative, a ValueError occurs. If the parameters are not integers, a TypeError occurs",
      "metadata": {}
    },
    {
      "cell_type": "code",
      "source": "# Import math Library\nimport math\n\n# Initialize the number of items to choose from\nn = 7\n\n# Initialize the number of possibilities to choose\nk = 5\n\n# Print total number of possible combinations\nprint (math.comb(n, k))",
      "metadata": {
        "trusted": true
      },
      "execution_count": 322,
      "outputs": [
        {
          "name": "stdout",
          "text": "21\n",
          "output_type": "stream"
        }
      ]
    },
    {
      "cell_type": "markdown",
      "source": "Python math.copysign() Method -Return the value of the first parameter and the sign of the second parameter: - The math.copysign() method returns a float consisting of the value of the first parameter and the sign(+/-) of the second parameter.\n\n",
      "metadata": {}
    },
    {
      "cell_type": "code",
      "source": "#Import math Library\nimport math\n\n#Return the value of the first parameter and the sign of the second parameter\nprint(math.copysign(4, -1))\nprint(math.copysign(-8, 97.21))\nprint(math.copysign(-43, -76))",
      "metadata": {
        "trusted": true
      },
      "execution_count": 324,
      "outputs": [
        {
          "name": "stdout",
          "text": "-4.0\n8.0\n-43.0\n",
          "output_type": "stream"
        }
      ]
    },
    {
      "cell_type": "markdown",
      "source": "Python math.cos() Method. Find the cosine of different numbers: The math.cos() method returns the cosine of a number.",
      "metadata": {}
    },
    {
      "cell_type": "code",
      "source": "# Import math Library\nimport math\n\n# Return the cosine of different numbers\nprint (math.cos(0.00))\nprint (math.cos(-1.23))\nprint (math.cos(10))\nprint (math.cos(3.14159265359))",
      "metadata": {
        "trusted": true
      },
      "execution_count": 325,
      "outputs": [
        {
          "name": "stdout",
          "text": "1.0\n0.3342377271245026\n-0.8390715290764524\n-1.0\n",
          "output_type": "stream"
        }
      ]
    },
    {
      "cell_type": "markdown",
      "source": "Python math.cosh() Method - Find the hyperbolic cosine of different numbers: - The math.cosh() method returns the hyperbolic cosine of a number (equivalent to (exp(number) + exp(-number)) / 2).",
      "metadata": {}
    },
    {
      "cell_type": "code",
      "source": "# Import math Library\nimport math\n\n# Return the hyperbolic cosine of different numbers\nprint (math.cosh(1))\nprint (math.cosh(8.90))\nprint (math.cosh(0))\nprint (math.cosh(1.52))",
      "metadata": {
        "trusted": true
      },
      "execution_count": 326,
      "outputs": [
        {
          "name": "stdout",
          "text": "1.5430806348152437\n3665.986837772461\n1.0\n2.3954685410471868\n",
          "output_type": "stream"
        }
      ]
    },
    {
      "cell_type": "markdown",
      "source": "Python math.degrees() Method -- The mmath.degrees() method converts an angle from radians to degrees.\n\nTip: PI (3.14..) radians are equal to 180 degrees, which means that 1 radian is equal to 57.2957795 degrees.\n\nTip: See also math.radians() to convert a degree value into radians.",
      "metadata": {}
    },
    {
      "cell_type": "code",
      "source": "# Import math Library\nimport math\n\n# Convert from radians to degrees:\nprint (math.degrees(8.90))\nprint (math.degrees(-20))\nprint (math.degrees(1))\nprint (math.degrees(90))",
      "metadata": {
        "trusted": true
      },
      "execution_count": 327,
      "outputs": [
        {
          "name": "stdout",
          "text": "509.9324376664327\n-1145.9155902616465\n57.29577951308232\n5156.620156177409\n",
          "output_type": "stream"
        }
      ]
    },
    {
      "cell_type": "markdown",
      "source": "Python math.dist() Method -  Find the Euclidean distance between one and two dimensional points:The math.dist() method returns the Euclidean distance between two points (p and q), where p and q are the coordinates of that point.\n\nNote: The two points (p and q) must be of the same dimensions.\n\n",
      "metadata": {}
    },
    {
      "cell_type": "code",
      "source": "# Import math Library\nimport math\n\np = [3]\nq = [1]\n\n# Calculate Euclidean distance\nprint (math.dist(p, q))\n\np = [3, 3]\nq = [6, 12]\n\n# Calculate Euclidean distance\nprint (math.dist(p, q))",
      "metadata": {
        "trusted": true
      },
      "execution_count": 328,
      "outputs": [
        {
          "name": "stdout",
          "text": "2.0\n9.486832980505138\n",
          "output_type": "stream"
        }
      ]
    },
    {
      "cell_type": "markdown",
      "source": "Python math.erf() Method - Print error function for different numbers: The math.erf() method returns the error function of a number.\n\nThis method accepts a value between - inf and + inf, and returns a value between - 1 to + 1.",
      "metadata": {}
    },
    {
      "cell_type": "code",
      "source": "# Import math Library\nimport math\n\n# Print error function for different numbers\nprint (math.erf(0.67))\nprint (math.erf(1.34))\nprint (math.erf(-6))",
      "metadata": {
        "trusted": true
      },
      "execution_count": 329,
      "outputs": [
        {
          "name": "stdout",
          "text": "0.6566277023003051\n0.9419137152583653\n-1.0\n",
          "output_type": "stream"
        }
      ]
    },
    {
      "cell_type": "markdown",
      "source": "Calculate the mathematical error function of the same number, positive and negative:",
      "metadata": {}
    },
    {
      "cell_type": "code",
      "source": "print (math.erf(1.28))\nprint (math.erf(-1.28))",
      "metadata": {
        "trusted": true
      },
      "execution_count": 330,
      "outputs": [
        {
          "name": "stdout",
          "text": "0.9297341930135782\n-0.9297341930135782\n",
          "output_type": "stream"
        }
      ]
    },
    {
      "cell_type": "markdown",
      "source": "Python math.erfc() Method - Print the complementary error function for different numbers: -The math.erfc() method returns the complementary error function of a number.\n\nThis method accepts a value between - inf and + inf, and returns a value between 0 and 2.",
      "metadata": {}
    },
    {
      "cell_type": "code",
      "source": "# Import math Library\nimport math\n\n# Print complementary error function for different numbers\nprint (math.erfc(0.67))\nprint (math.erfc(1.34))\nprint (math.erfc(-6))",
      "metadata": {
        "trusted": true
      },
      "execution_count": 331,
      "outputs": [
        {
          "name": "stdout",
          "text": "0.3433722976996949\n0.058086284741634665\n2.0\n",
          "output_type": "stream"
        }
      ]
    },
    {
      "cell_type": "markdown",
      "source": "Python math.exp() Method - The math.exp() method returns E raised to the power of x (Ex).\n\n'E' is the base of the natural system of logarithms (approximately 2.718282) and x is the number passed to it.",
      "metadata": {}
    },
    {
      "cell_type": "code",
      "source": "#Import math Library\nimport math\n\n#find the exponential of the specified value\nprint(math.exp(65))\nprint(math.exp(-6.89))",
      "metadata": {
        "trusted": true
      },
      "execution_count": 332,
      "outputs": [
        {
          "name": "stdout",
          "text": "1.6948892444103338e+28\n0.0010179138409954387\n",
          "output_type": "stream"
        }
      ]
    },
    {
      "cell_type": "markdown",
      "source": "Python math.expm1() Method - Find the exponential value of a number - 1: The math.expm1() method returns Ex - 1.\n\n'E' is the base of the natural system of logarithms (approximately 2.718282) and x is the number passed to it.\n\nThis function is more accurate than calling math.exp() and subtracting 1.",
      "metadata": {}
    },
    {
      "cell_type": "code",
      "source": "#Import math Library\nimport math\n\n#Return the exponential value of a number - 1\nprint(math.expm1(32))\nprint(math.expm1(-10.89))",
      "metadata": {
        "trusted": true
      },
      "execution_count": 333,
      "outputs": [
        {
          "name": "stdout",
          "text": "78962960182679.69\n-0.9999813562576685\n",
          "output_type": "stream"
        }
      ]
    },
    {
      "cell_type": "markdown",
      "source": "Python math.fabs() Method -he math.fabs() method returns the absolute value of a number, as a float.\n\nAbsolute denotes a non-negative number. This removes the negative sign of the value if it has any.\n\nUnlike Python abs(), this method always converts the value to a float value.",
      "metadata": {}
    },
    {
      "cell_type": "code",
      "source": "#Import math Library\nimport math\n\n#Print absolute values from numbers\nprint(math.fabs(-66.43))\nprint(math.fabs(-7))",
      "metadata": {
        "trusted": true
      },
      "execution_count": 334,
      "outputs": [
        {
          "name": "stdout",
          "text": "66.43\n7.0\n",
          "output_type": "stream"
        }
      ]
    },
    {
      "cell_type": "markdown",
      "source": "Python math.factorial() Method - ind the factorial of a number: The math.factorial() method returns the factorial of a number.\n\nNote: This method only accepts positive integers.\n\nThe factorial of a number is the sum of the multiplication, of all the whole numbers, from our specified number down to 1. For example, the factorial of 6 would be 6 x 5 x 4 x 3 x 2 x 1 = 720",
      "metadata": {}
    },
    {
      "cell_type": "code",
      "source": "#Import math Library\nimport math\n\n#Return factorial of a number\nprint(math.factorial(9))\nprint(math.factorial(6))\nprint(math.factorial(12))",
      "metadata": {
        "trusted": true
      },
      "execution_count": 335,
      "outputs": [
        {
          "name": "stdout",
          "text": "362880\n720\n479001600\n",
          "output_type": "stream"
        }
      ]
    },
    {
      "cell_type": "markdown",
      "source": "Python math.floor() Method -Round numbers down to the nearest integer: The math.floor() method rounds a number DOWN to the nearest integer, if necessary, and returns the result.\n\nTip: To round a number UP to the nearest integer, look at the math.ceil() method.",
      "metadata": {}
    },
    {
      "cell_type": "code",
      "source": "# Import math library\nimport math\n\n# Round numbers down to the nearest integer\nprint(math.floor(0.6))\nprint(math.floor(1.4))\nprint(math.floor(5.3))\nprint(math.floor(-5.3))\nprint(math.floor(22.6))\nprint(math.floor(10.0))",
      "metadata": {
        "trusted": true
      },
      "execution_count": 336,
      "outputs": [
        {
          "name": "stdout",
          "text": "0\n1\n5\n-6\n22\n10\n",
          "output_type": "stream"
        }
      ]
    },
    {
      "cell_type": "markdown",
      "source": "Python math.fmod() Method - Return the remainder of x/y: - The math.fmod() method returns the remainder (modulo) of x/y.",
      "metadata": {}
    },
    {
      "cell_type": "code",
      "source": "# Import math Library\nimport math\n\n# Return the remainder of x/y\nprint(math.fmod(20, 4))\nprint(math.fmod(20, 3))\nprint(math.fmod(15, 6))\nprint(math.fmod(-10, 3))\nprint(math.fmod(0, 0))",
      "metadata": {
        "trusted": true
      },
      "execution_count": 337,
      "outputs": [
        {
          "name": "stdout",
          "text": "0.0\n2.0\n3.0\n-1.0\n",
          "output_type": "stream"
        },
        {
          "ename": "<class 'ValueError'>",
          "evalue": "math domain error",
          "traceback": [
            "\u001b[0;31m---------------------------------------------------------------------------\u001b[0m",
            "\u001b[0;31mValueError\u001b[0m                                Traceback (most recent call last)",
            "Cell \u001b[0;32mIn [337], line 9\u001b[0m\n\u001b[1;32m      7\u001b[0m \u001b[38;5;28mprint\u001b[39m(math\u001b[38;5;241m.\u001b[39mfmod(\u001b[38;5;241m15\u001b[39m, \u001b[38;5;241m6\u001b[39m))\n\u001b[1;32m      8\u001b[0m \u001b[38;5;28mprint\u001b[39m(math\u001b[38;5;241m.\u001b[39mfmod(\u001b[38;5;241m-\u001b[39m\u001b[38;5;241m10\u001b[39m, \u001b[38;5;241m3\u001b[39m))\n\u001b[0;32m----> 9\u001b[0m \u001b[38;5;28mprint\u001b[39m(\u001b[43mmath\u001b[49m\u001b[38;5;241;43m.\u001b[39;49m\u001b[43mfmod\u001b[49m\u001b[43m(\u001b[49m\u001b[38;5;241;43m0\u001b[39;49m\u001b[43m,\u001b[49m\u001b[43m \u001b[49m\u001b[38;5;241;43m0\u001b[39;49m\u001b[43m)\u001b[49m)\n",
            "\u001b[0;31mValueError\u001b[0m: math domain error"
          ],
          "output_type": "error"
        }
      ]
    },
    {
      "cell_type": "markdown",
      "source": "Python math.frexp() Method - The math.frexp() method returns the mantissa and the exponent of a specified number, as a pair (m,e).\n\nThe mathematical formula for this method is: number = m * 2**e.",
      "metadata": {}
    },
    {
      "cell_type": "code",
      "source": "#Import math Library\nimport math\n\n#Return mantissa and exponent of numbers\nprint(math.frexp(4))\nprint(math.frexp(-4))\nprint(math.frexp(7))",
      "metadata": {
        "trusted": true
      },
      "execution_count": 338,
      "outputs": [
        {
          "name": "stdout",
          "text": "(0.5, 3)\n(-0.5, 3)\n(0.875, 3)\n",
          "output_type": "stream"
        }
      ]
    },
    {
      "cell_type": "markdown",
      "source": "Python math.fsum() Method- The math.fsum() method returns the sum of all items in any iterable (tuples, arrays, lists, etc.).",
      "metadata": {}
    },
    {
      "cell_type": "code",
      "source": "# Import math Library\nimport math\n\n# Print the sum of all items\nprint(math.fsum([1, 2, 3, 4, 5]))\nprint(math.fsum([100, 400, 340, 500]))\nprint(math.fsum([1.7, 0.3, 1.5, 4.5]))",
      "metadata": {
        "trusted": true
      },
      "execution_count": 339,
      "outputs": [
        {
          "name": "stdout",
          "text": "15.0\n1340.0\n8.0\n",
          "output_type": "stream"
        }
      ]
    },
    {
      "cell_type": "markdown",
      "source": "Python math.gamma() Method - nd the gamma function of different numbers:",
      "metadata": {}
    },
    {
      "cell_type": "code",
      "source": "# Import math Library\nimport math\n\n# Return the gamma function for different numbers\nprint(math.gamma(-0.1))\nprint(math.gamma(8))\nprint(math.gamma(1.2))\nprint(math.gamma(80))\nprint(math.gamma(-0.55))",
      "metadata": {
        "trusted": true
      },
      "execution_count": 341,
      "outputs": [
        {
          "name": "stdout",
          "text": "-10.686287021193193\n5040.0\n0.9181687423997604\n8.946182130782976e+116\n-3.578429819277059\n",
          "output_type": "stream"
        }
      ]
    },
    {
      "cell_type": "markdown",
      "source": "Python math.gcd() Method - Find the greatest common divisor of the two integers:",
      "metadata": {}
    },
    {
      "cell_type": "code",
      "source": "#Import math Library\nimport math\n\n#find the  the greatest common divisor of the two integers\nprint (math.gcd(3, 6))\nprint (math.gcd(6, 12))\nprint (math.gcd(12, 36))\nprint (math.gcd(-12, -36))\nprint (math.gcd(5, 12))\nprint (math.gcd(10, 0))\nprint (math.gcd(0, 34))\nprint (math.gcd(0, 0))",
      "metadata": {
        "trusted": true
      },
      "execution_count": 342,
      "outputs": [
        {
          "name": "stdout",
          "text": "3\n6\n12\n12\n1\n10\n34\n0\n",
          "output_type": "stream"
        }
      ]
    },
    {
      "cell_type": "markdown",
      "source": "The math.gcd() method returns the greatest common divisor of the two integers int1 and int2.\n\nGCD is the largest common divisor that divides the numbers without a remainder.\n\nGCD is also known as the highest common factor (HCF).\n\nTip: gcd(0,0) returns 0.",
      "metadata": {}
    },
    {
      "cell_type": "markdown",
      "source": "Python math.hypot() Method - Find the hypotenuse of a right-angled triangle where perpendicular and base are known: The math.hypot() method returns the Euclidean norm. The Euclidian norm is the distance from the origin to the coordinates given.\n\nPrior Python 3.8, this method was used only to find the hypotenuse of a right-angled triangle: sqrt(x*x + y*y).\n\nFrom Python 3.8, this method is used to calculate the Euclidean norm as well. For n-dimensional cases, the coordinates passed are assumed to be like (x1, x2, x3, ..., xn). So Euclidean length from the origin is calculated by sqrt(x1*x1 + x2*x2 +x3*x3 .... xn*xn).",
      "metadata": {}
    },
    {
      "cell_type": "code",
      "source": "#Import math Library\nimport math\n\n#set perpendicular and base\nparendicular = 10\nbase = 5\n\n#print the hypotenuse of a right-angled triangle\nprint(math.hypot(parendicular, base))",
      "metadata": {
        "trusted": true
      },
      "execution_count": 343,
      "outputs": [
        {
          "name": "stdout",
          "text": "11.180339887498949\n",
          "output_type": "stream"
        }
      ]
    },
    {
      "cell_type": "markdown",
      "source": "Python math.isclose() Method - Check whether two values are close to each other, or not:  The math.isclose() method checks whether two values are close to each other, or not. Returns True if the values are close, otherwise False.\n\nThis method uses a relative or absolute tolerance, to see if the values are close.\n\nTip: It uses the following formula to compare the values: abs(a-b) <= max(rel_tol * max(abs(a), abs(b)), abs_tol)",
      "metadata": {}
    },
    {
      "cell_type": "code",
      "source": "#Import math Library\nimport math\n\n#compare the closeness of two values\nprint(math.isclose(1.233, 1.4566))\nprint(math.isclose(1.233, 1.233))\nprint(math.isclose(1.233, 1.24))\nprint(math.isclose(1.233, 1.233000001))",
      "metadata": {
        "trusted": true
      },
      "execution_count": 344,
      "outputs": [
        {
          "name": "stdout",
          "text": "False\nTrue\nFalse\nTrue\n",
          "output_type": "stream"
        }
      ]
    },
    {
      "cell_type": "markdown",
      "source": "Python math.isfinite() Method - Check whether a value is finite or not:\n\n",
      "metadata": {}
    },
    {
      "cell_type": "markdown",
      "source": "The math.isfinite() method checks whether a number is finite or not.\n\nThis method returns True if the specified number is a finite number, otherwise it returns False.",
      "metadata": {}
    },
    {
      "cell_type": "code",
      "source": "# Import math Library\nimport math\n\n# Check whether the values are finite or not\nprint(math.isfinite(2000))\nprint(math.isfinite(-45.34))\nprint(math.isfinite(+45.34))\nprint(math.isfinite(math.inf))\nprint(math.isfinite(float(\"nan\")))\nprint(math.isfinite(float(\"inf\")))\nprint(math.isfinite(float(\"-inf\")))\nprint(math.isfinite(-math.inf))\nprint(math.isfinite(0.0))",
      "metadata": {
        "trusted": true
      },
      "execution_count": 345,
      "outputs": [
        {
          "name": "stdout",
          "text": "True\nTrue\nTrue\nFalse\nFalse\nFalse\nFalse\nFalse\nTrue\n",
          "output_type": "stream"
        }
      ]
    },
    {
      "cell_type": "markdown",
      "source": "Python math.isinf() Method - Check whether a value is infinity or not:",
      "metadata": {}
    },
    {
      "cell_type": "code",
      "source": "# Import math Library\nimport math\n\n# Check whether the values are infinite or not\nprint(math.isinf(56))\nprint(math.isinf(-45.34))\nprint(math.isinf(+45.34))\nprint(math.isinf(math.inf))\nprint(math.isinf(float(\"nan\")))\nprint(math.isinf(float(\"inf\")))\nprint(math.isinf(float(\"-inf\")))\nprint(math.isinf(-math.inf))\n",
      "metadata": {
        "trusted": true
      },
      "execution_count": 346,
      "outputs": [
        {
          "name": "stdout",
          "text": "False\nFalse\nFalse\nTrue\nFalse\nTrue\nTrue\nTrue\n",
          "output_type": "stream"
        }
      ]
    },
    {
      "cell_type": "markdown",
      "source": "Python math.isnan() Method- Check whether a value is NaN or not:",
      "metadata": {}
    },
    {
      "cell_type": "code",
      "source": "# Import math Library\nimport math\n\n# Check whether some values are NaN or not\nprint (math.isnan (56))\nprint (math.isnan (-45.34))\nprint (math.isnan (+45.34))\nprint (math.isnan (math.inf))\nprint (math.isnan (float(\"nan\")))\nprint (math.isnan (float(\"inf\")))\nprint (math.isnan (float(\"-inf\")))\nprint (math.isnan (math.nan))",
      "metadata": {
        "trusted": true
      },
      "execution_count": 347,
      "outputs": [
        {
          "name": "stdout",
          "text": "False\nFalse\nFalse\nFalse\nTrue\nFalse\nFalse\nTrue\n",
          "output_type": "stream"
        }
      ]
    },
    {
      "cell_type": "markdown",
      "source": "Python math.isqrt() Method - Round a square root number downwards to the nearest integer:",
      "metadata": {}
    },
    {
      "cell_type": "code",
      "source": "# Import math Library\nimport math\n\n# Print the square root of different numbers\nprint (math.sqrt(10))\nprint (math.sqrt (12))\nprint (math.sqrt (68))\nprint (math.sqrt (100))\n\n# Round square root downward to the nearest integer\nprint (math.isqrt(10))\nprint (math.isqrt (12))\nprint (math.isqrt (68))\nprint (math.isqrt (100))\n",
      "metadata": {
        "trusted": true
      },
      "execution_count": 348,
      "outputs": [
        {
          "name": "stdout",
          "text": "3.1622776601683795\n3.4641016151377544\n8.246211251235321\n10.0\n3\n3\n8\n10\n",
          "output_type": "stream"
        }
      ]
    },
    {
      "cell_type": "markdown",
      "source": "Python math.ldexp() Method - The math.ldexp() method returns  x * (2**i) of the given numbers x and i, which is the inverse of math.frexp().",
      "metadata": {}
    },
    {
      "cell_type": "code",
      "source": "#Import math Library\nimport math\n\n#Return value of x * (2**i)\nprint(math.ldexp(9, 3))\nprint(math.ldexp(-5, 2))\nprint(math.ldexp(15, 2))",
      "metadata": {
        "trusted": true
      },
      "execution_count": 349,
      "outputs": [
        {
          "name": "stdout",
          "text": "72.0\n-20.0\n60.0\n",
          "output_type": "stream"
        }
      ]
    },
    {
      "cell_type": "markdown",
      "source": "Python math.lgamma() Method - Find the log gamma value of different numbers: The math.lgamma() method returns the natural logarithm gamma value of a number.\n\nTip: We can find also find the log gamma value by using the math.gamma() method to find the gamma value, and then use the math.log() method to calculate the log of that value.\n\nTip: The gamma value is equal to factorial(x-1).\n\n",
      "metadata": {}
    },
    {
      "cell_type": "code",
      "source": "# Import math Library\nimport math\n\n# Return the log gamma value of different numbers\nprint (math.lgamma(7))\nprint (math.lgamma(-4.2))",
      "metadata": {
        "trusted": true
      },
      "execution_count": 350,
      "outputs": [
        {
          "name": "stdout",
          "text": "6.579251212010102\n-1.8075166614192908\n",
          "output_type": "stream"
        }
      ]
    },
    {
      "cell_type": "code",
      "source": "Python math.log() Method - Find the natural logarithm of different numbers",
      "metadata": {},
      "execution_count": null,
      "outputs": []
    },
    {
      "cell_type": "code",
      "source": "# Import math Library\nimport math\n\n# Return the natural logarithm of different numbers\nprint(math.log(2.7183))\nprint(math.log(2))\nprint(math.log(1))",
      "metadata": {
        "trusted": true
      },
      "execution_count": 351,
      "outputs": [
        {
          "name": "stdout",
          "text": "1.0000066849139877\n0.6931471805599453\n0.0\n",
          "output_type": "stream"
        }
      ]
    },
    {
      "cell_type": "markdown",
      "source": "Python math.log10() Method - Find the base-10 logarithm of different numbers",
      "metadata": {}
    },
    {
      "cell_type": "code",
      "source": "# Import math Library\nimport math\n\n# Return the base-10 logarithm of different numbers\nprint(math.log10(2.7183))\nprint(math.log10(2))\nprint(math.log10(1))",
      "metadata": {
        "trusted": true
      },
      "execution_count": 352,
      "outputs": [
        {
          "name": "stdout",
          "text": "0.43429738512450866\n0.3010299956639812\n0.0\n",
          "output_type": "stream"
        }
      ]
    },
    {
      "cell_type": "markdown",
      "source": "Python math.log1p() Method - Find the log(1+number) for different numbers",
      "metadata": {}
    },
    {
      "cell_type": "code",
      "source": "# Import math Library\nimport math\n\n# Return the log(1+number) for different numbers\nprint(math.log1p(2.7183))\nprint(math.log1p(2))\nprint(math.log1p(1))",
      "metadata": {
        "trusted": true
      },
      "execution_count": 353,
      "outputs": [
        {
          "name": "stdout",
          "text": "1.3132665745863341\n1.0986122886681096\n0.6931471805599453\n",
          "output_type": "stream"
        }
      ]
    },
    {
      "cell_type": "markdown",
      "source": "Python math.log2() Method - Find the base-2 logarithm of different numbers",
      "metadata": {}
    },
    {
      "cell_type": "code",
      "source": "# Import math Library\nimport math\n\n# Return the base-2 logarithm of different numbers\nprint(math.log2(2.7183))\nprint(math.log2(2))\nprint(math.log2(1))",
      "metadata": {
        "trusted": true
      },
      "execution_count": 355,
      "outputs": [
        {
          "name": "stdout",
          "text": "1.4427046851812222\n1.0\n0.0\n",
          "output_type": "stream"
        }
      ]
    },
    {
      "cell_type": "markdown",
      "source": "Python math.perm() Method - Find the number of ways to choose k things from n items:\n\n",
      "metadata": {}
    },
    {
      "cell_type": "code",
      "source": "# Import math Library\nimport math\n\n# Initialize the number of items to choose from\nn = 7\n\n# Initialize the number of items to choose\nk = 5\n\n# Print the number of ways to choose k items from n items\nprint (math.perm(n, k))",
      "metadata": {
        "trusted": true
      },
      "execution_count": 359,
      "outputs": [
        {
          "name": "stdout",
          "text": "2520\n",
          "output_type": "stream"
        }
      ]
    },
    {
      "cell_type": "markdown",
      "source": "Python math.pow() Method - Find the value of 9 raised to the power of 3:",
      "metadata": {}
    },
    {
      "cell_type": "code",
      "source": "# Import math Library\nimport math\n\n#Return the value of 9 raised to the power of 3\nprint(math.pow(9, 3))",
      "metadata": {
        "trusted": true
      },
      "execution_count": 358,
      "outputs": [
        {
          "name": "stdout",
          "text": "729.0\n",
          "output_type": "stream"
        }
      ]
    },
    {
      "cell_type": "markdown",
      "source": "The math.pow() method returns the value of x raised to power y.\n\nIf x is negative and y is not an integer, it returns a ValueError.\n\nThis method converts both arguments into a float.\n\nTip: If we use math.pow(1.0,x) or math.pow(x,0.0), it will always returns 1.0.",
      "metadata": {}
    },
    {
      "cell_type": "markdown",
      "source": "Python math.prod()  - Return the product of the elements from the given iterable:",
      "metadata": {}
    },
    {
      "cell_type": "code",
      "source": "# Import math Library\nimport math\n\nsequence = (2, 2, 2)\n\n#Return the product of the elements\nprint(math.prod(sequence))",
      "metadata": {
        "trusted": true
      },
      "execution_count": 361,
      "outputs": [
        {
          "name": "stdout",
          "text": "8\n",
          "output_type": "stream"
        }
      ]
    },
    {
      "cell_type": "markdown",
      "source": "Python math.radians() Method - Convert different degrees into radians:",
      "metadata": {}
    },
    {
      "cell_type": "code",
      "source": "# Import math Library\nimport math\n\n# Convert different degrees into radians\nprint(math.radians(180))\nprint(math.radians(100.03))\nprint(math.radians(-20))",
      "metadata": {
        "trusted": true
      },
      "execution_count": 362,
      "outputs": [
        {
          "name": "stdout",
          "text": "3.141592653589793\n1.7458528507699278\n-0.3490658503988659\n",
          "output_type": "stream"
        }
      ]
    },
    {
      "cell_type": "markdown",
      "source": "Python math.remainder() Method - Return the remainder of x with respect to y:",
      "metadata": {}
    },
    {
      "cell_type": "code",
      "source": "# Import math Library\nimport math\n\n# Return the remainder of x/y\nprint (math.remainder(9, 2))\nprint (math.remainder(9, 3))\nprint (math.remainder(18, 4))",
      "metadata": {
        "trusted": true
      },
      "execution_count": 363,
      "outputs": [
        {
          "name": "stdout",
          "text": "1.0\n0.0\n2.0\n",
          "output_type": "stream"
        }
      ]
    },
    {
      "cell_type": "markdown",
      "source": "Python math.sin() Method -Find the sine of different numbers:",
      "metadata": {}
    },
    {
      "cell_type": "code",
      "source": "# Import math Library\nimport math\n\n# Return the sine of different values\nprint (math.sin(0.00))\nprint (math.sin(-1.23))\nprint (math.sin(10))\nprint (math.sin(math.pi))\nprint (math.sin(math.pi/2))",
      "metadata": {
        "trusted": true
      },
      "execution_count": 364,
      "outputs": [
        {
          "name": "stdout",
          "text": "0.0\n-0.9424888019316975\n-0.5440211108893698\n1.2246467991473532e-16\n1.0\n",
          "output_type": "stream"
        }
      ]
    },
    {
      "cell_type": "markdown",
      "source": "Python math.sinh() Method - Find the hyperbolic sine of different numbers:",
      "metadata": {}
    },
    {
      "cell_type": "code",
      "source": "# Import math Library\nimport math\n\n# Return the hyperbolic sine of different values\nprint(math.sinh(0.00))\nprint(math.sinh(-23.45))\nprint(math.sinh(23))\nprint(math.sinh(1.00))\nprint(math.sinh(math.pi))",
      "metadata": {
        "trusted": true
      },
      "execution_count": 365,
      "outputs": [
        {
          "name": "stdout",
          "text": "0.0\n-7641446994.979367\n4872401723.124452\n1.1752011936438014\n11.548739357257748\n",
          "output_type": "stream"
        }
      ]
    },
    {
      "cell_type": "markdown",
      "source": "Python math.sqrt() Method - Find the square root of different numbers:",
      "metadata": {}
    },
    {
      "cell_type": "code",
      "source": "# Import math Library\nimport math\n\n# Return the square root of different numbers\nprint (math.sqrt(9))\nprint (math.sqrt(25))\nprint (math.sqrt(16))",
      "metadata": {
        "trusted": true
      },
      "execution_count": 366,
      "outputs": [
        {
          "name": "stdout",
          "text": "3.0\n5.0\n4.0\n",
          "output_type": "stream"
        }
      ]
    },
    {
      "cell_type": "markdown",
      "source": "Python math.tan() Method - Find the tangent of different numbers (angles):",
      "metadata": {}
    },
    {
      "cell_type": "code",
      "source": "# Import math Library\nimport math\n\n# Return the tangent of different numbers\nprint (math.tan(90))\nprint (math.tan(-90))\nprint (math.tan(45))\nprint (math.tan(60))",
      "metadata": {
        "trusted": true
      },
      "execution_count": 368,
      "outputs": [
        {
          "name": "stdout",
          "text": "-1.995200412208242\n1.995200412208242\n1.6197751905438615\n0.320040389379563\n",
          "output_type": "stream"
        }
      ]
    },
    {
      "cell_type": "markdown",
      "source": "Python math.tanh() Method - Find the hyperbolic tangent of different numbers:",
      "metadata": {}
    },
    {
      "cell_type": "code",
      "source": "# Import math Library\nimport math\n\n# Return the hyperbolic tangent of different numbers\nprint(math.tanh(8))\nprint(math.tanh(1))\nprint(math.tanh(-6.2))",
      "metadata": {
        "trusted": true
      },
      "execution_count": 369,
      "outputs": [
        {
          "name": "stdout",
          "text": "0.9999997749296758\n0.7615941559557649\n-0.9999917628565104\n",
          "output_type": "stream"
        }
      ]
    },
    {
      "cell_type": "markdown",
      "source": "Python math.trunc() Method - Find the integer part of different numbers:",
      "metadata": {}
    },
    {
      "cell_type": "code",
      "source": "# Import math Library\nimport math\n\n# Return the truncated integer parts of different numbers\nprint(math.trunc(2.77))\nprint(math.trunc(8.32))\nprint(math.trunc(-99.29))",
      "metadata": {
        "trusted": true
      },
      "execution_count": 370,
      "outputs": [
        {
          "name": "stdout",
          "text": "2\n8\n-99\n",
          "output_type": "stream"
        }
      ]
    },
    {
      "cell_type": "markdown",
      "source": "Python math.e Constant - Print the Euler's number:",
      "metadata": {}
    },
    {
      "cell_type": "code",
      "source": "# Import math Library\nimport math\n\n# Print the value of E\nprint (math.e)",
      "metadata": {
        "trusted": true
      },
      "execution_count": 371,
      "outputs": [
        {
          "name": "stdout",
          "text": "2.718281828459045\n",
          "output_type": "stream"
        }
      ]
    },
    {
      "cell_type": "markdown",
      "source": "Python math.inf Constant - Print the positive and negative infinity:  -- he math.inf constant returns a floating-point positive infinity.\n\nFor negative infinity, use -math.inf.\n\nThe inf constant is equivalent to float('inf').",
      "metadata": {}
    },
    {
      "cell_type": "code",
      "source": "# Import math Library\nimport math\n\n# Print the positive infinity\nprint (math.inf)\n\n# Print the negative infinity\nprint (-math.inf)",
      "metadata": {
        "trusted": true
      },
      "execution_count": 372,
      "outputs": [
        {
          "name": "stdout",
          "text": "inf\n-inf\n",
          "output_type": "stream"
        }
      ]
    },
    {
      "cell_type": "markdown",
      "source": "Python math.nan Constant -Print the value of nan: - The math.nan constant returns a floating-point nan (Not a Number) value. This value is not a legal number.\n\nThe nan constant is equivalent to float('nan').",
      "metadata": {}
    },
    {
      "cell_type": "code",
      "source": "# Import math Library\nimport math\n\n# Print the value of nan\nprint (math.nan)",
      "metadata": {
        "trusted": true
      },
      "execution_count": 373,
      "outputs": [
        {
          "name": "stdout",
          "text": "nan\n",
          "output_type": "stream"
        }
      ]
    },
    {
      "cell_type": "markdown",
      "source": "Python math.pi Constant - Print the value of PI:",
      "metadata": {}
    },
    {
      "cell_type": "code",
      "source": "# Import math Library\nimport math\n\n# Print the value of pi\nprint (math.pi)",
      "metadata": {
        "trusted": true
      },
      "execution_count": 374,
      "outputs": [
        {
          "name": "stdout",
          "text": "3.141592653589793\n",
          "output_type": "stream"
        }
      ]
    },
    {
      "cell_type": "markdown",
      "source": "Python math.tau Constant - Print the value of tau:",
      "metadata": {}
    },
    {
      "cell_type": "code",
      "source": "# Import math Library\nimport math\n\n# Print the value of tau\nprint (math.tau)",
      "metadata": {
        "trusted": true
      },
      "execution_count": 375,
      "outputs": [
        {
          "name": "stdout",
          "text": "6.283185307179586\n",
          "output_type": "stream"
        }
      ]
    },
    {
      "cell_type": "markdown",
      "source": "# Python statistics Module",
      "metadata": {}
    },
    {
      "cell_type": "markdown",
      "source": "Python statistics.harmonic_mean() Method - Calculate the harmonic mean of the given data:\nThe statistics.harmonic_mean() method calculates the harmonic mean (central location) of the given data set.\n\nHarmonic mean = The reciprocal of the arithmetic mean() of the reciprocals of the data.\n\nThe harmonic mean is calculated as follows:\n\nIf you have four values (a, b, c and d) - it will be equivalent to 4 / (1/a + 1/b + 1/c + 1/d).",
      "metadata": {}
    },
    {
      "cell_type": "code",
      "source": "# Import statistics Library\nimport statistics\n\n# Calculate harmonic mean\nprint(statistics.harmonic_mean([40, 60, 80]))\nprint(statistics.harmonic_mean([10, 30, 50, 70, 90]))",
      "metadata": {
        "trusted": true
      },
      "execution_count": 377,
      "outputs": [
        {
          "name": "stdout",
          "text": "55.38461538461538\n27.97513321492007\n",
          "output_type": "stream"
        }
      ]
    },
    {
      "cell_type": "markdown",
      "source": "Python statistics.mean() Method - Calculate the average of the given data:",
      "metadata": {}
    },
    {
      "cell_type": "code",
      "source": "# Import statistics Library\nimport statistics\n\n# Calculate average values\nprint(statistics.mean([1, 3, 5, 7, 9, 11, 13]))\nprint(statistics.mean([1, 3, 5, 7, 9, 11]))\nprint(statistics.mean([-11, 5.5, -3.4, 7.1, -9, 22]))",
      "metadata": {
        "trusted": true
      },
      "execution_count": 379,
      "outputs": [
        {
          "name": "stdout",
          "text": "7\n6\n1.8666666666666667\n",
          "output_type": "stream"
        }
      ]
    },
    {
      "cell_type": "markdown",
      "source": "Python statistics.median() Method - Calculate the median (middle value) of the given data: \n\nThe statistics.median() method calculates the median (middle value) of the given data set. This method also sorts the data in ascending order before calculating the median.\n\nTip: The mathematical formula for Median is: Median = {(n + 1) / 2}th value, where n is the number of values in a set of data. In order to calculate the median, the data must first be sorted in ascending order. The median is the number in the middle.\n\nNote: If the number of data values is odd, it returns the exact middle value. If the number of data values is even, it returns the average of the two middle values.",
      "metadata": {}
    },
    {
      "cell_type": "code",
      "source": "# Import statistics Library\nimport statistics\n\n# Calculate middle values\nprint(statistics.median([1, 3, 5, 7, 9, 11, 13]))\nprint(statistics.median([1, 3, 5, 7, 9, 11]))\nprint(statistics.median([-11, 5.5, -3.4, 7.1, -9, 22]))",
      "metadata": {
        "trusted": true
      },
      "execution_count": 380,
      "outputs": [
        {
          "name": "stdout",
          "text": "7\n6.0\n1.05\n",
          "output_type": "stream"
        }
      ]
    },
    {
      "cell_type": "markdown",
      "source": "Python statistics.median_grouped() Method - Calculate the median of grouped continuous data:\n\nThe statistics.median_grouped() method calculates the median of grouped continuous data, calculated as the 50th percentile.\n\nThis method treats the data points as continuous data and calculates the 50% percentile median by first finding the median range using specified interval width (default is 1), and then interpolating within that range using the position of the values from the data set that fall in that range.\n\nTip: The mathematical formula for Grouped Median is: GMedian = L + interval * (N / 2 - CF) / F.\n\nL = The lower limit of the median interval\n\ninterval = The interval width\n\nN = The total number of data points\n\nCF = The number of data points below the median interval\n\nF = The number of data points in the median interval\n",
      "metadata": {}
    },
    {
      "cell_type": "code",
      "source": "# Import statistics Library\nimport statistics\n\n# Calculate the median of grouped continuous data\nprint(statistics.median_grouped([1, 2, 3, 4]))\nprint(statistics.median_grouped([1, 2, 3, 4, 5]))\nprint(statistics.median_grouped([1, 2, 3, 4], 2))\nprint(statistics.median_grouped([1, 2, 3, 4], 3))\nprint(statistics.median_grouped([1, 2, 3, 4], 5))",
      "metadata": {
        "trusted": true
      },
      "execution_count": 381,
      "outputs": [
        {
          "name": "stdout",
          "text": "2.5\n3.0\n2.0\n1.5\n0.5\n",
          "output_type": "stream"
        }
      ]
    },
    {
      "cell_type": "markdown",
      "source": "Python statistics.median_high() Method - Calculate the high median (middle value) of the given data:\nThe statistics.median_high() method calculates the high median of the given data set. This method also sorts the data in ascending order before calculating the high median.",
      "metadata": {}
    },
    {
      "cell_type": "code",
      "source": "# Import statistics Library\nimport statistics\n\n# Calculate the high middle values\nprint(statistics.median_high([1, 3, 5, 7, 9, 11, 13]))\nprint(statistics.median_high([1, 3, 5, 7, 9, 11]))\nprint(statistics.median_high([-11, 5.5, -3.4, 7.1, -9, 22]))",
      "metadata": {
        "trusted": true
      },
      "execution_count": 382,
      "outputs": [
        {
          "name": "stdout",
          "text": "7\n7\n5.5\n",
          "output_type": "stream"
        }
      ]
    },
    {
      "cell_type": "markdown",
      "source": "Python statistics.median_low() Method - Calculate the low median (middle value) of the given data:\nThe statistics.median_low() method calculates the low median of the given data set. This method also sorts the data in ascending order before calculating the low median.\n\nNote: If the number of data values is odd, it returns the exact middle value. If the number of data values is even, it returns the smaller of the two middle values.",
      "metadata": {}
    },
    {
      "cell_type": "code",
      "source": "# Import statistics Library\nimport statistics\n\n# Calculate the low middle values\nprint(statistics.median_low([1, 3, 5, 7, 9, 11, 13]))\nprint(statistics.median_low([1, 3, 5, 7, 9, 11]))\nprint(statistics.median_low([-11, 5.5, -3.4, 7.1, -9, 22]))",
      "metadata": {
        "trusted": true
      },
      "execution_count": 383,
      "outputs": [
        {
          "name": "stdout",
          "text": "7\n5\n-3.4\n",
          "output_type": "stream"
        }
      ]
    },
    {
      "cell_type": "markdown",
      "source": "Python statistics.mode() Method - Calculate the mode (central tendency) of the given data:",
      "metadata": {}
    },
    {
      "cell_type": "code",
      "source": "# Import statistics Library\nimport statistics\n\n# Calculate the mode\nprint(statistics.mode([1, 3, 3, 3, 5, 7, 7 ,9, 11]))\nprint(statistics.mode([1, 1, 3, -5, 7, -9, 11]))\nprint(statistics.mode(['red', 'green', 'blue', 'red']))",
      "metadata": {
        "trusted": true
      },
      "execution_count": 386,
      "outputs": [
        {
          "name": "stdout",
          "text": "3\n1\nred\n",
          "output_type": "stream"
        }
      ]
    },
    {
      "cell_type": "markdown",
      "source": "Python statistics.pstdev() Method - Calculate the standard deviation from an entire population:\n\nThe statistics.pstdev() method calculates the standard deviation from an entire population.\n\nStandard deviation is a measure of how spread out the numbers are.\n\nA large standard deviation indicates that the data is spread out, - a small standard deviation indicates that the data is clustered closely around the mean.\n\nTip: Standard deviation is (unlike the Variance) expressed in the same units as the data.\n\nTip: Standard deviation is the square root of sample variance.",
      "metadata": {}
    },
    {
      "cell_type": "code",
      "source": "# Import statistics Library\nimport statistics\n\n# Calculate the standard deviation from an entire population\nprint(statistics.pstdev([1, 3, 5, 7, 9, 11]))\nprint(statistics.pstdev([2, 2.5, 1.25, 3.1, 1.75, 2.8]))\nprint(statistics.pstdev([-11, 5.5, -3.4, 7.1]))\nprint(statistics.pstdev([1, 30, 50, 100]))",
      "metadata": {
        "trusted": true
      },
      "execution_count": 387,
      "outputs": [
        {
          "name": "stdout",
          "text": "3.415650255319866\n0.6322358912796886\n7.287146217827662\n36.09276243237694\n",
          "output_type": "stream"
        }
      ]
    },
    {
      "cell_type": "markdown",
      "source": "Python statistics.stdev() Method - Calculate the standard deviation of the given data: The statistics.stdev() method calculates the standard deviation from a sample of data.\n\nStandard deviation is a measure of how spread out the numbers are.\n\nA large standard deviation indicates that the data is spread out, - a small standard deviation indicates that the data is clustered closely around the mean.\n\nTip: Standard deviation is (unlike the Variance) expressed in the same units as the data.\n\nTip: Standard deviation is the square root of sample variance.\n\nTip: To calculate the standard deviation of an entire population, look at the statistics.pstdev() method.\n\nThe statistics.stdev() method calculates the standard deviation from a sample of data.\n\nStandard deviation is a measure of how spread out the numbers are.\n\nA large standard deviation indicates that the data is spread out, - a small standard deviation indicates that the data is clustered closely around the mean.\n\nTip: Standard deviation is (unlike the Variance) expressed in the same units as the data.\n\nTip: Standard deviation is the square root of sample variance.\n\nTip: To calculate the standard deviation of an entire population, look at the statistics.pstdev() method. ",
      "metadata": {}
    },
    {
      "cell_type": "code",
      "source": "# Import statistics Library\nimport statistics\n\n# Calculate the standard deviation from a sample of data\nprint(statistics.stdev([1, 3, 5, 7, 9, 11]))\nprint(statistics.stdev([2, 2.5, 1.25, 3.1, 1.75, 2.8]))\nprint(statistics.stdev([-11, 5.5, -3.4, 7.1]))\nprint(statistics.stdev([1, 30, 50, 100]))",
      "metadata": {
        "trusted": true
      },
      "execution_count": 388,
      "outputs": [
        {
          "name": "stdout",
          "text": "3.7416573867739413\n0.6925797186365383\n8.414471660973927\n41.67633221226008\n",
          "output_type": "stream"
        }
      ]
    },
    {
      "cell_type": "markdown",
      "source": "Python statistics.pvariance() Method - Calculate the variance of an entire population: The statistics.pvariance() method calculates the variance of an entire population.\n\nA large variance indicates that the data is spread out, - a small variance indicates that the data is clustered closely around the mean.\n\nTip: To calculate the variance from a sample of data, look at the statistics.variance() method.",
      "metadata": {}
    },
    {
      "cell_type": "code",
      "source": "# Import statistics Library\nimport statistics\n\n# Calculate the variance of an entire population\nprint(statistics.pvariance([1, 3, 5, 7, 9, 11]))\nprint(statistics.pvariance([2, 2.5, 1.25, 3.1, 1.75, 2.8]))\nprint(statistics.pvariance([-11, 5.5, -3.4, 7.1]))\nprint(statistics.pvariance([1, 30, 50, 100]))",
      "metadata": {
        "trusted": true
      },
      "execution_count": 389,
      "outputs": [
        {
          "name": "stdout",
          "text": "11.666666666666666\n0.3997222222222222\n53.1025\n1302.6875\n",
          "output_type": "stream"
        }
      ]
    },
    {
      "cell_type": "markdown",
      "source": "Python statistics.variance() Method - Calculate the variance from a sample of data:\n    \nThe statistics.variance() method calculates the variance from a sample of data (from a population).\n\nA large variance indicates that the data is spread out, - a small variance indicates that the data is clustered closely around the mean.\n\nTip: To calculate the variance of an entire population, look at the statistics.pvariance() method.\n\n",
      "metadata": {}
    },
    {
      "cell_type": "code",
      "source": "# Import statistics Library\nimport statistics\n\n# Calculate the variance from a sample of data\nprint(statistics.variance([1, 3, 5, 7, 9, 11]))\nprint(statistics.variance([2, 2.5, 1.25, 3.1, 1.75, 2.8]))\nprint(statistics.variance([-11, 5.5, -3.4, 7.1]))\nprint(statistics.variance([1, 30, 50, 100]))",
      "metadata": {
        "trusted": true
      },
      "execution_count": 393,
      "outputs": [
        {
          "name": "stdout",
          "text": "14\n0.47966666666666663\n70.80333333333333\n1736.9166666666667\n",
          "output_type": "stream"
        }
      ]
    },
    {
      "cell_type": "markdown",
      "source": "# Python RegEx",
      "metadata": {}
    },
    {
      "cell_type": "markdown",
      "source": "A RegEx, or Regular Expression, is a sequence of characters that forms a search pattern.\n\nRegEx can be used to check if a string contains the specified search pattern.",
      "metadata": {}
    },
    {
      "cell_type": "markdown",
      "source": "RegEx Module\n\nPython has a built-in package called re, which can be used to work with Regular Expressions.\n\nImport the re module:",
      "metadata": {}
    },
    {
      "cell_type": "markdown",
      "source": "The findall() Function - The findall() function returns a list containing all matches.",
      "metadata": {}
    },
    {
      "cell_type": "code",
      "source": "import re\n\ntxt = \"The rain in Spain\"\nx = re.findall(\"ai\", txt)\nprint(x)",
      "metadata": {
        "trusted": true
      },
      "execution_count": 392,
      "outputs": [
        {
          "name": "stdout",
          "text": "['ai', 'ai']\n",
          "output_type": "stream"
        }
      ]
    },
    {
      "cell_type": "markdown",
      "source": "The list contains the matches in the order they are found.\n\nIf no matches are found, an empty list is returned:\n\nReturn an empty list if no match was found:\n",
      "metadata": {}
    },
    {
      "cell_type": "code",
      "source": "import re\n\ntxt = \"The rain in Spain\"\nx = re.findall(\"Portugal\", txt)\nprint(x)",
      "metadata": {
        "trusted": true
      },
      "execution_count": 396,
      "outputs": [
        {
          "name": "stdout",
          "text": "[]\n",
          "output_type": "stream"
        }
      ]
    },
    {
      "cell_type": "markdown",
      "source": "The search() Function\n\nThe search() function searches the string for a match, and returns a Match object if there is a match.\n\nIf there is more than one match, only the first occurrence of the match will be returned:",
      "metadata": {}
    },
    {
      "cell_type": "markdown",
      "source": "Search for the first white-space character in the string:",
      "metadata": {}
    },
    {
      "cell_type": "code",
      "source": "import re\n\ntxt = \"The rain in Spain\"\nx = re.search(\"\\s\", txt)\n\nprint(\"The first white-space character is located in position:\", x.start())",
      "metadata": {
        "trusted": true
      },
      "execution_count": 395,
      "outputs": [
        {
          "name": "stdout",
          "text": "The first white-space character is located in position: 3\n",
          "output_type": "stream"
        }
      ]
    },
    {
      "cell_type": "markdown",
      "source": "If no matches are found, the value None is returned:",
      "metadata": {}
    },
    {
      "cell_type": "markdown",
      "source": "Make a search that returns no match:",
      "metadata": {}
    },
    {
      "cell_type": "code",
      "source": "import re\n\ntxt = \"The rain in Spain\"\nx = re.search(\"Portugal\", txt)\nprint(x)",
      "metadata": {
        "trusted": true
      },
      "execution_count": 398,
      "outputs": [
        {
          "name": "stdout",
          "text": "None\n",
          "output_type": "stream"
        }
      ]
    },
    {
      "cell_type": "markdown",
      "source": "The split() Function - The split() function returns a list where the string has been split at each match:\nSplit at each white-space character:",
      "metadata": {}
    },
    {
      "cell_type": "code",
      "source": "import re\n\ntxt = \"The rain in Spain\"\nx = re.split(\"\\s\", txt)\nprint(x)",
      "metadata": {
        "trusted": true
      },
      "execution_count": 399,
      "outputs": [
        {
          "name": "stdout",
          "text": "['The', 'rain', 'in', 'Spain']\n",
          "output_type": "stream"
        }
      ]
    },
    {
      "cell_type": "markdown",
      "source": "You can control the number of occurrences by specifying the maxsplit parameter:",
      "metadata": {}
    },
    {
      "cell_type": "markdown",
      "source": "Split the string only at the first occurrence:",
      "metadata": {}
    },
    {
      "cell_type": "code",
      "source": "import re\n\ntxt = \"The rain in Spain\"\nx = re.split(\"\\s\", txt, 1)\nprint(x)",
      "metadata": {
        "trusted": true
      },
      "execution_count": 400,
      "outputs": [
        {
          "name": "stdout",
          "text": "['The', 'rain in Spain']\n",
          "output_type": "stream"
        }
      ]
    },
    {
      "cell_type": "markdown",
      "source": "The sub() Function",
      "metadata": {}
    },
    {
      "cell_type": "markdown",
      "source": "The sub() function replaces the matches with the text of your choice:\n    \nReplace every white-space character with the number 9:",
      "metadata": {}
    },
    {
      "cell_type": "code",
      "source": "import re\n\ntxt = \"The rain in Spain\"\nx = re.sub(\"\\s\", \"9\", txt)\nprint(x)",
      "metadata": {
        "trusted": true
      },
      "execution_count": 401,
      "outputs": [
        {
          "name": "stdout",
          "text": "The9rain9in9Spain\n",
          "output_type": "stream"
        }
      ]
    },
    {
      "cell_type": "markdown",
      "source": "You can control the number of replacements by specifying the count parameter:",
      "metadata": {}
    },
    {
      "cell_type": "markdown",
      "source": "Replace the first 2 occurrences:",
      "metadata": {}
    },
    {
      "cell_type": "markdown",
      "source": "import re\n\ntxt = \"The rain in Spain\"\nx = re.sub(\"\\s\", \"9\", txt, 2)\nprint(x)",
      "metadata": {}
    },
    {
      "cell_type": "markdown",
      "source": "[]\tA set of characters",
      "metadata": {}
    },
    {
      "cell_type": "markdown",
      "source": "import re\n\ntxt = \"The rain in Spain\"\n\n#Find all lower case characters alphabetically between \"a\" and \"m\":\n\nx = re.findall(\"[a-m]\", txt)\nprint(x)\n",
      "metadata": {}
    },
    {
      "cell_type": "markdown",
      "source": "\\\tSignals a special sequence (can also be used to escape special characters)",
      "metadata": {}
    },
    {
      "cell_type": "code",
      "source": "import re\n\ntxt = \"That will be 59 dollars\"\n\n#Find all digit characters:\n\nx = re.findall(\"\\d\", txt)\nprint(x)",
      "metadata": {
        "trusted": true
      },
      "execution_count": 405,
      "outputs": [
        {
          "name": "stdout",
          "text": "['5', '9']\n",
          "output_type": "stream"
        }
      ]
    },
    {
      "cell_type": "markdown",
      "source": ".   \tAny character (except newline character)",
      "metadata": {}
    },
    {
      "cell_type": "code",
      "source": "import re\n\ntxt = \"hello planet\"\n\n#Search for a sequence that starts with \"he\", followed by two (any) characters, and an \"o\":\n\nx = re.findall(\"he..o\", txt)\nprint(x)",
      "metadata": {
        "trusted": true
      },
      "execution_count": 407,
      "outputs": [
        {
          "name": "stdout",
          "text": "['hello']\n",
          "output_type": "stream"
        }
      ]
    },
    {
      "cell_type": "markdown",
      "source": "^\tStarts with",
      "metadata": {}
    },
    {
      "cell_type": "markdown",
      "source": "import re\n\ntxt = \"hello planet\"\n\n#Check if the string starts with 'hello':\n\nx = re.findall(\"^hello\", txt)\nif x:\n  print(\"Yes, the string starts with 'hello'\")\nelse:\n  print(\"No match\")",
      "metadata": {}
    },
    {
      "cell_type": "markdown",
      "source": "$\tEnds with",
      "metadata": {}
    },
    {
      "cell_type": "code",
      "source": "import re\n\ntxt = \"hello planet\"\n\n#Check if the string ends with 'planet':\n\nx = re.findall(\"planet$\", txt)\nif x:\n  print(\"Yes, the string ends with 'planet'\")\nelse:\n  print(\"No match\")",
      "metadata": {
        "trusted": true
      },
      "execution_count": 411,
      "outputs": [
        {
          "name": "stdout",
          "text": "Yes, the string ends with 'planet'\n",
          "output_type": "stream"
        }
      ]
    },
    {
      "cell_type": "markdown",
      "source": "\"*  \tZero or more occurrences\"",
      "metadata": {}
    },
    {
      "cell_type": "code",
      "source": "import re\n\ntxt = \"hello planet\"\n\n#Search for a sequence that starts with \"he\", followed by 0 or more  (any) characters, and an \"o\":\n\nx = re.findall(\"he.*o\", txt)\n\nprint(x)",
      "metadata": {
        "trusted": true
      },
      "execution_count": 412,
      "outputs": [
        {
          "name": "stdout",
          "text": "['hello']\n",
          "output_type": "stream"
        }
      ]
    },
    {
      "cell_type": "markdown",
      "source": "\"+\tOne or more occurrences\"",
      "metadata": {}
    },
    {
      "cell_type": "code",
      "source": "import re\n\ntxt = \"hello planet\"\n\n#Search for a sequence that starts with \"he\", followed by 1 or more  (any) characters, and an \"o\":\n\nx = re.findall(\"he.+o\", txt)\n\nprint(x)",
      "metadata": {
        "trusted": true
      },
      "execution_count": 413,
      "outputs": [
        {
          "name": "stdout",
          "text": "['hello']\n",
          "output_type": "stream"
        }
      ]
    },
    {
      "cell_type": "markdown",
      "source": "\"?\tZero or one occurrences\"",
      "metadata": {}
    },
    {
      "cell_type": "code",
      "source": "import re\n\ntxt = \"hello planet\"\n\n#Search for a sequence that starts with \"he\", followed by 0 or 1  (any) character, and an \"o\":\n\nx = re.findall(\"he.?o\", txt)\n\nprint(x)\n\n#This time we got no match, because there were not zero, not one, but two characters between \"he\" and the \"o\"\n",
      "metadata": {
        "trusted": true
      },
      "execution_count": 414,
      "outputs": [
        {
          "name": "stdout",
          "text": "[]\n",
          "output_type": "stream"
        }
      ]
    },
    {
      "cell_type": "markdown",
      "source": "{}\tExactly the specified number of occurrences",
      "metadata": {}
    },
    {
      "cell_type": "code",
      "source": "import re\n\ntxt = \"hello planet\"\n\n#Search for a sequence that starts with \"he\", followed excactly 2 (any) characters, and an \"o\":\n\nx = re.findall(\"he.{2}o\", txt)\n\nprint(x)",
      "metadata": {
        "trusted": true
      },
      "execution_count": 415,
      "outputs": [
        {
          "name": "stdout",
          "text": "['hello']\n",
          "output_type": "stream"
        }
      ]
    },
    {
      "cell_type": "markdown",
      "source": "|\tEither or",
      "metadata": {}
    },
    {
      "cell_type": "code",
      "source": "import re\n\ntxt = \"The rain in Spain falls mainly in the plain!\"\n\n#Check if the string contains either \"falls\" or \"stays\":\n\nx = re.findall(\"falls|stays\", txt)\n\nprint(x)\n\nif x:\n  print(\"Yes, there is at least one match!\")\nelse:\n  print(\"No match\")",
      "metadata": {
        "trusted": true
      },
      "execution_count": 416,
      "outputs": [
        {
          "name": "stdout",
          "text": "['falls']\nYes, there is at least one match!\n",
          "output_type": "stream"
        }
      ]
    },
    {
      "cell_type": "markdown",
      "source": "()\tCapture and group",
      "metadata": {}
    },
    {
      "cell_type": "markdown",
      "source": "\\A\tReturns a match if the specified characters are at the beginning of the string",
      "metadata": {}
    },
    {
      "cell_type": "code",
      "source": "import re\n\ntxt = \"The rain in Spain\"\n\n#Check if the string starts with \"The\":\n\nx = re.findall(\"\\AThe\", txt)\n\nprint(x)\n\nif x:\n  print(\"Yes, there is a match!\")\nelse:\n  print(\"No match\")",
      "metadata": {
        "trusted": true
      },
      "execution_count": 417,
      "outputs": [
        {
          "name": "stdout",
          "text": "['The']\nYes, there is a match!\n",
          "output_type": "stream"
        }
      ]
    },
    {
      "cell_type": "markdown",
      "source": "\\b\tReturns a match where the specified characters are at the beginning or at the end of a word\n(the \"r\" in the beginning is making sure that the string is being treated as a \"raw string\")",
      "metadata": {}
    },
    {
      "cell_type": "code",
      "source": "import re\n\ntxt = \"The rain in Spain\"\n\n#Check if \"ain\" is present at the end of a WORD:\n\nx = re.findall(r\"ain\\b\", txt)\n\nprint(x)\n\nif x:\n  print(\"Yes, there is at least one match!\")\nelse:\n  print(\"No match\")",
      "metadata": {
        "trusted": true
      },
      "execution_count": 418,
      "outputs": [
        {
          "name": "stdout",
          "text": "['ain', 'ain']\nYes, there is at least one match!\n",
          "output_type": "stream"
        }
      ]
    },
    {
      "cell_type": "code",
      "source": "import re\n\ntxt = \"The rain in Spain\"\n\n#Check if \"ain\" is present at the beginning of a WORD:\n\nx = re.findall(r\"\\bain\", txt)\n\nprint(x)\n\nif x:\n  print(\"Yes, there is at least one match!\")\nelse:\n  print(\"No match\")",
      "metadata": {
        "trusted": true
      },
      "execution_count": 419,
      "outputs": [
        {
          "name": "stdout",
          "text": "[]\nNo match\n",
          "output_type": "stream"
        }
      ]
    },
    {
      "cell_type": "markdown",
      "source": "\\B\tReturns a match where the specified characters are present, but NOT at the beginning (or at the end) of a word\n(the \"r\" in the beginning is making sure that the string is being treated as a \"raw string\")",
      "metadata": {}
    },
    {
      "cell_type": "code",
      "source": "import re\n\ntxt = \"The rain in Spain\"\n\n#Check if \"ain\" is present, but NOT at the end of a word:\n\nx = re.findall(r\"ain\\B\", txt)\n\nprint(x)\n\nif x:\n  print(\"Yes, there is at least one match!\")\nelse:\n  print(\"No match\")\n",
      "metadata": {
        "trusted": true
      },
      "execution_count": 420,
      "outputs": [
        {
          "name": "stdout",
          "text": "[]\nNo match\n",
          "output_type": "stream"
        }
      ]
    },
    {
      "cell_type": "code",
      "source": "import re\n\ntxt = \"The rain in Spain\"\n\n#Check if \"ain\" is present, but NOT at the beginning of a word:\n\nx = re.findall(r\"\\Bain\", txt)\n\nprint(x)\n\nif x:\n  print(\"Yes, there is at least one match!\")\nelse:\n  print(\"No match\")\n",
      "metadata": {
        "trusted": true
      },
      "execution_count": 421,
      "outputs": [
        {
          "name": "stdout",
          "text": "['ain', 'ain']\nYes, there is at least one match!\n",
          "output_type": "stream"
        }
      ]
    },
    {
      "cell_type": "markdown",
      "source": "\\d\tReturns a match where the string contains digits (numbers from 0-9)",
      "metadata": {}
    },
    {
      "cell_type": "code",
      "source": "import re\n\ntxt = \"The rain in Spain\"\n\n#Check if the string contains any digits (numbers from 0-9):\n\nx = re.findall(\"\\d\", txt)\n\nprint(x)\n\nif x:\n  print(\"Yes, there is at least one match!\")\nelse:\n  print(\"No match\")\n",
      "metadata": {
        "trusted": true
      },
      "execution_count": 422,
      "outputs": [
        {
          "name": "stdout",
          "text": "[]\nNo match\n",
          "output_type": "stream"
        }
      ]
    },
    {
      "cell_type": "markdown",
      "source": "\\D\tReturns a match where the string DOES NOT contain digits",
      "metadata": {}
    },
    {
      "cell_type": "code",
      "source": "import re\n\ntxt = \"The rain in Spain\"\n\n#Return a match at every no-digit character:\n\nx = re.findall(\"\\D\", txt)\n\nprint(x)\n\nif x:\n  print(\"Yes, there is at least one match!\")\nelse:\n  print(\"No match\")\n",
      "metadata": {
        "trusted": true
      },
      "execution_count": 423,
      "outputs": [
        {
          "name": "stdout",
          "text": "['T', 'h', 'e', ' ', 'r', 'a', 'i', 'n', ' ', 'i', 'n', ' ', 'S', 'p', 'a', 'i', 'n']\nYes, there is at least one match!\n",
          "output_type": "stream"
        }
      ]
    },
    {
      "cell_type": "markdown",
      "source": "\\s\tReturns a match where the string contains a white space character",
      "metadata": {}
    },
    {
      "cell_type": "code",
      "source": "import re\n\ntxt = \"The rain in Spain\"\n\n#Return a match at every white-space character:\n\nx = re.findall(\"\\s\", txt)\n\nprint(x)\n\nif x:\n  print(\"Yes, there is at least one match!\")\nelse:\n  print(\"No match\")",
      "metadata": {
        "trusted": true
      },
      "execution_count": 424,
      "outputs": [
        {
          "name": "stdout",
          "text": "[' ', ' ', ' ']\nYes, there is at least one match!\n",
          "output_type": "stream"
        }
      ]
    },
    {
      "cell_type": "markdown",
      "source": "\\S\tReturns a match where the string DOES NOT contain a white space character",
      "metadata": {}
    },
    {
      "cell_type": "code",
      "source": "import re\n\ntxt = \"The rain in Spain\"\n\n#Return a match at every NON white-space character:\n\nx = re.findall(\"\\S\", txt)\n\nprint(x)\n\nif x:\n  print(\"Yes, there is at least one match!\")\nelse:\n  print(\"No match\")",
      "metadata": {
        "trusted": true
      },
      "execution_count": 425,
      "outputs": [
        {
          "name": "stdout",
          "text": "['T', 'h', 'e', 'r', 'a', 'i', 'n', 'i', 'n', 'S', 'p', 'a', 'i', 'n']\nYes, there is at least one match!\n",
          "output_type": "stream"
        }
      ]
    },
    {
      "cell_type": "markdown",
      "source": "\\w\tReturns a match where the string contains any word characters (characters from a to Z, digits from 0-9, and the underscore _ character)",
      "metadata": {}
    },
    {
      "cell_type": "code",
      "source": "import re\n\ntxt = \"The rain in Spain\"\n\n#Return a match at every word character (characters from a to Z, digits from 0-9, and the underscore _ character):\n\nx = re.findall(\"\\w\", txt)\n\nprint(x)\n\nif x:\n  print(\"Yes, there is at least one match!\")\nelse:\n  print(\"No match\")",
      "metadata": {
        "trusted": true
      },
      "execution_count": 426,
      "outputs": [
        {
          "name": "stdout",
          "text": "['T', 'h', 'e', 'r', 'a', 'i', 'n', 'i', 'n', 'S', 'p', 'a', 'i', 'n']\nYes, there is at least one match!\n",
          "output_type": "stream"
        }
      ]
    },
    {
      "cell_type": "markdown",
      "source": "\\W\tReturns a match where the string DOES NOT contain any word characters",
      "metadata": {}
    },
    {
      "cell_type": "code",
      "source": "import re\n\ntxt = \"The rain in Spain\"\n\n#Return a match at every NON word character (characters NOT between a and Z. Like \"!\", \"?\" white-space etc.):\n\nx = re.findall(\"\\W\", txt)\n\nprint(x)\n\nif x:\n  print(\"Yes, there is at least one match!\")\nelse:\n  print(\"No match\")",
      "metadata": {
        "trusted": true
      },
      "execution_count": 427,
      "outputs": [
        {
          "name": "stdout",
          "text": "[' ', ' ', ' ']\nYes, there is at least one match!\n",
          "output_type": "stream"
        }
      ]
    },
    {
      "cell_type": "markdown",
      "source": "\\Z\tReturns a match if the specified characters are at the end of the string",
      "metadata": {}
    },
    {
      "cell_type": "code",
      "source": "import re\n\ntxt = \"The rain in Spain\"\n\n#Check if the string ends with \"Spain\":\n\nx = re.findall(\"Spain\\Z\", txt)\n\nprint(x)\n\nif x:\n  print(\"Yes, there is a match!\")\nelse:\n  print(\"No match\")",
      "metadata": {
        "trusted": true
      },
      "execution_count": 428,
      "outputs": [
        {
          "name": "stdout",
          "text": "['Spain']\nYes, there is a match!\n",
          "output_type": "stream"
        }
      ]
    },
    {
      "cell_type": "markdown",
      "source": "[arn]\tReturns a match where one of the specified characters (a, r, or n) is present",
      "metadata": {}
    },
    {
      "cell_type": "code",
      "source": "import re\n\ntxt = \"The rain in Spain\"\n\n#Check if the string has any a, r, or n characters:\n\nx = re.findall(\"[arn]\", txt)\n\nprint(x)\n\nif x:\n  print(\"Yes, there is at least one match!\")\nelse:\n  print(\"No match\")",
      "metadata": {
        "trusted": true
      },
      "execution_count": 429,
      "outputs": [
        {
          "name": "stdout",
          "text": "['r', 'a', 'n', 'n', 'a', 'n']\nYes, there is at least one match!\n",
          "output_type": "stream"
        }
      ]
    },
    {
      "cell_type": "markdown",
      "source": "[a-n]\tReturns a match for any lower case character, alphabetically between a and n",
      "metadata": {}
    },
    {
      "cell_type": "code",
      "source": "import re\n\ntxt = \"The rain in Spain\"\n\n#Check if the string has any characters between a and n:\n\nx = re.findall(\"[a-n]\", txt)\n\nprint(x)\n\nif x:\n  print(\"Yes, there is at least one match!\")\nelse:\n  print(\"No match\")",
      "metadata": {
        "trusted": true
      },
      "execution_count": 430,
      "outputs": [
        {
          "name": "stdout",
          "text": "['h', 'e', 'a', 'i', 'n', 'i', 'n', 'a', 'i', 'n']\nYes, there is at least one match!\n",
          "output_type": "stream"
        }
      ]
    },
    {
      "cell_type": "markdown",
      "source": "[^arn]\tReturns a match for any character EXCEPT a, r, and n",
      "metadata": {}
    },
    {
      "cell_type": "code",
      "source": "import re\n\ntxt = \"The rain in Spain\"\n\n#Check if the string has other characters than a, r, or n:\n\nx = re.findall(\"[^arn]\", txt)\n\nprint(x)\n\nif x:\n  print(\"Yes, there is at least one match!\")\nelse:\n  print(\"No match\")",
      "metadata": {
        "trusted": true
      },
      "execution_count": 431,
      "outputs": [
        {
          "name": "stdout",
          "text": "['T', 'h', 'e', ' ', 'i', ' ', 'i', ' ', 'S', 'p', 'i']\nYes, there is at least one match!\n",
          "output_type": "stream"
        }
      ]
    },
    {
      "cell_type": "markdown",
      "source": "[0123]\tReturns a match where any of the specified digits (0, 1, 2, or 3) are present",
      "metadata": {}
    },
    {
      "cell_type": "code",
      "source": "import re\n\ntxt = \"The rain in Spain\"\n\n#Check if the string has any 0, 1, 2, or 3 digits:\n\nx = re.findall(\"[0123]\", txt)\n\nprint(x)\n\nif x:\n  print(\"Yes, there is at least one match!\")\nelse:\n  print(\"No match\")\n",
      "metadata": {
        "trusted": true
      },
      "execution_count": 432,
      "outputs": [
        {
          "name": "stdout",
          "text": "[]\nNo match\n",
          "output_type": "stream"
        }
      ]
    },
    {
      "cell_type": "markdown",
      "source": "[0-9]\tReturns a match for any digit between 0 and 9",
      "metadata": {}
    },
    {
      "cell_type": "code",
      "source": "import re\n\ntxt = \"8 times before 11:45 AM\"\n\n#Check if the string has any digits:\n\nx = re.findall(\"[0-9]\", txt)\n\nprint(x)\n\nif x:\n  print(\"Yes, there is at least one match!\")\nelse:\n  print(\"No match\")",
      "metadata": {
        "trusted": true
      },
      "execution_count": 433,
      "outputs": [
        {
          "name": "stdout",
          "text": "['8', '1', '1', '4', '5']\nYes, there is at least one match!\n",
          "output_type": "stream"
        }
      ]
    },
    {
      "cell_type": "markdown",
      "source": "[0-5][0-9]\tReturns a match for any two-digit numbers from 00 and 59",
      "metadata": {}
    },
    {
      "cell_type": "code",
      "source": "import re\n\ntxt = \"8 times before 11:45 AM\"\n\n#Check if the string has any two-digit numbers, from 00 to 59:\n\nx = re.findall(\"[0-5][0-9]\", txt)\n\nprint(x)\n\nif x:\n  print(\"Yes, there is at least one match!\")\nelse:\n  print(\"No match\")",
      "metadata": {
        "trusted": true
      },
      "execution_count": 434,
      "outputs": [
        {
          "name": "stdout",
          "text": "['11', '45']\nYes, there is at least one match!\n",
          "output_type": "stream"
        }
      ]
    },
    {
      "cell_type": "markdown",
      "source": "[a-zA-Z]\tReturns a match for any character alphabetically between a and z, lower case OR upper case",
      "metadata": {}
    },
    {
      "cell_type": "code",
      "source": "import re\n\ntxt = \"8 times before 11:45 AM\"\n\n#Check if the string has any characters from a to z lower case, and A to Z upper case:\n\nx = re.findall(\"[a-zA-Z]\", txt)\n\nprint(x)\n\nif x:\n  print(\"Yes, there is at least one match!\")\nelse:\n  print(\"No match\")\n",
      "metadata": {
        "trusted": true
      },
      "execution_count": 435,
      "outputs": [
        {
          "name": "stdout",
          "text": "['t', 'i', 'm', 'e', 's', 'b', 'e', 'f', 'o', 'r', 'e', 'A', 'M']\nYes, there is at least one match!\n",
          "output_type": "stream"
        }
      ]
    },
    {
      "cell_type": "markdown",
      "source": "[+]\tIn sets, +, *, ., |, (), $,{} has no special meaning, so [+] means: return a match for any + character in the string",
      "metadata": {}
    },
    {
      "cell_type": "code",
      "source": "import re\n\ntxt = \"8 times before 11:45 AM\"\n\n#Check if the string has any + characters:\n\nx = re.findall(\"[+]\", txt)\n\nprint(x)\n\nif x:\n  print(\"Yes, there is at least one match!\")\nelse:\n  print(\"No match\")",
      "metadata": {
        "trusted": true
      },
      "execution_count": 438,
      "outputs": [
        {
          "name": "stdout",
          "text": "[]\nNo match\n",
          "output_type": "stream"
        }
      ]
    },
    {
      "cell_type": "markdown",
      "source": "# Python Try Except",
      "metadata": {}
    },
    {
      "cell_type": "markdown",
      "source": "The try block lets you test a block of code for errors.\n\nThe except block lets you handle the error.\n\nThe else block lets you execute code when there is no error.\n\nThe finally block lets you execute code, regardless of the result of the try- and except blocks.",
      "metadata": {}
    },
    {
      "cell_type": "markdown",
      "source": "Exception Handling\n\nWhen an error occurs, or exception as we call it, Python will normally stop and generate an error message.\n\nThese exceptions can be handled using the try statement:",
      "metadata": {}
    },
    {
      "cell_type": "markdown",
      "source": "The try block will generate an exception, because x is not defined:",
      "metadata": {}
    },
    {
      "cell_type": "code",
      "source": "try:\n  print(X)\nexcept:\n  print(\"An exception occurred\")",
      "metadata": {
        "trusted": true
      },
      "execution_count": 443,
      "outputs": [
        {
          "name": "stdout",
          "text": "An exception occurred\n",
          "output_type": "stream"
        }
      ]
    },
    {
      "cell_type": "markdown",
      "source": "Since the try block raises an error, the except block will be executed.\n\nWithout the try block, the program will crash and raise an error:",
      "metadata": {}
    },
    {
      "cell_type": "markdown",
      "source": "This statement will raise an error, because x is not defined:",
      "metadata": {}
    },
    {
      "cell_type": "code",
      "source": "print(X)",
      "metadata": {
        "trusted": true
      },
      "execution_count": 442,
      "outputs": [
        {
          "ename": "<class 'NameError'>",
          "evalue": "name 'X' is not defined",
          "traceback": [
            "\u001b[0;31m---------------------------------------------------------------------------\u001b[0m",
            "\u001b[0;31mNameError\u001b[0m                                 Traceback (most recent call last)",
            "Cell \u001b[0;32mIn [442], line 1\u001b[0m\n\u001b[0;32m----> 1\u001b[0m \u001b[38;5;28mprint\u001b[39m(\u001b[43mX\u001b[49m)\n",
            "\u001b[0;31mNameError\u001b[0m: name 'X' is not defined"
          ],
          "output_type": "error"
        }
      ]
    },
    {
      "cell_type": "markdown",
      "source": "Many Exceptions\n\nYou can define as many exception blocks as you want, e.g. if you want to execute a special block of code for a special kind of error:",
      "metadata": {}
    },
    {
      "cell_type": "markdown",
      "source": "Print one message if the try block raises a NameError and another for other errors:",
      "metadata": {}
    },
    {
      "cell_type": "code",
      "source": "try:\n  print(X)\nexcept NameError:\n  print(\"Variable X is not defined\")\nexcept:\n  print(\"Something else went wrong\")",
      "metadata": {
        "trusted": true
      },
      "execution_count": 445,
      "outputs": [
        {
          "name": "stdout",
          "text": "Variable X is not defined\n",
          "output_type": "stream"
        }
      ]
    },
    {
      "cell_type": "markdown",
      "source": "Else\n\n\nYou can use the else keyword to define a block of code to be executed if no errors were raised:",
      "metadata": {}
    },
    {
      "cell_type": "code",
      "source": "try:\n  print(\"Hello\")\nexcept:\n  print(\"Something went wrong\")\nelse:\n  print(\"Nothing went wrong\")",
      "metadata": {
        "trusted": true
      },
      "execution_count": 446,
      "outputs": [
        {
          "name": "stdout",
          "text": "Hello\nNothing went wrong\n",
          "output_type": "stream"
        }
      ]
    },
    {
      "cell_type": "markdown",
      "source": "Finally\n\n\nThe finally block, if specified, will be executed regardless if the try block raises an error or not.",
      "metadata": {}
    },
    {
      "cell_type": "code",
      "source": "try:\n  print(X)\nexcept:\n  print(\"Something went wrong\")\nfinally:\n  print(\"The 'try except' is finished\")",
      "metadata": {
        "trusted": true
      },
      "execution_count": 448,
      "outputs": [
        {
          "name": "stdout",
          "text": "Something went wrong\nThe 'try except' is finished\n",
          "output_type": "stream"
        }
      ]
    },
    {
      "cell_type": "code",
      "source": "try:\n  f = open(\"demofile.txt\")\n  try:\n    f.write(\"Lorum Ipsum\")\n  except:\n    print(\"Something went wrong when writing to the file\")\n  finally:\n    f.close()\nexcept:\n  print(\"Something went wrong when opening the file\")",
      "metadata": {
        "trusted": true
      },
      "execution_count": 449,
      "outputs": [
        {
          "name": "stdout",
          "text": "Something went wrong when opening the file\n",
          "output_type": "stream"
        }
      ]
    },
    {
      "cell_type": "markdown",
      "source": "Raise an exception\n\nAs a Python developer you can choose to throw an exception if a condition occurs.\n\nTo throw (or raise) an exception, use the raise keyword.",
      "metadata": {}
    },
    {
      "cell_type": "markdown",
      "source": "Raise an error and stop the program if x is lower than 0:",
      "metadata": {}
    },
    {
      "cell_type": "code",
      "source": "x = -1\n\nif x < 0:\n  raise Exception(\"Sorry, no numbers below zero\")",
      "metadata": {
        "trusted": true
      },
      "execution_count": 451,
      "outputs": [
        {
          "ename": "<class 'Exception'>",
          "evalue": "Sorry, no numbers below zero",
          "traceback": [
            "\u001b[0;31m---------------------------------------------------------------------------\u001b[0m",
            "\u001b[0;31mException\u001b[0m                                 Traceback (most recent call last)",
            "Cell \u001b[0;32mIn [451], line 4\u001b[0m\n\u001b[1;32m      1\u001b[0m x \u001b[38;5;241m=\u001b[39m \u001b[38;5;241m-\u001b[39m\u001b[38;5;241m1\u001b[39m\n\u001b[1;32m      3\u001b[0m \u001b[38;5;28;01mif\u001b[39;00m x \u001b[38;5;241m<\u001b[39m \u001b[38;5;241m0\u001b[39m:\n\u001b[0;32m----> 4\u001b[0m   \u001b[38;5;28;01mraise\u001b[39;00m \u001b[38;5;167;01mException\u001b[39;00m(\u001b[38;5;124m\"\u001b[39m\u001b[38;5;124mSorry, no numbers below zero\u001b[39m\u001b[38;5;124m\"\u001b[39m)\n",
            "\u001b[0;31mException\u001b[0m: Sorry, no numbers below zero"
          ],
          "output_type": "error"
        }
      ]
    },
    {
      "cell_type": "markdown",
      "source": "The raise keyword is used to raise an exception.\n\nYou can define what kind of error to raise, and the text to print to the user.",
      "metadata": {}
    },
    {
      "cell_type": "markdown",
      "source": "Raise a TypeError if x is not an integer:",
      "metadata": {}
    },
    {
      "cell_type": "code",
      "source": "x = \"hello\"\n\nif not type(x) is int:\n  raise TypeError(\"Only integers are allowed\")",
      "metadata": {
        "trusted": true
      },
      "execution_count": 452,
      "outputs": [
        {
          "ename": "<class 'TypeError'>",
          "evalue": "Only integers are allowed",
          "traceback": [
            "\u001b[0;31m---------------------------------------------------------------------------\u001b[0m",
            "\u001b[0;31mTypeError\u001b[0m                                 Traceback (most recent call last)",
            "Cell \u001b[0;32mIn [452], line 4\u001b[0m\n\u001b[1;32m      1\u001b[0m x \u001b[38;5;241m=\u001b[39m \u001b[38;5;124m\"\u001b[39m\u001b[38;5;124mhello\u001b[39m\u001b[38;5;124m\"\u001b[39m\n\u001b[1;32m      3\u001b[0m \u001b[38;5;28;01mif\u001b[39;00m \u001b[38;5;129;01mnot\u001b[39;00m \u001b[38;5;28mtype\u001b[39m(x) \u001b[38;5;129;01mis\u001b[39;00m \u001b[38;5;28mint\u001b[39m:\n\u001b[0;32m----> 4\u001b[0m   \u001b[38;5;28;01mraise\u001b[39;00m \u001b[38;5;167;01mTypeError\u001b[39;00m(\u001b[38;5;124m\"\u001b[39m\u001b[38;5;124mOnly integers are allowed\u001b[39m\u001b[38;5;124m\"\u001b[39m)\n",
            "\u001b[0;31mTypeError\u001b[0m: Only integers are allowed"
          ],
          "output_type": "error"
        }
      ]
    },
    {
      "cell_type": "markdown",
      "source": "# Python JSON",
      "metadata": {}
    },
    {
      "cell_type": "markdown",
      "source": "JSON is a syntax for storing and exchanging data.\n\nJSON is text, written with JavaScript object notation.",
      "metadata": {}
    },
    {
      "cell_type": "markdown",
      "source": "Python has a built-in package called json, which can be used to work with JSON data.",
      "metadata": {}
    },
    {
      "cell_type": "code",
      "source": "import json",
      "metadata": {
        "trusted": true
      },
      "execution_count": 453,
      "outputs": []
    },
    {
      "cell_type": "markdown",
      "source": "Parse JSON - Convert from JSON to Python",
      "metadata": {}
    },
    {
      "cell_type": "markdown",
      "source": "If you have a JSON string, you can parse it by using the json.loads() method.",
      "metadata": {}
    },
    {
      "cell_type": "markdown",
      "source": "Convert from JSON to Python:",
      "metadata": {}
    },
    {
      "cell_type": "code",
      "source": "import json\n\n# some JSON:\nx =  '{ \"name\":\"John\", \"age\":30, \"city\":\"New York\"}'\n\n# parse x:\ny = json.loads(x)\n\n# the result is a Python dictionary:\nprint(y[\"age\"])",
      "metadata": {
        "trusted": true
      },
      "execution_count": 454,
      "outputs": [
        {
          "name": "stdout",
          "text": "30\n",
          "output_type": "stream"
        }
      ]
    },
    {
      "cell_type": "markdown",
      "source": "Convert from Python to JSON",
      "metadata": {}
    },
    {
      "cell_type": "markdown",
      "source": "If you have a Python object, you can convert it into a JSON string by using the json.dumps() method.",
      "metadata": {}
    },
    {
      "cell_type": "code",
      "source": "import json\n\n# a Python object (dict):\nx = {\n  \"name\": \"John\",\n  \"age\": 30,\n  \"city\": \"New York\"\n}\n\n# convert into JSON:\ny = json.dumps(x)\n\n# the result is a JSON string:\nprint(y)",
      "metadata": {
        "trusted": true
      },
      "execution_count": 455,
      "outputs": [
        {
          "name": "stdout",
          "text": "{\"name\": \"John\", \"age\": 30, \"city\": \"New York\"}\n",
          "output_type": "stream"
        }
      ]
    },
    {
      "cell_type": "markdown",
      "source": "Convert Python objects into JSON strings, and print the values:",
      "metadata": {}
    },
    {
      "cell_type": "code",
      "source": "import json\n\nprint(json.dumps({\"name\": \"John\", \"age\": 30}))\nprint(json.dumps([\"apple\", \"bananas\"]))\nprint(json.dumps((\"apple\", \"bananas\")))\nprint(json.dumps(\"hello\"))\nprint(json.dumps(42))\nprint(json.dumps(31.76))\nprint(json.dumps(True))\nprint(json.dumps(False))\nprint(json.dumps(None))",
      "metadata": {
        "trusted": true
      },
      "execution_count": 456,
      "outputs": [
        {
          "name": "stdout",
          "text": "{\"name\": \"John\", \"age\": 30}\n[\"apple\", \"bananas\"]\n[\"apple\", \"bananas\"]\n\"hello\"\n42\n31.76\ntrue\nfalse\nnull\n",
          "output_type": "stream"
        }
      ]
    },
    {
      "cell_type": "markdown",
      "source": "When you convert from Python to JSON, Python objects are converted into the JSON (JavaScript) equivalent:\n\nPython\t   JSON\n\ndict\t  Object\n\nlist\t  Array\n\ntuple\t  Array\n\nstr\t  String\n\nint\t  Number\n\nfloat\t  Number\n\nTrue\t  true\n\nFalse\t  false\n\nNone\t  null\n",
      "metadata": {}
    },
    {
      "cell_type": "markdown",
      "source": "Convert a Python object containing all the legal data types:",
      "metadata": {}
    },
    {
      "cell_type": "code",
      "source": "import json\n\nx = {\n  \"name\": \"John\",\n  \"age\": 30,\n  \"married\": True,\n  \"divorced\": False,\n  \"children\": (\"Ann\",\"Billy\"),\n  \"pets\": None,\n  \"cars\": [\n    {\"model\": \"BMW 230\", \"mpg\": 27.5},\n    {\"model\": \"Ford Edge\", \"mpg\": 24.1}\n  ]\n}\n\nprint(json.dumps(x))",
      "metadata": {
        "trusted": true
      },
      "execution_count": 458,
      "outputs": [
        {
          "name": "stdout",
          "text": "{\"name\": \"John\", \"age\": 30, \"married\": true, \"divorced\": false, \"children\": [\"Ann\", \"Billy\"], \"pets\": null, \"cars\": [{\"model\": \"BMW 230\", \"mpg\": 27.5}, {\"model\": \"Ford Edge\", \"mpg\": 24.1}]}\n",
          "output_type": "stream"
        }
      ]
    },
    {
      "cell_type": "markdown",
      "source": "Format the Result\n\nThe example above prints a JSON string, but it is not very easy to read, with no indentations and line breaks.\n\nThe json.dumps() method has parameters to make it easier to read the result:",
      "metadata": {}
    },
    {
      "cell_type": "markdown",
      "source": "Use the indent parameter to define the numbers of indents:",
      "metadata": {}
    },
    {
      "cell_type": "code",
      "source": "import json\n\nx = {\n  \"name\": \"John\",\n  \"age\": 30,\n  \"married\": True,\n  \"divorced\": False,\n  \"children\": (\"Ann\",\"Billy\"),\n  \"pets\": None,\n  \"cars\": [\n    {\"model\": \"BMW 230\", \"mpg\": 27.5},\n    {\"model\": \"Ford Edge\", \"mpg\": 24.1}\n  ]\n}\n\n# use four indents to make it easier to read the result:\nprint(json.dumps(x, indent=4))",
      "metadata": {
        "trusted": true
      },
      "execution_count": 462,
      "outputs": [
        {
          "name": "stdout",
          "text": "{\n    \"name\": \"John\",\n    \"age\": 30,\n    \"married\": true,\n    \"divorced\": false,\n    \"children\": [\n        \"Ann\",\n        \"Billy\"\n    ],\n    \"pets\": null,\n    \"cars\": [\n        {\n            \"model\": \"BMW 230\",\n            \"mpg\": 27.5\n        },\n        {\n            \"model\": \"Ford Edge\",\n            \"mpg\": 24.1\n        }\n    ]\n}\n",
          "output_type": "stream"
        }
      ]
    },
    {
      "cell_type": "markdown",
      "source": "You can also define the separators, default value is (\", \", \": \"), which means using a comma and a space to separate each object, and a colon and a space to separate keys from values:",
      "metadata": {}
    },
    {
      "cell_type": "markdown",
      "source": "Use the separators parameter to change the default separator:",
      "metadata": {}
    },
    {
      "cell_type": "code",
      "source": "import json\n\nx = {\n  \"name\": \"John\",\n  \"age\": 30,\n  \"married\": True,\n  \"divorced\": False,\n  \"children\": (\"Ann\",\"Billy\"),\n  \"pets\": None,\n  \"cars\": [\n    {\"model\": \"BMW 230\", \"mpg\": 27.5},\n    {\"model\": \"Ford Edge\", \"mpg\": 24.1}\n  ]\n}\n\n# use . and a space to separate objects, and a space, a = and a space to separate keys from their values:\nprint(json.dumps(x, indent=4, separators=(\". \", \" = \")))",
      "metadata": {
        "trusted": true
      },
      "execution_count": 463,
      "outputs": [
        {
          "name": "stdout",
          "text": "{\n    \"name\" = \"John\". \n    \"age\" = 30. \n    \"married\" = true. \n    \"divorced\" = false. \n    \"children\" = [\n        \"Ann\". \n        \"Billy\"\n    ]. \n    \"pets\" = null. \n    \"cars\" = [\n        {\n            \"model\" = \"BMW 230\". \n            \"mpg\" = 27.5\n        }. \n        {\n            \"model\" = \"Ford Edge\". \n            \"mpg\" = 24.1\n        }\n    ]\n}\n",
          "output_type": "stream"
        }
      ]
    },
    {
      "cell_type": "markdown",
      "source": "The json.dumps() method has parameters to order the keys in the result:",
      "metadata": {}
    },
    {
      "cell_type": "markdown",
      "source": "Use the sort_keys parameter to specify if the result should be sorted or not:",
      "metadata": {}
    },
    {
      "cell_type": "code",
      "source": "import json\n\nx = {\n  \"name\": \"John\",\n  \"age\": 30,\n  \"married\": True,\n  \"divorced\": False,\n  \"children\": (\"Ann\",\"Billy\"),\n  \"pets\": None,\n  \"cars\": [\n    {\"model\": \"BMW 230\", \"mpg\": 27.5},\n    {\"model\": \"Ford Edge\", \"mpg\": 24.1}\n  ]\n}\n\n# sort the result alphabetically by keys:\nprint(json.dumps(x, indent=4, sort_keys=True))",
      "metadata": {
        "trusted": true
      },
      "execution_count": 464,
      "outputs": [
        {
          "name": "stdout",
          "text": "{\n    \"age\": 30,\n    \"cars\": [\n        {\n            \"model\": \"BMW 230\",\n            \"mpg\": 27.5\n        },\n        {\n            \"model\": \"Ford Edge\",\n            \"mpg\": 24.1\n        }\n    ],\n    \"children\": [\n        \"Ann\",\n        \"Billy\"\n    ],\n    \"divorced\": false,\n    \"married\": true,\n    \"name\": \"John\",\n    \"pets\": null\n}\n",
          "output_type": "stream"
        }
      ]
    },
    {
      "cell_type": "markdown",
      "source": "# Python String Formatting",
      "metadata": {}
    },
    {
      "cell_type": "markdown",
      "source": "To make sure a string will display as expected, we can format the result with the format() method.",
      "metadata": {}
    },
    {
      "cell_type": "markdown",
      "source": "String format()\nThe format() method allows you to format selected parts of a string.\n\nSometimes there are parts of a text that you do not control, maybe they come from a database, or user input?\n\nTo control such values, add placeholders (curly brackets {}) in the text, and run the values through the format() method:",
      "metadata": {}
    },
    {
      "cell_type": "markdown",
      "source": "Add a placeholder where you want to display the price:",
      "metadata": {}
    },
    {
      "cell_type": "code",
      "source": "price = 49\ntxt = \"The price is {} dollars\"\nprint(txt.format(price))",
      "metadata": {
        "trusted": true
      },
      "execution_count": 466,
      "outputs": [
        {
          "name": "stdout",
          "text": "The price is 49 dollars\n",
          "output_type": "stream"
        }
      ]
    },
    {
      "cell_type": "markdown",
      "source": "You can add parameters inside the curly brackets to specify how to convert the value:",
      "metadata": {}
    },
    {
      "cell_type": "markdown",
      "source": "Format the price to be displayed as a number with two decimals:",
      "metadata": {}
    },
    {
      "cell_type": "code",
      "source": "price = 49\ntxt = \"The price is {:.2f} dollars\"\nprint(txt.format(price))",
      "metadata": {
        "trusted": true
      },
      "execution_count": 468,
      "outputs": [
        {
          "name": "stdout",
          "text": "The price is 49.00 dollars\n",
          "output_type": "stream"
        }
      ]
    },
    {
      "cell_type": "code",
      "source": "quantity = 3\nitemno = 567\nprice = 49\nmyorder = \"I want {} pieces of item number {} for {:.2f} dollars.\"\nprint(myorder.format(quantity, itemno, price))",
      "metadata": {
        "trusted": true
      },
      "execution_count": 469,
      "outputs": [
        {
          "name": "stdout",
          "text": "I want 3 pieces of item number 567 for 49.00 dollars.\n",
          "output_type": "stream"
        }
      ]
    },
    {
      "cell_type": "markdown",
      "source": "You can use index numbers (a number inside the curly brackets {0}) to be sure the values are placed in the correct placeholders:",
      "metadata": {}
    },
    {
      "cell_type": "code",
      "source": "quantity = 3\nitemno = 567\nprice = 49\nmyorder = \"I want {0} pieces of item number {1} for {2:.2f} dollars.\"\nprint(myorder.format(quantity, itemno, price))",
      "metadata": {
        "trusted": true
      },
      "execution_count": 470,
      "outputs": [
        {
          "name": "stdout",
          "text": "I want 3 pieces of item number 567 for 49.00 dollars.\n",
          "output_type": "stream"
        }
      ]
    },
    {
      "cell_type": "code",
      "source": "age = 36\nname = \"John\"\ntxt = \"His name is {1}. {1} is {0} years old.\"\nprint(txt.format(age, name))\n",
      "metadata": {
        "trusted": true
      },
      "execution_count": 471,
      "outputs": [
        {
          "name": "stdout",
          "text": "His name is John. John is 36 years old.\n",
          "output_type": "stream"
        }
      ]
    },
    {
      "cell_type": "markdown",
      "source": "Named Indexes\n\nYou can also use named indexes by entering a name inside the curly brackets {carname}, but then you must use names when you pass the parameter values txt.format(carname = \"Ford\"):",
      "metadata": {}
    },
    {
      "cell_type": "code",
      "source": "myorder = \"I have a {carname}, it is a {model}.\"\nprint(myorder.format(carname = \"Ford\", model = \"Mustang\"))",
      "metadata": {
        "trusted": true
      },
      "execution_count": 472,
      "outputs": [
        {
          "name": "stdout",
          "text": "I have a Ford, it is a Mustang.\n",
          "output_type": "stream"
        }
      ]
    },
    {
      "cell_type": "markdown",
      "source": "# 5. NumPy Tutorial",
      "metadata": {}
    },
    {
      "cell_type": "markdown",
      "source": "NumPy is a Python library.\n\nNumPy is used for working with arrays.\n\nNumPy is short for \"Numerical Python\".",
      "metadata": {}
    },
    {
      "cell_type": "markdown",
      "source": "\nIt also has functions for working in domain of linear algebra, fourier transform, and matrices.\n\nNumPy was created in 2005 by Travis Oliphant. It is an open source project and you can use it freely.\n",
      "metadata": {}
    },
    {
      "cell_type": "markdown",
      "source": "In Python we have lists that serve the purpose of arrays, but they are slow to process.\n\nNumPy aims to provide an array object that is up to 50x faster than traditional Python lists.\n\nThe array object in NumPy is called ndarray, it provides a lot of supporting functions that make working with ndarray very easy.\n\nArrays are very frequently used in data science, where speed and resources are very important.",
      "metadata": {}
    },
    {
      "cell_type": "markdown",
      "source": "NumPy arrays are stored at one continuous place in memory unlike lists, so processes can access and manipulate them very efficiently.\n\nThis behavior is called locality of reference in computer science.\n\nThis is the main reason why NumPy is faster than lists. Also it is optimized to work with latest CPU architectures.",
      "metadata": {}
    },
    {
      "cell_type": "markdown",
      "source": "NumPy is a Python library and is written partially in Python, but most of the parts that require fast computation are written in C or C++",
      "metadata": {}
    },
    {
      "cell_type": "markdown",
      "source": "**Import Numphy**",
      "metadata": {}
    },
    {
      "cell_type": "code",
      "source": "import numpy",
      "metadata": {
        "trusted": true
      },
      "execution_count": 2,
      "outputs": []
    },
    {
      "cell_type": "code",
      "source": "import numpy\n\narr = numpy.array([1, 2, 3, 4, 5])\n\nprint(arr)",
      "metadata": {
        "trusted": true
      },
      "execution_count": 3,
      "outputs": [
        {
          "name": "stdout",
          "text": "[1 2 3 4 5]\n",
          "output_type": "stream"
        }
      ]
    },
    {
      "cell_type": "code",
      "source": "import numpy as np",
      "metadata": {
        "trusted": true
      },
      "execution_count": 4,
      "outputs": []
    },
    {
      "cell_type": "markdown",
      "source": "import numpy as np\n\narr = np.array([1, 2, 3, 4, 5])\n\nprint(arr)",
      "metadata": {}
    },
    {
      "cell_type": "code",
      "source": "import numpy as np\n\nprint(np.__version__)",
      "metadata": {
        "trusted": true
      },
      "execution_count": 6,
      "outputs": [
        {
          "name": "stdout",
          "text": "1.22.4\n",
          "output_type": "stream"
        }
      ]
    },
    {
      "cell_type": "markdown",
      "source": "**Creating Arrays**",
      "metadata": {}
    },
    {
      "cell_type": "markdown",
      "source": "NumPy is used to work with arrays. The array object in NumPy is called ndarray.\n\nWe can create a NumPy ndarray object by using the array() function.",
      "metadata": {}
    },
    {
      "cell_type": "code",
      "source": "import numpy as np\n\narr = np.array([1, 2, 3, 4, 5])\n\nprint(arr)\n\nprint(type(arr))",
      "metadata": {
        "trusted": true
      },
      "execution_count": 7,
      "outputs": [
        {
          "name": "stdout",
          "text": "[1 2 3 4 5]\n<class 'numpy.ndarray'>\n",
          "output_type": "stream"
        }
      ]
    },
    {
      "cell_type": "markdown",
      "source": "To create an ndarray, we can pass a list, tuple or any array-like object into the array() method, and it will be converted into an ndarray:",
      "metadata": {}
    },
    {
      "cell_type": "markdown",
      "source": "Use a tuple to create a NumPy array:",
      "metadata": {}
    },
    {
      "cell_type": "code",
      "source": "import numpy as np\n\narr = np.array((1, 2, 3, 4, 5))\n\nprint(arr)",
      "metadata": {
        "trusted": true
      },
      "execution_count": 8,
      "outputs": [
        {
          "name": "stdout",
          "text": "[1 2 3 4 5]\n",
          "output_type": "stream"
        }
      ]
    },
    {
      "cell_type": "markdown",
      "source": "Dimensions in Arrays",
      "metadata": {}
    },
    {
      "cell_type": "markdown",
      "source": "A dimension in arrays is one level of array depth (nested arrays).",
      "metadata": {}
    },
    {
      "cell_type": "markdown",
      "source": "0-D arrays, or Scalars, are the elements in an array. Each value in an array is a 0-D array.",
      "metadata": {}
    },
    {
      "cell_type": "markdown",
      "source": "Create a 0-D array with value 42",
      "metadata": {}
    },
    {
      "cell_type": "code",
      "source": "arr = np.array(42)\n\nprint(arr)",
      "metadata": {
        "trusted": true
      },
      "execution_count": 10,
      "outputs": [
        {
          "name": "stdout",
          "text": "42\n",
          "output_type": "stream"
        }
      ]
    },
    {
      "cell_type": "markdown",
      "source": "1-D Arrays - An array that has 0-D arrays as its elements is called uni-dimensional or 1-D array.\n\nThese are the most common and basic arrays.",
      "metadata": {}
    },
    {
      "cell_type": "markdown",
      "source": "Create a 1-D array containing the values 1,2,3,4,5:",
      "metadata": {}
    },
    {
      "cell_type": "code",
      "source": "arr = np.array([1, 2, 3, 4, 5])\n\nprint(arr)",
      "metadata": {
        "trusted": true
      },
      "execution_count": 11,
      "outputs": [
        {
          "name": "stdout",
          "text": "[1 2 3 4 5]\n",
          "output_type": "stream"
        }
      ]
    },
    {
      "cell_type": "markdown",
      "source": "2-D Arrays - \nAn array that has 1-D arrays as its elements is called a 2-D array.\n\nThese are often used to represent matrix or 2nd order tensors.",
      "metadata": {}
    },
    {
      "cell_type": "markdown",
      "source": "Create a 2-D array containing two arrays with the values 1,2,3 and 4,5,6:",
      "metadata": {}
    },
    {
      "cell_type": "code",
      "source": "arr = np.array([[1, 2, 3], [4, 5, 6]])\n\nprint(arr)",
      "metadata": {
        "trusted": true
      },
      "execution_count": 13,
      "outputs": [
        {
          "name": "stdout",
          "text": "[[1 2 3]\n [4 5 6]]\n",
          "output_type": "stream"
        }
      ]
    },
    {
      "cell_type": "markdown",
      "source": "3-D arrays- \nAn array that has 2-D arrays (matrices) as its elements is called 3-D array.\n\nThese are often used to represent a 3rd order tensor.",
      "metadata": {}
    },
    {
      "cell_type": "markdown",
      "source": "Create a 3-D array with two 2-D arrays, both containing two arrays with the values 1,2,3 and 4,5,6:",
      "metadata": {}
    },
    {
      "cell_type": "code",
      "source": "arr = np.array([[[1, 2, 3], [4, 5, 6]], [[1, 2, 3], [4, 5, 6]]])\n\nprint(arr)",
      "metadata": {
        "trusted": true
      },
      "execution_count": 14,
      "outputs": [
        {
          "name": "stdout",
          "text": "[[[1 2 3]\n  [4 5 6]]\n\n [[1 2 3]\n  [4 5 6]]]\n",
          "output_type": "stream"
        }
      ]
    },
    {
      "cell_type": "markdown",
      "source": "Check Number of Dimensions- NumPy Arrays provides the ndim attribute that returns an integer that tells us how many dimensions the array have.",
      "metadata": {}
    },
    {
      "cell_type": "code",
      "source": "a = np.array(42)\nb = np.array([1, 2, 3, 4, 5])\nc = np.array([[1, 2, 3], [4, 5, 6]])\nd = np.array([[[1, 2, 3], [4, 5, 6]], [[1, 2, 3], [4, 5, 6]]])\n\nprint(a.ndim)\nprint(b.ndim)\nprint(c.ndim)\nprint(d.ndim)",
      "metadata": {
        "trusted": true
      },
      "execution_count": 15,
      "outputs": [
        {
          "name": "stdout",
          "text": "0\n1\n2\n3\n",
          "output_type": "stream"
        }
      ]
    },
    {
      "cell_type": "markdown",
      "source": "Higher Dimensional Arrays - An array can have any number of dimensions.\n\nWhen the array is created, you can define the number of dimensions by using the ndmin argument.",
      "metadata": {}
    },
    {
      "cell_type": "markdown",
      "source": "Create an array with 5 dimensions and verify that it has 5 dimensions:",
      "metadata": {}
    },
    {
      "cell_type": "code",
      "source": "arr = np.array([1, 2, 3, 4], ndmin=5)\n\nprint(arr)\nprint('number of dimensions :', arr.ndim)",
      "metadata": {
        "trusted": true
      },
      "execution_count": 16,
      "outputs": [
        {
          "name": "stdout",
          "text": "[[[[[1 2 3 4]]]]]\nnumber of dimensions : 5\n",
          "output_type": "stream"
        }
      ]
    },
    {
      "cell_type": "markdown",
      "source": "In this array the innermost dimension (5th dim) has 4 elements, the 4th dim has 1 element that is the vector, the 3rd dim has 1 element that is the matrix with the vector, the 2nd dim has 1 element that is 3D array and 1st dim has 1 element that is a 4D array.",
      "metadata": {}
    },
    {
      "cell_type": "markdown",
      "source": "**Array Indexing**",
      "metadata": {}
    },
    {
      "cell_type": "markdown",
      "source": "Access Array Elements - \nArray indexing is the same as accessing an array element.\n\nYou can access an array element by referring to its index number.\n\nThe indexes in NumPy arrays start with 0, meaning that the first element has index 0, and the second has index 1 etc.",
      "metadata": {}
    },
    {
      "cell_type": "markdown",
      "source": "Get the first element from the following array:",
      "metadata": {}
    },
    {
      "cell_type": "code",
      "source": "arr = np.array([1, 2, 3, 4])\n\nprint(arr[0])",
      "metadata": {
        "trusted": true
      },
      "execution_count": 17,
      "outputs": [
        {
          "name": "stdout",
          "text": "1\n",
          "output_type": "stream"
        }
      ]
    },
    {
      "cell_type": "markdown",
      "source": "Get the second element from the following array.",
      "metadata": {}
    },
    {
      "cell_type": "code",
      "source": "arr = np.array([1, 2, 3, 4])\n\nprint(arr[1])",
      "metadata": {
        "trusted": true
      },
      "execution_count": 18,
      "outputs": [
        {
          "name": "stdout",
          "text": "2\n",
          "output_type": "stream"
        }
      ]
    },
    {
      "cell_type": "markdown",
      "source": "Get third and fourth elements from the following array and add them.",
      "metadata": {}
    },
    {
      "cell_type": "code",
      "source": "arr = np.array([1, 2, 3, 4])\n\nprint(arr[2] + arr[3])",
      "metadata": {
        "trusted": true
      },
      "execution_count": 19,
      "outputs": [
        {
          "name": "stdout",
          "text": "7\n",
          "output_type": "stream"
        }
      ]
    },
    {
      "cell_type": "markdown",
      "source": "Access 2-D Arrays - To access elements from 2-D arrays we can use comma separated integers representing the dimension and the index of the element.\n\nThink of 2-D arrays like a table with rows and columns, where the row represents the dimension and the index represents the column.",
      "metadata": {}
    },
    {
      "cell_type": "markdown",
      "source": "Access the element on the first row, second column:",
      "metadata": {}
    },
    {
      "cell_type": "code",
      "source": "arr = np.array([[1,2,3,4,5], [6,7,8,9,10]])\n\nprint('2nd element on 1st row: ', arr[0, 1])",
      "metadata": {
        "trusted": true
      },
      "execution_count": 20,
      "outputs": [
        {
          "name": "stdout",
          "text": "2nd element on 1st row:  2\n",
          "output_type": "stream"
        }
      ]
    },
    {
      "cell_type": "markdown",
      "source": "Access the element on the 2nd row, 5th column",
      "metadata": {}
    },
    {
      "cell_type": "code",
      "source": "arr = np.array([[1,2,3,4,5], [6,7,8,9,10]])\n\nprint('5th element on 2nd row: ', arr[1, 4])",
      "metadata": {
        "trusted": true
      },
      "execution_count": 21,
      "outputs": [
        {
          "name": "stdout",
          "text": "5th element on 2nd row:  10\n",
          "output_type": "stream"
        }
      ]
    },
    {
      "cell_type": "markdown",
      "source": "Access 3-D Arrays - To access elements from 3-D arrays we can use comma separated integers representing the dimensions and the index of the element.",
      "metadata": {}
    },
    {
      "cell_type": "markdown",
      "source": "Access the third element of the second array of the first array:",
      "metadata": {}
    },
    {
      "cell_type": "code",
      "source": "arr = np.array([[[1, 2, 3], [4, 5, 6]], [[7, 8, 9], [10, 11, 12]]])\n\nprint(arr[0, 1, 2])",
      "metadata": {
        "trusted": true
      },
      "execution_count": 22,
      "outputs": [
        {
          "name": "stdout",
          "text": "6\n",
          "output_type": "stream"
        }
      ]
    },
    {
      "cell_type": "markdown",
      "source": "Negative Indexing - \nUse negative indexing to access an array from the end.",
      "metadata": {}
    },
    {
      "cell_type": "markdown",
      "source": "Print the last element from the 2nd dim:",
      "metadata": {}
    },
    {
      "cell_type": "code",
      "source": "arr = np.array([[1,2,3,4,5], [6,7,8,9,10]])\n\nprint('Last element from 2nd dim: ', arr[1, -1])",
      "metadata": {
        "trusted": true
      },
      "execution_count": 23,
      "outputs": [
        {
          "name": "stdout",
          "text": "Last element from 2nd dim:  10\n",
          "output_type": "stream"
        }
      ]
    },
    {
      "cell_type": "markdown",
      "source": "**Array Slicing**",
      "metadata": {}
    },
    {
      "cell_type": "markdown",
      "source": "Slicing in python means taking elements from one given index to another given index.\n\nWe pass slice instead of index like this: [start:end].\n\nWe can also define the step, like this: [start:end:step].\n\nIf we don't pass start its considered 0\n\nIf we don't pass end its considered length of array in that dimension\n\nIf we don't pass step its considered 1",
      "metadata": {}
    },
    {
      "cell_type": "markdown",
      "source": "Slice elements from index 1 to index 5 from the following array:",
      "metadata": {}
    },
    {
      "cell_type": "code",
      "source": "arr = np.array([1, 2, 3, 4, 5, 6, 7])\n\nprint(arr[1:5])",
      "metadata": {
        "trusted": true
      },
      "execution_count": 24,
      "outputs": [
        {
          "name": "stdout",
          "text": "[2 3 4 5]\n",
          "output_type": "stream"
        }
      ]
    },
    {
      "cell_type": "markdown",
      "source": "Slice elements from index 4 to the end of the array:",
      "metadata": {}
    },
    {
      "cell_type": "code",
      "source": "arr = np.array([1, 2, 3, 4, 5, 6, 7])\n\nprint(arr[4:])",
      "metadata": {
        "trusted": true
      },
      "execution_count": 25,
      "outputs": [
        {
          "name": "stdout",
          "text": "[5 6 7]\n",
          "output_type": "stream"
        }
      ]
    },
    {
      "cell_type": "markdown",
      "source": "Slice elements from the beginning to index 4 (not included):",
      "metadata": {}
    },
    {
      "cell_type": "code",
      "source": "arr = np.array([1, 2, 3, 4, 5, 6, 7])\n\nprint(arr[:4])",
      "metadata": {
        "trusted": true
      },
      "execution_count": 26,
      "outputs": [
        {
          "name": "stdout",
          "text": "[1 2 3 4]\n",
          "output_type": "stream"
        }
      ]
    },
    {
      "cell_type": "markdown",
      "source": "Negative Slicing-\nUse the minus operator to refer to an index from the end:",
      "metadata": {}
    },
    {
      "cell_type": "markdown",
      "source": "Slice from the index 3 from the end to index 1 from the end:",
      "metadata": {}
    },
    {
      "cell_type": "code",
      "source": "arr = np.array([1, 2, 3, 4, 5, 6, 7])\n\nprint(arr[-3:-1])",
      "metadata": {
        "trusted": true
      },
      "execution_count": 27,
      "outputs": [
        {
          "name": "stdout",
          "text": "[5 6]\n",
          "output_type": "stream"
        }
      ]
    },
    {
      "cell_type": "markdown",
      "source": "STEP - Use the step value to determine the step of the slicing:",
      "metadata": {}
    },
    {
      "cell_type": "markdown",
      "source": "Return every other element from index 1 to index 5:",
      "metadata": {}
    },
    {
      "cell_type": "code",
      "source": "arr = np.array([1, 2, 3, 4, 5, 6, 7])\n\nprint(arr[1:5:2])",
      "metadata": {
        "trusted": true
      },
      "execution_count": 28,
      "outputs": [
        {
          "name": "stdout",
          "text": "[2 4]\n",
          "output_type": "stream"
        }
      ]
    },
    {
      "cell_type": "markdown",
      "source": "Return every other element from the entire array:",
      "metadata": {}
    },
    {
      "cell_type": "code",
      "source": "arr = np.array([1, 2, 3, 4, 5, 6, 7])\n\nprint(arr[::2])",
      "metadata": {
        "trusted": true
      },
      "execution_count": 29,
      "outputs": [
        {
          "name": "stdout",
          "text": "[1 3 5 7]\n",
          "output_type": "stream"
        }
      ]
    },
    {
      "cell_type": "markdown",
      "source": "Slicing 2-D Arrays - ",
      "metadata": {}
    },
    {
      "cell_type": "markdown",
      "source": "From the second element, slice elements from index 1 to index 4 (not included):",
      "metadata": {}
    },
    {
      "cell_type": "code",
      "source": "arr = np.array([[1, 2, 3, 4, 5], [6, 7, 8, 9, 10]])\n\nprint(arr[1, 1:4])",
      "metadata": {
        "trusted": true
      },
      "execution_count": 32,
      "outputs": [
        {
          "name": "stdout",
          "text": "[7 8 9]\n",
          "output_type": "stream"
        }
      ]
    },
    {
      "cell_type": "markdown",
      "source": "From both elements, return index 2:",
      "metadata": {}
    },
    {
      "cell_type": "code",
      "source": "arr = np.array([[1, 2, 3, 4, 5], [6, 7, 8, 9, 10]])\n\nprint(arr[0:2, 2])",
      "metadata": {
        "trusted": true
      },
      "execution_count": 33,
      "outputs": [
        {
          "name": "stdout",
          "text": "[3 8]\n",
          "output_type": "stream"
        }
      ]
    },
    {
      "cell_type": "markdown",
      "source": "From both elements, slice index 1 to index 4 (not included), this will return a 2-D array:",
      "metadata": {}
    },
    {
      "cell_type": "code",
      "source": "arr = np.array([[1, 2, 3, 4, 5], [6, 7, 8, 9, 10]])\n\nprint(arr[0:2, 1:4])",
      "metadata": {
        "trusted": true
      },
      "execution_count": 34,
      "outputs": [
        {
          "name": "stdout",
          "text": "[[2 3 4]\n [7 8 9]]\n",
          "output_type": "stream"
        }
      ]
    },
    {
      "cell_type": "markdown",
      "source": "**NumPy Data Types**",
      "metadata": {}
    },
    {
      "cell_type": "markdown",
      "source": "Data Types in Python\n\nBy default Python have these data types:\n\nstrings - used to represent text data, the text is given under quote marks. e.g. \"ABCD\"\n\ninteger - used to represent integer numbers. e.g. -1, -2, -3\n\nfloat - used to represent real numbers. e.g. 1.2, 42.42\n\nboolean - used to represent True or False.\n\ncomplex - used to represent complex numbers. e.g. 1.0 + 2.0j, 1.5 + 2.5j",
      "metadata": {}
    },
    {
      "cell_type": "markdown",
      "source": "Data Types in NumPy\n\nNumPy has some extra data types, and refer to data types with one character, like i for integers, u for unsigned integers etc.\n\nBelow is a list of all data types in NumPy and the characters used to represent them.\n\ni - integer\n\nb - boolean\n\nu - unsigned integer\n\nf - float\n\nc - complex float\n\nm - timedelta\n\nM - datetime\n\nO - object\n\nS - string\n\nU - unicode string\n\nV - fixed chunk of memory for other type ( void )",
      "metadata": {}
    },
    {
      "cell_type": "markdown",
      "source": "Checking the Data Type of an Array- \nThe NumPy array object has a property called dtype that returns the data type of the array:",
      "metadata": {}
    },
    {
      "cell_type": "code",
      "source": "arr = np.array([1, 2, 3, 4])\n\nprint(arr.dtype)",
      "metadata": {
        "trusted": true
      },
      "execution_count": 35,
      "outputs": [
        {
          "name": "stdout",
          "text": "int32\n",
          "output_type": "stream"
        }
      ]
    },
    {
      "cell_type": "markdown",
      "source": "Get the data type of an array containing strings:",
      "metadata": {}
    },
    {
      "cell_type": "code",
      "source": "arr = np.array(['apple', 'banana', 'cherry'])\n\nprint(arr.dtype)",
      "metadata": {
        "trusted": true
      },
      "execution_count": 36,
      "outputs": [
        {
          "name": "stdout",
          "text": "<U6\n",
          "output_type": "stream"
        }
      ]
    },
    {
      "cell_type": "markdown",
      "source": "Creating Arrays With a Defined Data Type - \nWe use the array() function to create arrays, this function can take an optional argument: dtype that allows us to define the expected data type of the array elements:",
      "metadata": {}
    },
    {
      "cell_type": "markdown",
      "source": "Create an array with data type string:",
      "metadata": {}
    },
    {
      "cell_type": "code",
      "source": "arr = np.array([1, 2, 3, 4], dtype='S')\n\nprint(arr)\nprint(arr.dtype)",
      "metadata": {
        "trusted": true
      },
      "execution_count": 37,
      "outputs": [
        {
          "name": "stdout",
          "text": "[b'1' b'2' b'3' b'4']\n|S1\n",
          "output_type": "stream"
        }
      ]
    },
    {
      "cell_type": "markdown",
      "source": "For i, u, f, S and U we can define size as well.",
      "metadata": {}
    },
    {
      "cell_type": "markdown",
      "source": "Create an array with data type 4 bytes integer:",
      "metadata": {}
    },
    {
      "cell_type": "code",
      "source": "arr = np.array([1, 2, 3, 4], dtype='i4')\n\nprint(arr)\nprint(arr.dtype)",
      "metadata": {
        "trusted": true
      },
      "execution_count": 38,
      "outputs": [
        {
          "name": "stdout",
          "text": "[1 2 3 4]\nint32\n",
          "output_type": "stream"
        }
      ]
    },
    {
      "cell_type": "markdown",
      "source": "What if a Value Can Not Be Converted? - \n\nIf a type is given in which elements can't be casted then NumPy will raise a ValueError.\n\nValueError: In Python ValueError is raised when the type of passed argument to a function is unexpected/incorrect.",
      "metadata": {}
    },
    {
      "cell_type": "markdown",
      "source": "A non integer string like 'a' can not be converted to integer (will raise an error):",
      "metadata": {}
    },
    {
      "cell_type": "code",
      "source": "arr = np.array(['a', '2', '3'], dtype='i')",
      "metadata": {
        "trusted": true
      },
      "execution_count": 39,
      "outputs": [
        {
          "ename": "<class 'ValueError'>",
          "evalue": "invalid literal for int() with base 10: 'a'",
          "traceback": [
            "\u001b[0;31m---------------------------------------------------------------------------\u001b[0m",
            "\u001b[0;31mValueError\u001b[0m                                Traceback (most recent call last)",
            "Cell \u001b[0;32mIn [39], line 1\u001b[0m\n\u001b[0;32m----> 1\u001b[0m arr \u001b[38;5;241m=\u001b[39m \u001b[43mnp\u001b[49m\u001b[38;5;241;43m.\u001b[39;49m\u001b[43marray\u001b[49m\u001b[43m(\u001b[49m\u001b[43m[\u001b[49m\u001b[38;5;124;43m'\u001b[39;49m\u001b[38;5;124;43ma\u001b[39;49m\u001b[38;5;124;43m'\u001b[39;49m\u001b[43m,\u001b[49m\u001b[43m \u001b[49m\u001b[38;5;124;43m'\u001b[39;49m\u001b[38;5;124;43m2\u001b[39;49m\u001b[38;5;124;43m'\u001b[39;49m\u001b[43m,\u001b[49m\u001b[43m \u001b[49m\u001b[38;5;124;43m'\u001b[39;49m\u001b[38;5;124;43m3\u001b[39;49m\u001b[38;5;124;43m'\u001b[39;49m\u001b[43m]\u001b[49m\u001b[43m,\u001b[49m\u001b[43m \u001b[49m\u001b[43mdtype\u001b[49m\u001b[38;5;241;43m=\u001b[39;49m\u001b[38;5;124;43m'\u001b[39;49m\u001b[38;5;124;43mi\u001b[39;49m\u001b[38;5;124;43m'\u001b[39;49m\u001b[43m)\u001b[49m\n",
            "\u001b[0;31mValueError\u001b[0m: invalid literal for int() with base 10: 'a'"
          ],
          "output_type": "error"
        }
      ]
    },
    {
      "cell_type": "markdown",
      "source": "Converting Data Type on Existing Arrays -\n\nThe best way to change the data type of an existing array, is to make a copy of the array with the astype() method.\n\nThe astype() function creates a copy of the array, and allows you to specify the data type as a parameter.\n\nThe data type can be specified using a string, like 'f' for float, 'i' for integer etc. or you can use the data type directly like float for float and int for integer.",
      "metadata": {}
    },
    {
      "cell_type": "markdown",
      "source": "Change data type from float to integer by using 'i' as parameter value:",
      "metadata": {}
    },
    {
      "cell_type": "code",
      "source": "arr = np.array([1.1, 2.1, 3.1])\n\nnewarr = arr.astype('i')\n\nprint(newarr)\nprint(newarr.dtype)",
      "metadata": {
        "trusted": true
      },
      "execution_count": 40,
      "outputs": [
        {
          "name": "stdout",
          "text": "[1 2 3]\nint32\n",
          "output_type": "stream"
        }
      ]
    },
    {
      "cell_type": "markdown",
      "source": "Change data type from float to integer by using int as parameter value:",
      "metadata": {}
    },
    {
      "cell_type": "code",
      "source": "arr = np.array([1.1, 2.1, 3.1])\n\nnewarr = arr.astype(int)\n\nprint(newarr)\nprint(newarr.dtype)",
      "metadata": {
        "trusted": true
      },
      "execution_count": 41,
      "outputs": [
        {
          "name": "stdout",
          "text": "[1 2 3]\nint32\n",
          "output_type": "stream"
        }
      ]
    },
    {
      "cell_type": "markdown",
      "source": "Change data type from integer to boolean:",
      "metadata": {}
    },
    {
      "cell_type": "code",
      "source": "arr = np.array([1, 0, 3])\n\nnewarr = arr.astype(bool)\n\nprint(newarr)\nprint(newarr.dtype)",
      "metadata": {
        "trusted": true
      },
      "execution_count": 42,
      "outputs": [
        {
          "name": "stdout",
          "text": "[ True False  True]\nbool\n",
          "output_type": "stream"
        }
      ]
    },
    {
      "cell_type": "markdown",
      "source": "**NumPy Array Copy vs View**",
      "metadata": {}
    },
    {
      "cell_type": "markdown",
      "source": "The Difference Between Copy and View\n\nThe main difference between a copy and a view of an array is that the copy is a new array, and the view is just a view of the original array.\n\nThe copy owns the data and any changes made to the copy will not affect original array, and any changes made to the original array will not affect the copy.\n\nThe view does not own the data and any changes made to the view will affect the original array, and any changes made to the original array will affect the view.",
      "metadata": {}
    },
    {
      "cell_type": "markdown",
      "source": "Make a copy, change the original array, and display both arrays:",
      "metadata": {}
    },
    {
      "cell_type": "code",
      "source": "arr = np.array([1, 2, 3, 4, 5])\nx = arr.copy()\narr[0] = 42\n\nprint(arr)\nprint(x)",
      "metadata": {
        "trusted": true
      },
      "execution_count": 43,
      "outputs": [
        {
          "name": "stdout",
          "text": "[42  2  3  4  5]\n[1 2 3 4 5]\n",
          "output_type": "stream"
        }
      ]
    },
    {
      "cell_type": "markdown",
      "source": "The copy SHOULD NOT be affected by the changes made to the original array.\n\n",
      "metadata": {}
    },
    {
      "cell_type": "markdown",
      "source": "Make a view, change the original array, and display both arrays:",
      "metadata": {}
    },
    {
      "cell_type": "code",
      "source": "arr = np.array([1, 2, 3, 4, 5])\nx = arr.view()\narr[0] = 42\n\nprint(arr)\nprint(x)",
      "metadata": {
        "trusted": true
      },
      "execution_count": 44,
      "outputs": [
        {
          "name": "stdout",
          "text": "[42  2  3  4  5]\n[42  2  3  4  5]\n",
          "output_type": "stream"
        }
      ]
    },
    {
      "cell_type": "markdown",
      "source": "Make a view, change the view, and display both arrays:",
      "metadata": {}
    },
    {
      "cell_type": "code",
      "source": "arr = np.array([1, 2, 3, 4, 5])\nx = arr.view()\nx[0] = 31\n\nprint(arr)\nprint(x)",
      "metadata": {
        "trusted": true
      },
      "execution_count": 45,
      "outputs": [
        {
          "name": "stdout",
          "text": "[31  2  3  4  5]\n[31  2  3  4  5]\n",
          "output_type": "stream"
        }
      ]
    },
    {
      "cell_type": "markdown",
      "source": "Check if Array Owns its Data\n\nAs mentioned above, copies owns the data, and views does not own the data, but how can we check this?\n\nEvery NumPy array has the attribute base that returns None if the array owns the data.\n\nOtherwise, the base  attribute refers to the original object.",
      "metadata": {}
    },
    {
      "cell_type": "markdown",
      "source": "Print the value of the base attribute to check if an array owns it's data or not:",
      "metadata": {}
    },
    {
      "cell_type": "code",
      "source": "arr = np.array([1, 2, 3, 4, 5])\n\nx = arr.copy()\ny = arr.view()\n\nprint(x.base)\nprint(y.base)",
      "metadata": {
        "trusted": true
      },
      "execution_count": 46,
      "outputs": [
        {
          "name": "stdout",
          "text": "None\n[1 2 3 4 5]\n",
          "output_type": "stream"
        }
      ]
    },
    {
      "cell_type": "markdown",
      "source": "**NumPy Array Shape**",
      "metadata": {}
    },
    {
      "cell_type": "markdown",
      "source": "Shape of an Array- \nThe shape of an array is the number of elements in each dimension.",
      "metadata": {}
    },
    {
      "cell_type": "markdown",
      "source": "Get the Shape of an Array - \nNumPy arrays have an attribute called shape that returns a tuple with each index having the number of corresponding elements.",
      "metadata": {}
    },
    {
      "cell_type": "markdown",
      "source": "Print the shape of a 2-D array:",
      "metadata": {}
    },
    {
      "cell_type": "code",
      "source": "arr = np.array([[1, 2, 3, 4], [5, 6, 7, 8]])\n\nprint(arr.shape)",
      "metadata": {
        "trusted": true
      },
      "execution_count": 48,
      "outputs": [
        {
          "name": "stdout",
          "text": "(2, 4)\n",
          "output_type": "stream"
        }
      ]
    },
    {
      "cell_type": "markdown",
      "source": "The example above returns (2, 4), which means that the array has 2 dimensions, where the first dimension has 2 elements and the second has 4.",
      "metadata": {}
    },
    {
      "cell_type": "markdown",
      "source": "Create an array with 5 dimensions using ndmin using a vector with values 1,2,3,4 and verify that last dimension has value 4:",
      "metadata": {}
    },
    {
      "cell_type": "code",
      "source": "arr = np.array([1, 2, 3, 4], ndmin=5)\n\nprint(arr)\nprint('shape of array :', arr.shape)",
      "metadata": {
        "trusted": true
      },
      "execution_count": 49,
      "outputs": [
        {
          "name": "stdout",
          "text": "[[[[[1 2 3 4]]]]]\nshape of array : (1, 1, 1, 1, 4)\n",
          "output_type": "stream"
        }
      ]
    },
    {
      "cell_type": "markdown",
      "source": "What does the shape tuple represent?\n\nIntegers at every index tells about the number of elements the corresponding dimension has.\n\nIn the example above at index-4 we have value 4, so we can say that 5th ( 4 + 1 th) dimension has 4 elements.\n\n",
      "metadata": {}
    },
    {
      "cell_type": "markdown",
      "source": "**NumPy Array Reshaping**",
      "metadata": {}
    },
    {
      "cell_type": "markdown",
      "source": "Reshaping arrays\n\nReshaping means changing the shape of an array.\n\nThe shape of an array is the number of elements in each dimension.\n\nBy reshaping we can add or remove dimensions or change number of elements in each dimension.",
      "metadata": {}
    },
    {
      "cell_type": "markdown",
      "source": "Reshape From 1-D to 2-D",
      "metadata": {}
    },
    {
      "cell_type": "markdown",
      "source": "Convert the following 1-D array with 12 elements into a 2-D array.\n\nThe outermost dimension will have 4 arrays, each with 3 elements:",
      "metadata": {}
    },
    {
      "cell_type": "code",
      "source": "arr = np.array([1, 2, 3, 4, 5, 6, 7, 8, 9, 10, 11, 12])\n\nnewarr = arr.reshape(4, 3)\n\nprint(newarr)",
      "metadata": {
        "trusted": true
      },
      "execution_count": 50,
      "outputs": [
        {
          "name": "stdout",
          "text": "[[ 1  2  3]\n [ 4  5  6]\n [ 7  8  9]\n [10 11 12]]\n",
          "output_type": "stream"
        }
      ]
    },
    {
      "cell_type": "markdown",
      "source": "Reshape From 1-D to 3-D",
      "metadata": {}
    },
    {
      "cell_type": "markdown",
      "source": "Convert the following 1-D array with 12 elements into a 3-D array.\n\nThe outermost dimension will have 2 arrays that contains 3 arrays, each with 2 elements:",
      "metadata": {}
    },
    {
      "cell_type": "code",
      "source": "arr = np.array([1, 2, 3, 4, 5, 6, 7, 8, 9, 10, 11, 12])\n\nnewarr = arr.reshape(2, 3, 2)\n\nprint(newarr)",
      "metadata": {
        "trusted": true
      },
      "execution_count": 51,
      "outputs": [
        {
          "name": "stdout",
          "text": "[[[ 1  2]\n  [ 3  4]\n  [ 5  6]]\n\n [[ 7  8]\n  [ 9 10]\n  [11 12]]]\n",
          "output_type": "stream"
        }
      ]
    },
    {
      "cell_type": "markdown",
      "source": "Can We Reshape Into any Shape?\n\nYes, as long as the elements required for reshaping are equal in both shapes.\n\nWe can reshape an 8 elements 1D array into 4 elements in 2 rows 2D array but we cannot reshape it into a 3 elements 3 rows 2D array as that would require 3x3 = 9 elements.",
      "metadata": {}
    },
    {
      "cell_type": "markdown",
      "source": "Try converting 1D array with 8 elements to a 2D array with 3 elements in each dimension (will raise an error):",
      "metadata": {}
    },
    {
      "cell_type": "code",
      "source": "import numpy as np\n\narr = np.array([1, 2, 3, 4, 5, 6, 7, 8])\n\nnewarr = arr.reshape(3, 3)\n\nprint(newarr)",
      "metadata": {
        "trusted": true
      },
      "execution_count": 52,
      "outputs": [
        {
          "ename": "<class 'ValueError'>",
          "evalue": "cannot reshape array of size 8 into shape (3,3)",
          "traceback": [
            "\u001b[0;31m---------------------------------------------------------------------------\u001b[0m",
            "\u001b[0;31mValueError\u001b[0m                                Traceback (most recent call last)",
            "Cell \u001b[0;32mIn [52], line 5\u001b[0m\n\u001b[1;32m      1\u001b[0m \u001b[38;5;28;01mimport\u001b[39;00m \u001b[38;5;21;01mnumpy\u001b[39;00m \u001b[38;5;28;01mas\u001b[39;00m \u001b[38;5;21;01mnp\u001b[39;00m\n\u001b[1;32m      3\u001b[0m arr \u001b[38;5;241m=\u001b[39m np\u001b[38;5;241m.\u001b[39marray([\u001b[38;5;241m1\u001b[39m, \u001b[38;5;241m2\u001b[39m, \u001b[38;5;241m3\u001b[39m, \u001b[38;5;241m4\u001b[39m, \u001b[38;5;241m5\u001b[39m, \u001b[38;5;241m6\u001b[39m, \u001b[38;5;241m7\u001b[39m, \u001b[38;5;241m8\u001b[39m])\n\u001b[0;32m----> 5\u001b[0m newarr \u001b[38;5;241m=\u001b[39m \u001b[43marr\u001b[49m\u001b[38;5;241;43m.\u001b[39;49m\u001b[43mreshape\u001b[49m\u001b[43m(\u001b[49m\u001b[38;5;241;43m3\u001b[39;49m\u001b[43m,\u001b[49m\u001b[43m \u001b[49m\u001b[38;5;241;43m3\u001b[39;49m\u001b[43m)\u001b[49m\n\u001b[1;32m      7\u001b[0m \u001b[38;5;28mprint\u001b[39m(newarr)\n",
            "\u001b[0;31mValueError\u001b[0m: cannot reshape array of size 8 into shape (3,3)"
          ],
          "output_type": "error"
        }
      ]
    },
    {
      "cell_type": "markdown",
      "source": "Check if the returned array is a copy or a view:",
      "metadata": {}
    },
    {
      "cell_type": "code",
      "source": "arr = np.array([1, 2, 3, 4, 5, 6, 7, 8])\n\nprint(arr.reshape(2, 4).base)",
      "metadata": {
        "trusted": true
      },
      "execution_count": 53,
      "outputs": [
        {
          "name": "stdout",
          "text": "[1 2 3 4 5 6 7 8]\n",
          "output_type": "stream"
        }
      ]
    },
    {
      "cell_type": "markdown",
      "source": "Unknown Dimension\n\nYou are allowed to have one \"unknown\" dimension.\n\nMeaning that you do not have to specify an exact number for one of the dimensions in the reshape method.\n\nPass -1 as the value, and NumPy will calculate this number for you.",
      "metadata": {}
    },
    {
      "cell_type": "markdown",
      "source": "Convert 1D array with 8 elements to 3D array with 2x2 elements:",
      "metadata": {}
    },
    {
      "cell_type": "code",
      "source": "arr = np.array([1, 2, 3, 4, 5, 6, 7, 8])\n\nnewarr = arr.reshape(2, 2, -1)\n\nprint(newarr)",
      "metadata": {
        "trusted": true
      },
      "execution_count": 54,
      "outputs": [
        {
          "name": "stdout",
          "text": "[[[1 2]\n  [3 4]]\n\n [[5 6]\n  [7 8]]]\n",
          "output_type": "stream"
        }
      ]
    },
    {
      "cell_type": "markdown",
      "source": "Flattening the arrays\n\nFlattening array means converting a multidimensional array into a 1D array.\n\nWe can use reshape(-1) to do this.",
      "metadata": {}
    },
    {
      "cell_type": "markdown",
      "source": "Convert the array into a 1D array:",
      "metadata": {}
    },
    {
      "cell_type": "code",
      "source": "import numpy as np\n\narr = np.array([[1, 2, 3], [4, 5, 6]])\n\nnewarr = arr.reshape(-1)\n\nprint(newarr)",
      "metadata": {
        "trusted": true
      },
      "execution_count": 56,
      "outputs": [
        {
          "name": "stdout",
          "text": "[1 2 3 4 5 6]\n",
          "output_type": "stream"
        }
      ]
    },
    {
      "cell_type": "markdown",
      "source": "**NumPy Array Iterating**",
      "metadata": {}
    },
    {
      "cell_type": "markdown",
      "source": "Iterating means going through elements one by one.\n\nAs we deal with multi-dimensional arrays in numpy, we can do this using basic for loop of python.\n\nIf we iterate on a 1-D array it will go through each element one by one.",
      "metadata": {}
    },
    {
      "cell_type": "markdown",
      "source": "Iterate on the elements of the following 1-D array:",
      "metadata": {}
    },
    {
      "cell_type": "code",
      "source": "arr = np.array([1, 2, 3])\n\nfor x in arr:\n  print(x)",
      "metadata": {
        "trusted": true
      },
      "execution_count": 57,
      "outputs": [
        {
          "name": "stdout",
          "text": "1\n2\n3\n",
          "output_type": "stream"
        }
      ]
    },
    {
      "cell_type": "markdown",
      "source": "Iterating 2-D Arrays\n\nIn a 2-D array it will go through all the rows.",
      "metadata": {}
    },
    {
      "cell_type": "markdown",
      "source": "Iterate on the elements of the following 2-D array:",
      "metadata": {}
    },
    {
      "cell_type": "code",
      "source": "arr = np.array([[1, 2, 3], [4, 5, 6]])\n\nfor x in arr:\n  print(x)",
      "metadata": {
        "trusted": true
      },
      "execution_count": 58,
      "outputs": [
        {
          "name": "stdout",
          "text": "[1 2 3]\n[4 5 6]\n",
          "output_type": "stream"
        }
      ]
    },
    {
      "cell_type": "markdown",
      "source": "If we iterate on a n-D array it will go through n-1th dimension one by one.",
      "metadata": {}
    },
    {
      "cell_type": "markdown",
      "source": "To return the actual values, the scalars, we have to iterate the arrays in each dimension.",
      "metadata": {}
    },
    {
      "cell_type": "markdown",
      "source": "Iterate on each scalar element of the 2-D array:",
      "metadata": {}
    },
    {
      "cell_type": "code",
      "source": "arr = np.array([[1, 2, 3], [4, 5, 6]])\n\nfor x in arr:\n  for y in x:\n    print(y)",
      "metadata": {
        "trusted": true
      },
      "execution_count": 59,
      "outputs": [
        {
          "name": "stdout",
          "text": "1\n2\n3\n4\n5\n6\n",
          "output_type": "stream"
        }
      ]
    },
    {
      "cell_type": "markdown",
      "source": "Iterating 3-D Arrays - In a 3-D array it will go through all the 2-D arrays.",
      "metadata": {}
    },
    {
      "cell_type": "markdown",
      "source": "Iterate on the elements of the following 3-D array:",
      "metadata": {}
    },
    {
      "cell_type": "code",
      "source": "arr = np.array([[[1, 2, 3], [4, 5, 6]], [[7, 8, 9], [10, 11, 12]]])\n\nfor x in arr:\n  print(x)",
      "metadata": {
        "trusted": true
      },
      "execution_count": 60,
      "outputs": [
        {
          "name": "stdout",
          "text": "[[1 2 3]\n [4 5 6]]\n[[ 7  8  9]\n [10 11 12]]\n",
          "output_type": "stream"
        }
      ]
    },
    {
      "cell_type": "markdown",
      "source": "To return the actual values, the scalars, we have to iterate the arrays in each dimension.",
      "metadata": {}
    },
    {
      "cell_type": "markdown",
      "source": "Iterate down to the scalars:",
      "metadata": {}
    },
    {
      "cell_type": "code",
      "source": "arr = np.array([[[1, 2, 3], [4, 5, 6]], [[7, 8, 9], [10, 11, 12]]])\n\nfor x in arr:\n  for y in x:\n    for z in y:\n      print(z)",
      "metadata": {
        "trusted": true
      },
      "execution_count": 61,
      "outputs": [
        {
          "name": "stdout",
          "text": "1\n2\n3\n4\n5\n6\n7\n8\n9\n10\n11\n12\n",
          "output_type": "stream"
        }
      ]
    },
    {
      "cell_type": "markdown",
      "source": "Iterating Arrays Using nditer()\n\nThe function nditer() is a helping function that can be used from very basic to very advanced iterations. It solves some basic issues which we face in iteration, lets go through it with examples.\n\nIterating on Each Scalar Element\n\nIn basic for loops, iterating through each scalar of an array we need to use n for loops which can be difficult to write for arrays with very high dimensionality.",
      "metadata": {}
    },
    {
      "cell_type": "markdown",
      "source": "Iterate through the following 3-D array:",
      "metadata": {}
    },
    {
      "cell_type": "code",
      "source": "arr = np.array([[[1, 2], [3, 4]], [[5, 6], [7, 8]]])\n\nfor x in np.nditer(arr):\n  print(x)",
      "metadata": {
        "trusted": true
      },
      "execution_count": 62,
      "outputs": [
        {
          "name": "stdout",
          "text": "1\n2\n3\n4\n5\n6\n7\n8\n",
          "output_type": "stream"
        }
      ]
    },
    {
      "cell_type": "markdown",
      "source": "Iterating Array With Different Data Types\n\nWe can use op_dtypes argument and pass it the expected datatype to change the datatype of elements while iterating.\n\nNumPy does not change the data type of the element in-place (where the element is in array) so it needs some other space to perform this action, that extra space is called buffer, and in order to enable it in nditer() we pass flags=['buffered'].",
      "metadata": {}
    },
    {
      "cell_type": "markdown",
      "source": "Iterate through the array as a string:",
      "metadata": {}
    },
    {
      "cell_type": "code",
      "source": "arr = np.array([1, 2, 3])\n\nfor x in np.nditer(arr, flags=['buffered'], op_dtypes=['S']):\n  print(x)",
      "metadata": {
        "tags": [],
        "trusted": true
      },
      "execution_count": 99,
      "outputs": [
        {
          "name": "stdout",
          "text": "b'1'\nb'2'\nb'3'\n",
          "output_type": "stream"
        }
      ]
    },
    {
      "cell_type": "markdown",
      "source": "Iterating With Different Step Size\n\nWe can use filtering and followed by iteration.",
      "metadata": {}
    },
    {
      "cell_type": "markdown",
      "source": "Iterate through every scalar element of the 2D array skipping 1 element:",
      "metadata": {}
    },
    {
      "cell_type": "code",
      "source": "arr = np.array([[1, 2, 3, 4], [5, 6, 7, 8]])\n\nfor x in np.nditer(arr[:, ::2]):\n  print(x)",
      "metadata": {
        "trusted": true
      },
      "execution_count": 66,
      "outputs": [
        {
          "name": "stdout",
          "text": "1\n3\n5\n7\n",
          "output_type": "stream"
        }
      ]
    },
    {
      "cell_type": "markdown",
      "source": "Enumerated Iteration Using ndenumerate() - Enumeration means mentioning sequence number of somethings one by one.\n\nSometimes we require corresponding index of the element while iterating, the ndenumerate() method can be used for those usecases.\n\nEnumerate on following 1D arrays elements:",
      "metadata": {}
    },
    {
      "cell_type": "code",
      "source": "arr = np.array([1, 2, 3])\n\nfor idx, x in np.ndenumerate(arr):\n  print(idx, x)",
      "metadata": {
        "trusted": true
      },
      "execution_count": 67,
      "outputs": [
        {
          "name": "stdout",
          "text": "(0,) 1\n(1,) 2\n(2,) 3\n",
          "output_type": "stream"
        }
      ]
    },
    {
      "cell_type": "markdown",
      "source": "Enumerate on following 2D array's elements:",
      "metadata": {}
    },
    {
      "cell_type": "code",
      "source": "arr = np.array([[1, 2, 3, 4], [5, 6, 7, 8]])\n\nfor idx, x in np.ndenumerate(arr):\n  print(idx, x)",
      "metadata": {
        "trusted": true
      },
      "execution_count": 68,
      "outputs": [
        {
          "name": "stdout",
          "text": "(0, 0) 1\n(0, 1) 2\n(0, 2) 3\n(0, 3) 4\n(1, 0) 5\n(1, 1) 6\n(1, 2) 7\n(1, 3) 8\n",
          "output_type": "stream"
        }
      ]
    },
    {
      "cell_type": "markdown",
      "source": "**NumPy Joining Array**",
      "metadata": {}
    },
    {
      "cell_type": "markdown",
      "source": "Joining means putting contents of two or more arrays in a single array.\n\nIn SQL we join tables based on a key, whereas in NumPy we join arrays by axes.\n\nWe pass a sequence of arrays that we want to join to the concatenate() function, along with the axis. If axis is not explicitly passed, it is taken as 0.",
      "metadata": {}
    },
    {
      "cell_type": "markdown",
      "source": "Join two arrays",
      "metadata": {}
    },
    {
      "cell_type": "code",
      "source": "arr1 = np.array([1, 2, 3])\n\narr2 = np.array([4, 5, 6])\n\narr = np.concatenate((arr1, arr2))\n\nprint(arr)",
      "metadata": {
        "trusted": true
      },
      "execution_count": 69,
      "outputs": [
        {
          "name": "stdout",
          "text": "[1 2 3 4 5 6]\n",
          "output_type": "stream"
        }
      ]
    },
    {
      "cell_type": "markdown",
      "source": "Join two 2-D arrays along rows (axis=1):",
      "metadata": {}
    },
    {
      "cell_type": "code",
      "source": "arr1 = np.array([[1, 2], [3, 4]])\n\narr2 = np.array([[5, 6], [7, 8]])\n\narr = np.concatenate((arr1, arr2), axis=1)\n\nprint(arr)",
      "metadata": {
        "trusted": true
      },
      "execution_count": 70,
      "outputs": [
        {
          "name": "stdout",
          "text": "[[1 2 5 6]\n [3 4 7 8]]\n",
          "output_type": "stream"
        }
      ]
    },
    {
      "cell_type": "markdown",
      "source": "Joining Arrays Using Stack Functions\n\nStacking is same as concatenation, the only difference is that stacking is done along a new axis.\n\nWe can concatenate two 1-D arrays along the second axis which would result in putting them one over the other, ie. stacking.\n\nWe pass a sequence of arrays that we want to join to the stack() method along with the axis. If axis is not explicitly passed it is taken as 0.",
      "metadata": {}
    },
    {
      "cell_type": "code",
      "source": "arr1 = np.array([1, 2, 3])\n\narr2 = np.array([4, 5, 6])\n\narr = np.stack((arr1, arr2), axis=1)\n\nprint(arr)",
      "metadata": {
        "trusted": true
      },
      "execution_count": 71,
      "outputs": [
        {
          "name": "stdout",
          "text": "[[1 4]\n [2 5]\n [3 6]]\n",
          "output_type": "stream"
        }
      ]
    },
    {
      "cell_type": "markdown",
      "source": "Stacking Along Rows\n\nNumPy provides a helper function: hstack() to stack along rows.",
      "metadata": {}
    },
    {
      "cell_type": "code",
      "source": "arr1 = np.array([1, 2, 3])\n\narr2 = np.array([4, 5, 6])\n\narr = np.hstack((arr1, arr2))\n\nprint(arr)",
      "metadata": {
        "trusted": true
      },
      "execution_count": 73,
      "outputs": [
        {
          "name": "stdout",
          "text": "[1 2 3 4 5 6]\n",
          "output_type": "stream"
        }
      ]
    },
    {
      "cell_type": "markdown",
      "source": "Stacking Along Columns\n\nNumPy provides a helper function: vstack()  to stack along columns.",
      "metadata": {}
    },
    {
      "cell_type": "code",
      "source": "arr1 = np.array([1, 2, 3])\n\narr2 = np.array([4, 5, 6])\n\narr = np.vstack((arr1, arr2))\n\nprint(arr)",
      "metadata": {
        "trusted": true
      },
      "execution_count": 74,
      "outputs": [
        {
          "name": "stdout",
          "text": "[[1 2 3]\n [4 5 6]]\n",
          "output_type": "stream"
        }
      ]
    },
    {
      "cell_type": "markdown",
      "source": "Stacking Along Height (depth)\n\nNumPy provides a helper function: dstack() to stack along height, which is the same as depth.",
      "metadata": {}
    },
    {
      "cell_type": "code",
      "source": "arr1 = np.array([1, 2, 3])\n\narr2 = np.array([4, 5, 6])\n\narr = np.dstack((arr1, arr2))\n\nprint(arr)",
      "metadata": {
        "trusted": true
      },
      "execution_count": 75,
      "outputs": [
        {
          "name": "stdout",
          "text": "[[[1 4]\n  [2 5]\n  [3 6]]]\n",
          "output_type": "stream"
        }
      ]
    },
    {
      "cell_type": "markdown",
      "source": "**NumPy Splitting Array**",
      "metadata": {}
    },
    {
      "cell_type": "markdown",
      "source": "Splitting is reverse operation of Joining.\n\nJoining merges multiple arrays into one and Splitting breaks one array into multiple.\n\nWe use array_split() for splitting arrays, we pass it the array we want to split and the number of splits.",
      "metadata": {}
    },
    {
      "cell_type": "markdown",
      "source": "Split the array in 3 parts:",
      "metadata": {}
    },
    {
      "cell_type": "code",
      "source": "arr = np.array([1, 2, 3, 4, 5, 6])\n\nnewarr = np.array_split(arr, 3)\n\nprint(newarr)",
      "metadata": {
        "trusted": true
      },
      "execution_count": 76,
      "outputs": [
        {
          "name": "stdout",
          "text": "[array([1, 2]), array([3, 4]), array([5, 6])]\n",
          "output_type": "stream"
        }
      ]
    },
    {
      "cell_type": "markdown",
      "source": "If the array has less elements than required, it will adjust from the end accordingly.",
      "metadata": {}
    },
    {
      "cell_type": "markdown",
      "source": "Split the array in 4 parts:",
      "metadata": {}
    },
    {
      "cell_type": "code",
      "source": "arr = np.array([1, 2, 3, 4, 5, 6])\n\nnewarr = np.array_split(arr, 4)\n\nprint(newarr)",
      "metadata": {
        "trusted": true
      },
      "execution_count": 77,
      "outputs": [
        {
          "name": "stdout",
          "text": "[array([1, 2]), array([3, 4]), array([5]), array([6])]\n",
          "output_type": "stream"
        }
      ]
    },
    {
      "cell_type": "markdown",
      "source": "Split Into Arrays-\nThe return value of the array_split() method is an array containing each of the split as an array.\n\nIf you split an array into 3 arrays, you can access them from the result just like any array element:",
      "metadata": {}
    },
    {
      "cell_type": "markdown",
      "source": "Access the splitted arrays:",
      "metadata": {}
    },
    {
      "cell_type": "code",
      "source": "arr = np.array([1, 2, 3, 4, 5, 6])\n\nnewarr = np.array_split(arr, 3)\n\nprint(newarr[0])\nprint(newarr[1])\nprint(newarr[2])",
      "metadata": {
        "trusted": true
      },
      "execution_count": 78,
      "outputs": [
        {
          "name": "stdout",
          "text": "[1 2]\n[3 4]\n[5 6]\n",
          "output_type": "stream"
        }
      ]
    },
    {
      "cell_type": "markdown",
      "source": "Splitting 2-D Arrays\n\nUse the same syntax when splitting 2-D arrays.\n\nUse the array_split() method, pass in the array you want to split and the number of splits you want to do.",
      "metadata": {}
    },
    {
      "cell_type": "markdown",
      "source": "Split the 2-D array into three 2-D arrays.",
      "metadata": {}
    },
    {
      "cell_type": "code",
      "source": "arr = np.array([[1, 2], [3, 4], [5, 6], [7, 8], [9, 10], [11, 12]])\n\nnewarr = np.array_split(arr, 3)\n\nprint(newarr)",
      "metadata": {
        "trusted": true
      },
      "execution_count": 79,
      "outputs": [
        {
          "name": "stdout",
          "text": "[array([[1, 2],\n       [3, 4]]), array([[5, 6],\n       [7, 8]]), array([[ 9, 10],\n       [11, 12]])]\n",
          "output_type": "stream"
        }
      ]
    },
    {
      "cell_type": "markdown",
      "source": "The example above returns three 2-D arrays.\n\nLet's look at another example, this time each element in the 2-D arrays contains 3 elements.",
      "metadata": {}
    },
    {
      "cell_type": "markdown",
      "source": "Split the 2-D array into three 2-D arrays.",
      "metadata": {}
    },
    {
      "cell_type": "code",
      "source": "arr = np.array([[1, 2, 3], [4, 5, 6], [7, 8, 9], [10, 11, 12], [13, 14, 15], [16, 17, 18]])\n\nnewarr = np.array_split(arr, 3)\n\nprint(newarr)",
      "metadata": {
        "trusted": true
      },
      "execution_count": 80,
      "outputs": [
        {
          "name": "stdout",
          "text": "[array([[1, 2, 3],\n       [4, 5, 6]]), array([[ 7,  8,  9],\n       [10, 11, 12]]), array([[13, 14, 15],\n       [16, 17, 18]])]\n",
          "output_type": "stream"
        }
      ]
    },
    {
      "cell_type": "markdown",
      "source": "The example above returns three 2-D arrays.\n\nIn addition, you can specify which axis you want to do the split around.\n\nThe example below also returns three 2-D arrays, but they are split along the row (axis=1).",
      "metadata": {}
    },
    {
      "cell_type": "markdown",
      "source": "Split the 2-D array into three 2-D arrays along rows.",
      "metadata": {}
    },
    {
      "cell_type": "code",
      "source": "arr = np.array([[1, 2, 3], [4, 5, 6], [7, 8, 9], [10, 11, 12], [13, 14, 15], [16, 17, 18]])\n\nnewarr = np.array_split(arr, 3, axis=1)\n\nprint(newarr)",
      "metadata": {
        "trusted": true
      },
      "execution_count": 81,
      "outputs": [
        {
          "name": "stdout",
          "text": "[array([[ 1],\n       [ 4],\n       [ 7],\n       [10],\n       [13],\n       [16]]), array([[ 2],\n       [ 5],\n       [ 8],\n       [11],\n       [14],\n       [17]]), array([[ 3],\n       [ 6],\n       [ 9],\n       [12],\n       [15],\n       [18]])]\n",
          "output_type": "stream"
        }
      ]
    },
    {
      "cell_type": "markdown",
      "source": "An alternate solution is using hsplit() opposite of hstack()",
      "metadata": {}
    },
    {
      "cell_type": "markdown",
      "source": "Use the hsplit() method to split the 2-D array into three 2-D arrays along rows.",
      "metadata": {}
    },
    {
      "cell_type": "code",
      "source": "arr = np.array([[1, 2, 3], [4, 5, 6], [7, 8, 9], [10, 11, 12], [13, 14, 15], [16, 17, 18]])\n\nnewarr = np.hsplit(arr, 3)\n\nprint(newarr)",
      "metadata": {
        "trusted": true
      },
      "execution_count": 82,
      "outputs": [
        {
          "name": "stdout",
          "text": "[array([[ 1],\n       [ 4],\n       [ 7],\n       [10],\n       [13],\n       [16]]), array([[ 2],\n       [ 5],\n       [ 8],\n       [11],\n       [14],\n       [17]]), array([[ 3],\n       [ 6],\n       [ 9],\n       [12],\n       [15],\n       [18]])]\n",
          "output_type": "stream"
        }
      ]
    },
    {
      "cell_type": "markdown",
      "source": "**NumPy Searching Arrays**",
      "metadata": {}
    },
    {
      "cell_type": "markdown",
      "source": "You can search an array for a certain value, and return the indexes that get a match.\n\nTo search an array, use the where() method.",
      "metadata": {}
    },
    {
      "cell_type": "markdown",
      "source": "Find the indexes where the value is 4:",
      "metadata": {}
    },
    {
      "cell_type": "code",
      "source": "arr = np.array([1, 2, 3, 4, 5, 4, 4])\n\nx = np.where(arr == 4)\n\nprint(x)",
      "metadata": {
        "trusted": true
      },
      "execution_count": 100,
      "outputs": [
        {
          "name": "stdout",
          "text": "(array([3, 5, 6], dtype=int32),)\n",
          "output_type": "stream"
        }
      ]
    },
    {
      "cell_type": "markdown",
      "source": "The example above will return a tuple: (array([3, 5, 6],)\n\nWhich means that the value 4 is present at index 3, 5, and 6.",
      "metadata": {}
    },
    {
      "cell_type": "markdown",
      "source": "Find the indexes where the values are even:",
      "metadata": {}
    },
    {
      "cell_type": "code",
      "source": "arr = np.array([1, 2, 3, 4, 5, 6, 7, 8])\n\nx = np.where(arr%2 == 0)\n\nprint(x)",
      "metadata": {
        "trusted": true
      },
      "execution_count": 84,
      "outputs": [
        {
          "name": "stdout",
          "text": "(array([1, 3, 5, 7], dtype=int32),)\n",
          "output_type": "stream"
        }
      ]
    },
    {
      "cell_type": "markdown",
      "source": "Find the indexes where the values are odd:",
      "metadata": {}
    },
    {
      "cell_type": "code",
      "source": "arr = np.array([1, 2, 3, 4, 5, 6, 7, 8])\n\nx = np.where(arr%2 == 1)\n\nprint(x)",
      "metadata": {
        "trusted": true
      },
      "execution_count": 101,
      "outputs": [
        {
          "name": "stdout",
          "text": "(array([0, 2, 4, 6], dtype=int32),)\n",
          "output_type": "stream"
        }
      ]
    },
    {
      "cell_type": "markdown",
      "source": "Search Sorted\n\nThere is a method called searchsorted() which performs a binary search in the array, and returns the index where the specified value would be inserted to maintain the search order.",
      "metadata": {}
    },
    {
      "cell_type": "markdown",
      "source": "Find the indexes where the value 7 should be inserted:",
      "metadata": {}
    },
    {
      "cell_type": "code",
      "source": "arr = np.array([6, 7, 8, 9])\n\nx = np.searchsorted(arr, 7)\n\nprint(x)",
      "metadata": {
        "trusted": true
      },
      "execution_count": 86,
      "outputs": [
        {
          "name": "stdout",
          "text": "1\n",
          "output_type": "stream"
        }
      ]
    },
    {
      "cell_type": "markdown",
      "source": "The number 7 should be inserted on index 1 to remain the sort order.\n\nThe method starts the search from the left and returns the first index where the number 7 is no longer larger than the next value.",
      "metadata": {}
    },
    {
      "cell_type": "markdown",
      "source": "Search From the Right Side\n\nBy default the left most index is returned, but we can give side='right' to return the right most index instead.",
      "metadata": {}
    },
    {
      "cell_type": "markdown",
      "source": "Find the indexes where the value 7 should be inserted, starting from the right:",
      "metadata": {}
    },
    {
      "cell_type": "code",
      "source": "arr = np.array([6, 7, 8, 9])\n\nx = np.searchsorted(arr, 7, side='right')\n\nprint(x)",
      "metadata": {
        "trusted": true
      },
      "execution_count": 88,
      "outputs": [
        {
          "name": "stdout",
          "text": "2\n",
          "output_type": "stream"
        }
      ]
    },
    {
      "cell_type": "markdown",
      "source": "The number 7 should be inserted on index 2 to remain the sort order.\n\nThe method starts the search from the right and returns the first index where the number 7 is no longer less than the next value.\n\n\n\nMultiple Values\n\nTo search for more than one value, use an array with the specified values.",
      "metadata": {}
    },
    {
      "cell_type": "markdown",
      "source": "Find the indexes where the values 2, 4, and 6 should be inserted:",
      "metadata": {}
    },
    {
      "cell_type": "code",
      "source": "arr = np.array([1, 3, 5, 7])\n\nx = np.searchsorted(arr, [2, 4, 6])\n\nprint(x)",
      "metadata": {
        "trusted": true
      },
      "execution_count": 89,
      "outputs": [
        {
          "name": "stdout",
          "text": "[1 2 3]\n",
          "output_type": "stream"
        }
      ]
    },
    {
      "cell_type": "markdown",
      "source": "The return value is an array: [1 2 3] containing the three indexes where 2, 4, 6 would be inserted in the original array to maintain the order.\n",
      "metadata": {}
    },
    {
      "cell_type": "markdown",
      "source": "**NumPy Sorting Arrays**",
      "metadata": {}
    },
    {
      "cell_type": "markdown",
      "source": "Sorting Arrays\nSorting means putting elements in an ordered sequence.\n\nOrdered sequence is any sequence that has an order corresponding to elements, like numeric or alphabetical, ascending or descending.\n\nThe NumPy ndarray object has a function called sort(), that will sort a specified array.",
      "metadata": {}
    },
    {
      "cell_type": "code",
      "source": "arr = np.array([3, 2, 0, 1])\n\nprint(np.sort(arr))",
      "metadata": {
        "trusted": true
      },
      "execution_count": 90,
      "outputs": [
        {
          "name": "stdout",
          "text": "[0 1 2 3]\n",
          "output_type": "stream"
        }
      ]
    },
    {
      "cell_type": "markdown",
      "source": "You can also sort arrays of strings, or any other data type: Sort the array alphabetically:",
      "metadata": {}
    },
    {
      "cell_type": "code",
      "source": "arr = np.array(['banana', 'cherry', 'apple'])\n\nprint(np.sort(arr))",
      "metadata": {
        "trusted": true
      },
      "execution_count": 91,
      "outputs": [
        {
          "name": "stdout",
          "text": "['apple' 'banana' 'cherry']\n",
          "output_type": "stream"
        }
      ]
    },
    {
      "cell_type": "markdown",
      "source": "Sort a boolean array:",
      "metadata": {}
    },
    {
      "cell_type": "code",
      "source": "arr = np.array([True, False, True])\n\nprint(np.sort(arr))",
      "metadata": {
        "trusted": true
      },
      "execution_count": 92,
      "outputs": [
        {
          "name": "stdout",
          "text": "[False  True  True]\n",
          "output_type": "stream"
        }
      ]
    },
    {
      "cell_type": "markdown",
      "source": "Sorting a 2-D Array\n\nIf you use the sort() method on a 2-D array, both arrays will be sorted:",
      "metadata": {}
    },
    {
      "cell_type": "code",
      "source": "arr = np.array([[3, 2, 4], [5, 0, 1]])\n\nprint(np.sort(arr))",
      "metadata": {
        "trusted": true
      },
      "execution_count": 93,
      "outputs": [
        {
          "name": "stdout",
          "text": "[[2 3 4]\n [0 1 5]]\n",
          "output_type": "stream"
        }
      ]
    },
    {
      "cell_type": "markdown",
      "source": "**NumPy Filter Array**",
      "metadata": {}
    },
    {
      "cell_type": "markdown",
      "source": "Getting some elements out of an existing array and creating a new array out of them is called filtering.\n\nIn NumPy, you filter an array using a boolean index list.\n\nA boolean index list is a list of booleans corresponding to indexes in the array.\n\nIf the value at an index is True that element is contained in the filtered array, if the value at that index is False that element is excluded from the filtered array.\n\n\nCreate an array from the elements on index 0 and 2:",
      "metadata": {}
    },
    {
      "cell_type": "code",
      "source": "arr = np.array([41, 42, 43, 44])\n\nx = [True, False, True, False]\n\nnewarr = arr[x]\n\nprint(newarr)",
      "metadata": {
        "trusted": true
      },
      "execution_count": 94,
      "outputs": [
        {
          "name": "stdout",
          "text": "[41 43]\n",
          "output_type": "stream"
        }
      ]
    },
    {
      "cell_type": "markdown",
      "source": "The example above will return [41, 43], why?\n\nBecause the new array contains only the values where the filter array had the value True, in this case, index 0 and 2.",
      "metadata": {}
    },
    {
      "cell_type": "markdown",
      "source": "Creating the Filter Array\n\n\nIn the example above we hard-coded the True and False values, but the common use is to create a filter array based on conditions.\n\nCreate a filter array that will return only values higher than 42:",
      "metadata": {}
    },
    {
      "cell_type": "code",
      "source": "arr = np.array([41, 42, 43, 44])\n\n# Create an empty list\nfilter_arr = []\n\n# go through each element in arr\nfor element in arr:\n  # if the element is higher than 42, set the value to True, otherwise False:\n  if element > 42:\n    filter_arr.append(True)\n  else:\n    filter_arr.append(False)\n\nnewarr = arr[filter_arr]\n\nprint(filter_arr)\nprint(newarr)",
      "metadata": {
        "trusted": true
      },
      "execution_count": 95,
      "outputs": [
        {
          "name": "stdout",
          "text": "[False, False, True, True]\n[43 44]\n",
          "output_type": "stream"
        }
      ]
    },
    {
      "cell_type": "markdown",
      "source": "Create a filter array that will return only even elements from the original array:",
      "metadata": {}
    },
    {
      "cell_type": "code",
      "source": "arr = np.array([1, 2, 3, 4, 5, 6, 7])\n\n# Create an empty list\nfilter_arr = []\n\n# go through each element in arr\nfor element in arr:\n  # if the element is completely divisble by 2, set the value to True, otherwise False\n  if element % 2 == 0:\n    filter_arr.append(True)\n  else:\n    filter_arr.append(False)\n\nnewarr = arr[filter_arr]\n\nprint(filter_arr)\nprint(newarr)",
      "metadata": {
        "trusted": true
      },
      "execution_count": 96,
      "outputs": [
        {
          "name": "stdout",
          "text": "[False, True, False, True, False, True, False]\n[2 4 6]\n",
          "output_type": "stream"
        }
      ]
    },
    {
      "cell_type": "markdown",
      "source": "Creating Filter Directly From Array\n\n\nThe above example is quite a common task in NumPy and NumPy provides a nice way to tackle it.\n\nWe can directly substitute the array instead of the iterable variable in our condition and it will work just as we expect it to.\n\nCreate a filter array that will return only values higher than 42:",
      "metadata": {}
    },
    {
      "cell_type": "code",
      "source": "arr = np.array([41, 42, 43, 44])\n\nfilter_arr = arr > 42\n\nnewarr = arr[filter_arr]\n\nprint(filter_arr)\nprint(newarr)",
      "metadata": {
        "trusted": true
      },
      "execution_count": 97,
      "outputs": [
        {
          "name": "stdout",
          "text": "[False False  True  True]\n[43 44]\n",
          "output_type": "stream"
        }
      ]
    },
    {
      "cell_type": "markdown",
      "source": "Create a filter array that will return only even elements from the original array:",
      "metadata": {}
    },
    {
      "cell_type": "code",
      "source": "arr = np.array([1, 2, 3, 4, 5, 6, 7])\n\nfilter_arr = arr % 2 == 0\n\nnewarr = arr[filter_arr]\n\nprint(filter_arr)\nprint(newarr)",
      "metadata": {
        "trusted": true
      },
      "execution_count": 98,
      "outputs": [
        {
          "name": "stdout",
          "text": "[False  True False  True False  True False]\n[2 4 6]\n",
          "output_type": "stream"
        }
      ]
    },
    {
      "cell_type": "markdown",
      "source": "**NumPy Random**",
      "metadata": {}
    },
    {
      "cell_type": "markdown",
      "source": "What is a Random Number?\n\nRandom number does NOT mean a different number every time. Random means something that can not be predicted logically.",
      "metadata": {}
    },
    {
      "cell_type": "markdown",
      "source": "Pseudo Random and True Random.\n\nComputers work on programs, and programs are definitive set of instructions. So it means there must be some algorithm to generate a random number as well.\n\nIf there is a program to generate random number it can be predicted, thus it is not truly random.\n\nRandom numbers generated through a generation algorithm are called pseudo random.\n\nCan we make truly random numbers?\n\nYes. In order to generate a truly random number on our computers we need to get the random data from some outside source. This outside source is generally our keystrokes, mouse movements, data on network etc.\n\nWe do not need truly random numbers, unless its related to security (e.g. encryption keys) or the basis of application is the randomness (e.g. Digital roulette wheels).\n\nIn this tutorial we will be using pseudo random numbers.",
      "metadata": {}
    },
    {
      "cell_type": "markdown",
      "source": "Generate Random Number - NumPy offers the random module to work with random numbers",
      "metadata": {}
    },
    {
      "cell_type": "markdown",
      "source": "Generate a random integer from 0 to 100:",
      "metadata": {}
    },
    {
      "cell_type": "code",
      "source": "from numpy import random\n\nx = random.randint(100)\n\nprint(x)",
      "metadata": {
        "trusted": true
      },
      "execution_count": 103,
      "outputs": [
        {
          "name": "stdout",
          "text": "85\n",
          "output_type": "stream"
        }
      ]
    },
    {
      "cell_type": "markdown",
      "source": "Generate Random Float - The random module's rand() method returns a random float between 0 and 1.",
      "metadata": {}
    },
    {
      "cell_type": "code",
      "source": "x = random.rand()\n\nprint(x)",
      "metadata": {
        "trusted": true
      },
      "execution_count": 104,
      "outputs": [
        {
          "name": "stdout",
          "text": "0.7717491188531342\n",
          "output_type": "stream"
        }
      ]
    },
    {
      "cell_type": "markdown",
      "source": "Generate Random Array -\n\nIn NumPy we work with arrays, and you can use the two methods from the above examples to make random arrays.\n\nIntegers\n\nThe randint() method takes a size parameter where you can specify the shape of an array.",
      "metadata": {}
    },
    {
      "cell_type": "markdown",
      "source": "Generate a 1-D array containing 5 random integers from 0 to 100:",
      "metadata": {}
    },
    {
      "cell_type": "code",
      "source": "x=random.randint(100, size=(5))\n\nprint(x)",
      "metadata": {
        "trusted": true
      },
      "execution_count": 105,
      "outputs": [
        {
          "name": "stdout",
          "text": "[69 58 62 90 63]\n",
          "output_type": "stream"
        }
      ]
    },
    {
      "cell_type": "markdown",
      "source": "Generate a 2-D array with 3 rows, each row containing 5 random integers from 0 to 100:",
      "metadata": {}
    },
    {
      "cell_type": "code",
      "source": "x = random.randint(100, size=(3, 5))\n\nprint(x)",
      "metadata": {
        "trusted": true
      },
      "execution_count": 106,
      "outputs": [
        {
          "name": "stdout",
          "text": "[[42 77 43 39 62]\n [54 79 22 95  3]\n [70 35 38 53 64]]\n",
          "output_type": "stream"
        }
      ]
    },
    {
      "cell_type": "markdown",
      "source": "Floats - \nThe rand() method also allows you to specify the shape of the array.",
      "metadata": {}
    },
    {
      "cell_type": "markdown",
      "source": "Generate a 1-D array containing 5 random floats:",
      "metadata": {}
    },
    {
      "cell_type": "code",
      "source": "x = random.rand(5)\n\nprint(x)",
      "metadata": {
        "trusted": true
      },
      "execution_count": 108,
      "outputs": [
        {
          "name": "stdout",
          "text": "[0.64179503 0.61744172 0.0228897  0.76721189 0.52336656]\n",
          "output_type": "stream"
        }
      ]
    },
    {
      "cell_type": "markdown",
      "source": "Generate a 2-D array with 3 rows, each row containing 5 random numbers:",
      "metadata": {}
    },
    {
      "cell_type": "code",
      "source": "x = random.rand(3, 5)\n\nprint(x)",
      "metadata": {
        "trusted": true
      },
      "execution_count": 109,
      "outputs": [
        {
          "name": "stdout",
          "text": "[[0.86982498 0.50568262 0.39400978 0.31039827 0.95579661]\n [0.85965692 0.45152992 0.44308929 0.41671372 0.83191232]\n [0.51946843 0.70187926 0.97112033 0.07176401 0.66307656]]\n",
          "output_type": "stream"
        }
      ]
    },
    {
      "cell_type": "markdown",
      "source": "Generate Random Number From Array\n\n\nThe choice() method allows you to generate a random value based on an array of values.\n\nThe choice() method takes an array as a parameter and randomly returns one of the values.",
      "metadata": {}
    },
    {
      "cell_type": "markdown",
      "source": "Return one of the values in an array:",
      "metadata": {}
    },
    {
      "cell_type": "code",
      "source": "x = random.choice([3, 5, 7, 9])\n\nprint(x)",
      "metadata": {
        "trusted": true
      },
      "execution_count": 111,
      "outputs": [
        {
          "name": "stdout",
          "text": "9\n",
          "output_type": "stream"
        }
      ]
    },
    {
      "cell_type": "markdown",
      "source": "The choice() method also allows you to return an array of values.\n\nAdd a size parameter to specify the shape of the array.",
      "metadata": {}
    },
    {
      "cell_type": "markdown",
      "source": "Generate a 2-D array that consists of the values in the array parameter (3, 5, 7, and 9):",
      "metadata": {}
    },
    {
      "cell_type": "code",
      "source": "x = random.choice([3, 5, 7, 9], size=(3, 5))\n\nprint(x)",
      "metadata": {
        "trusted": true
      },
      "execution_count": 114,
      "outputs": [
        {
          "name": "stdout",
          "text": "[[5 9 3 7 7]\n [3 9 5 9 7]\n [5 9 5 9 9]]\n",
          "output_type": "stream"
        }
      ]
    },
    {
      "cell_type": "markdown",
      "source": "**Random Data Distribution**",
      "metadata": {}
    },
    {
      "cell_type": "markdown",
      "source": "What is Data Distribution?\n\nData Distribution is a list of all possible values, and how often each value occurs.\n\nSuch lists are important when working with statistics and data science.\n\nThe random module offer methods that returns randomly generated data distributions.\n\n",
      "metadata": {}
    },
    {
      "cell_type": "markdown",
      "source": "Random Distribution\n\nA random distribution is a set of random numbers that follow a certain probability density function.\n\nProbability Density Function: A function that describes a continuous probability. i.e. probability of all values in an array.\n\nWe can generate random numbers based on defined probabilities using the choice() method of the random module.\n\nThe choice() method allows us to specify the probability for each value.\n\nThe probability is set by a number between 0 and 1, where 0 means that the value will never occur and 1 means that the value will always occur.",
      "metadata": {}
    },
    {
      "cell_type": "markdown",
      "source": "Example\n\nGenerate a 1-D array containing 100 values, where each value has to be 3, 5, 7 or 9.\n\nThe probability for the value to be 3 is set to be 0.1\n\nThe probability for the value to be 5 is set to be 0.3\n\nThe probability for the value to be 7 is set to be 0.6\n\nThe probability for the value to be 9 is set to be 0",
      "metadata": {}
    },
    {
      "cell_type": "code",
      "source": "x = random.choice([3, 5, 7, 9], p=[0.1, 0.3, 0.6, 0.0], size=(100))\n\nprint(x)",
      "metadata": {
        "trusted": true
      },
      "execution_count": 116,
      "outputs": [
        {
          "name": "stdout",
          "text": "[7 3 7 7 5 7 7 7 7 7 5 3 7 5 7 5 5 3 5 3 7 3 7 7 7 7 7 3 3 7 7 7 7 7 7 5 7\n 7 7 7 7 7 7 7 7 7 7 7 7 7 7 5 3 7 7 3 7 7 7 5 7 5 7 7 5 7 7 5 7 7 7 7 7 7\n 7 5 7 7 7 7 3 7 7 7 5 5 5 3 7 7 7 7 5 7 7 5 7 5 5 7]\n",
          "output_type": "stream"
        }
      ]
    },
    {
      "cell_type": "markdown",
      "source": "The sum of all probability numbers should be 1.",
      "metadata": {}
    },
    {
      "cell_type": "markdown",
      "source": "Even if you run the example above 100 times, the value 9 will never occur.\n\nYou can return arrays of any shape and size by specifying the shape in the size parameter.",
      "metadata": {}
    },
    {
      "cell_type": "markdown",
      "source": "Example\n\nSame example as above, but return a 2-D array with 3 rows, each containing 5 values.",
      "metadata": {}
    },
    {
      "cell_type": "code",
      "source": "x = random.choice([3, 5, 7, 9], p=[0.1, 0.3, 0.6, 0.0], size=(3, 5))\n\nprint(x)",
      "metadata": {
        "trusted": true
      },
      "execution_count": 117,
      "outputs": [
        {
          "name": "stdout",
          "text": "[[5 5 5 7 7]\n [5 7 3 7 7]\n [5 7 7 7 7]]\n",
          "output_type": "stream"
        }
      ]
    },
    {
      "cell_type": "markdown",
      "source": "**Random Permutations**",
      "metadata": {}
    },
    {
      "cell_type": "markdown",
      "source": "Random Permutations of Elements\n\nA permutation refers to an arrangement of elements. e.g. [3, 2, 1] is a permutation of [1, 2, 3] and vice-versa.\n\nThe NumPy Random module provides two methods for this: shuffle() and permutation().",
      "metadata": {}
    },
    {
      "cell_type": "markdown",
      "source": "Shuffling Arrays\n\nShuffle means changing arrangement of elements in-place. i.e. in the array itself.\n\nExample\n\nRandomly shuffle elements of following array:",
      "metadata": {}
    },
    {
      "cell_type": "code",
      "source": "arr = np.array([1, 2, 3, 4, 5])\n\nrandom.shuffle(arr)\n\nprint(arr)",
      "metadata": {
        "trusted": true
      },
      "execution_count": 118,
      "outputs": [
        {
          "name": "stdout",
          "text": "[5 4 1 2 3]\n",
          "output_type": "stream"
        }
      ]
    },
    {
      "cell_type": "markdown",
      "source": "Generating Permutation of Arrays",
      "metadata": {}
    },
    {
      "cell_type": "code",
      "source": "arr = np.array([1, 2, 3, 4, 5])\n\nprint(random.permutation(arr))",
      "metadata": {
        "trusted": true
      },
      "execution_count": 119,
      "outputs": [
        {
          "name": "stdout",
          "text": "[1 4 3 2 5]\n",
          "output_type": "stream"
        }
      ]
    },
    {
      "cell_type": "markdown",
      "source": "**Visualize Distributions With Seaborn**",
      "metadata": {}
    },
    {
      "cell_type": "markdown",
      "source": "Seaborn is a library that uses Matplotlib underneath to plot graphs. It will be used to visualize random distributions.",
      "metadata": {}
    },
    {
      "cell_type": "markdown",
      "source": "Distplots\n\nDistplot stands for distribution plot, it takes as input an array and plots a curve corresponding to the distribution of points in the array.",
      "metadata": {}
    },
    {
      "cell_type": "markdown",
      "source": "Plotting a Distplot",
      "metadata": {}
    },
    {
      "cell_type": "code",
      "source": "!pip3 install seaborn",
      "metadata": {
        "trusted": true
      },
      "execution_count": 121,
      "outputs": [
        {
          "ename": "<class 'AttributeError'>",
          "evalue": "module 'pexpect' has no attribute 'TIMEOUT'",
          "traceback": [
            "\u001b[0;31m---------------------------------------------------------------------------\u001b[0m",
            "\u001b[0;31mAttributeError\u001b[0m                            Traceback (most recent call last)",
            "Cell \u001b[0;32mIn [122], line 1\u001b[0m\n\u001b[0;32m----> 1\u001b[0m \u001b[43mget_ipython\u001b[49m\u001b[43m(\u001b[49m\u001b[43m)\u001b[49m\u001b[38;5;241;43m.\u001b[39;49m\u001b[43msystem\u001b[49m\u001b[43m(\u001b[49m\u001b[38;5;124;43m'\u001b[39;49m\u001b[38;5;124;43mpip3 install seaborn\u001b[39;49m\u001b[38;5;124;43m'\u001b[39;49m\u001b[43m)\u001b[49m\n",
            "File \u001b[0;32m/lib/python3.10/site-packages/IPython/core/interactiveshell.py:2521\u001b[0m, in \u001b[0;36mInteractiveShell.system_piped\u001b[0;34m(self, cmd)\u001b[0m\n\u001b[1;32m   2516\u001b[0m     \u001b[38;5;28;01mraise\u001b[39;00m \u001b[38;5;167;01mOSError\u001b[39;00m(\u001b[38;5;124m\"\u001b[39m\u001b[38;5;124mBackground processes not supported.\u001b[39m\u001b[38;5;124m\"\u001b[39m)\n\u001b[1;32m   2518\u001b[0m \u001b[38;5;66;03m# we explicitly do NOT return the subprocess status code, because\u001b[39;00m\n\u001b[1;32m   2519\u001b[0m \u001b[38;5;66;03m# a non-None value would trigger :func:`sys.displayhook` calls.\u001b[39;00m\n\u001b[1;32m   2520\u001b[0m \u001b[38;5;66;03m# Instead, we store the exit_code in user_ns.\u001b[39;00m\n\u001b[0;32m-> 2521\u001b[0m \u001b[38;5;28mself\u001b[39m\u001b[38;5;241m.\u001b[39muser_ns[\u001b[38;5;124m'\u001b[39m\u001b[38;5;124m_exit_code\u001b[39m\u001b[38;5;124m'\u001b[39m] \u001b[38;5;241m=\u001b[39m \u001b[43msystem\u001b[49m\u001b[43m(\u001b[49m\u001b[38;5;28;43mself\u001b[39;49m\u001b[38;5;241;43m.\u001b[39;49m\u001b[43mvar_expand\u001b[49m\u001b[43m(\u001b[49m\u001b[43mcmd\u001b[49m\u001b[43m,\u001b[49m\u001b[43m \u001b[49m\u001b[43mdepth\u001b[49m\u001b[38;5;241;43m=\u001b[39;49m\u001b[38;5;241;43m1\u001b[39;49m\u001b[43m)\u001b[49m\u001b[43m)\u001b[49m\n",
            "File \u001b[0;32m/lib/python3.10/site-packages/IPython/utils/_process_posix.py:129\u001b[0m, in \u001b[0;36mProcessHandler.system\u001b[0;34m(self, cmd)\u001b[0m\n\u001b[1;32m    125\u001b[0m enc \u001b[38;5;241m=\u001b[39m DEFAULT_ENCODING\n\u001b[1;32m    127\u001b[0m \u001b[38;5;66;03m# Patterns to match on the output, for pexpect.  We read input and\u001b[39;00m\n\u001b[1;32m    128\u001b[0m \u001b[38;5;66;03m# allow either a short timeout or EOF\u001b[39;00m\n\u001b[0;32m--> 129\u001b[0m patterns \u001b[38;5;241m=\u001b[39m [\u001b[43mpexpect\u001b[49m\u001b[38;5;241;43m.\u001b[39;49m\u001b[43mTIMEOUT\u001b[49m, pexpect\u001b[38;5;241m.\u001b[39mEOF]\n\u001b[1;32m    130\u001b[0m \u001b[38;5;66;03m# the index of the EOF pattern in the list.\u001b[39;00m\n\u001b[1;32m    131\u001b[0m \u001b[38;5;66;03m# even though we know it's 1, this call means we don't have to worry if\u001b[39;00m\n\u001b[1;32m    132\u001b[0m \u001b[38;5;66;03m# we change the above list, and forget to change this value:\u001b[39;00m\n\u001b[1;32m    133\u001b[0m EOF_index \u001b[38;5;241m=\u001b[39m patterns\u001b[38;5;241m.\u001b[39mindex(pexpect\u001b[38;5;241m.\u001b[39mEOF)\n",
            "\u001b[0;31mAttributeError\u001b[0m: module 'pexpect' has no attribute 'TIMEOUT'"
          ],
          "output_type": "error"
        }
      ]
    },
    {
      "cell_type": "code",
      "source": "import matplotlib.pyplot as plt\nimport seaborn as sns\n\nsns.distplot([0, 1, 2, 3, 4, 5])\n\nplt.show()\n",
      "metadata": {
        "trusted": true
      },
      "execution_count": 120,
      "outputs": [
        {
          "ename": "<class 'NameError'>",
          "evalue": "name 'distplot' is not defined",
          "traceback": [
            "\u001b[0;31m---------------------------------------------------------------------------\u001b[0m",
            "\u001b[0;31mNameError\u001b[0m                                 Traceback (most recent call last)",
            "Cell \u001b[0;32mIn [124], line 2\u001b[0m\n\u001b[1;32m      1\u001b[0m \u001b[38;5;28;01mimport\u001b[39;00m \u001b[38;5;21;01mmatplotlib\u001b[39;00m\u001b[38;5;21;01m.\u001b[39;00m\u001b[38;5;21;01mpyplot\u001b[39;00m \u001b[38;5;28;01mas\u001b[39;00m \u001b[38;5;21;01mplt\u001b[39;00m\n\u001b[0;32m----> 2\u001b[0m \u001b[43mdistplot\u001b[49m([\u001b[38;5;241m0\u001b[39m, \u001b[38;5;241m1\u001b[39m, \u001b[38;5;241m2\u001b[39m, \u001b[38;5;241m3\u001b[39m, \u001b[38;5;241m4\u001b[39m, \u001b[38;5;241m5\u001b[39m])\n\u001b[1;32m      4\u001b[0m plt\u001b[38;5;241m.\u001b[39mshow()\n",
            "\u001b[0;31mNameError\u001b[0m: name 'distplot' is not defined"
          ],
          "output_type": "error"
        }
      ]
    },
    {
      "cell_type": "code",
      "source": "",
      "metadata": {},
      "execution_count": null,
      "outputs": []
    }
  ]
}