{
  "metadata": {
    "language_info": {
      "codemirror_mode": {
        "name": "python",
        "version": 3
      },
      "file_extension": ".py",
      "mimetype": "text/x-python",
      "name": "python",
      "nbconvert_exporter": "python",
      "pygments_lexer": "ipython3",
      "version": "3.8"
    },
    "kernelspec": {
      "name": "python",
      "display_name": "Python (Pyodide)",
      "language": "python"
    },
    "toc-showcode": false,
    "toc-showmarkdowntxt": true,
    "toc-autonumbering": false,
    "toc-showtags": false
  },
  "nbformat_minor": 4,
  "nbformat": 4,
  "cells": [
    {
      "cell_type": "markdown",
      "source": "# DATA SCIENCE AND MACHINE LEARNING",
      "metadata": {}
    },
    {
      "cell_type": "markdown",
      "source": "**CONTENTS -**\n\nPART - A - CONCEPTS\n\nPART - B - PYTHON\n",
      "metadata": {}
    },
    {
      "cell_type": "markdown",
      "source": "1. **Data Science Concept** -The Thought of Data Science Came from Data Analysis. Data Analysis isn't new. Statisticians have been doing it for many years. Even Normal people have been Doing it in excel for years.But Slowly amount of data increased due to Wide Internet usage. It is become impossible for statistician to analyze such huge quantity of data. So various software and programing languages have been developed for doing this Analysis. Analysis of data through this softwares and derive insights from it called Data Science. Also In Statistics we deal with samples of data, To find insights from it. But in Data Science we deal with total data. So Unlike Statistics in data Science insights are more accurate.",
      "metadata": {}
    },
    {
      "cell_type": "markdown",
      "source": "2. **Data Mining** - ",
      "metadata": {}
    },
    {
      "cell_type": "markdown",
      "source": "a. **Establishing Goals**\n- Identify Key Questions That to be Answered\n- Expected level of acquiricy of the result.\n- Higher the expected Level of Acquiricy Higher the Project cost\n- Usefullness of the result\n\nb. **Selecting Data**\n- The output  largely depends upon the quality of data being used. \n- If data is not readily available plan new data collection initiatives, including surveys.\n- Availability of Data Also effecting Cost\n\nc. **Preprocessing Data**\n- STEP 1 - Identify the irrelevant attributes and erroneous aspects of data to ensure integrity. \n- STEP 2 - Develop a formal method of dealing with missing data in advance and determine whether the data are missing randomly or systematically  and its impact on results.If observations or variables are missing randomly its impact is less, if data is missing systamaticaly This would lead to systematic biases in the analysis.\n- STEP 3 - After the relevant attributes of data have been retained, the next step is to determine the appropriate format in which data must be stored. \n- STEP 4 -  Reduce the number of attributes needed to explain the phenomena by transforming observations or variables reduction algorithms such as Principal Component Analysis without a significant loss in information. Often you need to transform variables from one type to another. Like Continious Variable to Categorial Variable. This could help capture the non-linearities in the underlying behaviors.\n\nd. **Storing Data**\n- Transformed data must be stored in a format that makes it conducive for data mining. \n- Data must be stored in a format that gives unrestricted and immediate read/write privileges to the data scientist. \n- During data mining, new variables are created, which are written back to the original database, which is why the data storage scheme should facilitate efficiently reading from and writing to the database. \n- It is also important to store data on servers or storage media that keeps the data secure and also prevents the data mining algorithm from unnecessarily searching for pieces of data scattered on different servers or storage media. Data safety and privacy should be a prime concern for storing data.\n\ne. **Mining Data** - Finding Trends - Finding Sonething - Data Analysis\n- Data analysis using, including parametric and non-parametric methods, and machine-learning algorithms. A good starting point for data mining is data visualization. \n- Multidimensional views of the data using the advanced graphing capabilities of data mining software are very helpful in developing a preliminary understanding of the trends hidden in the data set. \n\nf. **Evaluating Mining Results**\n- In-sample forecast means testing the predictive capabilities of the models on observed data to see how effective and efficient the algorithms have been in reproducing data. \n- Evalution of results in the light of the Stakeholders feedback and use better and improved algorithms to improve the quality of results. ",
      "metadata": {}
    },
    {
      "cell_type": "markdown",
      "source": "3. **The Report Structure**\n- **Detailed Report or Brief Report** - Before starting the analysis, think about the structure of the report. It can be a 5 page report or  100 page document. A brief report is more to the point and presents a summary of key findings.\nA detailed report incrementally builds the argument and contains details about other relevant works, research methodology, data sources, and intermediate findings along with the main results.\nThe length of the reports varied depending largely on the purpose of the report. Brief reports were drafted as commentaries on current trends and developments that attracted public or media attention.\nDetailed and comprehensive reports offered a critical review of the subject matter with extensive data analysis and commentary.\nOften, detailed reports collected new data or interviewed industry experts to answer the research questions. Even if you expect the report to be brief, sporting five or fewer pages, I recommend that the deliverable follow a prescribed\nformat including the cover page, table of contents, executive summary, detailed contents, acknowledgments, references, and appendices (if needed).\n- **Cover Report** - I often find the cover page to be missing in documents. It is not the inexperience of undergraduate students that is reflected in submissions that usually miss the cover page.\nIn fact, doctoral candidates also require an explicit reminder to include an informative cover page. I hasten to mention that the business world sleuths are hardly any better.\nJust search the Internet for reports and you will find plenty of reports from reputed firms that are missing the cover page. At a minimum, the cover page should include the title of the report, names of authors, their affiliations,\nand contacts, the name of the institutional publisher (if any), and the date of publication. I have seen numerous reports missing the date of publication, making it impossible to cite them without the year\nand month of publication. Also, from a business point of view, authors should make it easier for the reader to reach out to them. Having contact details at the front makes the task easier.\n- **Table of Contents** - \"A table of contents (ToC)\" is like a map needed for a trip never taken before. You need to have a sense of the journey before embarking on it.\nA map provides a visual proxy for the actual travel with details about the landmarks that you will pass by in your trip. The ToC with main headings and lists of tables and figures offers a glimpse of what lies ahead in the document.\nNever shy away from including a ToC, especially if your document, excluding cover page, table of contents, and references, is five or more pages in length.\nEven for a short document, I recommend an \"abstract\" or an \"executive summary\". Nothing is more powerful than explaining the crux of your arguments in three paragraphs or less.\nOf course, for larger documents running a few hundred pages, the executive summary could be longer.\n- **Introductory Section** - An \"introductory section\" is always helpful in setting up the problem for the reader who might be new to the topic and who might need to be gently introduced to the subject matter\nbefore being immersed in intricate details. A good follow-up to the introductory section is a review of available relevant research on the subject matter.\nThe length of the literature review section depends upon how contested the subject matter is. In instances where the vast majority of researchers have concluded in one direction,\n- **Nuanced arguments** - On the other hand, if the arguments are more nuanced with caveats aplenty, then you must cite the relevant research to offer adequate context before you embark on your analysis.\n- **Literature review**- You might use the literature review to highlight gaps in the existing knowledge, which your analysis will try to fill. This is where you formally introduce your research questions and hypothesis.\n- **Methodology** - In the \"methodology\" section, you introduce the research methods and data sources you used for the analysis. If you have collected new data, explain the data collection exercise in some detail.\nYou will refer to the literature review to bolster your choice for variables, data, and methods and how they will help you answer your research questions.\n- **Results** - The results section is where you present your empirical findings. Starting with descriptive statistics.and illustrative graphics you will move toward formally testing your hypothesis\nIn case you need to run statistical models, you might turn to regression models or categorical analysis. If you are working with time-series data\nYou can also report results from other empirical techniques that fall under the general rubric of data mining.\nNote that many reports in the business sector present results in a more palatable fashion by holding back the statistical details and relying on illustrative graphics to summarize the results.\nThe results section is followed by the discussion section, where you craft your main arguments by building on the results you have presented earlier.\n- **Discussion Knowledge Gaap**- The \"discussion section\" is where you rely on the power of narrative to enable numbers to communicate your thesis to your readers.\nYou refer the reader to the research question and the knowledge gaps you identified earlier. You highlight how your findings provide the ultimate missing piece to the puzzle.\nOf course, not all analytics return a smoking gun. At times, more frequently than I would like to acknowledge, the results provide only a partial answer to the question and that, too, with a long list of caveats.\n- **Conclusion** - In the \"conclusion\" section, you generalize your specific findings and take on a rather marketing approach to promote your findings so that the reader does not remain stuck in\nthe caveats that you have voluntarily outlined earlier. You might also identify future possible developments in research and applications that could result from your research.\nWhat remains is housekeeping, including a list of references, the acknowledgment section (acknowledging the support of those who have enabled your work is always good), and \"appendices\", if needed.\n- **Important Questions**\nHave You Done Your Job as a Writer? As a writer, you are responsible for communicating your findings to the readers.\nHave You done your Job as a Data Scientist? As a data scientist, you are expected to do thorough analysis with the appropriate data, deploying the appropriate tools.\nTransport Policy, a leading research publication in transportation planning, offers a checklist for authors interested in publishing with the journal.\nHave you told readers, at the outset, what they might gain by reading your paper?\nHave you made the aim of your work clear?\nHave you explained the significance of your contribution?\nHave you set your work in the appropriate context by giving sufficient background (including a complete set of relevant references) to your work?\nHave you addressed the question of practicality and usefulness?\nHave you identified future developments that might result from your work?\nHave you structured your paper in a clear and logical fashion?\n- **Leanth and Content** - The length and content of the final report will vary depending on the needs of the project.\nThe structure of the final report for a Data Science project should include a cover page, table of contents, executive summary, detailed contents, acknowledgements, references and appendices.\nThe report should present a thorough analysis of the data and communicate the project findings.",
      "metadata": {}
    },
    {
      "cell_type": "markdown",
      "source": "3. **Data Science Methodology**",
      "metadata": {}
    },
    {
      "cell_type": "markdown",
      "source": "A. **Business Understanding And Analytical Approach**",
      "metadata": {}
    },
    {
      "cell_type": "markdown",
      "source": "- The need to understand and prioritize the business goal.\n- The way stakeholder support influences a project.\n- The importance of selecting the right model.\n- When to use a predictive, descriptive, or classification model. ",
      "metadata": {}
    },
    {
      "cell_type": "markdown",
      "source": "B. **Data Requirement And Data Collection**",
      "metadata": {}
    },
    {
      "cell_type": "markdown",
      "source": "- Identify data requirements for your model.\n- Why the content, format, and representation of your data matter.   \n- The importance of identifying the correct sources of data for your project.\n- How to handle unavailable and redundant data.\n- To anticipate the needs of future stages in the process.",
      "metadata": {}
    },
    {
      "cell_type": "markdown",
      "source": "C. **Data Understanding And Preparation**",
      "metadata": {}
    },
    {
      "cell_type": "markdown",
      "source": "- The importance of descriptive statistics.\n- How to manage missing, invalid, or misleading data.\n- The need to clean data and sometimes transform it.\n- The consequences of bad data for the model.\n- Data understanding is iterative; you learn more about your data the more you study it. ",
      "metadata": {}
    },
    {
      "cell_type": "markdown",
      "source": "D. **Modeling And Evolution**",
      "metadata": {}
    },
    {
      "cell_type": "markdown",
      "source": "- The difference between descriptive and predictive models.\n- The role of training sets and test sets.\n- The importance of asking if the question has been answered.\n- Why diagnostic measures tools are needed.\n- The purpose of statistical significance tests.\n- That modeling and evaluation are iterative processes.",
      "metadata": {}
    },
    {
      "cell_type": "markdown",
      "source": "E. **Deployment And Feedback**",
      "metadata": {}
    },
    {
      "cell_type": "markdown",
      "source": "- The importance of stakeholder input.\n- To consider the scale of deployment.\n- The importance of incorporating feedback to refine the model.\n- The refined model must be redeployed.\n- This process should be repeated as often as necessary.",
      "metadata": {}
    },
    {
      "cell_type": "markdown",
      "source": "- **10 Questions to Ask**",
      "metadata": {}
    },
    {
      "cell_type": "markdown",
      "source": "1. What is the problem that you are trying to solve?\n2. How can you use the Data to Answer the Question?\n3. What data do you need to answer the question?\n4. Where is the data comming from and how you get it?\n5. Is the data you have collected representative of the problem to be solved?\n6. What additional work is required to manipulate and work with the data?\n7. In what way can the data be visualized to get the answer that is required?\n8. Does the model used realy answer the initial question or does it need to be adjusted?\n9. Can you put the model into practice?\n10. Can you get constructive feedback to answering the question?",
      "metadata": {}
    },
    {
      "cell_type": "markdown",
      "source": "4. **Machine learning**",
      "metadata": {}
    },
    {
      "cell_type": "markdown",
      "source": "Machine learning  is a subset of AI that uses computer algorithms to analyze data and make intelligent decisions based on what it is learned without being explicitly programmed.Machine learning algorithms are trained with large sets of data and they learn from examples. They do not follow rules-based algorithms. Machine learning is what enables machines to solve problems on their own and make accurate predictions using the provided data.",
      "metadata": {}
    },
    {
      "cell_type": "markdown",
      "source": "**Techniques** -",
      "metadata": {}
    },
    {
      "cell_type": "markdown",
      "source": "1. **Regression/Estimation** - Predecting Continioues values for example price of a house based on its characteristics or estimate co2 ommission from a car engine. \n2. **Classification** - Predecting class or catagory of a case.for example, if a cell is benign or malignant, or whether or not a customer will churn. \n3. **Clustering** - Groups of similar cases, for example, can find similar patients, or can be used for customer segmentation in the banking field.\n4. **Association** -  Technique is used for finding items or events that often co-occur, for example, grocery items that are usually bought together by a particular customer.\n5. **Anomaly detection**-  Is used to discover abnormal and unusual cases, for example, it is used for credit card fraud detection.\n6. **Sequence mining** -  Is used for predicting the next event, for instance, the click-stream in websites.\n7. **Dimension reduction** -  Is used to reduce the size of data.\n8. **Recommendation systems**- This associates people's preferences with others who have similar tastes, and recommends new items to them, such as books or movies. ",
      "metadata": {}
    },
    {
      "cell_type": "markdown",
      "source": "5. **Deep learning And Nural Networks**",
      "metadata": {}
    },
    {
      "cell_type": "markdown",
      "source": "6. **Artificial intelligence**",
      "metadata": {}
    },
    {
      "cell_type": "markdown",
      "source": "7. **Tools Available** -",
      "metadata": {}
    },
    {
      "cell_type": "markdown",
      "source": "",
      "metadata": {}
    },
    {
      "cell_type": "markdown",
      "source": "***PART - B - PYTHON***",
      "metadata": {}
    },
    {
      "cell_type": "markdown",
      "source": "1. Python Basics\n2. Python for importing files\n3. Python for Web scraping\n4. Python for Sql\n5. Python for Data Analysis \n6. Python for Data Visualization\n7. Python for Machine Learning\n8. Projects",
      "metadata": {}
    },
    {
      "cell_type": "markdown",
      "source": "# 1. **Python Syntax**",
      "metadata": {}
    },
    {
      "cell_type": "markdown",
      "source": "1. **Python syntax can be executed by writing directly in the Command Line.**\n\nWhere in other programming languages the indentation in code is for readability only, the indentation in Python is very important.\n\nPython uses indentation to indicate a block of code.",
      "metadata": {}
    },
    {
      "cell_type": "code",
      "source": "print(\"Hello, World!\")",
      "metadata": {
        "trusted": true
      },
      "execution_count": 80,
      "outputs": [
        {
          "name": "stdout",
          "text": "Hello, World!\n",
          "output_type": "stream"
        }
      ]
    },
    {
      "cell_type": "code",
      "source": "if 5 > 2:\n  print(\"Five is greater than two!\")",
      "metadata": {
        "trusted": true
      },
      "execution_count": 81,
      "outputs": [
        {
          "name": "stdout",
          "text": "Five is greater than two!\n",
          "output_type": "stream"
        }
      ]
    },
    {
      "cell_type": "markdown",
      "source": "2. **Python will give you an error if you skip the indentation:**",
      "metadata": {}
    },
    {
      "cell_type": "code",
      "source": "if 5 > 2:\nprint(\"Five is greater than two!\")",
      "metadata": {
        "trusted": true
      },
      "execution_count": 83,
      "outputs": [
        {
          "ename": "<class 'IndentationError'>",
          "evalue": "expected an indented block after 'if' statement on line 1 (<ipython-input-83-a314491c53bb>, line 2)",
          "traceback": [
            "\u001b[0;36m  Cell \u001b[0;32mIn [83], line 2\u001b[0;36m\u001b[0m\n\u001b[0;31m    print(\"Five is greater than two!\")\u001b[0m\n\u001b[0m    ^\u001b[0m\n\u001b[0;31mIndentationError\u001b[0m\u001b[0;31m:\u001b[0m expected an indented block after 'if' statement on line 1\n"
          ],
          "output_type": "error"
        }
      ]
    },
    {
      "cell_type": "markdown",
      "source": "3. **The number of spaces is up to you as a programmer, the most common use is four, but it has to be at least one**",
      "metadata": {}
    },
    {
      "cell_type": "code",
      "source": "if 5 > 2:\n print(\"Five is greater than two!\") \nif 5 > 2:\n        print(\"Five is greater than two!\") ",
      "metadata": {
        "trusted": true
      },
      "execution_count": 82,
      "outputs": [
        {
          "name": "stdout",
          "text": "Five is greater than two!\nFive is greater than two!\n",
          "output_type": "stream"
        }
      ]
    },
    {
      "cell_type": "markdown",
      "source": "# 2. Python Comments",
      "metadata": {}
    },
    {
      "cell_type": "markdown",
      "source": "- Comments can be used to explain Python code.\n- Comments can be used to make the code more readable.\n- Comments can be used to prevent execution when testing code.\n- Comments starts with a #,  and Python will ignore them.",
      "metadata": {}
    },
    {
      "cell_type": "code",
      "source": "#This is a comment\nprint(\"Hello, World!\")",
      "metadata": {
        "trusted": true
      },
      "execution_count": 90,
      "outputs": [
        {
          "name": "stdout",
          "text": "Hello, World!\n",
          "output_type": "stream"
        }
      ]
    },
    {
      "cell_type": "markdown",
      "source": "Comments can be placed at the end of a line, and Python will ignore the rest of the line.",
      "metadata": {}
    },
    {
      "cell_type": "code",
      "source": "print(\"Hello, World!\") #This is a comment",
      "metadata": {
        "trusted": true
      },
      "execution_count": 91,
      "outputs": [
        {
          "name": "stdout",
          "text": "Hello, World!\n",
          "output_type": "stream"
        }
      ]
    },
    {
      "cell_type": "code",
      "source": "#print(\"Hello, World!\")\nprint(\"Cheers, Mate!\")",
      "metadata": {
        "trusted": true
      },
      "execution_count": 92,
      "outputs": [
        {
          "name": "stdout",
          "text": "Cheers, Mate!\n",
          "output_type": "stream"
        }
      ]
    },
    {
      "cell_type": "markdown",
      "source": "# 3. Python Variables",
      "metadata": {}
    },
    {
      "cell_type": "markdown",
      "source": "- Variables are containers for storing data values.\n- Python has no command for declaring a variable.\n- A variable is created the moment you first assign a value to it.",
      "metadata": {}
    },
    {
      "cell_type": "code",
      "source": "x = 5\ny = \"John\"\nprint(x)\nprint(y)",
      "metadata": {
        "trusted": true
      },
      "execution_count": 94,
      "outputs": [
        {
          "name": "stdout",
          "text": "5\nJohn\n",
          "output_type": "stream"
        }
      ]
    },
    {
      "cell_type": "markdown",
      "source": "- Variables do not need to be declared with any particular type, and can even change type after they have been set.",
      "metadata": {}
    },
    {
      "cell_type": "code",
      "source": "x = 4       # x is of type int\nx = \"Sally\" # x is now of type str\nprint(x)",
      "metadata": {
        "trusted": true
      },
      "execution_count": 95,
      "outputs": [
        {
          "name": "stdout",
          "text": "Sally\n",
          "output_type": "stream"
        }
      ]
    },
    {
      "cell_type": "code",
      "source": "x = str(3)    # x will be '3'\ny = int(3)    # y will be 3\nz = float(3)  # z will be 3.0",
      "metadata": {
        "trusted": true
      },
      "execution_count": 96,
      "outputs": []
    },
    {
      "cell_type": "markdown",
      "source": "- **Variable Names**\n\nA variable can have a short name (like x and y) or a more descriptive name (age, carname, total_volume). Rules for Python variables:\n\nA variable name must start with a letter or the underscore character\n\nA variable name cannot start with a number\n\nA variable name can only contain alpha-numeric characters and underscores (A-z, 0-9, and _ )\n\nVariable names are case-sensitive (age, Age and AGE are three different variables)",
      "metadata": {}
    },
    {
      "cell_type": "code",
      "source": "myvar = \"John\"\nmy_var = \"John\"\n_my_var = \"John\"\nmyVar = \"John\"\nMYVAR = \"John\"\nmyvar2 = \"John\"",
      "metadata": {
        "trusted": true
      },
      "execution_count": 97,
      "outputs": []
    },
    {
      "cell_type": "markdown",
      "source": "**Illegal variable names:**",
      "metadata": {}
    },
    {
      "cell_type": "code",
      "source": "2myvar = \"John\"\nmy-var = \"John\"\nmy var = \"John\"",
      "metadata": {
        "trusted": true
      },
      "execution_count": 98,
      "outputs": [
        {
          "ename": "<class 'SyntaxError'>",
          "evalue": "invalid decimal literal (<ipython-input-98-0e82719f22b4>, line 1)",
          "traceback": [
            "\u001b[0;36m  Cell \u001b[0;32mIn [98], line 1\u001b[0;36m\u001b[0m\n\u001b[0;31m    2myvar = \"John\"\u001b[0m\n\u001b[0m    ^\u001b[0m\n\u001b[0;31mSyntaxError\u001b[0m\u001b[0;31m:\u001b[0m invalid decimal literal\n"
          ],
          "output_type": "error"
        }
      ]
    },
    {
      "cell_type": "markdown",
      "source": "**Python allows you to assign values to multiple variables in one line:**",
      "metadata": {}
    },
    {
      "cell_type": "code",
      "source": "x, y, z = \"Orange\", \"Banana\", \"Cherry\"\nprint(x)\nprint(y)\nprint(z)",
      "metadata": {
        "trusted": true
      },
      "execution_count": 99,
      "outputs": [
        {
          "name": "stdout",
          "text": "Orange\nBanana\nCherry\n",
          "output_type": "stream"
        }
      ]
    },
    {
      "cell_type": "markdown",
      "source": "**One Value to Multiple Variables**",
      "metadata": {}
    },
    {
      "cell_type": "code",
      "source": "x = y = z = \"Orange\"\nprint(x)\nprint(y)\nprint(z)",
      "metadata": {
        "trusted": true
      },
      "execution_count": 100,
      "outputs": [
        {
          "name": "stdout",
          "text": "Orange\nOrange\nOrange\n",
          "output_type": "stream"
        }
      ]
    },
    {
      "cell_type": "markdown",
      "source": "**Unpack a Collection**",
      "metadata": {}
    },
    {
      "cell_type": "code",
      "source": "fruits = [\"apple\", \"banana\", \"cherry\"]\nx, y, z = fruits\nprint(x)\nprint(y)\nprint(z)",
      "metadata": {
        "trusted": true
      },
      "execution_count": 101,
      "outputs": [
        {
          "name": "stdout",
          "text": "apple\nbanana\ncherry\n",
          "output_type": "stream"
        }
      ]
    },
    {
      "cell_type": "markdown",
      "source": "**Output Variables**\n\nThe Python print() function is often used to output variables.",
      "metadata": {}
    },
    {
      "cell_type": "code",
      "source": "x = \"Python is awesome\"\nprint(x)",
      "metadata": {
        "trusted": true
      },
      "execution_count": 102,
      "outputs": [
        {
          "name": "stdout",
          "text": "Python is awesome\n",
          "output_type": "stream"
        }
      ]
    },
    {
      "cell_type": "markdown",
      "source": "**In the print() function, you output multiple variables, separated by a comma:**",
      "metadata": {}
    },
    {
      "cell_type": "code",
      "source": "x = \"Python\"\ny = \"is\"\nz = \"awesome\"\nprint(x, y, z)",
      "metadata": {
        "trusted": true
      },
      "execution_count": 103,
      "outputs": [
        {
          "name": "stdout",
          "text": "Python is awesome\n",
          "output_type": "stream"
        }
      ]
    },
    {
      "cell_type": "markdown",
      "source": "**You can also use the + operator to output multiple variables:**",
      "metadata": {}
    },
    {
      "cell_type": "code",
      "source": "x = \"Python \"\ny = \"is \"\nz = \"awesome\"\nprint(x + y + z)",
      "metadata": {
        "trusted": true
      },
      "execution_count": 105,
      "outputs": [
        {
          "name": "stdout",
          "text": "Python is awesome\n",
          "output_type": "stream"
        }
      ]
    },
    {
      "cell_type": "markdown",
      "source": "For numbers, the + character works as a mathematical operator:",
      "metadata": {}
    },
    {
      "cell_type": "code",
      "source": "x = 5\ny = 10\nprint(x + y)",
      "metadata": {
        "trusted": true
      },
      "execution_count": 106,
      "outputs": [
        {
          "name": "stdout",
          "text": "15\n",
          "output_type": "stream"
        }
      ]
    },
    {
      "cell_type": "markdown",
      "source": "**In the print() function, when you try to combine a string and a number with the + operator, Python will give you an error**",
      "metadata": {}
    },
    {
      "cell_type": "code",
      "source": "x = 5\ny = \"John\"\nprint(x + y)",
      "metadata": {
        "trusted": true
      },
      "execution_count": 107,
      "outputs": [
        {
          "ename": "<class 'TypeError'>",
          "evalue": "unsupported operand type(s) for +: 'int' and 'str'",
          "traceback": [
            "\u001b[0;31m---------------------------------------------------------------------------\u001b[0m",
            "\u001b[0;31mTypeError\u001b[0m                                 Traceback (most recent call last)",
            "Cell \u001b[0;32mIn [107], line 3\u001b[0m\n\u001b[1;32m      1\u001b[0m x \u001b[38;5;241m=\u001b[39m \u001b[38;5;241m5\u001b[39m\n\u001b[1;32m      2\u001b[0m y \u001b[38;5;241m=\u001b[39m \u001b[38;5;124m\"\u001b[39m\u001b[38;5;124mJohn\u001b[39m\u001b[38;5;124m\"\u001b[39m\n\u001b[0;32m----> 3\u001b[0m \u001b[38;5;28mprint\u001b[39m(\u001b[43mx\u001b[49m\u001b[43m \u001b[49m\u001b[38;5;241;43m+\u001b[39;49m\u001b[43m \u001b[49m\u001b[43my\u001b[49m)\n",
            "\u001b[0;31mTypeError\u001b[0m: unsupported operand type(s) for +: 'int' and 'str'"
          ],
          "output_type": "error"
        }
      ]
    },
    {
      "cell_type": "markdown",
      "source": "**The best way to output multiple variables in the print() function is to separate them with commas, which even support different data types:**",
      "metadata": {}
    },
    {
      "cell_type": "code",
      "source": "x = 5\ny = \"John\"\nprint(x, y)",
      "metadata": {
        "trusted": true
      },
      "execution_count": 108,
      "outputs": [
        {
          "name": "stdout",
          "text": "5 John\n",
          "output_type": "stream"
        }
      ]
    },
    {
      "cell_type": "markdown",
      "source": "**Global Variables.**\n\nVariables that are created outside of a function (as in all of the examples above) are known as global variables.\n\nGlobal variables can be used by everyone, both inside of functions and outside.",
      "metadata": {}
    },
    {
      "cell_type": "code",
      "source": "x = \"awesome\"\n\ndef myfunc():\n  print(\"Python is \" + x)\n\nmyfunc()",
      "metadata": {
        "trusted": true
      },
      "execution_count": 109,
      "outputs": [
        {
          "name": "stdout",
          "text": "Python is awesome\n",
          "output_type": "stream"
        }
      ]
    },
    {
      "cell_type": "markdown",
      "source": "**If you create a variable with the same name inside a function, this variable will be local, and can only be used inside the function. The global variable with the same name will remain as it was, global and with the original value.**",
      "metadata": {}
    },
    {
      "cell_type": "code",
      "source": "x = \"awesome\"\n\ndef myfunc():\n  x = \"fantastic\"\n  print(\"Python is \" + x)\n\nmyfunc()\n\nprint(\"Python is \" + x)",
      "metadata": {
        "trusted": true
      },
      "execution_count": 110,
      "outputs": [
        {
          "name": "stdout",
          "text": "Python is fantastic\nPython is awesome\n",
          "output_type": "stream"
        }
      ]
    },
    {
      "cell_type": "markdown",
      "source": "# 4. Python Data Types",
      "metadata": {}
    },
    {
      "cell_type": "markdown",
      "source": "In programming, data type is an important concept.\n\nVariables can store data of different types, and different types can do different things.\n\nPython has the following data types built-in by default, in these categories:\n\nText Type:\tstr\n\nNumeric Types:\tint, float, complex\n\nSequence Types:\tlist, tuple, range\n\nMapping Type:\tdict\n\nSet Types:\tset, frozenset\n\nBoolean Type:\tbool\n\nBinary Types:\tbytes, bytearray, memoryview\n\nNone Type:\tNoneType",
      "metadata": {}
    },
    {
      "cell_type": "code",
      "source": "x = 5\nprint(type(x))",
      "metadata": {
        "trusted": true
      },
      "execution_count": 111,
      "outputs": [
        {
          "name": "stdout",
          "text": "<class 'int'>\n",
          "output_type": "stream"
        }
      ]
    },
    {
      "cell_type": "code",
      "source": "x = \"Hello World\"\n\n#display x:\nprint(x)\n\n#display the data type of x:\nprint(type(x)) ",
      "metadata": {
        "trusted": true
      },
      "execution_count": 112,
      "outputs": [
        {
          "name": "stdout",
          "text": "Hello World\n<class 'str'>\n",
          "output_type": "stream"
        }
      ]
    },
    {
      "cell_type": "code",
      "source": "x = 20\n\n#display x:\nprint(x)\n\n#display the data type of x:\nprint(type(x))",
      "metadata": {
        "trusted": true
      },
      "execution_count": 113,
      "outputs": [
        {
          "name": "stdout",
          "text": "20\n<class 'int'>\n",
          "output_type": "stream"
        }
      ]
    },
    {
      "cell_type": "code",
      "source": "x = 20.5\n\n#display x:\nprint(x)\n\n#display the data type of x:\nprint(type(x)) ",
      "metadata": {
        "trusted": true
      },
      "execution_count": 114,
      "outputs": [
        {
          "name": "stdout",
          "text": "20.5\n<class 'float'>\n",
          "output_type": "stream"
        }
      ]
    },
    {
      "cell_type": "code",
      "source": "x = 1j\n\n#display x:\nprint(x)\n\n#display the data type of x:\nprint(type(x))",
      "metadata": {
        "trusted": true
      },
      "execution_count": 115,
      "outputs": [
        {
          "name": "stdout",
          "text": "1j\n<class 'complex'>\n",
          "output_type": "stream"
        }
      ]
    },
    {
      "cell_type": "code",
      "source": "x = [\"apple\", \"banana\", \"cherry\"]\n\n#display x:\nprint(x)\n\n#display the data type of x:\nprint(type(x))",
      "metadata": {
        "trusted": true
      },
      "execution_count": 116,
      "outputs": [
        {
          "name": "stdout",
          "text": "['apple', 'banana', 'cherry']\n<class 'list'>\n",
          "output_type": "stream"
        }
      ]
    },
    {
      "cell_type": "code",
      "source": "x = (\"apple\", \"banana\", \"cherry\")\n\n#display x:\nprint(x)\n\n#display the data type of x:\nprint(type(x))",
      "metadata": {
        "trusted": true
      },
      "execution_count": 117,
      "outputs": [
        {
          "name": "stdout",
          "text": "('apple', 'banana', 'cherry')\n<class 'tuple'>\n",
          "output_type": "stream"
        }
      ]
    },
    {
      "cell_type": "code",
      "source": "x = range(6)\n\n#display x:\nprint(x)\n\n#display the data type of x:\nprint(type(x)) ",
      "metadata": {
        "trusted": true
      },
      "execution_count": 118,
      "outputs": [
        {
          "name": "stdout",
          "text": "range(0, 6)\n<class 'range'>\n",
          "output_type": "stream"
        }
      ]
    },
    {
      "cell_type": "code",
      "source": "x = {\"name\" : \"John\", \"age\" : 36}\n\n#display x:\nprint(x)\n\n#display the data type of x:\nprint(type(x)) ",
      "metadata": {
        "trusted": true
      },
      "execution_count": 119,
      "outputs": [
        {
          "name": "stdout",
          "text": "{'name': 'John', 'age': 36}\n<class 'dict'>\n",
          "output_type": "stream"
        }
      ]
    },
    {
      "cell_type": "code",
      "source": "x = {\"apple\", \"banana\", \"cherry\"}\n\n#display x:\nprint(x)\n\n#display the data type of x:\nprint(type(x)) ",
      "metadata": {
        "trusted": true
      },
      "execution_count": 120,
      "outputs": [
        {
          "name": "stdout",
          "text": "{'apple', 'banana', 'cherry'}\n<class 'set'>\n",
          "output_type": "stream"
        }
      ]
    },
    {
      "cell_type": "code",
      "source": "x = frozenset({\"apple\", \"banana\", \"cherry\"})\n\n#display x:\nprint(x)\n\n#display the data type of x:\nprint(type(x)) ",
      "metadata": {
        "trusted": true
      },
      "execution_count": 123,
      "outputs": [
        {
          "name": "stdout",
          "text": "frozenset({'apple', 'banana', 'cherry'})\n<class 'frozenset'>\n",
          "output_type": "stream"
        }
      ]
    },
    {
      "cell_type": "code",
      "source": "x = True\n\n#display x:\nprint(x)\n\n#display the data type of x:\nprint(type(x)) ",
      "metadata": {
        "trusted": true
      },
      "execution_count": 122,
      "outputs": [
        {
          "name": "stdout",
          "text": "True\n<class 'bool'>\n",
          "output_type": "stream"
        }
      ]
    },
    {
      "cell_type": "code",
      "source": "x = b\"Hello\"\n\n#display x:\nprint(x)\n\n#display the data type of x:\nprint(type(x)) ",
      "metadata": {
        "trusted": true
      },
      "execution_count": 124,
      "outputs": [
        {
          "name": "stdout",
          "text": "b'Hello'\n<class 'bytes'>\n",
          "output_type": "stream"
        }
      ]
    },
    {
      "cell_type": "code",
      "source": "x = bytearray(5)\n\n#display x:\nprint(x)\n\n#display the data type of x:\nprint(type(x)) ",
      "metadata": {
        "trusted": true
      },
      "execution_count": 125,
      "outputs": [
        {
          "name": "stdout",
          "text": "bytearray(b'\\x00\\x00\\x00\\x00\\x00')\n<class 'bytearray'>\n",
          "output_type": "stream"
        }
      ]
    },
    {
      "cell_type": "code",
      "source": "x = memoryview(bytes(5))\n\n#display x:\nprint(x)\n\n#display the data type of x:\nprint(type(x)) ",
      "metadata": {
        "trusted": true
      },
      "execution_count": 126,
      "outputs": [
        {
          "name": "stdout",
          "text": "<memory at 0x31dfa08>\n<class 'memoryview'>\n",
          "output_type": "stream"
        }
      ]
    },
    {
      "cell_type": "code",
      "source": "x = None\n\n#display x:\nprint(x)\n\n#display the data type of x:\nprint(type(x))",
      "metadata": {
        "trusted": true
      },
      "execution_count": 127,
      "outputs": [
        {
          "name": "stdout",
          "text": "None\n<class 'NoneType'>\n",
          "output_type": "stream"
        }
      ]
    },
    {
      "cell_type": "markdown",
      "source": "# 5. Python Numbers",
      "metadata": {}
    },
    {
      "cell_type": "markdown",
      "source": "There are three numeric types in Python:\n\nint\n\nfloat\n\ncomplex",
      "metadata": {}
    },
    {
      "cell_type": "code",
      "source": "x = 1    # int\ny = 2.8  # float\nz = 1j   # complex",
      "metadata": {
        "trusted": true
      },
      "execution_count": 129,
      "outputs": []
    },
    {
      "cell_type": "code",
      "source": "print(type(x))\nprint(type(y))\nprint(type(z))",
      "metadata": {
        "trusted": true
      },
      "execution_count": 130,
      "outputs": [
        {
          "name": "stdout",
          "text": "<class 'int'>\n<class 'float'>\n<class 'complex'>\n",
          "output_type": "stream"
        }
      ]
    },
    {
      "cell_type": "code",
      "source": "x = 1\ny = 35656222554887711\nz = -3255522\n\nprint(type(x))\nprint(type(y))\nprint(type(z))",
      "metadata": {
        "trusted": true
      },
      "execution_count": 131,
      "outputs": [
        {
          "name": "stdout",
          "text": "<class 'int'>\n<class 'int'>\n<class 'int'>\n",
          "output_type": "stream"
        }
      ]
    },
    {
      "cell_type": "code",
      "source": "x = 1.10\ny = 1.0\nz = -35.59\n\nprint(type(x))\nprint(type(y))\nprint(type(z))",
      "metadata": {
        "trusted": true
      },
      "execution_count": 132,
      "outputs": [
        {
          "name": "stdout",
          "text": "<class 'float'>\n<class 'float'>\n<class 'float'>\n",
          "output_type": "stream"
        }
      ]
    },
    {
      "cell_type": "code",
      "source": "x = 35e3\ny = 12E4\nz = -87.7e100\n\nprint(type(x))\nprint(type(y))\nprint(type(z))",
      "metadata": {
        "trusted": true
      },
      "execution_count": 133,
      "outputs": [
        {
          "name": "stdout",
          "text": "<class 'float'>\n<class 'float'>\n<class 'float'>\n",
          "output_type": "stream"
        }
      ]
    },
    {
      "cell_type": "code",
      "source": "x = 3+5j\ny = 5j\nz = -5j\n\nprint(type(x))\nprint(type(y))\nprint(type(z))",
      "metadata": {
        "trusted": true
      },
      "execution_count": 134,
      "outputs": [
        {
          "name": "stdout",
          "text": "<class 'complex'>\n<class 'complex'>\n<class 'complex'>\n",
          "output_type": "stream"
        }
      ]
    },
    {
      "cell_type": "markdown",
      "source": "**Convert from one type to another**",
      "metadata": {}
    },
    {
      "cell_type": "code",
      "source": "x = 1    # int\ny = 2.8  # float\nz = 1j   # complex\n\n#convert from int to float:\na = float(x)\n\n#convert from float to int:\nb = int(y)\n\n#convert from int to complex:\nc = complex(x)\n\nprint(a)\nprint(b)\nprint(c)\n\nprint(type(a))\nprint(type(b))\nprint(type(c))",
      "metadata": {
        "trusted": true
      },
      "execution_count": 135,
      "outputs": [
        {
          "name": "stdout",
          "text": "1.0\n2\n(1+0j)\n<class 'float'>\n<class 'int'>\n<class 'complex'>\n",
          "output_type": "stream"
        }
      ]
    },
    {
      "cell_type": "markdown",
      "source": "**Python does not have a random() function to make a random number, but Python has a built-in module called random that can be used to make random numbers.**",
      "metadata": {}
    },
    {
      "cell_type": "code",
      "source": "import random\n\nprint(random.randrange(1, 10))",
      "metadata": {
        "trusted": true
      },
      "execution_count": 137,
      "outputs": [
        {
          "name": "stdout",
          "text": "6\n",
          "output_type": "stream"
        }
      ]
    },
    {
      "cell_type": "markdown",
      "source": "# 6.Casting",
      "metadata": {}
    },
    {
      "cell_type": "markdown",
      "source": "Specify a Variable Type\n\nThere may be times when you want to specify a type on to a variable. This can be done with casting. Python is an object-orientated language, and as such it uses classes to define data types, including its primitive types.\n\nCasting in python is therefore done using constructor functions:\n\nint() - constructs an integer number from an integer literal, a float literal (by removing all decimals), or a string literal (providing the string represents a whole number)\n\nfloat() - constructs a float number from an integer literal, a float literal or a string literal (providing the string represents a float or an integer)\n\nstr() - constructs a string from a wide variety of data types, including strings, integer literals and float literals",
      "metadata": {}
    },
    {
      "cell_type": "code",
      "source": "x = int(1)   # x will be 1\ny = int(2.8) # y will be 2\nz = int(\"3\") # z will be 3",
      "metadata": {
        "trusted": true
      },
      "execution_count": 139,
      "outputs": []
    },
    {
      "cell_type": "code",
      "source": "x = float(1)     # x will be 1.0\ny = float(2.8)   # y will be 2.8\nz = float(\"3\")   # z will be 3.0\nw = float(\"4.2\") # w will be 4.2",
      "metadata": {
        "trusted": true
      },
      "execution_count": 142,
      "outputs": []
    },
    {
      "cell_type": "code",
      "source": "x = str(\"s1\") # x will be 's1'\ny = str(2)    # y will be '2'\nz = str(3.0)  # z will be '3.0'",
      "metadata": {
        "trusted": true
      },
      "execution_count": 143,
      "outputs": []
    },
    {
      "cell_type": "markdown",
      "source": "# 7. Python Strings",
      "metadata": {}
    },
    {
      "cell_type": "markdown",
      "source": "Strings\n\nStrings in python are surrounded by either single quotation marks, or double quotation marks.\n\n'hello' is the same as \"hello\".\n\nYou can display a string literal with the print() function:",
      "metadata": {}
    },
    {
      "cell_type": "code",
      "source": "print(\"Hello\")\nprint('Hello')",
      "metadata": {
        "trusted": true
      },
      "execution_count": 144,
      "outputs": [
        {
          "name": "stdout",
          "text": "Hello\nHello\n",
          "output_type": "stream"
        }
      ]
    },
    {
      "cell_type": "markdown",
      "source": "Assign String to a Variable",
      "metadata": {}
    },
    {
      "cell_type": "code",
      "source": "a = \"Hello\"\nprint(a)",
      "metadata": {
        "trusted": true
      },
      "execution_count": 145,
      "outputs": [
        {
          "name": "stdout",
          "text": "Hello\n",
          "output_type": "stream"
        }
      ]
    },
    {
      "cell_type": "markdown",
      "source": "You can use three double quotes:",
      "metadata": {}
    },
    {
      "cell_type": "code",
      "source": "a = \"\"\"Lorem ipsum dolor sit amet,\nconsectetur adipiscing elit,\nsed do eiusmod tempor incididunt\nut labore et dolore magna aliqua.\"\"\"\nprint(a)",
      "metadata": {
        "trusted": true
      },
      "execution_count": 146,
      "outputs": [
        {
          "name": "stdout",
          "text": "Lorem ipsum dolor sit amet,\nconsectetur adipiscing elit,\nsed do eiusmod tempor incididunt\nut labore et dolore magna aliqua.\n",
          "output_type": "stream"
        }
      ]
    },
    {
      "cell_type": "code",
      "source": "a = '''Lorem ipsum dolor sit amet,\nconsectetur adipiscing elit,\nsed do eiusmod tempor incididunt\nut labore et dolore magna aliqua.'''\nprint(a)",
      "metadata": {
        "trusted": true
      },
      "execution_count": 147,
      "outputs": [
        {
          "name": "stdout",
          "text": "Lorem ipsum dolor sit amet,\nconsectetur adipiscing elit,\nsed do eiusmod tempor incididunt\nut labore et dolore magna aliqua.\n",
          "output_type": "stream"
        }
      ]
    },
    {
      "cell_type": "markdown",
      "source": "**Slicing Strings**",
      "metadata": {}
    },
    {
      "cell_type": "markdown",
      "source": "You can return a range of characters by using the slice syntax.\n\nSpecify the start index and the end index, separated by a colon, to return a part of the string.",
      "metadata": {}
    },
    {
      "cell_type": "code",
      "source": "b = \"Hello, World!\"\nprint(b[2:5])",
      "metadata": {
        "trusted": true
      },
      "execution_count": 149,
      "outputs": [
        {
          "name": "stdout",
          "text": "llo\n",
          "output_type": "stream"
        }
      ]
    },
    {
      "cell_type": "markdown",
      "source": "Slice From the Start- Get the characters from the start to position 5 (not included):",
      "metadata": {}
    },
    {
      "cell_type": "code",
      "source": "b = \"Hello, World!\"\nprint(b[:5])",
      "metadata": {
        "trusted": true
      },
      "execution_count": 150,
      "outputs": [
        {
          "name": "stdout",
          "text": "Hello\n",
          "output_type": "stream"
        }
      ]
    },
    {
      "cell_type": "markdown",
      "source": "Slice To the End - Get the characters from position 2, and all the way to the end:",
      "metadata": {}
    },
    {
      "cell_type": "code",
      "source": "b = \"Hello, World!\"\nprint(b[2:])",
      "metadata": {
        "trusted": true
      },
      "execution_count": 151,
      "outputs": [
        {
          "name": "stdout",
          "text": "llo, World!\n",
          "output_type": "stream"
        }
      ]
    },
    {
      "cell_type": "markdown",
      "source": "**Negative Indexing**",
      "metadata": {}
    },
    {
      "cell_type": "markdown",
      "source": "Get the characters:\n\nFrom: \"o\" in \"World!\" (position -5)\n\nTo, but not included: \"d\" in \"World!\" (position -2):",
      "metadata": {}
    },
    {
      "cell_type": "code",
      "source": "b = \"Hello, World!\"\nprint(b[-5:-2])",
      "metadata": {
        "trusted": true
      },
      "execution_count": 152,
      "outputs": [
        {
          "name": "stdout",
          "text": "orl\n",
          "output_type": "stream"
        }
      ]
    },
    {
      "cell_type": "markdown",
      "source": "**Modify Strings**",
      "metadata": {}
    },
    {
      "cell_type": "markdown",
      "source": "Python has a set of built-in methods that you can use on strings.",
      "metadata": {}
    },
    {
      "cell_type": "markdown",
      "source": "The upper() method returns the string in upper case:",
      "metadata": {}
    },
    {
      "cell_type": "code",
      "source": "a = \"Hello, World!\"\nprint(a.upper())",
      "metadata": {
        "trusted": true
      },
      "execution_count": 154,
      "outputs": [
        {
          "name": "stdout",
          "text": "HELLO, WORLD!\n",
          "output_type": "stream"
        }
      ]
    },
    {
      "cell_type": "markdown",
      "source": "The lower() method returns the string in lower case:",
      "metadata": {}
    },
    {
      "cell_type": "code",
      "source": "a = \"Hello, World!\"\nprint(a.lower())",
      "metadata": {
        "trusted": true
      },
      "execution_count": 155,
      "outputs": [
        {
          "name": "stdout",
          "text": "hello, world!\n",
          "output_type": "stream"
        }
      ]
    },
    {
      "cell_type": "markdown",
      "source": "**Remove Whitespace**\n\nWhitespace is the space before and/or after the actual text, and very often you want to remove this space.",
      "metadata": {}
    },
    {
      "cell_type": "markdown",
      "source": "The strip() method removes any whitespace from the beginning or the end:",
      "metadata": {}
    },
    {
      "cell_type": "code",
      "source": "a = \" Hello, World! \"\nprint(a.strip()) # returns \"Hello, World!\"",
      "metadata": {
        "trusted": true
      },
      "execution_count": 158,
      "outputs": [
        {
          "name": "stdout",
          "text": "Hello, World!\n",
          "output_type": "stream"
        }
      ]
    },
    {
      "cell_type": "markdown",
      "source": "**Replace String**\n\nThe replace() method replaces a string with another string:",
      "metadata": {}
    },
    {
      "cell_type": "code",
      "source": "a = \"Hello, World!\"\nprint(a.replace(\"H\", \"J\"))",
      "metadata": {
        "trusted": true
      },
      "execution_count": 159,
      "outputs": [
        {
          "name": "stdout",
          "text": "Jello, World!\n",
          "output_type": "stream"
        }
      ]
    },
    {
      "cell_type": "markdown",
      "source": "**Split String**",
      "metadata": {}
    },
    {
      "cell_type": "markdown",
      "source": "The split() method splits the string into substrings if it finds instances of the separator:",
      "metadata": {}
    },
    {
      "cell_type": "code",
      "source": "a = \"Hello, World!\"\nprint(a.split(\",\")) # returns ['Hello', ' World!']",
      "metadata": {
        "trusted": true
      },
      "execution_count": 160,
      "outputs": [
        {
          "name": "stdout",
          "text": "['Hello', ' World!']\n",
          "output_type": "stream"
        }
      ]
    },
    {
      "cell_type": "markdown",
      "source": "**String Concatenation**",
      "metadata": {}
    },
    {
      "cell_type": "markdown",
      "source": "Merge variable a with variable b into variable c:",
      "metadata": {}
    },
    {
      "cell_type": "code",
      "source": "a = \"Hello\"\nb = \"World\"\nc = a + b\nprint(c)",
      "metadata": {
        "trusted": true
      },
      "execution_count": 161,
      "outputs": [
        {
          "name": "stdout",
          "text": "HelloWorld\n",
          "output_type": "stream"
        }
      ]
    },
    {
      "cell_type": "markdown",
      "source": "- add a space between them, add a \" \":",
      "metadata": {}
    },
    {
      "cell_type": "code",
      "source": "a = \"Hello\"\nb = \"World\"\nc = a + \" \" + b\nprint(c)",
      "metadata": {
        "trusted": true
      },
      "execution_count": 162,
      "outputs": [
        {
          "name": "stdout",
          "text": "Hello World\n",
          "output_type": "stream"
        }
      ]
    },
    {
      "cell_type": "markdown",
      "source": "**Format - Strings**\n",
      "metadata": {}
    },
    {
      "cell_type": "markdown",
      "source": "We cannot combine strings and numbers like this:",
      "metadata": {}
    },
    {
      "cell_type": "code",
      "source": "age = 36\ntxt = \"My name is John, I am \" + age\nprint(txt)",
      "metadata": {
        "trusted": true
      },
      "execution_count": 163,
      "outputs": [
        {
          "ename": "<class 'TypeError'>",
          "evalue": "can only concatenate str (not \"int\") to str",
          "traceback": [
            "\u001b[0;31m---------------------------------------------------------------------------\u001b[0m",
            "\u001b[0;31mTypeError\u001b[0m                                 Traceback (most recent call last)",
            "Cell \u001b[0;32mIn [163], line 2\u001b[0m\n\u001b[1;32m      1\u001b[0m age \u001b[38;5;241m=\u001b[39m \u001b[38;5;241m36\u001b[39m\n\u001b[0;32m----> 2\u001b[0m txt \u001b[38;5;241m=\u001b[39m \u001b[38;5;124;43m\"\u001b[39;49m\u001b[38;5;124;43mMy name is John, I am \u001b[39;49m\u001b[38;5;124;43m\"\u001b[39;49m\u001b[43m \u001b[49m\u001b[38;5;241;43m+\u001b[39;49m\u001b[43m \u001b[49m\u001b[43mage\u001b[49m\n\u001b[1;32m      3\u001b[0m \u001b[38;5;28mprint\u001b[39m(txt)\n",
            "\u001b[0;31mTypeError\u001b[0m: can only concatenate str (not \"int\") to str"
          ],
          "output_type": "error"
        }
      ]
    },
    {
      "cell_type": "markdown",
      "source": "But we can combine strings and numbers by using the format() method!\n\nThe format() method takes the passed arguments, formats them, and places them in the string where the placeholders {} are:",
      "metadata": {}
    },
    {
      "cell_type": "code",
      "source": "age = 36\ntxt = \"My name is John, and I am {}\"\nprint(txt.format(age))",
      "metadata": {
        "trusted": true
      },
      "execution_count": 164,
      "outputs": [
        {
          "name": "stdout",
          "text": "My name is John, and I am 36\n",
          "output_type": "stream"
        }
      ]
    },
    {
      "cell_type": "code",
      "source": "quantity = 3\nitemno = 567\nprice = 49.95\nmyorder = \"I want {} pieces of item {} for {} dollars.\"\nprint(myorder.format(quantity, itemno, price))",
      "metadata": {},
      "execution_count": null,
      "outputs": []
    },
    {
      "cell_type": "code",
      "source": "quantity = 3\nitemno = 567\nprice = 49.95\nmyorder = \"I want to pay {2} dollars for {0} pieces of item {1}.\"\nprint(myorder.format(quantity, itemno, price))",
      "metadata": {
        "trusted": true
      },
      "execution_count": 166,
      "outputs": [
        {
          "name": "stdout",
          "text": "I want to pay 49.95 dollars for 3 pieces of item 567.\n",
          "output_type": "stream"
        }
      ]
    },
    {
      "cell_type": "markdown",
      "source": "**Escape Character**",
      "metadata": {}
    },
    {
      "cell_type": "markdown",
      "source": "To insert characters that are illegal in a string, use an escape character.\n\nAn escape character is a backslash \\ followed by the character you want to insert.\n\nAn example of an illegal character is a double quote inside a string that is surrounded by double quotes:",
      "metadata": {}
    },
    {
      "cell_type": "markdown",
      "source": "You will get an error if you use double quotes inside a string that is surrounded by double quotes:",
      "metadata": {}
    },
    {
      "cell_type": "code",
      "source": "txt = \"We are the so-called \"Vikings\" from the north.\"",
      "metadata": {
        "trusted": true
      },
      "execution_count": 167,
      "outputs": [
        {
          "ename": "<class 'SyntaxError'>",
          "evalue": "invalid syntax (<ipython-input-167-56cdf4283a8e>, line 1)",
          "traceback": [
            "\u001b[0;36m  Cell \u001b[0;32mIn [167], line 1\u001b[0;36m\u001b[0m\n\u001b[0;31m    txt = \"We are the so-called \"Vikings\" from the north.\"\u001b[0m\n\u001b[0m                                 ^\u001b[0m\n\u001b[0;31mSyntaxError\u001b[0m\u001b[0;31m:\u001b[0m invalid syntax\n"
          ],
          "output_type": "error"
        }
      ]
    },
    {
      "cell_type": "markdown",
      "source": "**To fix this problem, use the escape character SLASS \": **",
      "metadata": {}
    },
    {
      "cell_type": "code",
      "source": "txt = \"We are the so-called \\\"Vikings\\\" from the north.\"",
      "metadata": {
        "trusted": true
      },
      "execution_count": 169,
      "outputs": []
    },
    {
      "cell_type": "code",
      "source": "txt",
      "metadata": {
        "trusted": true
      },
      "execution_count": 170,
      "outputs": [
        {
          "execution_count": 170,
          "output_type": "execute_result",
          "data": {
            "text/plain": "'We are the so-called \"Vikings\" from the north.'"
          },
          "metadata": {}
        }
      ]
    },
    {
      "cell_type": "markdown",
      "source": "**Single Quote**",
      "metadata": {}
    },
    {
      "cell_type": "code",
      "source": "txt = 'It\\'s alright.'\nprint(txt)",
      "metadata": {
        "trusted": true
      },
      "execution_count": 171,
      "outputs": [
        {
          "name": "stdout",
          "text": "It's alright.\n",
          "output_type": "stream"
        }
      ]
    },
    {
      "cell_type": "markdown",
      "source": "**Backslash**",
      "metadata": {}
    },
    {
      "cell_type": "code",
      "source": "txt = \"This will insert one \\\\ (backslash).\"\nprint(txt) ",
      "metadata": {
        "trusted": true
      },
      "execution_count": 172,
      "outputs": [
        {
          "name": "stdout",
          "text": "This will insert one \\ (backslash).\n",
          "output_type": "stream"
        }
      ]
    },
    {
      "cell_type": "markdown",
      "source": "**New Line**",
      "metadata": {}
    },
    {
      "cell_type": "code",
      "source": "txt = \"Hello\\nWorld!\"\nprint(txt) ",
      "metadata": {
        "trusted": true
      },
      "execution_count": 173,
      "outputs": [
        {
          "name": "stdout",
          "text": "Hello\nWorld!\n",
          "output_type": "stream"
        }
      ]
    },
    {
      "cell_type": "markdown",
      "source": "**Carriage Return**",
      "metadata": {}
    },
    {
      "cell_type": "code",
      "source": "txt = \"Hello\\rWorld!\"\nprint(txt) ",
      "metadata": {
        "trusted": true
      },
      "execution_count": 174,
      "outputs": [
        {
          "name": "stdout",
          "text": "World!\n",
          "output_type": "stream"
        }
      ]
    },
    {
      "cell_type": "markdown",
      "source": "**Tab**",
      "metadata": {}
    },
    {
      "cell_type": "code",
      "source": "txt = \"Hello\\tWorld!\"\nprint(txt) ",
      "metadata": {
        "trusted": true
      },
      "execution_count": 175,
      "outputs": [
        {
          "name": "stdout",
          "text": "Hello\tWorld!\n",
          "output_type": "stream"
        }
      ]
    },
    {
      "cell_type": "markdown",
      "source": "**Backspace**",
      "metadata": {}
    },
    {
      "cell_type": "code",
      "source": "#This example erases one character (backspace):\ntxt = \"Hello \\bWorld!\"\nprint(txt) ",
      "metadata": {
        "trusted": true
      },
      "execution_count": 176,
      "outputs": [
        {
          "name": "stdout",
          "text": "HelloWorld!\n",
          "output_type": "stream"
        }
      ]
    },
    {
      "cell_type": "markdown",
      "source": "**Form Feed**",
      "metadata": {}
    },
    {
      "cell_type": "code",
      "source": "#A backslash followed by three integers will result in a octal value:\ntxt = \"\\110\\145\\154\\154\\157\"\nprint(txt) ",
      "metadata": {
        "trusted": true
      },
      "execution_count": 177,
      "outputs": [
        {
          "name": "stdout",
          "text": "Hello\n",
          "output_type": "stream"
        }
      ]
    },
    {
      "cell_type": "markdown",
      "source": "**Octal value**",
      "metadata": {}
    },
    {
      "cell_type": "code",
      "source": "#A backslash followed by three integers will result in a octal value:\ntxt = \"\\110\\145\\154\\154\\157\"\nprint(txt) ",
      "metadata": {
        "trusted": true
      },
      "execution_count": 178,
      "outputs": [
        {
          "name": "stdout",
          "text": "Hello\n",
          "output_type": "stream"
        }
      ]
    },
    {
      "cell_type": "markdown",
      "source": "**Hex value**",
      "metadata": {}
    },
    {
      "cell_type": "code",
      "source": "#A backslash followed by an 'x' and a hex number represents a hex value:\ntxt = \"\\x48\\x65\\x6c\\x6c\\x6f\"\nprint(txt) ",
      "metadata": {
        "trusted": true
      },
      "execution_count": 179,
      "outputs": [
        {
          "name": "stdout",
          "text": "Hello\n",
          "output_type": "stream"
        }
      ]
    },
    {
      "cell_type": "markdown",
      "source": "**String Methods**",
      "metadata": {}
    },
    {
      "cell_type": "markdown",
      "source": "capitalize() Converts the first character to upper case",
      "metadata": {}
    },
    {
      "cell_type": "code",
      "source": "txt = \"hello, and welcome to my world.\"\n\nx = txt.capitalize()\n\nprint (x)",
      "metadata": {
        "trusted": true
      },
      "execution_count": 180,
      "outputs": [
        {
          "name": "stdout",
          "text": "Hello, and welcome to my world.\n",
          "output_type": "stream"
        }
      ]
    },
    {
      "cell_type": "markdown",
      "source": "casefold() Converts string into lower case",
      "metadata": {}
    },
    {
      "cell_type": "code",
      "source": "txt = \"Hello, And Welcome To My World!\"\n\nx = txt.casefold()\n\nprint(x)",
      "metadata": {
        "trusted": true
      },
      "execution_count": 181,
      "outputs": [
        {
          "name": "stdout",
          "text": "hello, and welcome to my world!\n",
          "output_type": "stream"
        }
      ]
    },
    {
      "cell_type": "markdown",
      "source": "center()\tReturns a centered string",
      "metadata": {}
    },
    {
      "cell_type": "markdown",
      "source": "Print the word \"banana\", taking up the space of 20 characters, with \"banana\" in the middle:",
      "metadata": {}
    },
    {
      "cell_type": "code",
      "source": "txt = \"banana\"\n\nx = txt.center(20)\n\nprint(x)",
      "metadata": {
        "trusted": true
      },
      "execution_count": 182,
      "outputs": [
        {
          "name": "stdout",
          "text": "       banana       \n",
          "output_type": "stream"
        }
      ]
    },
    {
      "cell_type": "markdown",
      "source": "Using the letter \"O\" as the padding character:",
      "metadata": {}
    },
    {
      "cell_type": "code",
      "source": "txt = \"banana\"\n\nx = txt.center(20, \"O\")\n\nprint(x)",
      "metadata": {
        "trusted": true
      },
      "execution_count": 183,
      "outputs": [
        {
          "name": "stdout",
          "text": "OOOOOOObananaOOOOOOO\n",
          "output_type": "stream"
        }
      ]
    },
    {
      "cell_type": "markdown",
      "source": "count()\tReturns the number of times a specified value occurs in a string",
      "metadata": {}
    },
    {
      "cell_type": "markdown",
      "source": "Return the number of times the value \"apple\" appears in the string:",
      "metadata": {}
    },
    {
      "cell_type": "code",
      "source": "txt = \"I love apples, apple are my favorite fruit\"\n\nx = txt.count(\"apple\")\n\nprint(x)",
      "metadata": {
        "trusted": true
      },
      "execution_count": 184,
      "outputs": [
        {
          "name": "stdout",
          "text": "2\n",
          "output_type": "stream"
        }
      ]
    },
    {
      "cell_type": "markdown",
      "source": "Search from position 10 to 24:",
      "metadata": {}
    },
    {
      "cell_type": "code",
      "source": "txt = \"I love apples, apple are my favorite fruit\"\n\nx = txt.count(\"apple\", 10, 24)\n\nprint(x)",
      "metadata": {
        "trusted": true
      },
      "execution_count": 186,
      "outputs": [
        {
          "name": "stdout",
          "text": "1\n",
          "output_type": "stream"
        }
      ]
    },
    {
      "cell_type": "markdown",
      "source": "Python String encode() Method",
      "metadata": {}
    },
    {
      "cell_type": "markdown",
      "source": "UTF-8 encode the string:",
      "metadata": {}
    },
    {
      "cell_type": "code",
      "source": "txt = \"My name is Ståle\"\n\nx = txt.encode()\n\nprint(x)",
      "metadata": {
        "trusted": true
      },
      "execution_count": 187,
      "outputs": [
        {
          "name": "stdout",
          "text": "b'My name is St\\xc3\\xa5le'\n",
          "output_type": "stream"
        }
      ]
    },
    {
      "cell_type": "markdown",
      "source": "Definition and Usage\n\nThe encode() method encodes the string, using the specified encoding. If no encoding is specified, UTF-8 will be used.",
      "metadata": {}
    },
    {
      "cell_type": "markdown",
      "source": "encoding\tOptional. A String specifying the encoding to use. Default is UTF-8\n\nerrors\tOptional. A String specifying the error method. Legal values are:\n    \n'backslashreplace'\t- uses a backslash instead of the character that could not be encoded\n\n'ignore'\t- ignores the characters that cannot be encoded\n\n'namereplace'\t- replaces the character with a text explaining the character\n\n'strict'\t- Default, raises an error on failure\n\n'replace'\t- replaces the character with a questionmark\n\n'xmlcharrefreplace'\t- replaces the character with an xml character\n",
      "metadata": {}
    },
    {
      "cell_type": "markdown",
      "source": "These examples uses ascii encoding, and a character that cannot be encoded, showing the result with different errors:",
      "metadata": {}
    },
    {
      "cell_type": "code",
      "source": "txt = \"My name is Ståle\"\n\nprint(txt.encode(encoding=\"ascii\",errors=\"backslashreplace\"))\nprint(txt.encode(encoding=\"ascii\",errors=\"ignore\"))\nprint(txt.encode(encoding=\"ascii\",errors=\"namereplace\"))\nprint(txt.encode(encoding=\"ascii\",errors=\"replace\"))\nprint(txt.encode(encoding=\"ascii\",errors=\"xmlcharrefreplace\"))",
      "metadata": {
        "trusted": true
      },
      "execution_count": 188,
      "outputs": [
        {
          "name": "stdout",
          "text": "b'My name is St\\\\xe5le'\nb'My name is Stle'\nb'My name is St\\\\N{LATIN SMALL LETTER A WITH RING ABOVE}le'\nb'My name is St?le'\nb'My name is St&#229;le'\n",
          "output_type": "stream"
        }
      ]
    },
    {
      "cell_type": "markdown",
      "source": "endswith()\tReturns true if the string ends with the specified value",
      "metadata": {}
    },
    {
      "cell_type": "code",
      "source": "txt = \"Hello, welcome to my world.\"\n\nx = txt.endswith(\".\")\n\nprint(x)",
      "metadata": {
        "trusted": true
      },
      "execution_count": 189,
      "outputs": [
        {
          "name": "stdout",
          "text": "True\n",
          "output_type": "stream"
        }
      ]
    },
    {
      "cell_type": "code",
      "source": "txt = \"Hello, welcome to my world.\"\n\nx = txt.endswith(\"my world.\")\n\nprint(x)",
      "metadata": {
        "trusted": true
      },
      "execution_count": 190,
      "outputs": [
        {
          "name": "stdout",
          "text": "True\n",
          "output_type": "stream"
        }
      ]
    },
    {
      "cell_type": "markdown",
      "source": "Check if position 5 to 11 ends with the phrase \"my world.\":",
      "metadata": {}
    },
    {
      "cell_type": "code",
      "source": "txt = \"Hello, welcome to my world.\"\n\nx = txt.endswith(\"my world.\", 5, 11)\n\nprint(x)",
      "metadata": {
        "trusted": true
      },
      "execution_count": 191,
      "outputs": [
        {
          "name": "stdout",
          "text": "False\n",
          "output_type": "stream"
        }
      ]
    },
    {
      "cell_type": "markdown",
      "source": "expandtabs()\tSets the tab size of the string",
      "metadata": {}
    },
    {
      "cell_type": "markdown",
      "source": "Set the tab size to 2 whitespaces:",
      "metadata": {}
    },
    {
      "cell_type": "code",
      "source": "txt = \"H\\te\\tl\\tl\\to\"\n\nx =  txt.expandtabs(2)\n\nprint(x)",
      "metadata": {
        "trusted": true
      },
      "execution_count": 192,
      "outputs": [
        {
          "name": "stdout",
          "text": "H e l l o\n",
          "output_type": "stream"
        }
      ]
    },
    {
      "cell_type": "code",
      "source": "txt = \"H\\te\\tl\\tl\\to\"\n\nprint(txt)\nprint(txt.expandtabs())\nprint(txt.expandtabs(2))\nprint(txt.expandtabs(4))\nprint(txt.expandtabs(10))",
      "metadata": {
        "trusted": true
      },
      "execution_count": 193,
      "outputs": [
        {
          "name": "stdout",
          "text": "H\te\tl\tl\to\nH       e       l       l       o\nH e l l o\nH   e   l   l   o\nH         e         l         l         o\n",
          "output_type": "stream"
        }
      ]
    },
    {
      "cell_type": "markdown",
      "source": "find()\tSearches the string for a specified value and returns the position of where it was found",
      "metadata": {}
    },
    {
      "cell_type": "code",
      "source": "txt = \"Hello, welcome to my world.\"\n\nx = txt.find(\"welcome\")\n\nprint(x)",
      "metadata": {
        "trusted": true
      },
      "execution_count": 194,
      "outputs": [
        {
          "name": "stdout",
          "text": "7\n",
          "output_type": "stream"
        }
      ]
    },
    {
      "cell_type": "markdown",
      "source": "The find() method finds the first occurrence of the specified value.\n\nThe find() method returns -1 if the value is not found.\n\nThe find() method is almost the same as the index() method, the only difference is that the index() method raises an exception if the value is not found. (See example below)",
      "metadata": {}
    },
    {
      "cell_type": "markdown",
      "source": "Where in the text is the first occurrence of the letter \"e\"?:",
      "metadata": {}
    },
    {
      "cell_type": "code",
      "source": "txt = \"Hello, welcome to my world.\"\n\nx = txt.find(\"e\")\n\nprint(x)",
      "metadata": {
        "trusted": true
      },
      "execution_count": 195,
      "outputs": [
        {
          "name": "stdout",
          "text": "1\n",
          "output_type": "stream"
        }
      ]
    },
    {
      "cell_type": "markdown",
      "source": "Where in the text is the first occurrence of the letter \"e\" when you only search between position 5 and 10?:",
      "metadata": {}
    },
    {
      "cell_type": "code",
      "source": "txt = \"Hello, welcome to my world.\"\n\nx = txt.find(\"e\", 5, 10)\n\nprint(x)",
      "metadata": {
        "trusted": true
      },
      "execution_count": 196,
      "outputs": [
        {
          "name": "stdout",
          "text": "8\n",
          "output_type": "stream"
        }
      ]
    },
    {
      "cell_type": "markdown",
      "source": "If the value is not found, the find() method returns -1, but the index() method will raise an exception:",
      "metadata": {}
    },
    {
      "cell_type": "code",
      "source": "txt = \"Hello, welcome to my world.\"\n\nprint(txt.find(\"q\"))\nprint(txt.index(\"q\"))",
      "metadata": {
        "trusted": true
      },
      "execution_count": 198,
      "outputs": [
        {
          "name": "stdout",
          "text": "-1\n",
          "output_type": "stream"
        },
        {
          "ename": "<class 'ValueError'>",
          "evalue": "substring not found",
          "traceback": [
            "\u001b[0;31m---------------------------------------------------------------------------\u001b[0m",
            "\u001b[0;31mValueError\u001b[0m                                Traceback (most recent call last)",
            "Cell \u001b[0;32mIn [198], line 4\u001b[0m\n\u001b[1;32m      1\u001b[0m txt \u001b[38;5;241m=\u001b[39m \u001b[38;5;124m\"\u001b[39m\u001b[38;5;124mHello, welcome to my world.\u001b[39m\u001b[38;5;124m\"\u001b[39m\n\u001b[1;32m      3\u001b[0m \u001b[38;5;28mprint\u001b[39m(txt\u001b[38;5;241m.\u001b[39mfind(\u001b[38;5;124m\"\u001b[39m\u001b[38;5;124mq\u001b[39m\u001b[38;5;124m\"\u001b[39m))\n\u001b[0;32m----> 4\u001b[0m \u001b[38;5;28mprint\u001b[39m(\u001b[43mtxt\u001b[49m\u001b[38;5;241;43m.\u001b[39;49m\u001b[43mindex\u001b[49m\u001b[43m(\u001b[49m\u001b[38;5;124;43m\"\u001b[39;49m\u001b[38;5;124;43mq\u001b[39;49m\u001b[38;5;124;43m\"\u001b[39;49m\u001b[43m)\u001b[49m)\n",
            "\u001b[0;31mValueError\u001b[0m: substring not found"
          ],
          "output_type": "error"
        }
      ]
    },
    {
      "cell_type": "markdown",
      "source": "format()\tFormats specified values in a string",
      "metadata": {}
    },
    {
      "cell_type": "markdown",
      "source": "Insert the price inside the placeholder, the price should be in fixed point, two-decimal format:",
      "metadata": {}
    },
    {
      "cell_type": "code",
      "source": "txt = \"For only {price:.2f} dollars!\"\nprint(txt.format(price = 49))",
      "metadata": {
        "trusted": true
      },
      "execution_count": 200,
      "outputs": [
        {
          "name": "stdout",
          "text": "For only 49.00 dollars!\n",
          "output_type": "stream"
        }
      ]
    },
    {
      "cell_type": "markdown",
      "source": "The format() method formats the specified value(s) and insert them inside the string's placeholder.\n\nThe placeholder is defined using curly brackets: {}. Read more about the placeholders in the Placeholder section below.\n\nThe format() method returns the formatted string.",
      "metadata": {}
    },
    {
      "cell_type": "markdown",
      "source": "The placeholders can be identified using named indexes {price}, numbered indexes {0}, or even empty placeholders {}.",
      "metadata": {}
    },
    {
      "cell_type": "markdown",
      "source": "txt1 = \"My name is {fname}, I'm {age}\".format(fname = \"John\", age = 36)\n\ntxt2 = \"My name is {0}, I'm {1}\".format(\"John\",36)\n\ntxt3 = \"My name is {}, I'm {}\".format(\"John\",36)",
      "metadata": {}
    },
    {
      "cell_type": "markdown",
      "source": ":<   Left aligns the result (within the available space)",
      "metadata": {}
    },
    {
      "cell_type": "code",
      "source": "#To demonstrate, we insert the number 8 to set the available space for the value to 8 characters.\n\n#Use \"<\" to left-align the value:\n\ntxt = \"We have {:<8} chickens.\"\nprint(txt.format(49))",
      "metadata": {
        "trusted": true
      },
      "execution_count": 201,
      "outputs": [
        {
          "name": "stdout",
          "text": "We have 49       chickens.\n",
          "output_type": "stream"
        }
      ]
    },
    {
      "cell_type": "markdown",
      "source": ":>\t\tRight aligns the result (within the available space)",
      "metadata": {}
    },
    {
      "cell_type": "code",
      "source": "#To demonstrate, we insert the number 8 to set the available space for the value to 8 characters.\n\n#Use \">\" to right-align the value:\n\ntxt = \"We have {:>8} chickens.\"\nprint(txt.format(49))",
      "metadata": {
        "trusted": true
      },
      "execution_count": 203,
      "outputs": [
        {
          "name": "stdout",
          "text": "We have       49 chickens.\n",
          "output_type": "stream"
        }
      ]
    },
    {
      "cell_type": "markdown",
      "source": ":^\t\tCenter aligns the result (within the available space)",
      "metadata": {}
    },
    {
      "cell_type": "code",
      "source": "#To demonstrate, we insert the number 8 to set the available space for the value to 8 characters.\n\n#Use \"^\" to center-align the value:\n\ntxt = \"We have {:^8} chickens.\"\nprint(txt.format(49))",
      "metadata": {
        "trusted": true
      },
      "execution_count": 204,
      "outputs": [
        {
          "name": "stdout",
          "text": "We have    49    chickens.\n",
          "output_type": "stream"
        }
      ]
    },
    {
      "cell_type": "markdown",
      "source": ":=\t\tPlaces the sign to the left most position",
      "metadata": {}
    },
    {
      "cell_type": "code",
      "source": "#To demonstrate, we insert the number 8 to specify the available space for the value.\n\n#Use \"=\" to place the plus/minus sign at the left most position:\n\ntxt = \"The temperature is {:=8} degrees celsius.\"\n\nprint(txt.format(-5))",
      "metadata": {
        "trusted": true
      },
      "execution_count": 205,
      "outputs": [
        {
          "name": "stdout",
          "text": "The temperature is -      5 degrees celsius.\n",
          "output_type": "stream"
        }
      ]
    },
    {
      "cell_type": "markdown",
      "source": ":+\t\tUse a plus sign to indicate if the result is positive or negative",
      "metadata": {}
    },
    {
      "cell_type": "code",
      "source": "#Use \"+\" to always indicate if the number is positive or negative:\n\ntxt = \"The temperature is between {:+} and {:+} degrees celsius.\"\n\nprint(txt.format(-3, 7))",
      "metadata": {
        "trusted": true
      },
      "execution_count": 207,
      "outputs": [
        {
          "name": "stdout",
          "text": "The temperature is between -3 and +7 degrees celsius.\n",
          "output_type": "stream"
        }
      ]
    },
    {
      "cell_type": "markdown",
      "source": ":-\t\tUse a minus sign for negative values only",
      "metadata": {}
    },
    {
      "cell_type": "code",
      "source": "#Use \"-\" to always indicate if the number is negative (positive numbers are displayed without any sign):\n\ntxt = \"The temperature is between {:-} and {:-} degrees celsius.\"\n\nprint(txt.format(-3, 7))",
      "metadata": {
        "trusted": true
      },
      "execution_count": 208,
      "outputs": [
        {
          "name": "stdout",
          "text": "The temperature is between -3 and 7 degrees celsius.\n",
          "output_type": "stream"
        }
      ]
    },
    {
      "cell_type": "markdown",
      "source": ": \t\tUse a space to insert an extra space before positive numbers (and a minus sign before negative numbers)",
      "metadata": {}
    },
    {
      "cell_type": "code",
      "source": "#Use \" \" (a space) to insert a space before positive numbers and a minus sign before negative numbers:\n\ntxt = \"The temperature is between {: } and {: } degrees celsius.\"\n\nprint(txt.format(-3, 7))",
      "metadata": {
        "trusted": true
      },
      "execution_count": 209,
      "outputs": [
        {
          "name": "stdout",
          "text": "The temperature is between -3 and  7 degrees celsius.\n",
          "output_type": "stream"
        }
      ]
    },
    {
      "cell_type": "markdown",
      "source": ":,\t\tUse a comma as a thousand separator",
      "metadata": {}
    },
    {
      "cell_type": "code",
      "source": "#Use \",\" to add a comma as a thousand separator:\n\ntxt = \"The universe is {:,} years old.\"\n\nprint(txt.format(13800000000))",
      "metadata": {
        "trusted": true
      },
      "execution_count": 210,
      "outputs": [
        {
          "name": "stdout",
          "text": "The universe is 13,800,000,000 years old.\n",
          "output_type": "stream"
        }
      ]
    },
    {
      "cell_type": "markdown",
      "source": ":_\t\tUse a underscore as a thousand separator",
      "metadata": {}
    },
    {
      "cell_type": "code",
      "source": "#Use \"_\" to add a underscore character as a thousand separator:\n\ntxt = \"The universe is {:_} years old.\"\n\nprint(txt.format(13800000000))",
      "metadata": {
        "trusted": true
      },
      "execution_count": 211,
      "outputs": [
        {
          "name": "stdout",
          "text": "The universe is 13_800_000_000 years old.\n",
          "output_type": "stream"
        }
      ]
    },
    {
      "cell_type": "markdown",
      "source": ":b\t\tBinary format",
      "metadata": {}
    },
    {
      "cell_type": "code",
      "source": "#Use \"b\" to convert the number into binary format:\n\ntxt = \"The binary version of {0} is {0:b}\"\n\nprint(txt.format(5))\n",
      "metadata": {
        "trusted": true
      },
      "execution_count": 212,
      "outputs": [
        {
          "name": "stdout",
          "text": "The binary version of 5 is 101\n",
          "output_type": "stream"
        }
      ]
    },
    {
      "cell_type": "markdown",
      "source": ":c\t\tConverts the value into the corresponding unicode character",
      "metadata": {}
    },
    {
      "cell_type": "markdown",
      "source": ":d\t\tDecimal format",
      "metadata": {}
    },
    {
      "cell_type": "code",
      "source": "#Use \"d\" to convert a number, in this case a binary number, into decimal number format:\n\ntxt = \"We have {:d} chickens.\"\nprint(txt.format(0b101))",
      "metadata": {
        "trusted": true
      },
      "execution_count": 213,
      "outputs": [
        {
          "name": "stdout",
          "text": "We have 5 chickens.\n",
          "output_type": "stream"
        }
      ]
    },
    {
      "cell_type": "markdown",
      "source": ":e\t\tScientific format, with a lower case e",
      "metadata": {}
    },
    {
      "cell_type": "code",
      "source": "#Use \"e\" to convert a number into scientific number format (with a lower-case e):\n\ntxt = \"We have {:e} chickens.\"\nprint(txt.format(5))",
      "metadata": {
        "trusted": true
      },
      "execution_count": 214,
      "outputs": [
        {
          "name": "stdout",
          "text": "We have 5.000000e+00 chickens.\n",
          "output_type": "stream"
        }
      ]
    },
    {
      "cell_type": "markdown",
      "source": ":e\t\tScientific format, with a lower case e",
      "metadata": {}
    },
    {
      "cell_type": "code",
      "source": "#Use \"e\" to convert a number into scientific number format (with a lower-case e):\n\ntxt = \"We have {:e} chickens.\"\nprint(txt.format(5))",
      "metadata": {
        "trusted": true
      },
      "execution_count": 215,
      "outputs": [
        {
          "name": "stdout",
          "text": "We have 5.000000e+00 chickens.\n",
          "output_type": "stream"
        }
      ]
    },
    {
      "cell_type": "markdown",
      "source": ":E\t\tScientific format, with an upper case E",
      "metadata": {}
    },
    {
      "cell_type": "code",
      "source": "#Use \"E\" to convert a number into scientific number format (with an upper-case E):\n\ntxt = \"We have {:E} chickens.\"\nprint(txt.format(5))",
      "metadata": {
        "trusted": true
      },
      "execution_count": 216,
      "outputs": [
        {
          "name": "stdout",
          "text": "We have 5.000000E+00 chickens.\n",
          "output_type": "stream"
        }
      ]
    },
    {
      "cell_type": "markdown",
      "source": ":E\t\tScientific format, with an upper case E",
      "metadata": {}
    },
    {
      "cell_type": "code",
      "source": "#Use \"f\" to convert a number into a fixed point number, default with 6 decimals, but use a period followed by a number to specify the number of decimals:\n\ntxt = \"The price is {:.2f} dollars.\"\nprint(txt.format(45))\n\n#without the \".2\" inside the placeholder, this number will be displayed like this:\n\ntxt = \"The price is {:f} dollars.\"\nprint(txt.format(45))",
      "metadata": {
        "trusted": true
      },
      "execution_count": 217,
      "outputs": [
        {
          "name": "stdout",
          "text": "The price is 45.00 dollars.\nThe price is 45.000000 dollars.\n",
          "output_type": "stream"
        }
      ]
    },
    {
      "cell_type": "markdown",
      "source": ":f\t\tFix point number format",
      "metadata": {}
    },
    {
      "cell_type": "code",
      "source": "#Use \"f\" to convert a number into a fixed point number, default with 6 decimals, but use a period followed by a number to specify the number of decimals:\n\ntxt = \"The price is {:.2f} dollars.\"\nprint(txt.format(45))\n\n#without the \".2\" inside the placeholder, this number will be displayed like this:\n\ntxt = \"The price is {:f} dollars.\"\nprint(txt.format(45))\n",
      "metadata": {
        "trusted": true
      },
      "execution_count": 218,
      "outputs": [
        {
          "name": "stdout",
          "text": "The price is 45.00 dollars.\nThe price is 45.000000 dollars.\n",
          "output_type": "stream"
        }
      ]
    },
    {
      "cell_type": "markdown",
      "source": ":F\t\tFix point number format, in uppercase format (show inf and nan as INF and NAN)",
      "metadata": {}
    },
    {
      "cell_type": "code",
      "source": "#Use \"F\" to convert a number into a fixed point number, but display inf and nan as INF and NAN:\n\nx = float('inf')\n\ntxt = \"The price is {:F} dollars.\"\nprint(txt.format(x))\n\n#same example, but with a lower case f:\n\ntxt = \"The price is {:f} dollars.\"\nprint(txt.format(x))",
      "metadata": {
        "trusted": true
      },
      "execution_count": 219,
      "outputs": [
        {
          "name": "stdout",
          "text": "The price is INF dollars.\nThe price is inf dollars.\n",
          "output_type": "stream"
        }
      ]
    },
    {
      "cell_type": "markdown",
      "source": ":g\t\tGeneral format",
      "metadata": {}
    },
    {
      "cell_type": "code",
      "source": ":G\t\tGeneral format (using a upper case E for scientific notations)",
      "metadata": {},
      "execution_count": null,
      "outputs": []
    },
    {
      "cell_type": "markdown",
      "source": ":o\t\tOctal format",
      "metadata": {}
    },
    {
      "cell_type": "code",
      "source": "#Use \"o\" to convert the number into octal format:\n\ntxt = \"The octal version of {0} is {0:o}\"\n\nprint(txt.format(10))",
      "metadata": {
        "trusted": true
      },
      "execution_count": 220,
      "outputs": [
        {
          "name": "stdout",
          "text": "The octal version of 10 is 12\n",
          "output_type": "stream"
        }
      ]
    },
    {
      "cell_type": "markdown",
      "source": ":x\t\tHex format, lower case",
      "metadata": {}
    },
    {
      "cell_type": "code",
      "source": "#Use \"x\" to convert the number into Hex format:\n\ntxt = \"The Hexadecimal version of {0} is {0:x}\"\n\nprint(txt.format(255))",
      "metadata": {
        "trusted": true
      },
      "execution_count": 221,
      "outputs": [
        {
          "name": "stdout",
          "text": "The Hexadecimal version of 255 is ff\n",
          "output_type": "stream"
        }
      ]
    },
    {
      "cell_type": "markdown",
      "source": ":X\t\tHex format, upper case",
      "metadata": {}
    },
    {
      "cell_type": "code",
      "source": "#Use \"X\" to convert the number into upper-case Hex format:\n\ntxt = \"The Hexadecimal version of {0} is {0:X}\"\n\nprint(txt.format(255))",
      "metadata": {
        "trusted": true
      },
      "execution_count": 222,
      "outputs": [
        {
          "name": "stdout",
          "text": "The Hexadecimal version of 255 is FF\n",
          "output_type": "stream"
        }
      ]
    },
    {
      "cell_type": "markdown",
      "source": ":n\t\tNumber format",
      "metadata": {}
    },
    {
      "cell_type": "markdown",
      "source": ":%\t\tPercentage format",
      "metadata": {}
    },
    {
      "cell_type": "code",
      "source": "#Use \"%\" to convert the number into a percentage format:\n\ntxt = \"You scored {:%}\"\nprint(txt.format(0.25))\n\n#Or, without any decimals:\n\ntxt = \"You scored {:.0%}\"\nprint(txt.format(0.25))",
      "metadata": {
        "trusted": true
      },
      "execution_count": 223,
      "outputs": [
        {
          "name": "stdout",
          "text": "You scored 25.000000%\nYou scored 25%\n",
          "output_type": "stream"
        }
      ]
    },
    {
      "cell_type": "markdown",
      "source": "format_map()\tFormats specified values in a string",
      "metadata": {}
    },
    {
      "cell_type": "markdown",
      "source": "index()\tSearches the string for a specified value and returns the position of where it was found",
      "metadata": {}
    },
    {
      "cell_type": "markdown",
      "source": "Where in the text is the word \"welcome\"?:",
      "metadata": {}
    },
    {
      "cell_type": "code",
      "source": "txt = \"Hello, welcome to my world.\"\n\nx = txt.index(\"welcome\")\n\nprint(x)",
      "metadata": {
        "trusted": true
      },
      "execution_count": 224,
      "outputs": [
        {
          "name": "stdout",
          "text": "7\n",
          "output_type": "stream"
        }
      ]
    },
    {
      "cell_type": "markdown",
      "source": "The index() method finds the first occurrence of the specified value.\n\nThe index() method raises an exception if the value is not found.\n\nThe index() method is almost the same as the find() method, the only difference is that the find() method returns -1 if the value is not found. (See example below)\n\n",
      "metadata": {}
    },
    {
      "cell_type": "code",
      "source": "txt = \"Hello, welcome to my world.\"\n\nx = txt.index(\"e\")\n\nprint(x)",
      "metadata": {
        "trusted": true
      },
      "execution_count": 225,
      "outputs": [
        {
          "name": "stdout",
          "text": "1\n",
          "output_type": "stream"
        }
      ]
    },
    {
      "cell_type": "markdown",
      "source": "isalnum()\tReturns True if all characters in the string are alphanumeric",
      "metadata": {}
    },
    {
      "cell_type": "code",
      "source": "txt = \"Company12\"\n\nx = txt.isalnum()\n\nprint(x)",
      "metadata": {
        "trusted": true
      },
      "execution_count": 226,
      "outputs": [
        {
          "name": "stdout",
          "text": "True\n",
          "output_type": "stream"
        }
      ]
    },
    {
      "cell_type": "markdown",
      "source": "The isalnum() method returns True if all the characters are alphanumeric, meaning alphabet letter (a-z) and numbers (0-9).\n\nExample of characters that are not alphanumeric: (space)!#%&? etc.",
      "metadata": {}
    },
    {
      "cell_type": "markdown",
      "source": "Check if all the characters in the text is alphanumeric:",
      "metadata": {}
    },
    {
      "cell_type": "code",
      "source": "txt = \"Company 12\"\n\nx = txt.isalnum()\n\nprint(x)",
      "metadata": {
        "trusted": true
      },
      "execution_count": 228,
      "outputs": [
        {
          "name": "stdout",
          "text": "False\n",
          "output_type": "stream"
        }
      ]
    },
    {
      "cell_type": "markdown",
      "source": "isalpha()\tReturns True if all characters in the string are in the alphabet",
      "metadata": {}
    },
    {
      "cell_type": "code",
      "source": "txt = \"CompanyX\"\n\nx = txt.isalpha()\n\nprint(x)",
      "metadata": {
        "trusted": true
      },
      "execution_count": 230,
      "outputs": [
        {
          "name": "stdout",
          "text": "True\n",
          "output_type": "stream"
        }
      ]
    },
    {
      "cell_type": "markdown",
      "source": "The isalpha() method returns True if all the characters are alphabet letters (a-z).\n\nExample of characters that are not alphabet letters: (space)!#%&? etc.",
      "metadata": {}
    },
    {
      "cell_type": "code",
      "source": "txt = \"Company10\"\n\nx = txt.isalpha()\n\nprint(x)",
      "metadata": {
        "trusted": true
      },
      "execution_count": 231,
      "outputs": [
        {
          "name": "stdout",
          "text": "False\n",
          "output_type": "stream"
        }
      ]
    },
    {
      "cell_type": "markdown",
      "source": "isdecimal()\tReturns True if all characters in the string are decimals",
      "metadata": {}
    },
    {
      "cell_type": "code",
      "source": "txt = \"\\u0033\" #unicode for 3\n\nx = txt.isdecimal()\n\nprint(x)",
      "metadata": {
        "trusted": true
      },
      "execution_count": 232,
      "outputs": [
        {
          "name": "stdout",
          "text": "True\n",
          "output_type": "stream"
        }
      ]
    },
    {
      "cell_type": "markdown",
      "source": "The isdecimal() method returns True if all the characters are decimals (0-9).\n\nThis method is used on unicode objects.",
      "metadata": {}
    },
    {
      "cell_type": "code",
      "source": "a = \"\\u0030\" #unicode for 0\nb = \"\\u0047\" #unicode for G\n\nprint(a.isdecimal())\nprint(b.isdecimal())",
      "metadata": {
        "trusted": true
      },
      "execution_count": 233,
      "outputs": [
        {
          "name": "stdout",
          "text": "True\nFalse\n",
          "output_type": "stream"
        }
      ]
    },
    {
      "cell_type": "markdown",
      "source": "isdigit()\tReturns True if all characters in the string are digits",
      "metadata": {}
    },
    {
      "cell_type": "code",
      "source": "txt = \"50800\"\n\nx = txt.isdigit()\n\nprint(x)",
      "metadata": {
        "trusted": true
      },
      "execution_count": 234,
      "outputs": [
        {
          "name": "stdout",
          "text": "True\n",
          "output_type": "stream"
        }
      ]
    },
    {
      "cell_type": "code",
      "source": "a = \"\\u0030\" #unicode for 0\nb = \"\\u00B2\" #unicode for ²\n\nprint(a.isdigit())\nprint(b.isdigit())",
      "metadata": {
        "trusted": true
      },
      "execution_count": 235,
      "outputs": [
        {
          "name": "stdout",
          "text": "True\nTrue\n",
          "output_type": "stream"
        }
      ]
    },
    {
      "cell_type": "markdown",
      "source": "isidentifier()\tReturns True if the string is an identifier",
      "metadata": {}
    },
    {
      "cell_type": "code",
      "source": "txt = \"Demo\"\n\nx = txt.isidentifier()\n\nprint(x)",
      "metadata": {
        "trusted": true
      },
      "execution_count": 236,
      "outputs": [
        {
          "name": "stdout",
          "text": "True\n",
          "output_type": "stream"
        }
      ]
    },
    {
      "cell_type": "markdown",
      "source": "The isidentifier() method returns True if the string is a valid identifier, otherwise False.\n\nA string is considered a valid identifier if it only contains alphanumeric letters (a-z) and (0-9), or underscores (_). A valid identifier cannot start with a number, or contain any spaces.\n\n",
      "metadata": {}
    },
    {
      "cell_type": "code",
      "source": "a = \"MyFolder\"\nb = \"Demo002\"\nc = \"2bring\"\nd = \"my demo\"\n\nprint(a.isidentifier())\nprint(b.isidentifier())\nprint(c.isidentifier())\nprint(d.isidentifier())",
      "metadata": {
        "trusted": true
      },
      "execution_count": 237,
      "outputs": [
        {
          "name": "stdout",
          "text": "True\nTrue\nFalse\nFalse\n",
          "output_type": "stream"
        }
      ]
    },
    {
      "cell_type": "markdown",
      "source": "islower()\tReturns True if all characters in the string are lower case",
      "metadata": {}
    },
    {
      "cell_type": "code",
      "source": "txt = \"hello world!\"\n\nx = txt.islower()\n\nprint(x)",
      "metadata": {
        "trusted": true
      },
      "execution_count": 238,
      "outputs": [
        {
          "name": "stdout",
          "text": "True\n",
          "output_type": "stream"
        }
      ]
    },
    {
      "cell_type": "markdown",
      "source": "The islower() method returns True if all the characters are in lower case, otherwise False.\n\nNumbers, symbols and spaces are not checked, only alphabet characters.",
      "metadata": {}
    },
    {
      "cell_type": "code",
      "source": "a = \"Hello world!\"\nb = \"hello 123\"\nc = \"mynameisPeter\"\n\nprint(a.islower())\nprint(b.islower())\nprint(c.islower())",
      "metadata": {
        "trusted": true
      },
      "execution_count": 239,
      "outputs": [
        {
          "name": "stdout",
          "text": "False\nTrue\nFalse\n",
          "output_type": "stream"
        }
      ]
    },
    {
      "cell_type": "markdown",
      "source": "isnumeric()\tReturns True if all characters in the string are numeric",
      "metadata": {}
    },
    {
      "cell_type": "code",
      "source": "txt = \"565543\"\n\nx = txt.isnumeric()\n\nprint(x)",
      "metadata": {
        "trusted": true
      },
      "execution_count": 240,
      "outputs": [
        {
          "name": "stdout",
          "text": "True\n",
          "output_type": "stream"
        }
      ]
    },
    {
      "cell_type": "markdown",
      "source": "The isnumeric() method returns True if all the characters are numeric (0-9), otherwise False.\n\nExponents, like ² and ¾ are also considered to be numeric values.\n\n\"-1\" and \"1.5\" are NOT considered numeric values, because all the characters in the string must be numeric, and the - and the . are not.",
      "metadata": {}
    },
    {
      "cell_type": "code",
      "source": "a = \"\\u0030\" #unicode for 0\nb = \"\\u00B2\" #unicode for &sup2;\nc = \"10km2\"\nd = \"-1\"\ne = \"1.5\"\n\nprint(a.isnumeric())\nprint(b.isnumeric())\nprint(c.isnumeric())\nprint(d.isnumeric())\nprint(e.isnumeric())",
      "metadata": {
        "trusted": true
      },
      "execution_count": 241,
      "outputs": [
        {
          "name": "stdout",
          "text": "True\nTrue\nFalse\nFalse\nFalse\n",
          "output_type": "stream"
        }
      ]
    },
    {
      "cell_type": "markdown",
      "source": "isprintable()\tReturns True if all characters in the string are printable",
      "metadata": {}
    },
    {
      "cell_type": "code",
      "source": "txt = \"Hello! Are you #1?\"\n\nx = txt.isprintable()\n\nprint(x)",
      "metadata": {
        "trusted": true
      },
      "execution_count": 242,
      "outputs": [
        {
          "name": "stdout",
          "text": "True\n",
          "output_type": "stream"
        }
      ]
    },
    {
      "cell_type": "markdown",
      "source": "The isprintable() method returns True if all the characters are printable, otherwise False.\n\nExample of none printable character can be carriage return and line feed.",
      "metadata": {}
    },
    {
      "cell_type": "code",
      "source": "txt = \"Hello!\\nAre you #1?\"\n\nx = txt.isprintable()\n\nprint(x)",
      "metadata": {
        "trusted": true
      },
      "execution_count": 243,
      "outputs": [
        {
          "name": "stdout",
          "text": "False\n",
          "output_type": "stream"
        }
      ]
    },
    {
      "cell_type": "markdown",
      "source": "isspace()\tReturns True if all characters in the string are whitespaces",
      "metadata": {}
    },
    {
      "cell_type": "code",
      "source": "txt = \"   \"\n\nx = txt.isspace()\n\nprint(x)",
      "metadata": {
        "trusted": true
      },
      "execution_count": 244,
      "outputs": [
        {
          "name": "stdout",
          "text": "True\n",
          "output_type": "stream"
        }
      ]
    },
    {
      "cell_type": "markdown",
      "source": "The isspace() method returns True if all the characters in a string are whitespaces, otherwise False.",
      "metadata": {}
    },
    {
      "cell_type": "code",
      "source": "txt = \"   s   \"\n\nx = txt.isspace()\n\nprint(x)",
      "metadata": {
        "trusted": true
      },
      "execution_count": 245,
      "outputs": [
        {
          "name": "stdout",
          "text": "False\n",
          "output_type": "stream"
        }
      ]
    },
    {
      "cell_type": "markdown",
      "source": "istitle()\tReturns True if the string follows the rules of a title",
      "metadata": {}
    },
    {
      "cell_type": "code",
      "source": "txt = \"Hello, And Welcome To My World!\"\n\nx = txt.istitle()\n\nprint(x)",
      "metadata": {
        "trusted": true
      },
      "execution_count": 247,
      "outputs": [
        {
          "name": "stdout",
          "text": "True\n",
          "output_type": "stream"
        }
      ]
    },
    {
      "cell_type": "markdown",
      "source": "The istitle() method returns True if all words in a text start with a upper case letter, AND the rest of the word are lower case letters, otherwise False.\n\nSymbols and numbers are ignored.",
      "metadata": {}
    },
    {
      "cell_type": "code",
      "source": "a = \"HELLO, AND WELCOME TO MY WORLD\"\nb = \"Hello\"\nc = \"22 Names\"\nd = \"This Is %'!?\"\n\nprint(a.istitle())\nprint(b.istitle())\nprint(c.istitle())\nprint(d.istitle())",
      "metadata": {
        "trusted": true
      },
      "execution_count": 248,
      "outputs": [
        {
          "name": "stdout",
          "text": "False\nTrue\nTrue\nTrue\n",
          "output_type": "stream"
        }
      ]
    },
    {
      "cell_type": "markdown",
      "source": "isupper() Returns True if all characters in the string are upper case",
      "metadata": {}
    },
    {
      "cell_type": "code",
      "source": "txt = \"THIS IS NOW!\"\n\nx = txt.isupper()\n\nprint(x)",
      "metadata": {
        "trusted": true
      },
      "execution_count": 249,
      "outputs": [
        {
          "name": "stdout",
          "text": "True\n",
          "output_type": "stream"
        }
      ]
    },
    {
      "cell_type": "markdown",
      "source": "he isupper() method returns True if all the characters are in upper case, otherwise False.\n\nNumbers, symbols and spaces are not checked, only alphabet characters.",
      "metadata": {}
    },
    {
      "cell_type": "code",
      "source": "a = \"Hello World!\"\nb = \"hello 123\"\nc = \"MY NAME IS PETER\"\n\nprint(a.isupper())\nprint(b.isupper())\nprint(c.isupper())",
      "metadata": {
        "trusted": true
      },
      "execution_count": 250,
      "outputs": [
        {
          "name": "stdout",
          "text": "False\nFalse\nTrue\n",
          "output_type": "stream"
        }
      ]
    },
    {
      "cell_type": "code",
      "source": "myTuple = (\"John\", \"Peter\", \"Vicky\")\n\nx = \"#\".join(myTuple)\n\nprint(x)",
      "metadata": {
        "trusted": true
      },
      "execution_count": 251,
      "outputs": [
        {
          "name": "stdout",
          "text": "John#Peter#Vicky\n",
          "output_type": "stream"
        }
      ]
    },
    {
      "cell_type": "markdown",
      "source": "The join() method takes all items in an iterable and joins them into one string.\n\nA string must be specified as the separator.",
      "metadata": {}
    },
    {
      "cell_type": "code",
      "source": "myDict = {\"name\": \"John\", \"country\": \"Norway\"}\nmySeparator = \"TEST\"\n\nx = mySeparator.join(myDict)\n\nprint(x)",
      "metadata": {
        "trusted": true
      },
      "execution_count": 252,
      "outputs": [
        {
          "name": "stdout",
          "text": "nameTESTcountry\n",
          "output_type": "stream"
        }
      ]
    },
    {
      "cell_type": "markdown",
      "source": "ljust()\tReturns a left justified version of the string",
      "metadata": {}
    },
    {
      "cell_type": "code",
      "source": "txt = \"banana\"\n\nx = txt.ljust(20)\n\nprint(x, \"is my favorite fruit.\")",
      "metadata": {
        "trusted": true
      },
      "execution_count": 254,
      "outputs": [
        {
          "name": "stdout",
          "text": "banana               is my favorite fruit.\n",
          "output_type": "stream"
        }
      ]
    },
    {
      "cell_type": "markdown",
      "source": "The ljust() method will left align the string, using a specified character (space is default) as the fill character.",
      "metadata": {}
    },
    {
      "cell_type": "code",
      "source": "txt = \"banana\"\n\nx = txt.ljust(20, \"O\")\n\nprint(x)",
      "metadata": {
        "trusted": true
      },
      "execution_count": 255,
      "outputs": [
        {
          "name": "stdout",
          "text": "bananaOOOOOOOOOOOOOO\n",
          "output_type": "stream"
        }
      ]
    },
    {
      "cell_type": "code",
      "source": "ljust()\tReturns a left justified version of the string",
      "metadata": {},
      "execution_count": null,
      "outputs": []
    },
    {
      "cell_type": "code",
      "source": "txt = \"banana\"\n\nx = txt.ljust(20)\n\nprint(x, \"is my favorite fruit.\")",
      "metadata": {
        "trusted": true
      },
      "execution_count": 256,
      "outputs": [
        {
          "name": "stdout",
          "text": "banana               is my favorite fruit.\n",
          "output_type": "stream"
        }
      ]
    },
    {
      "cell_type": "markdown",
      "source": "The ljust() method will left align the string, using a specified character (space is default) as the fill character.",
      "metadata": {}
    },
    {
      "cell_type": "code",
      "source": "txt = \"banana\"\n\nx = txt.ljust(20, \"O\")\n\nprint(x)",
      "metadata": {
        "trusted": true
      },
      "execution_count": 257,
      "outputs": [
        {
          "name": "stdout",
          "text": "bananaOOOOOOOOOOOOOO\n",
          "output_type": "stream"
        }
      ]
    },
    {
      "cell_type": "markdown",
      "source": "lower()\tConverts a string into lower case",
      "metadata": {}
    },
    {
      "cell_type": "code",
      "source": "txt = \"Hello my FRIENDS\"\n\nx = txt.lower()\n\nprint(x)",
      "metadata": {
        "trusted": true
      },
      "execution_count": 258,
      "outputs": [
        {
          "name": "stdout",
          "text": "hello my friends\n",
          "output_type": "stream"
        }
      ]
    },
    {
      "cell_type": "markdown",
      "source": "The lower() method returns a string where all characters are lower case.\n\n Symbols and Numbers are ignored.",
      "metadata": {}
    },
    {
      "cell_type": "markdown",
      "source": "lstrip()\tReturns a left trim version of the string",
      "metadata": {}
    },
    {
      "cell_type": "code",
      "source": "txt = \"     banana     \"\n\nx = txt.lstrip()\n\nprint(\"of all fruits\", x, \"is my favorite\")",
      "metadata": {
        "trusted": true
      },
      "execution_count": 259,
      "outputs": [
        {
          "name": "stdout",
          "text": "of all fruits banana      is my favorite\n",
          "output_type": "stream"
        }
      ]
    },
    {
      "cell_type": "markdown",
      "source": "he lstrip() method removes any leading characters (space is the default leading character to remove)",
      "metadata": {}
    },
    {
      "cell_type": "code",
      "source": "txt = \",,,,,ssaaww.....banana\"\n\nx = txt.lstrip(\",.asw\")\n\nprint(x)",
      "metadata": {
        "trusted": true
      },
      "execution_count": 260,
      "outputs": [
        {
          "name": "stdout",
          "text": "banana\n",
          "output_type": "stream"
        }
      ]
    },
    {
      "cell_type": "markdown",
      "source": "maketrans()\tReturns a translation table to be used in translations",
      "metadata": {}
    },
    {
      "cell_type": "markdown",
      "source": "Create a mapping table, and use it in the translate() method to replace any \"S\" characters with a \"P\" character:",
      "metadata": {}
    },
    {
      "cell_type": "code",
      "source": "txt = \"Hello Sam!\"\nmytable = txt.maketrans(\"S\", \"P\")\nprint(txt.translate(mytable))",
      "metadata": {
        "trusted": true
      },
      "execution_count": 261,
      "outputs": [
        {
          "name": "stdout",
          "text": "Hello Pam!\n",
          "output_type": "stream"
        }
      ]
    },
    {
      "cell_type": "markdown",
      "source": "The maketrans() method returns a mapping table that can be used with the translate() method to replace specified characters.",
      "metadata": {}
    },
    {
      "cell_type": "code",
      "source": "txt = \"Hi Sam!\"\nx = \"mSa\"\ny = \"eJo\"\nmytable = txt.maketrans(x, y)\nprint(txt.translate(mytable))",
      "metadata": {
        "trusted": true
      },
      "execution_count": 262,
      "outputs": [
        {
          "name": "stdout",
          "text": "Hi Joe!\n",
          "output_type": "stream"
        }
      ]
    },
    {
      "cell_type": "code",
      "source": "txt = \"Good night Sam!\"\nx = \"mSa\"\ny = \"eJo\"\nz = \"odnght\"\nmytable = txt.maketrans(x, y, z)\nprint(txt.translate(mytable))",
      "metadata": {
        "trusted": true
      },
      "execution_count": 263,
      "outputs": [
        {
          "name": "stdout",
          "text": "G i Joe!\n",
          "output_type": "stream"
        }
      ]
    },
    {
      "cell_type": "code",
      "source": "txt = \"Good night Sam!\"\nx = \"mSa\"\ny = \"eJo\"\nz = \"odnght\"\nprint(txt.maketrans(x, y, z))",
      "metadata": {
        "trusted": true
      },
      "execution_count": 264,
      "outputs": [
        {
          "name": "stdout",
          "text": "{109: 101, 83: 74, 97: 111, 111: None, 100: None, 110: None, 103: None, 104: None, 116: None}\n",
          "output_type": "stream"
        }
      ]
    },
    {
      "cell_type": "markdown",
      "source": "partition()\tReturns a tuple where the string is parted into three parts",
      "metadata": {}
    },
    {
      "cell_type": "markdown",
      "source": "Search for the word \"bananas\", and return a tuple with three elements:\n\n1 - everything before the \"match\"\n\n2 - the \"match\"\n\n3 - everything after the \"match\"",
      "metadata": {}
    },
    {
      "cell_type": "code",
      "source": "txt = \"I could eat bananas all day\"\n\nx = txt.partition(\"bananas\")\n\nprint(x)",
      "metadata": {
        "trusted": true
      },
      "execution_count": 265,
      "outputs": [
        {
          "name": "stdout",
          "text": "('I could eat ', 'bananas', ' all day')\n",
          "output_type": "stream"
        }
      ]
    },
    {
      "cell_type": "markdown",
      "source": "The partition() method searches for a specified string, and splits the string into a tuple containing three elements.\n\nThe first element contains the part before the specified string.\n\nThe second element contains the specified string.\n\nThe third element contains the part after the string.",
      "metadata": {}
    },
    {
      "cell_type": "markdown",
      "source": "If the specified value is not found, the partition() method returns a tuple containing: 1 - the whole string, 2 - an empty string, 3 - an empty string:",
      "metadata": {}
    },
    {
      "cell_type": "code",
      "source": "txt = \"I could eat bananas all day\"\n\nx = txt.partition(\"apples\")\n\nprint(x)",
      "metadata": {
        "trusted": true
      },
      "execution_count": 266,
      "outputs": [
        {
          "name": "stdout",
          "text": "('I could eat bananas all day', '', '')\n",
          "output_type": "stream"
        }
      ]
    },
    {
      "cell_type": "markdown",
      "source": "replace()\tReturns a string where a specified value is replaced with a specified value",
      "metadata": {}
    },
    {
      "cell_type": "code",
      "source": "txt = \"I like bananas\"\n\nx = txt.replace(\"bananas\", \"apples\")\n\nprint(x)",
      "metadata": {
        "trusted": true
      },
      "execution_count": 268,
      "outputs": [
        {
          "name": "stdout",
          "text": "I like apples\n",
          "output_type": "stream"
        }
      ]
    },
    {
      "cell_type": "markdown",
      "source": "The replace() method replaces a specified phrase with another specified phrase.",
      "metadata": {}
    },
    {
      "cell_type": "code",
      "source": "txt = \"one one was a race horse, two two was one too.\"\n\nx = txt.replace(\"one\", \"three\")\n\nprint(x)",
      "metadata": {
        "trusted": true
      },
      "execution_count": 269,
      "outputs": [
        {
          "name": "stdout",
          "text": "three three was a race horse, two two was three too.\n",
          "output_type": "stream"
        }
      ]
    },
    {
      "cell_type": "code",
      "source": "txt = \"one one was a race horse, two two was one too.\"\n\nx = txt.replace(\"one\", \"three\", 2)\n\nprint(x)",
      "metadata": {
        "trusted": true
      },
      "execution_count": 270,
      "outputs": [
        {
          "name": "stdout",
          "text": "three three was a race horse, two two was one too.\n",
          "output_type": "stream"
        }
      ]
    },
    {
      "cell_type": "markdown",
      "source": "rfind()\tSearches the string for a specified value and returns the last position of where it was found\n\nrindex()\tSearches the string for a specified value and returns the last position of where it was found",
      "metadata": {}
    },
    {
      "cell_type": "code",
      "source": "txt = \"Mi casa, su casa.\"\n\nx = txt.rfind(\"casa\")\n\nprint(x)",
      "metadata": {
        "trusted": true
      },
      "execution_count": 271,
      "outputs": [
        {
          "name": "stdout",
          "text": "12\n",
          "output_type": "stream"
        }
      ]
    },
    {
      "cell_type": "markdown",
      "source": "The rfind() method finds the last occurrence of the specified value.\n\nThe rfind() method returns -1 if the value is not found.\n\nThe rfind() method is almost the same as the rindex() method. See example below.",
      "metadata": {}
    },
    {
      "cell_type": "markdown",
      "source": "Where in the text is the last occurrence of the letter \"e\"?:",
      "metadata": {}
    },
    {
      "cell_type": "code",
      "source": "txt = \"Hello, welcome to my world.\"\n\nx = txt.rfind(\"e\")\n\nprint(x)",
      "metadata": {
        "trusted": true
      },
      "execution_count": 272,
      "outputs": [
        {
          "name": "stdout",
          "text": "13\n",
          "output_type": "stream"
        }
      ]
    },
    {
      "cell_type": "markdown",
      "source": "Where in the text is the last occurrence of the letter \"e\" when you only search between position 5 and 10?",
      "metadata": {}
    },
    {
      "cell_type": "code",
      "source": "txt = \"Hello, welcome to my world.\"\n\nx = txt.rfind(\"e\", 5, 10)\n\nprint(x)",
      "metadata": {
        "trusted": true
      },
      "execution_count": 273,
      "outputs": [
        {
          "name": "stdout",
          "text": "8\n",
          "output_type": "stream"
        }
      ]
    },
    {
      "cell_type": "markdown",
      "source": "If the value is not found, the rfind() method returns -1, but the rindex() method will raise an exception:",
      "metadata": {}
    },
    {
      "cell_type": "code",
      "source": "txt = \"Hello, welcome to my world.\"\n\nprint(txt.rfind(\"q\"))\nprint(txt.rindex(\"q\"))",
      "metadata": {
        "trusted": true
      },
      "execution_count": 275,
      "outputs": [
        {
          "name": "stdout",
          "text": "-1\n",
          "output_type": "stream"
        },
        {
          "ename": "<class 'ValueError'>",
          "evalue": "substring not found",
          "traceback": [
            "\u001b[0;31m---------------------------------------------------------------------------\u001b[0m",
            "\u001b[0;31mValueError\u001b[0m                                Traceback (most recent call last)",
            "Cell \u001b[0;32mIn [275], line 4\u001b[0m\n\u001b[1;32m      1\u001b[0m txt \u001b[38;5;241m=\u001b[39m \u001b[38;5;124m\"\u001b[39m\u001b[38;5;124mHello, welcome to my world.\u001b[39m\u001b[38;5;124m\"\u001b[39m\n\u001b[1;32m      3\u001b[0m \u001b[38;5;28mprint\u001b[39m(txt\u001b[38;5;241m.\u001b[39mrfind(\u001b[38;5;124m\"\u001b[39m\u001b[38;5;124mq\u001b[39m\u001b[38;5;124m\"\u001b[39m))\n\u001b[0;32m----> 4\u001b[0m \u001b[38;5;28mprint\u001b[39m(\u001b[43mtxt\u001b[49m\u001b[38;5;241;43m.\u001b[39;49m\u001b[43mrindex\u001b[49m\u001b[43m(\u001b[49m\u001b[38;5;124;43m\"\u001b[39;49m\u001b[38;5;124;43mq\u001b[39;49m\u001b[38;5;124;43m\"\u001b[39;49m\u001b[43m)\u001b[49m)\n",
            "\u001b[0;31mValueError\u001b[0m: substring not found"
          ],
          "output_type": "error"
        }
      ]
    },
    {
      "cell_type": "markdown",
      "source": "The rfind() method finds the last occurrence of the specified value.\n\nThe rfind() method returns -1 if the value is not found.\n\nThe rfind() method is almost the same as the rindex() method. See example below.",
      "metadata": {}
    },
    {
      "cell_type": "markdown",
      "source": "rjust()\tReturns a right justified version of the string",
      "metadata": {}
    },
    {
      "cell_type": "markdown",
      "source": "Return a 20 characters long, right justified version of the word \"banana\":",
      "metadata": {}
    },
    {
      "cell_type": "code",
      "source": "txt = \"banana\"\n\nx = txt.rjust(20)\n\nprint(x, \"is my favorite fruit.\")",
      "metadata": {
        "trusted": true
      },
      "execution_count": 279,
      "outputs": [
        {
          "name": "stdout",
          "text": "              banana is my favorite fruit.\n",
          "output_type": "stream"
        }
      ]
    },
    {
      "cell_type": "markdown",
      "source": "The rjust() method will right align the string, using a specified character (space is default) as the fill character.",
      "metadata": {}
    },
    {
      "cell_type": "code",
      "source": "txt = \"banana\"\n\nx = txt.rjust(20, \"O\")\n\nprint(x)",
      "metadata": {
        "trusted": true
      },
      "execution_count": 281,
      "outputs": [
        {
          "name": "stdout",
          "text": "OOOOOOOOOOOOOObanana\n",
          "output_type": "stream"
        }
      ]
    },
    {
      "cell_type": "markdown",
      "source": "rpartition()\tReturns a tuple where the string is parted into three parts",
      "metadata": {}
    },
    {
      "cell_type": "markdown",
      "source": "Search for the last occurrence of the word \"bananas\", and return a tuple with three elements:\n\n1 - everything before the \"match\"\n2 - the \"match\"\n3 - everything after the \"match\"",
      "metadata": {}
    },
    {
      "cell_type": "code",
      "source": "txt = \"I could eat bananas all day, bananas are my favorite fruit\"\n\nx = txt.rpartition(\"bananas\")\n\nprint(x)",
      "metadata": {
        "trusted": true
      },
      "execution_count": 282,
      "outputs": [
        {
          "name": "stdout",
          "text": "('I could eat bananas all day, ', 'bananas', ' are my favorite fruit')\n",
          "output_type": "stream"
        }
      ]
    },
    {
      "cell_type": "markdown",
      "source": "The rpartition() method searches for the last occurrence of a specified string, and splits the string into a tuple containing three elements.\n\nThe first element contains the part before the specified string.\n\nThe second element contains the specified string.\n\nThe third element contains the part after the string.",
      "metadata": {}
    },
    {
      "cell_type": "markdown",
      "source": "If the specified value is not found, the rpartition() method returns a tuple containing: 1 - an empty string, 2 - an empty string, 3 - the whole string:",
      "metadata": {}
    },
    {
      "cell_type": "code",
      "source": "txt = \"I could eat bananas all day, bananas are my favorite fruit\"\n\nx = txt.rpartition(\"apples\")\n\nprint(x)",
      "metadata": {
        "trusted": true
      },
      "execution_count": 283,
      "outputs": [
        {
          "name": "stdout",
          "text": "('', '', 'I could eat bananas all day, bananas are my favorite fruit')\n",
          "output_type": "stream"
        }
      ]
    },
    {
      "cell_type": "markdown",
      "source": "rsplit()\tSplits the string at the specified separator, and returns a list",
      "metadata": {}
    },
    {
      "cell_type": "code",
      "source": "txt = \"apple, banana, cherry\"\n\nx = txt.rsplit(\", \")\n\nprint(x)",
      "metadata": {
        "trusted": true
      },
      "execution_count": 284,
      "outputs": [
        {
          "name": "stdout",
          "text": "['apple', 'banana', 'cherry']\n",
          "output_type": "stream"
        }
      ]
    },
    {
      "cell_type": "code",
      "source": "txt = \"apple, banana, cherry\"\n\n# setting the maxsplit parameter to 1, will return a list with 2 elements!\nx = txt.rsplit(\", \", 1)\n\nprint(x)",
      "metadata": {
        "trusted": true
      },
      "execution_count": 285,
      "outputs": [
        {
          "name": "stdout",
          "text": "['apple, banana', 'cherry']\n",
          "output_type": "stream"
        }
      ]
    },
    {
      "cell_type": "markdown",
      "source": "Split a string into a list, using comma, followed by a space (, ) as the separator:",
      "metadata": {}
    },
    {
      "cell_type": "code",
      "source": "txt = \"apple, banana, cherry\"\n\nx = txt.rsplit(\", \")\n\nprint(x)",
      "metadata": {
        "trusted": true
      },
      "execution_count": 286,
      "outputs": [
        {
          "name": "stdout",
          "text": "['apple', 'banana', 'cherry']\n",
          "output_type": "stream"
        }
      ]
    },
    {
      "cell_type": "markdown",
      "source": "The rsplit() method splits a string into a list, starting from the right.\n\nIf no \"max\" is specified, this method will return the same as the split() method.",
      "metadata": {}
    },
    {
      "cell_type": "code",
      "source": "txt = \"apple, banana, cherry\"\n\n# setting the maxsplit parameter to 1, will return a list with 2 elements!\nx = txt.rsplit(\", \", 1)\n\nprint(x)",
      "metadata": {
        "trusted": true
      },
      "execution_count": 287,
      "outputs": [
        {
          "name": "stdout",
          "text": "['apple, banana', 'cherry']\n",
          "output_type": "stream"
        }
      ]
    },
    {
      "cell_type": "markdown",
      "source": "rstrip()\tReturns a right trim version of the string",
      "metadata": {}
    },
    {
      "cell_type": "markdown",
      "source": "Remove any white spaces at the end of the string:",
      "metadata": {}
    },
    {
      "cell_type": "code",
      "source": "txt = \"     banana     \"\n\nx = txt.rstrip()\n\nprint(\"of all fruits\", x, \"is my favorite\")",
      "metadata": {
        "trusted": true
      },
      "execution_count": 289,
      "outputs": [
        {
          "name": "stdout",
          "text": "of all fruits      banana is my favorite\n",
          "output_type": "stream"
        }
      ]
    },
    {
      "cell_type": "markdown",
      "source": "The rstrip() method removes any trailing characters (characters at the end a string), space is the default trailing character to remove.",
      "metadata": {}
    },
    {
      "cell_type": "markdown",
      "source": "Remove the trailing characters if they are commas, s, q, or w:",
      "metadata": {}
    },
    {
      "cell_type": "code",
      "source": "txt = \"banana,,,,,ssqqqww.....\"\n\nx = txt.rstrip(\",.qsw\")\n\nprint(x)",
      "metadata": {
        "trusted": true
      },
      "execution_count": 290,
      "outputs": [
        {
          "name": "stdout",
          "text": "banana\n",
          "output_type": "stream"
        }
      ]
    },
    {
      "cell_type": "markdown",
      "source": "split()\tSplits the string at the specified separator, and returns a list",
      "metadata": {}
    },
    {
      "cell_type": "code",
      "source": "txt = \"welcome to the jungle\"\n\nx = txt.split()\n\nprint(x)",
      "metadata": {
        "trusted": true
      },
      "execution_count": 291,
      "outputs": [
        {
          "name": "stdout",
          "text": "['welcome', 'to', 'the', 'jungle']\n",
          "output_type": "stream"
        }
      ]
    },
    {
      "cell_type": "markdown",
      "source": "The split() method splits a string into a list.\n\nYou can specify the separator, default separator is any whitespace.",
      "metadata": {}
    },
    {
      "cell_type": "markdown",
      "source": "Split the string, using comma, followed by a space, as a separator:",
      "metadata": {}
    },
    {
      "cell_type": "code",
      "source": "txt = \"hello, my name is Peter, I am 26 years old\"\n\nx = txt.split(\", \")\n\nprint(x)",
      "metadata": {
        "trusted": true
      },
      "execution_count": 292,
      "outputs": [
        {
          "name": "stdout",
          "text": "['hello', 'my name is Peter', 'I am 26 years old']\n",
          "output_type": "stream"
        }
      ]
    },
    {
      "cell_type": "markdown",
      "source": "Use a hash character as a separator:",
      "metadata": {}
    },
    {
      "cell_type": "code",
      "source": "txt = \"apple#banana#cherry#orange\"\n\nx = txt.split(\"#\")\n\nprint(x)",
      "metadata": {
        "trusted": true
      },
      "execution_count": 293,
      "outputs": [
        {
          "name": "stdout",
          "text": "['apple', 'banana', 'cherry', 'orange']\n",
          "output_type": "stream"
        }
      ]
    },
    {
      "cell_type": "markdown",
      "source": "Split the string into a list with max 2 items:",
      "metadata": {}
    },
    {
      "cell_type": "code",
      "source": "txt = \"apple#banana#cherry#orange\"\n\n# setting the maxsplit parameter to 1, will return a list with 2 elements!\nx = txt.split(\"#\", 1)\n\nprint(x)",
      "metadata": {
        "trusted": true
      },
      "execution_count": 294,
      "outputs": [
        {
          "name": "stdout",
          "text": "['apple', 'banana#cherry#orange']\n",
          "output_type": "stream"
        }
      ]
    },
    {
      "cell_type": "markdown",
      "source": "splitlines()\tSplits the string at line breaks and returns a list",
      "metadata": {}
    },
    {
      "cell_type": "markdown",
      "source": "Split a string into a list where each line is a list item:",
      "metadata": {}
    },
    {
      "cell_type": "code",
      "source": "txt = \"Thank you for the music\\nWelcome to the jungle\"\n\nx = txt.splitlines()\n\nprint(x)",
      "metadata": {
        "trusted": true
      },
      "execution_count": 295,
      "outputs": [
        {
          "name": "stdout",
          "text": "['Thank you for the music', 'Welcome to the jungle']\n",
          "output_type": "stream"
        }
      ]
    },
    {
      "cell_type": "markdown",
      "source": "The splitlines() method splits a string into a list. The splitting is done at line breaks.",
      "metadata": {}
    },
    {
      "cell_type": "code",
      "source": "txt = \"Thank you for the music\\nWelcome to the jungle\"\n\nx = txt.splitlines(True)\n\nprint(x)",
      "metadata": {
        "trusted": true
      },
      "execution_count": 296,
      "outputs": [
        {
          "name": "stdout",
          "text": "['Thank you for the music\\n', 'Welcome to the jungle']\n",
          "output_type": "stream"
        }
      ]
    },
    {
      "cell_type": "markdown",
      "source": "startswith()\tReturns true if the string starts with the specified value",
      "metadata": {}
    },
    {
      "cell_type": "code",
      "source": "txt = \"Hello, welcome to my world.\"\n\nx = txt.startswith(\"Hello\")\n\nprint(x)",
      "metadata": {
        "trusted": true
      },
      "execution_count": 297,
      "outputs": [
        {
          "name": "stdout",
          "text": "True\n",
          "output_type": "stream"
        }
      ]
    },
    {
      "cell_type": "markdown",
      "source": "The startswith() method returns True if the string starts with the specified value, otherwise False.\n\n",
      "metadata": {}
    },
    {
      "cell_type": "code",
      "source": "txt = \"Hello, welcome to my world.\"\n\nx = txt.startswith(\"wel\", 7, 20)\n\nprint(x)",
      "metadata": {
        "trusted": true
      },
      "execution_count": 298,
      "outputs": [
        {
          "name": "stdout",
          "text": "True\n",
          "output_type": "stream"
        }
      ]
    },
    {
      "cell_type": "markdown",
      "source": "strip()\tReturns a trimmed version of the string",
      "metadata": {}
    },
    {
      "cell_type": "code",
      "source": "txt = \"     banana     \"\n\nx = txt.strip()\n\nprint(\"of all fruits\", x, \"is my favorite\")",
      "metadata": {
        "trusted": true
      },
      "execution_count": 299,
      "outputs": [
        {
          "name": "stdout",
          "text": "of all fruits banana is my favorite\n",
          "output_type": "stream"
        }
      ]
    },
    {
      "cell_type": "markdown",
      "source": "The strip() method removes any leading (spaces at the beginning) and trailing (spaces at the end) characters (space is the default leading character to remove)",
      "metadata": {}
    },
    {
      "cell_type": "markdown",
      "source": "Remove the leading and trailing characters:",
      "metadata": {}
    },
    {
      "cell_type": "code",
      "source": "txt = \",,,,,rrttgg.....banana....rrr\"\n\nx = txt.strip(\",.grt\")\n\nprint(x)",
      "metadata": {
        "trusted": true
      },
      "execution_count": 301,
      "outputs": [
        {
          "name": "stdout",
          "text": "banana\n",
          "output_type": "stream"
        }
      ]
    },
    {
      "cell_type": "markdown",
      "source": "swapcase()\tSwaps cases, lower case becomes upper case and vice versa",
      "metadata": {}
    },
    {
      "cell_type": "markdown",
      "source": "Make the lower case letters upper case and the upper case letters lower case:",
      "metadata": {}
    },
    {
      "cell_type": "code",
      "source": "txt = \"Hello My Name Is PETER\"\n\nx = txt.swapcase()\n\nprint(x)",
      "metadata": {
        "trusted": true
      },
      "execution_count": 302,
      "outputs": [
        {
          "name": "stdout",
          "text": "hELLO mY nAME iS peter\n",
          "output_type": "stream"
        }
      ]
    },
    {
      "cell_type": "markdown",
      "source": "The swapcase() method returns a string where all the upper case letters are lower case and vice versa.",
      "metadata": {}
    },
    {
      "cell_type": "markdown",
      "source": "title()\tConverts the first character of each word to upper case",
      "metadata": {}
    },
    {
      "cell_type": "code",
      "source": "txt = \"Welcome to my world\"\n\nx = txt.title()\n\nprint(x)",
      "metadata": {
        "trusted": true
      },
      "execution_count": 303,
      "outputs": [
        {
          "name": "stdout",
          "text": "Welcome To My World\n",
          "output_type": "stream"
        }
      ]
    },
    {
      "cell_type": "markdown",
      "source": "The title() method returns a string where the first character in every word is upper case. Like a header, or a title.\n\nIf the word contains a number or a symbol, the first letter after that will be converted to upper case.",
      "metadata": {}
    },
    {
      "cell_type": "markdown",
      "source": "Make the first letter in each word upper case:",
      "metadata": {}
    },
    {
      "cell_type": "code",
      "source": "txt = \"Welcome to my 2nd world\"\n\nx = txt.title()\n\nprint(x)",
      "metadata": {
        "trusted": true
      },
      "execution_count": 305,
      "outputs": [
        {
          "name": "stdout",
          "text": "Welcome To My 2Nd World\n",
          "output_type": "stream"
        }
      ]
    },
    {
      "cell_type": "code",
      "source": "txt = \"hello b2b2b2 and 3g3g3g\"\n\nx = txt.title()\n\nprint(x)",
      "metadata": {
        "trusted": true
      },
      "execution_count": 306,
      "outputs": [
        {
          "name": "stdout",
          "text": "Hello B2B2B2 And 3G3G3G\n",
          "output_type": "stream"
        }
      ]
    },
    {
      "cell_type": "markdown",
      "source": "translate()\tReturns a translated string",
      "metadata": {}
    },
    {
      "cell_type": "markdown",
      "source": "Replace any \"S\" characters with a \"P\" character:",
      "metadata": {}
    },
    {
      "cell_type": "code",
      "source": "#use a dictionary with ascii codes to replace 83 (S) with 80 (P):\nmydict = {83:  80}\ntxt = \"Hello Sam!\"\nprint(txt.translate(mydict))",
      "metadata": {
        "trusted": true
      },
      "execution_count": 307,
      "outputs": [
        {
          "name": "stdout",
          "text": "Hello Pam!\n",
          "output_type": "stream"
        }
      ]
    },
    {
      "cell_type": "markdown",
      "source": "The translate() method returns a string where some specified characters are replaced with the character described in a dictionary, or in a mapping table.\n\nUse the maketrans() method to create a mapping table.\n\nIf a character is not specified in the dictionary/table, the character will not be replaced.\n\nIf you use a dictionary, you must use ascii codes instead of characters.",
      "metadata": {}
    },
    {
      "cell_type": "code",
      "source": "txt = \"Hello Sam!\"\nmytable = txt.maketrans(\"S\", \"P\")\nprint(txt.translate(mytable))",
      "metadata": {
        "trusted": true
      },
      "execution_count": 308,
      "outputs": [
        {
          "name": "stdout",
          "text": "Hello Pam!\n",
          "output_type": "stream"
        }
      ]
    },
    {
      "cell_type": "code",
      "source": "txt = \"Hi Sam!\"\nx = \"mSa\"\ny = \"eJo\"\nmytable = txt.maketrans(x, y)\nprint(txt.translate(mytable))",
      "metadata": {
        "trusted": true
      },
      "execution_count": 309,
      "outputs": [
        {
          "name": "stdout",
          "text": "Hi Joe!\n",
          "output_type": "stream"
        }
      ]
    },
    {
      "cell_type": "code",
      "source": "txt = \"Good night Sam!\"\nx = \"mSa\"\ny = \"eJo\"\nz = \"odnght\"\nmytable = txt.maketrans(x, y, z)\nprint(txt.translate(mytable))",
      "metadata": {
        "trusted": true
      },
      "execution_count": 310,
      "outputs": [
        {
          "name": "stdout",
          "text": "G i Joe!\n",
          "output_type": "stream"
        }
      ]
    },
    {
      "cell_type": "code",
      "source": "txt = \"Good night Sam!\"\nmydict = {109: 101, 83: 74, 97: 111, 111: None, 100: None, 110: None, 103: None, 104: None, 116: None}\nprint(txt.translate(mydict))",
      "metadata": {
        "trusted": true
      },
      "execution_count": 311,
      "outputs": [
        {
          "name": "stdout",
          "text": "G i Joe!\n",
          "output_type": "stream"
        }
      ]
    },
    {
      "cell_type": "markdown",
      "source": "upper()\tConverts a string into upper case",
      "metadata": {}
    },
    {
      "cell_type": "code",
      "source": "txt = \"Hello my friends\"\n\nx = txt.upper()\n\nprint(x)",
      "metadata": {
        "trusted": true
      },
      "execution_count": 312,
      "outputs": [
        {
          "name": "stdout",
          "text": "HELLO MY FRIENDS\n",
          "output_type": "stream"
        }
      ]
    },
    {
      "cell_type": "markdown",
      "source": "The upper() method returns a string where all characters are in upper case.\n\n Symbols and Numbers are ignored.",
      "metadata": {}
    },
    {
      "cell_type": "markdown",
      "source": "zfill()\tFills the string with a specified number of 0 values at the beginning",
      "metadata": {}
    },
    {
      "cell_type": "code",
      "source": "Fill the string with zeros until it is 10 characters long:",
      "metadata": {},
      "execution_count": null,
      "outputs": []
    },
    {
      "cell_type": "code",
      "source": "txt = \"50\"\n\nx = txt.zfill(10)\n\nprint(x)",
      "metadata": {
        "trusted": true
      },
      "execution_count": 313,
      "outputs": [
        {
          "name": "stdout",
          "text": "0000000050\n",
          "output_type": "stream"
        }
      ]
    },
    {
      "cell_type": "markdown",
      "source": "he zfill() method adds zeros (0) at the beginning of the string, until it reaches the specified length.\n\nIf the value of the len parameter is less than the length of the string, no filling is done.",
      "metadata": {}
    },
    {
      "cell_type": "markdown",
      "source": "Fill the strings with zeros until they are 10 characters long:",
      "metadata": {}
    },
    {
      "cell_type": "code",
      "source": "a = \"hello\"\nb = \"welcome to the jungle\"\nc = \"10.000\"\n\nprint(a.zfill(10))\nprint(b.zfill(10))\nprint(c.zfill(10))",
      "metadata": {
        "trusted": true
      },
      "execution_count": 315,
      "outputs": [
        {
          "name": "stdout",
          "text": "00000hello\nwelcome to the jungle\n000010.000\n",
          "output_type": "stream"
        }
      ]
    },
    {
      "cell_type": "code",
      "source": "",
      "metadata": {},
      "execution_count": null,
      "outputs": []
    },
    {
      "cell_type": "markdown",
      "source": "# 2. **Bullion** - \n\nBullion express true or false. If there is something in the bracket true if not false.",
      "metadata": {}
    },
    {
      "cell_type": "code",
      "source": "print(10 > 9)",
      "metadata": {
        "trusted": true
      },
      "execution_count": 15,
      "outputs": [
        {
          "name": "stdout",
          "text": "True\n",
          "output_type": "stream"
        }
      ]
    },
    {
      "cell_type": "code",
      "source": "print(10 == 9)",
      "metadata": {
        "trusted": true
      },
      "execution_count": 16,
      "outputs": [
        {
          "name": "stdout",
          "text": "False\n",
          "output_type": "stream"
        }
      ]
    },
    {
      "cell_type": "code",
      "source": "print(10 < 9)",
      "metadata": {
        "trusted": true
      },
      "execution_count": 17,
      "outputs": [
        {
          "name": "stdout",
          "text": "False\n",
          "output_type": "stream"
        }
      ]
    },
    {
      "cell_type": "code",
      "source": "print(bool(\"Hello\"))",
      "metadata": {
        "trusted": true
      },
      "execution_count": 19,
      "outputs": [
        {
          "name": "stdout",
          "text": "True\n",
          "output_type": "stream"
        }
      ]
    },
    {
      "cell_type": "code",
      "source": "print(bool(15))",
      "metadata": {
        "trusted": true
      },
      "execution_count": 20,
      "outputs": [
        {
          "name": "stdout",
          "text": "True\n",
          "output_type": "stream"
        }
      ]
    },
    {
      "cell_type": "code",
      "source": "x = \"Hello\"\ny = 15\n\nprint(bool(x))",
      "metadata": {
        "trusted": true
      },
      "execution_count": 21,
      "outputs": [
        {
          "name": "stdout",
          "text": "True\n",
          "output_type": "stream"
        }
      ]
    },
    {
      "cell_type": "code",
      "source": "print(bool(y))",
      "metadata": {
        "trusted": true
      },
      "execution_count": 22,
      "outputs": [
        {
          "name": "stdout",
          "text": "True\n",
          "output_type": "stream"
        }
      ]
    },
    {
      "cell_type": "code",
      "source": "bool(\"abc\")",
      "metadata": {
        "trusted": true
      },
      "execution_count": 23,
      "outputs": [
        {
          "execution_count": 23,
          "output_type": "execute_result",
          "data": {
            "text/plain": "True"
          },
          "metadata": {}
        }
      ]
    },
    {
      "cell_type": "code",
      "source": "bool(123)",
      "metadata": {
        "trusted": true
      },
      "execution_count": 24,
      "outputs": [
        {
          "execution_count": 24,
          "output_type": "execute_result",
          "data": {
            "text/plain": "True"
          },
          "metadata": {}
        }
      ]
    },
    {
      "cell_type": "code",
      "source": "bool([\"apple\", \"cherry\", \"banana\"])",
      "metadata": {
        "trusted": true
      },
      "execution_count": 25,
      "outputs": [
        {
          "execution_count": 25,
          "output_type": "execute_result",
          "data": {
            "text/plain": "True"
          },
          "metadata": {}
        }
      ]
    },
    {
      "cell_type": "code",
      "source": "bool(False)",
      "metadata": {
        "trusted": true
      },
      "execution_count": 26,
      "outputs": [
        {
          "execution_count": 26,
          "output_type": "execute_result",
          "data": {
            "text/plain": "False"
          },
          "metadata": {}
        }
      ]
    },
    {
      "cell_type": "code",
      "source": "bool(None)",
      "metadata": {
        "trusted": true
      },
      "execution_count": 27,
      "outputs": [
        {
          "execution_count": 27,
          "output_type": "execute_result",
          "data": {
            "text/plain": "False"
          },
          "metadata": {}
        }
      ]
    },
    {
      "cell_type": "code",
      "source": "bool(0)",
      "metadata": {
        "trusted": true
      },
      "execution_count": 28,
      "outputs": [
        {
          "execution_count": 28,
          "output_type": "execute_result",
          "data": {
            "text/plain": "False"
          },
          "metadata": {}
        }
      ]
    },
    {
      "cell_type": "code",
      "source": "bool(\"\")",
      "metadata": {
        "trusted": true
      },
      "execution_count": 29,
      "outputs": [
        {
          "execution_count": 29,
          "output_type": "execute_result",
          "data": {
            "text/plain": "False"
          },
          "metadata": {}
        }
      ]
    },
    {
      "cell_type": "code",
      "source": "bool(())",
      "metadata": {
        "trusted": true
      },
      "execution_count": 30,
      "outputs": [
        {
          "execution_count": 30,
          "output_type": "execute_result",
          "data": {
            "text/plain": "False"
          },
          "metadata": {}
        }
      ]
    },
    {
      "cell_type": "code",
      "source": "bool([])",
      "metadata": {
        "trusted": true
      },
      "execution_count": 31,
      "outputs": [
        {
          "execution_count": 31,
          "output_type": "execute_result",
          "data": {
            "text/plain": "False"
          },
          "metadata": {}
        }
      ]
    },
    {
      "cell_type": "code",
      "source": "bool({})",
      "metadata": {
        "trusted": true
      },
      "execution_count": 32,
      "outputs": [
        {
          "execution_count": 32,
          "output_type": "execute_result",
          "data": {
            "text/plain": "False"
          },
          "metadata": {}
        }
      ]
    },
    {
      "cell_type": "code",
      "source": "print(True)",
      "metadata": {
        "trusted": true
      },
      "execution_count": 34,
      "outputs": [
        {
          "name": "stdout",
          "text": "True\n",
          "output_type": "stream"
        }
      ]
    },
    {
      "cell_type": "code",
      "source": "print(int(True))",
      "metadata": {
        "trusted": true
      },
      "execution_count": 36,
      "outputs": [
        {
          "name": "stdout",
          "text": "1\n",
          "output_type": "stream"
        }
      ]
    },
    {
      "cell_type": "code",
      "source": "print(int(False))",
      "metadata": {
        "trusted": true
      },
      "execution_count": 38,
      "outputs": [
        {
          "name": "stdout",
          "text": "0\n",
          "output_type": "stream"
        }
      ]
    },
    {
      "cell_type": "code",
      "source": "print(False-True)",
      "metadata": {
        "trusted": true
      },
      "execution_count": 39,
      "outputs": [
        {
          "name": "stdout",
          "text": "-1\n",
          "output_type": "stream"
        }
      ]
    },
    {
      "cell_type": "code",
      "source": "print(True-False)",
      "metadata": {
        "trusted": true
      },
      "execution_count": 40,
      "outputs": [
        {
          "name": "stdout",
          "text": "1\n",
          "output_type": "stream"
        }
      ]
    },
    {
      "cell_type": "code",
      "source": "print(True>False)",
      "metadata": {
        "trusted": true
      },
      "execution_count": 42,
      "outputs": [
        {
          "name": "stdout",
          "text": "True\n",
          "output_type": "stream"
        }
      ]
    },
    {
      "cell_type": "code",
      "source": "print(True<False)",
      "metadata": {
        "trusted": true
      },
      "execution_count": 43,
      "outputs": [
        {
          "name": "stdout",
          "text": "False\n",
          "output_type": "stream"
        }
      ]
    },
    {
      "cell_type": "code",
      "source": "print(True+False)",
      "metadata": {
        "trusted": true
      },
      "execution_count": 44,
      "outputs": [
        {
          "name": "stdout",
          "text": "1\n",
          "output_type": "stream"
        }
      ]
    },
    {
      "cell_type": "code",
      "source": "print(True**False)",
      "metadata": {
        "trusted": true
      },
      "execution_count": 45,
      "outputs": [
        {
          "name": "stdout",
          "text": "1\n",
          "output_type": "stream"
        }
      ]
    },
    {
      "cell_type": "code",
      "source": "print(False/True)",
      "metadata": {
        "trusted": true
      },
      "execution_count": 46,
      "outputs": [
        {
          "name": "stdout",
          "text": "0.0\n",
          "output_type": "stream"
        }
      ]
    },
    {
      "cell_type": "code",
      "source": "x = 200\nprint(isinstance(x, int))",
      "metadata": {
        "trusted": true
      },
      "execution_count": 48,
      "outputs": [
        {
          "name": "stdout",
          "text": "True\n",
          "output_type": "stream"
        }
      ]
    },
    {
      "cell_type": "code",
      "source": "def myFunction() :\n  return True\n\nprint(myFunction())",
      "metadata": {
        "trusted": true
      },
      "execution_count": 49,
      "outputs": [
        {
          "name": "stdout",
          "text": "True\n",
          "output_type": "stream"
        }
      ]
    },
    {
      "cell_type": "code",
      "source": "def myFunction() :\n  return True\n\nif myFunction():\n  print(\"YES!\")\nelse:\n  print(\"NO!\")",
      "metadata": {
        "trusted": true
      },
      "execution_count": 50,
      "outputs": [
        {
          "name": "stdout",
          "text": "YES!\n",
          "output_type": "stream"
        }
      ]
    },
    {
      "cell_type": "markdown",
      "source": "# 8. Python Operators",
      "metadata": {}
    },
    {
      "cell_type": "markdown",
      "source": "Operators are used to perform operations on variables and values.",
      "metadata": {}
    },
    {
      "cell_type": "code",
      "source": "print(10 + 5)",
      "metadata": {
        "trusted": true
      },
      "execution_count": 316,
      "outputs": [
        {
          "name": "stdout",
          "text": "15\n",
          "output_type": "stream"
        }
      ]
    },
    {
      "cell_type": "markdown",
      "source": "Python divides the operators in the following groups:\n\nArithmetic operators\n\nAssignment operators\n\nComparison operators\n\nLogical operators\n\nIdentity operators\n\nMembership operators\n\nBitwise operators",
      "metadata": {}
    },
    {
      "cell_type": "markdown",
      "source": "Addition",
      "metadata": {}
    },
    {
      "cell_type": "code",
      "source": "x = 5\ny = 3\n\nprint(x + y)",
      "metadata": {
        "trusted": true
      },
      "execution_count": 317,
      "outputs": [
        {
          "name": "stdout",
          "text": "8\n",
          "output_type": "stream"
        }
      ]
    },
    {
      "cell_type": "markdown",
      "source": "Subtraction",
      "metadata": {}
    },
    {
      "cell_type": "code",
      "source": "x = 5\ny = 3\n\nprint(x - y)",
      "metadata": {
        "trusted": true
      },
      "execution_count": 318,
      "outputs": [
        {
          "name": "stdout",
          "text": "2\n",
          "output_type": "stream"
        }
      ]
    },
    {
      "cell_type": "markdown",
      "source": "Multiplication",
      "metadata": {}
    },
    {
      "cell_type": "code",
      "source": "x = 5\ny = 3\n\nprint(x * y)",
      "metadata": {},
      "execution_count": null,
      "outputs": []
    },
    {
      "cell_type": "markdown",
      "source": "Division",
      "metadata": {}
    },
    {
      "cell_type": "code",
      "source": "x = 12\ny = 3\n\nprint(x / y)",
      "metadata": {
        "trusted": true
      },
      "execution_count": 319,
      "outputs": [
        {
          "name": "stdout",
          "text": "4.0\n",
          "output_type": "stream"
        }
      ]
    },
    {
      "cell_type": "markdown",
      "source": "Modulus",
      "metadata": {}
    },
    {
      "cell_type": "code",
      "source": "x = 5\ny = 2\n\nprint(x % y)",
      "metadata": {
        "trusted": true
      },
      "execution_count": 320,
      "outputs": [
        {
          "name": "stdout",
          "text": "1\n",
          "output_type": "stream"
        }
      ]
    },
    {
      "cell_type": "markdown",
      "source": "Exponentiation",
      "metadata": {}
    },
    {
      "cell_type": "code",
      "source": "x = 2\ny = 5\n\nprint(x ** y) #same as 2*2*2*2*2",
      "metadata": {
        "trusted": true
      },
      "execution_count": 321,
      "outputs": [
        {
          "name": "stdout",
          "text": "32\n",
          "output_type": "stream"
        }
      ]
    },
    {
      "cell_type": "markdown",
      "source": "Floor division\t",
      "metadata": {}
    },
    {
      "cell_type": "code",
      "source": "x = 15\ny = 2\n\nprint(x // y)\n\n#the floor division // rounds the result down to the nearest whole number",
      "metadata": {
        "trusted": true
      },
      "execution_count": 322,
      "outputs": [
        {
          "name": "stdout",
          "text": "7\n",
          "output_type": "stream"
        }
      ]
    },
    {
      "cell_type": "markdown",
      "source": "=",
      "metadata": {}
    },
    {
      "cell_type": "code",
      "source": "x = 5\n\nprint(x)",
      "metadata": {
        "trusted": true
      },
      "execution_count": 323,
      "outputs": [
        {
          "name": "stdout",
          "text": "5\n",
          "output_type": "stream"
        }
      ]
    },
    {
      "cell_type": "markdown",
      "source": "+=",
      "metadata": {}
    },
    {
      "cell_type": "code",
      "source": "x = 5\n\nx += 3\n\nprint(x)",
      "metadata": {
        "trusted": true
      },
      "execution_count": 324,
      "outputs": [
        {
          "name": "stdout",
          "text": "8\n",
          "output_type": "stream"
        }
      ]
    },
    {
      "cell_type": "markdown",
      "source": "-=",
      "metadata": {}
    },
    {
      "cell_type": "code",
      "source": "x = 5\n\nx -= 3\n\nprint(x)",
      "metadata": {
        "trusted": true
      },
      "execution_count": 325,
      "outputs": [
        {
          "name": "stdout",
          "text": "2\n",
          "output_type": "stream"
        }
      ]
    },
    {
      "cell_type": "markdown",
      "source": "/=",
      "metadata": {}
    },
    {
      "cell_type": "code",
      "source": "x = 5\n\nx /= 3\n\nprint(x)\n",
      "metadata": {
        "trusted": true
      },
      "execution_count": 326,
      "outputs": [
        {
          "name": "stdout",
          "text": "1.6666666666666667\n",
          "output_type": "stream"
        }
      ]
    },
    {
      "cell_type": "markdown",
      "source": "%=",
      "metadata": {}
    },
    {
      "cell_type": "code",
      "source": "x = 5\n\nx%=3\n\nprint(x)",
      "metadata": {
        "trusted": true
      },
      "execution_count": 327,
      "outputs": [
        {
          "name": "stdout",
          "text": "2\n",
          "output_type": "stream"
        }
      ]
    },
    {
      "cell_type": "markdown",
      "source": "%=",
      "metadata": {}
    },
    {
      "cell_type": "code",
      "source": "x = 5\n\nx//=3\n\nprint(x)",
      "metadata": {
        "trusted": true
      },
      "execution_count": 328,
      "outputs": [
        {
          "name": "stdout",
          "text": "1\n",
          "output_type": "stream"
        }
      ]
    },
    {
      "cell_type": "markdown",
      "source": "//=",
      "metadata": {}
    },
    {
      "cell_type": "code",
      "source": "x = 5\n\nx//=3\n\nprint(x)",
      "metadata": {
        "trusted": true
      },
      "execution_count": 329,
      "outputs": [
        {
          "name": "stdout",
          "text": "1\n",
          "output_type": "stream"
        }
      ]
    },
    {
      "cell_type": "markdown",
      "source": "**=",
      "metadata": {}
    },
    {
      "cell_type": "code",
      "source": "x = 5\n\nx **= 3\n\nprint(x)\n",
      "metadata": {
        "trusted": true
      },
      "execution_count": 330,
      "outputs": [
        {
          "name": "stdout",
          "text": "125\n",
          "output_type": "stream"
        }
      ]
    },
    {
      "cell_type": "markdown",
      "source": "&=",
      "metadata": {}
    },
    {
      "cell_type": "code",
      "source": "x = 5\n\nx &= 3\n\nprint(x)",
      "metadata": {
        "trusted": true
      },
      "execution_count": 331,
      "outputs": [
        {
          "name": "stdout",
          "text": "1\n",
          "output_type": "stream"
        }
      ]
    },
    {
      "cell_type": "markdown",
      "source": "|=",
      "metadata": {}
    },
    {
      "cell_type": "code",
      "source": "x = 5\n\nx |= 3\n\nprint(x)",
      "metadata": {
        "trusted": true
      },
      "execution_count": 332,
      "outputs": [
        {
          "name": "stdout",
          "text": "7\n",
          "output_type": "stream"
        }
      ]
    },
    {
      "cell_type": "markdown",
      "source": "^=",
      "metadata": {}
    },
    {
      "cell_type": "code",
      "source": "x = 5\n\nx ^= 3\n\nprint(x)",
      "metadata": {
        "trusted": true
      },
      "execution_count": 333,
      "outputs": [
        {
          "name": "stdout",
          "text": "6\n",
          "output_type": "stream"
        }
      ]
    },
    {
      "cell_type": "markdown",
      "source": "'>>=\tx >>= 3\tx = x >> 3'",
      "metadata": {}
    },
    {
      "cell_type": "code",
      "source": "x = 5\n\nx >>= 3\n\nprint(x)",
      "metadata": {
        "trusted": true
      },
      "execution_count": 334,
      "outputs": [
        {
          "name": "stdout",
          "text": "0\n",
          "output_type": "stream"
        }
      ]
    },
    {
      "cell_type": "markdown",
      "source": "<<=\tx <<= 3\tx = x << 3",
      "metadata": {}
    },
    {
      "cell_type": "markdown",
      "source": "and \tReturns True if both statements are true\tx < 5 and  x < 10",
      "metadata": {}
    },
    {
      "cell_type": "code",
      "source": "x = 5\n\nprint(x > 3 and x < 10)\n\n# returns True because 5 is greater than 3 AND 5 is less than 10",
      "metadata": {
        "trusted": true
      },
      "execution_count": 335,
      "outputs": [
        {
          "name": "stdout",
          "text": "True\n",
          "output_type": "stream"
        }
      ]
    },
    {
      "cell_type": "markdown",
      "source": "or\tReturns True if one of the statements is true\tx < 5 or x < 4",
      "metadata": {}
    },
    {
      "cell_type": "code",
      "source": "x = 5\n\nprint(x > 3 or x < 4)\n\n# returns True because one of the conditions are true (5 is greater than 3, but 5 is not less than 4)",
      "metadata": {
        "trusted": true
      },
      "execution_count": 339,
      "outputs": [
        {
          "name": "stdout",
          "text": "True\n",
          "output_type": "stream"
        }
      ]
    },
    {
      "cell_type": "code",
      "source": "not\tReverse the result, returns False if the result is true\tnot(x < 5 and x < 10)\t\n",
      "metadata": {},
      "execution_count": null,
      "outputs": []
    },
    {
      "cell_type": "code",
      "source": "x = 5\n\nprint(not(x > 3 and x < 10))\n\n# returns False because not is used to reverse the result",
      "metadata": {
        "trusted": true
      },
      "execution_count": 340,
      "outputs": [
        {
          "name": "stdout",
          "text": "False\n",
          "output_type": "stream"
        }
      ]
    },
    {
      "cell_type": "markdown",
      "source": "is \tReturns True if both variables are the same object\tx is y",
      "metadata": {}
    },
    {
      "cell_type": "code",
      "source": "x = [\"apple\", \"banana\"]\ny = [\"apple\", \"banana\"]\nz = x\n\nprint(x is z)\n\n# returns True because z is the same object as x\n\nprint(x is y)\n\n# returns False because x is not the same object as y, even if they have the same content\n\nprint(x == y)\n\n# to demonstrate the difference betweeen \"is\" and \"==\": this comparison returns True because x is equal to y",
      "metadata": {
        "trusted": true
      },
      "execution_count": 341,
      "outputs": [
        {
          "name": "stdout",
          "text": "True\nFalse\nTrue\n",
          "output_type": "stream"
        }
      ]
    },
    {
      "cell_type": "markdown",
      "source": "is not\tReturns True if both variables are not the same object\tx is not y",
      "metadata": {}
    },
    {
      "cell_type": "code",
      "source": "x = [\"apple\", \"banana\"]\ny = [\"apple\", \"banana\"]\nz = x\n\nprint(x is not z)\n\n# returns False because z is the same object as x\n\nprint(x is not y)\n\n# returns True because x is not the same object as y, even if they have the same content\n\nprint(x != y)\n\n# to demonstrate the difference betweeen \"is not\" and \"!=\": this comparison returns False because x is equal to y\n",
      "metadata": {
        "trusted": true
      },
      "execution_count": 342,
      "outputs": [
        {
          "name": "stdout",
          "text": "False\nTrue\nFalse\n",
          "output_type": "stream"
        }
      ]
    },
    {
      "cell_type": "markdown",
      "source": "in \tReturns True if a sequence with the specified value is present in the object\tx in y",
      "metadata": {}
    },
    {
      "cell_type": "code",
      "source": "x = [\"apple\", \"banana\"]\n\nprint(\"banana\" in x)\n\n# returns True because a sequence with the value \"banana\" is in the list",
      "metadata": {
        "trusted": true
      },
      "execution_count": 343,
      "outputs": [
        {
          "name": "stdout",
          "text": "True\n",
          "output_type": "stream"
        }
      ]
    },
    {
      "cell_type": "markdown",
      "source": "not in\tReturns True if a sequence with the specified value is not present in the object\tx not in y",
      "metadata": {}
    },
    {
      "cell_type": "code",
      "source": "x = [\"apple\", \"banana\"]\n\nprint(\"pineapple\" not in x)\n\n# returns True because a sequence with the value \"pineapple\" is not in the list",
      "metadata": {
        "trusted": true
      },
      "execution_count": 344,
      "outputs": [
        {
          "name": "stdout",
          "text": "True\n",
          "output_type": "stream"
        }
      ]
    },
    {
      "cell_type": "markdown",
      "source": "\n**& AND**   Sets each bit to 1 if both bits are 1\n\n**| OR**  Sets each bit to 1 if one of two bits is 1\n\n**^XOR**     Sets each bit to 1 if only one of two bits is 1\n \n**~ NOT**     Inverts all the bits\n\n**Zero fill left shift**         Shift left by pushing zeros in from the right and let the leftmost bits fall off\n\n**Signed right shift**           Shift right by pushing copies of the leftmost bit in from the left, and let the rightmost bits fall off",
      "metadata": {}
    },
    {
      "cell_type": "markdown",
      "source": "# Python Tuples",
      "metadata": {}
    },
    {
      "cell_type": "markdown",
      "source": "Tuples are used to store multiple items in a single variable.\n\nTuple is one of 4 built-in data types in Python used to store collections of data, the other 3 are List, Set, and Dictionary, all with different qualities and usage.\n\nA tuple is a collection which is ordered and unchangeable.\n\nTuples are written with round brackets.",
      "metadata": {}
    },
    {
      "cell_type": "code",
      "source": "thistuple = (\"apple\", \"banana\", \"cherry\")\nprint(thistuple)",
      "metadata": {
        "trusted": true
      },
      "execution_count": 345,
      "outputs": [
        {
          "name": "stdout",
          "text": "('apple', 'banana', 'cherry')\n",
          "output_type": "stream"
        }
      ]
    },
    {
      "cell_type": "markdown",
      "source": "Tuple items are ordered, unchangeable, and allow duplicate values.\n\nTuple items are indexed, the first item has index [0], the second item has index [1] etc.\n\nWhen we say that tuples are ordered, it means that the items have a defined order, and that order will not change.\n\nTuples are unchangeable, meaning that we cannot change, add or remove items after the tuple has been created.\n\nSince tuples are indexed, they can have items with the same value.",
      "metadata": {}
    },
    {
      "cell_type": "code",
      "source": "thistuple = (\"apple\", \"banana\", \"cherry\", \"apple\", \"cherry\")\nprint(thistuple)",
      "metadata": {
        "trusted": true
      },
      "execution_count": 351,
      "outputs": [
        {
          "name": "stdout",
          "text": "('apple', 'banana', 'cherry', 'apple', 'cherry')\n",
          "output_type": "stream"
        }
      ]
    },
    {
      "cell_type": "markdown",
      "source": "To determine how many items a tuple has, use the len() function:",
      "metadata": {}
    },
    {
      "cell_type": "code",
      "source": "thistuple = (\"apple\", \"banana\", \"cherry\")\nprint(len(thistuple))",
      "metadata": {
        "trusted": true
      },
      "execution_count": 352,
      "outputs": [
        {
          "name": "stdout",
          "text": "3\n",
          "output_type": "stream"
        }
      ]
    },
    {
      "cell_type": "markdown",
      "source": "Create Tuple With One Item\n\nTo create a tuple with only one item, you have to add a comma after the item, otherwise Python will not recognize it as a tuple.",
      "metadata": {}
    },
    {
      "cell_type": "code",
      "source": "thistuple = (\"apple\",)\nprint(type(thistuple))\n\n#NOT a tuple\nthistuple = (\"apple\")\nprint(type(thistuple))",
      "metadata": {
        "trusted": true
      },
      "execution_count": 353,
      "outputs": [
        {
          "name": "stdout",
          "text": "<class 'tuple'>\n<class 'str'>\n",
          "output_type": "stream"
        }
      ]
    },
    {
      "cell_type": "markdown",
      "source": "Tuple items can be of any data type:",
      "metadata": {}
    },
    {
      "cell_type": "code",
      "source": "tuple1 = (\"apple\", \"banana\", \"cherry\")\ntuple2 = (1, 5, 7, 9, 3)\ntuple3 = (True, False, False)",
      "metadata": {
        "trusted": true
      },
      "execution_count": 354,
      "outputs": []
    },
    {
      "cell_type": "markdown",
      "source": "A tuple with strings, integers and boolean values:",
      "metadata": {}
    },
    {
      "cell_type": "code",
      "source": "tuple1 = (\"abc\", 34, True, 40, \"male\")",
      "metadata": {
        "trusted": true
      },
      "execution_count": 355,
      "outputs": []
    },
    {
      "cell_type": "markdown",
      "source": "From Python's perspective, tuples are defined as objects with the data type 'tuple':",
      "metadata": {}
    },
    {
      "cell_type": "code",
      "source": "mytuple = (\"apple\", \"banana\", \"cherry\")\nprint(type(mytuple))",
      "metadata": {
        "trusted": true
      },
      "execution_count": 356,
      "outputs": [
        {
          "name": "stdout",
          "text": "<class 'tuple'>\n",
          "output_type": "stream"
        }
      ]
    },
    {
      "cell_type": "markdown",
      "source": "It is also possible to use the tuple() constructor to make a tuple.",
      "metadata": {}
    },
    {
      "cell_type": "code",
      "source": "",
      "metadata": {},
      "execution_count": null,
      "outputs": []
    },
    {
      "cell_type": "code",
      "source": "",
      "metadata": {},
      "execution_count": null,
      "outputs": []
    },
    {
      "cell_type": "code",
      "source": "",
      "metadata": {},
      "execution_count": null,
      "outputs": []
    },
    {
      "cell_type": "code",
      "source": "",
      "metadata": {},
      "execution_count": null,
      "outputs": []
    },
    {
      "cell_type": "code",
      "source": "",
      "metadata": {},
      "execution_count": null,
      "outputs": []
    },
    {
      "cell_type": "code",
      "source": "",
      "metadata": {},
      "execution_count": null,
      "outputs": []
    },
    {
      "cell_type": "code",
      "source": "",
      "metadata": {},
      "execution_count": null,
      "outputs": []
    },
    {
      "cell_type": "code",
      "source": "",
      "metadata": {},
      "execution_count": null,
      "outputs": []
    },
    {
      "cell_type": "code",
      "source": "",
      "metadata": {},
      "execution_count": null,
      "outputs": []
    },
    {
      "cell_type": "code",
      "source": "",
      "metadata": {},
      "execution_count": null,
      "outputs": []
    },
    {
      "cell_type": "code",
      "source": "",
      "metadata": {},
      "execution_count": null,
      "outputs": []
    },
    {
      "cell_type": "code",
      "source": "",
      "metadata": {},
      "execution_count": null,
      "outputs": []
    },
    {
      "cell_type": "markdown",
      "source": "3. **Expressions/Mathematical Operations And Variables** -",
      "metadata": {}
    },
    {
      "cell_type": "code",
      "source": "43+60+16+41",
      "metadata": {
        "trusted": true
      },
      "execution_count": 51,
      "outputs": [
        {
          "execution_count": 51,
          "output_type": "execute_result",
          "data": {
            "text/plain": "160"
          },
          "metadata": {}
        }
      ]
    },
    {
      "cell_type": "code",
      "source": "50-60",
      "metadata": {
        "trusted": true
      },
      "execution_count": 52,
      "outputs": [
        {
          "execution_count": 52,
          "output_type": "execute_result",
          "data": {
            "text/plain": "-10"
          },
          "metadata": {}
        }
      ]
    },
    {
      "cell_type": "code",
      "source": "5*5",
      "metadata": {
        "trusted": true
      },
      "execution_count": 53,
      "outputs": [
        {
          "execution_count": 53,
          "output_type": "execute_result",
          "data": {
            "text/plain": "25"
          },
          "metadata": {}
        }
      ]
    },
    {
      "cell_type": "code",
      "source": "25/5",
      "metadata": {
        "trusted": true
      },
      "execution_count": 54,
      "outputs": [
        {
          "execution_count": 54,
          "output_type": "execute_result",
          "data": {
            "text/plain": "5.0"
          },
          "metadata": {}
        }
      ]
    },
    {
      "cell_type": "code",
      "source": "25/6",
      "metadata": {
        "trusted": true
      },
      "execution_count": 55,
      "outputs": [
        {
          "execution_count": 55,
          "output_type": "execute_result",
          "data": {
            "text/plain": "4.166666666666667"
          },
          "metadata": {}
        }
      ]
    },
    {
      "cell_type": "code",
      "source": "25//6",
      "metadata": {
        "trusted": true
      },
      "execution_count": 56,
      "outputs": [
        {
          "execution_count": 56,
          "output_type": "execute_result",
          "data": {
            "text/plain": "4"
          },
          "metadata": {}
        }
      ]
    },
    {
      "cell_type": "code",
      "source": "2*60+30",
      "metadata": {
        "trusted": true
      },
      "execution_count": 57,
      "outputs": [
        {
          "execution_count": 57,
          "output_type": "execute_result",
          "data": {
            "text/plain": "150"
          },
          "metadata": {}
        }
      ]
    },
    {
      "cell_type": "code",
      "source": "30+2*60",
      "metadata": {
        "trusted": true
      },
      "execution_count": 58,
      "outputs": [
        {
          "execution_count": 58,
          "output_type": "execute_result",
          "data": {
            "text/plain": "150"
          },
          "metadata": {}
        }
      ]
    },
    {
      "cell_type": "code",
      "source": "(30+2)*60",
      "metadata": {
        "trusted": true
      },
      "execution_count": 60,
      "outputs": [
        {
          "execution_count": 60,
          "output_type": "execute_result",
          "data": {
            "text/plain": "1920"
          },
          "metadata": {}
        }
      ]
    },
    {
      "cell_type": "code",
      "source": "x=5\ny=1",
      "metadata": {
        "trusted": true
      },
      "execution_count": 61,
      "outputs": []
    },
    {
      "cell_type": "code",
      "source": "x+y",
      "metadata": {
        "trusted": true
      },
      "execution_count": 62,
      "outputs": [
        {
          "execution_count": 62,
          "output_type": "execute_result",
          "data": {
            "text/plain": "6"
          },
          "metadata": {}
        }
      ]
    },
    {
      "cell_type": "code",
      "source": "x=160",
      "metadata": {
        "trusted": true
      },
      "execution_count": 63,
      "outputs": []
    },
    {
      "cell_type": "code",
      "source": "x=x/60",
      "metadata": {
        "trusted": true
      },
      "execution_count": 64,
      "outputs": []
    },
    {
      "cell_type": "code",
      "source": "x",
      "metadata": {
        "trusted": true
      },
      "execution_count": 70,
      "outputs": [
        {
          "execution_count": 70,
          "output_type": "execute_result",
          "data": {
            "text/plain": "2.6666666666666665"
          },
          "metadata": {}
        }
      ]
    },
    {
      "cell_type": "code",
      "source": "type(x)",
      "metadata": {
        "trusted": true
      },
      "execution_count": 71,
      "outputs": [
        {
          "execution_count": 71,
          "output_type": "execute_result",
          "data": {
            "text/plain": "float"
          },
          "metadata": {}
        }
      ]
    },
    {
      "cell_type": "code",
      "source": "total_min=42+45+98",
      "metadata": {
        "trusted": true
      },
      "execution_count": 72,
      "outputs": []
    },
    {
      "cell_type": "code",
      "source": "total_hour=total_min//60",
      "metadata": {
        "trusted": true
      },
      "execution_count": 75,
      "outputs": []
    },
    {
      "cell_type": "code",
      "source": "total_hour",
      "metadata": {
        "trusted": true
      },
      "execution_count": 76,
      "outputs": [
        {
          "execution_count": 76,
          "output_type": "execute_result",
          "data": {
            "text/plain": "3"
          },
          "metadata": {}
        }
      ]
    },
    {
      "cell_type": "markdown",
      "source": "4. **String And Index** - String can be spaces,digits or special character.",
      "metadata": {}
    },
    {
      "cell_type": "code",
      "source": "\"1 2  3 4 5\"",
      "metadata": {
        "trusted": true
      },
      "execution_count": 77,
      "outputs": [
        {
          "execution_count": 77,
          "output_type": "execute_result",
          "data": {
            "text/plain": "'1 2  3 4 5'"
          },
          "metadata": {}
        }
      ]
    },
    {
      "cell_type": "code",
      "source": "\"@#$%^&*!\"",
      "metadata": {
        "trusted": true
      },
      "execution_count": 78,
      "outputs": [
        {
          "execution_count": 78,
          "output_type": "execute_result",
          "data": {
            "text/plain": "'@#$%^&*!'"
          },
          "metadata": {}
        }
      ]
    },
    {
      "cell_type": "code",
      "source": "Name=\"Michael Jackson\"",
      "metadata": {
        "trusted": true
      },
      "execution_count": 79,
      "outputs": []
    },
    {
      "cell_type": "code",
      "source": "Name[0]",
      "metadata": {
        "trusted": true
      },
      "execution_count": 80,
      "outputs": [
        {
          "execution_count": 80,
          "output_type": "execute_result",
          "data": {
            "text/plain": "'M'"
          },
          "metadata": {}
        }
      ]
    },
    {
      "cell_type": "code",
      "source": "Name[0:4]",
      "metadata": {
        "trusted": true
      },
      "execution_count": 83,
      "outputs": [
        {
          "execution_count": 83,
          "output_type": "execute_result",
          "data": {
            "text/plain": "'Mich'"
          },
          "metadata": {}
        }
      ]
    },
    {
      "cell_type": "code",
      "source": "Name[-1]",
      "metadata": {
        "trusted": true
      },
      "execution_count": 84,
      "outputs": [
        {
          "execution_count": 84,
          "output_type": "execute_result",
          "data": {
            "text/plain": "'n'"
          },
          "metadata": {}
        }
      ]
    },
    {
      "cell_type": "code",
      "source": "Name[8:12]",
      "metadata": {
        "trusted": true
      },
      "execution_count": 85,
      "outputs": [
        {
          "execution_count": 85,
          "output_type": "execute_result",
          "data": {
            "text/plain": "'Jack'"
          },
          "metadata": {}
        }
      ]
    },
    {
      "cell_type": "code",
      "source": "Name[::2]",
      "metadata": {
        "trusted": true
      },
      "execution_count": 87,
      "outputs": [
        {
          "execution_count": 87,
          "output_type": "execute_result",
          "data": {
            "text/plain": "'McalJcsn'"
          },
          "metadata": {}
        }
      ]
    },
    {
      "cell_type": "code",
      "source": "Name[0:5:2]",
      "metadata": {
        "trusted": true
      },
      "execution_count": 88,
      "outputs": [
        {
          "execution_count": 88,
          "output_type": "execute_result",
          "data": {
            "text/plain": "'Mca'"
          },
          "metadata": {}
        }
      ]
    },
    {
      "cell_type": "code",
      "source": "len(Name)",
      "metadata": {
        "trusted": true
      },
      "execution_count": 89,
      "outputs": [
        {
          "execution_count": 89,
          "output_type": "execute_result",
          "data": {
            "text/plain": "15"
          },
          "metadata": {}
        }
      ]
    },
    {
      "cell_type": "code",
      "source": "Statement=Name+'is the best'",
      "metadata": {
        "trusted": true
      },
      "execution_count": 90,
      "outputs": []
    },
    {
      "cell_type": "code",
      "source": "Statement",
      "metadata": {
        "trusted": true
      },
      "execution_count": 91,
      "outputs": [
        {
          "execution_count": 91,
          "output_type": "execute_result",
          "data": {
            "text/plain": "'Michael Jacksonis the best'"
          },
          "metadata": {}
        }
      ]
    },
    {
      "cell_type": "code",
      "source": "3*Statement",
      "metadata": {
        "trusted": true
      },
      "execution_count": 92,
      "outputs": [
        {
          "execution_count": 92,
          "output_type": "execute_result",
          "data": {
            "text/plain": "'Michael Jacksonis the bestMichael Jacksonis the bestMichael Jacksonis the best'"
          },
          "metadata": {}
        }
      ]
    },
    {
      "cell_type": "code",
      "source": "Name=Name+' is a danser'",
      "metadata": {
        "trusted": true
      },
      "execution_count": 93,
      "outputs": []
    },
    {
      "cell_type": "code",
      "source": "Name",
      "metadata": {
        "trusted": true
      },
      "execution_count": 115,
      "outputs": [
        {
          "execution_count": 115,
          "output_type": "execute_result",
          "data": {
            "text/plain": "'Michael Jacksonis a danser'"
          },
          "metadata": {}
        }
      ]
    },
    {
      "cell_type": "code",
      "source": "print('Michael Jackson \\n is a danser')",
      "metadata": {
        "trusted": true
      },
      "execution_count": 111,
      "outputs": [
        {
          "name": "stdout",
          "text": "Michael Jackson \n is a danser\n",
          "output_type": "stream"
        }
      ]
    },
    {
      "cell_type": "code",
      "source": "print('Michael Jackson \\\\ is a danser')",
      "metadata": {
        "trusted": true
      },
      "execution_count": 112,
      "outputs": [
        {
          "name": "stdout",
          "text": "Michael Jackson \\ is a danser\n",
          "output_type": "stream"
        }
      ]
    },
    {
      "cell_type": "code",
      "source": "A=Name.upper()",
      "metadata": {
        "trusted": true
      },
      "execution_count": 113,
      "outputs": []
    },
    {
      "cell_type": "code",
      "source": "A",
      "metadata": {
        "trusted": true
      },
      "execution_count": 114,
      "outputs": [
        {
          "execution_count": 114,
          "output_type": "execute_result",
          "data": {
            "text/plain": "'MICHAEL JACKSONIS A DANSER'"
          },
          "metadata": {}
        }
      ]
    },
    {
      "cell_type": "code",
      "source": "B=A.lower()",
      "metadata": {
        "trusted": true
      },
      "execution_count": 106,
      "outputs": []
    },
    {
      "cell_type": "code",
      "source": "B",
      "metadata": {
        "trusted": true
      },
      "execution_count": 107,
      "outputs": [
        {
          "execution_count": 107,
          "output_type": "execute_result",
          "data": {
            "text/plain": "'michael jacksonis a danser'"
          },
          "metadata": {}
        }
      ]
    },
    {
      "cell_type": "code",
      "source": "C=A.replace('MICHAEL','JANET')",
      "metadata": {
        "trusted": true
      },
      "execution_count": 108,
      "outputs": []
    },
    {
      "cell_type": "code",
      "source": "C",
      "metadata": {
        "trusted": true
      },
      "execution_count": 109,
      "outputs": [
        {
          "execution_count": 109,
          "output_type": "execute_result",
          "data": {
            "text/plain": "'JANET JACKSONIS A DANSER'"
          },
          "metadata": {}
        }
      ]
    },
    {
      "cell_type": "code",
      "source": "C.find('er')",
      "metadata": {
        "trusted": true
      },
      "execution_count": 118,
      "outputs": [
        {
          "execution_count": 118,
          "output_type": "execute_result",
          "data": {
            "text/plain": "-1"
          },
          "metadata": {}
        }
      ]
    },
    {
      "cell_type": "code",
      "source": "C.find('JANET')",
      "metadata": {
        "trusted": true
      },
      "execution_count": 120,
      "outputs": [
        {
          "execution_count": 120,
          "output_type": "execute_result",
          "data": {
            "text/plain": "0"
          },
          "metadata": {}
        }
      ]
    },
    {
      "cell_type": "markdown",
      "source": "5. **Touples**",
      "metadata": {}
    },
    {
      "cell_type": "code",
      "source": "Ratings=(10,9,6,5,10,8,9,6,2)",
      "metadata": {
        "trusted": true
      },
      "execution_count": 121,
      "outputs": []
    },
    {
      "cell_type": "code",
      "source": "Touple1=(\"Disco\",10,1.2)",
      "metadata": {
        "trusted": true
      },
      "execution_count": 122,
      "outputs": []
    },
    {
      "cell_type": "code",
      "source": "Touple1[0]",
      "metadata": {
        "trusted": true
      },
      "execution_count": 123,
      "outputs": [
        {
          "execution_count": 123,
          "output_type": "execute_result",
          "data": {
            "text/plain": "'Disco'"
          },
          "metadata": {}
        }
      ]
    },
    {
      "cell_type": "code",
      "source": "Touple2=Touple1+(\"hard rock\",10)",
      "metadata": {
        "trusted": true
      },
      "execution_count": 124,
      "outputs": []
    },
    {
      "cell_type": "code",
      "source": "Touple2",
      "metadata": {
        "trusted": true
      },
      "execution_count": 125,
      "outputs": [
        {
          "execution_count": 125,
          "output_type": "execute_result",
          "data": {
            "text/plain": "('Disco', 10, 1.2, 'hard rock', 10)"
          },
          "metadata": {}
        }
      ]
    },
    {
      "cell_type": "code",
      "source": "Touple2[0:3]",
      "metadata": {
        "trusted": true
      },
      "execution_count": 126,
      "outputs": [
        {
          "execution_count": 126,
          "output_type": "execute_result",
          "data": {
            "text/plain": "('Disco', 10, 1.2)"
          },
          "metadata": {}
        }
      ]
    },
    {
      "cell_type": "code",
      "source": "Touple2[3:5]",
      "metadata": {
        "trusted": true
      },
      "execution_count": 127,
      "outputs": [
        {
          "execution_count": 127,
          "output_type": "execute_result",
          "data": {
            "text/plain": "('hard rock', 10)"
          },
          "metadata": {}
        }
      ]
    },
    {
      "cell_type": "code",
      "source": "len(Touple2)",
      "metadata": {
        "trusted": true
      },
      "execution_count": 130,
      "outputs": [
        {
          "execution_count": 130,
          "output_type": "execute_result",
          "data": {
            "text/plain": "5"
          },
          "metadata": {}
        }
      ]
    },
    {
      "cell_type": "code",
      "source": "Ratings2=Ratings",
      "metadata": {
        "trusted": true
      },
      "execution_count": 131,
      "outputs": []
    },
    {
      "cell_type": "code",
      "source": "Ratings=(2,10,1)",
      "metadata": {
        "trusted": true
      },
      "execution_count": 138,
      "outputs": []
    },
    {
      "cell_type": "code",
      "source": "Ratings2",
      "metadata": {
        "trusted": true
      },
      "execution_count": 133,
      "outputs": [
        {
          "execution_count": 133,
          "output_type": "execute_result",
          "data": {
            "text/plain": "(10, 9, 6, 5, 10, 8, 9, 6, 2)"
          },
          "metadata": {}
        }
      ]
    },
    {
      "cell_type": "code",
      "source": "Ratings",
      "metadata": {
        "trusted": true
      },
      "execution_count": 135,
      "outputs": [
        {
          "execution_count": 135,
          "output_type": "execute_result",
          "data": {
            "text/plain": "(2, 10, 1)"
          },
          "metadata": {}
        }
      ]
    },
    {
      "cell_type": "code",
      "source": "RatingsSorted=sorted(Ratings)",
      "metadata": {
        "trusted": true
      },
      "execution_count": 136,
      "outputs": []
    },
    {
      "cell_type": "code",
      "source": "RatingsSorted",
      "metadata": {
        "trusted": true
      },
      "execution_count": 137,
      "outputs": [
        {
          "execution_count": 137,
          "output_type": "execute_result",
          "data": {
            "text/plain": "[1, 2, 10]"
          },
          "metadata": {}
        }
      ]
    },
    {
      "cell_type": "code",
      "source": "NT=(1,2,(\"POP\",\"ROCK\"),(3,4),(\"DISCO\",(1,2)))",
      "metadata": {
        "trusted": true
      },
      "execution_count": 139,
      "outputs": []
    },
    {
      "cell_type": "code",
      "source": "NT[2]",
      "metadata": {
        "trusted": true
      },
      "execution_count": 140,
      "outputs": [
        {
          "execution_count": 140,
          "output_type": "execute_result",
          "data": {
            "text/plain": "('POP', 'ROCK')"
          },
          "metadata": {}
        }
      ]
    },
    {
      "cell_type": "code",
      "source": "NT[2][0]",
      "metadata": {
        "trusted": true
      },
      "execution_count": 141,
      "outputs": [
        {
          "execution_count": 141,
          "output_type": "execute_result",
          "data": {
            "text/plain": "'POP'"
          },
          "metadata": {}
        }
      ]
    },
    {
      "cell_type": "code",
      "source": "NT[4][1][0]",
      "metadata": {
        "trusted": true
      },
      "execution_count": 142,
      "outputs": [
        {
          "execution_count": 142,
          "output_type": "execute_result",
          "data": {
            "text/plain": "1"
          },
          "metadata": {}
        }
      ]
    },
    {
      "cell_type": "markdown",
      "source": "6. **LISTS**",
      "metadata": {}
    },
    {
      "cell_type": "code",
      "source": "L=[\"MICHEL JACKSON\",10.1,1982,[1,2],('A',1)]",
      "metadata": {
        "trusted": true
      },
      "execution_count": 143,
      "outputs": []
    },
    {
      "cell_type": "code",
      "source": "L[0]",
      "metadata": {
        "trusted": true
      },
      "execution_count": 144,
      "outputs": [
        {
          "execution_count": 144,
          "output_type": "execute_result",
          "data": {
            "text/plain": "'MICHEL JACKSON'"
          },
          "metadata": {}
        }
      ]
    },
    {
      "cell_type": "code",
      "source": "L[3:5]",
      "metadata": {
        "trusted": true
      },
      "execution_count": 145,
      "outputs": [
        {
          "execution_count": 145,
          "output_type": "execute_result",
          "data": {
            "text/plain": "[[1, 2], ('A', 1)]"
          },
          "metadata": {}
        }
      ]
    },
    {
      "cell_type": "code",
      "source": "L1=L+[\"POP\",10]",
      "metadata": {
        "trusted": true
      },
      "execution_count": 146,
      "outputs": []
    },
    {
      "cell_type": "code",
      "source": "L1",
      "metadata": {
        "trusted": true
      },
      "execution_count": 147,
      "outputs": [
        {
          "execution_count": 147,
          "output_type": "execute_result",
          "data": {
            "text/plain": "['MICHEL JACKSON', 10.1, 1982, [1, 2], ('A', 1), 'POP', 10]"
          },
          "metadata": {}
        }
      ]
    },
    {
      "cell_type": "code",
      "source": "L1.extend([11,12])",
      "metadata": {
        "trusted": true
      },
      "execution_count": 150,
      "outputs": []
    },
    {
      "cell_type": "code",
      "source": "L1",
      "metadata": {
        "trusted": true
      },
      "execution_count": 151,
      "outputs": [
        {
          "execution_count": 151,
          "output_type": "execute_result",
          "data": {
            "text/plain": "['MICHEL JACKSON', 10.1, 1982, [1, 2], ('A', 1), 'POP', 10, 11, 12]"
          },
          "metadata": {}
        }
      ]
    },
    {
      "cell_type": "code",
      "source": "L1.append([\"13\",\"14\"])",
      "metadata": {
        "trusted": true
      },
      "execution_count": 153,
      "outputs": []
    },
    {
      "cell_type": "code",
      "source": "L1",
      "metadata": {
        "trusted": true
      },
      "execution_count": 154,
      "outputs": [
        {
          "execution_count": 154,
          "output_type": "execute_result",
          "data": {
            "text/plain": "['MICHEL JACKSON',\n 10.1,\n 1982,\n [1, 2],\n ('A', 1),\n 'POP',\n 10,\n 11,\n 12,\n ['13', '14']]"
          },
          "metadata": {}
        }
      ]
    },
    {
      "cell_type": "code",
      "source": "del(L1[0])",
      "metadata": {
        "trusted": true
      },
      "execution_count": 155,
      "outputs": []
    },
    {
      "cell_type": "code",
      "source": "L1",
      "metadata": {
        "trusted": true
      },
      "execution_count": 156,
      "outputs": [
        {
          "execution_count": 156,
          "output_type": "execute_result",
          "data": {
            "text/plain": "[10.1, 1982, [1, 2], ('A', 1), 'POP', 10, 11, 12, ['13', '14']]"
          },
          "metadata": {}
        }
      ]
    },
    {
      "cell_type": "code",
      "source": "L1.extend(['MICHEL JACKSON'])",
      "metadata": {
        "trusted": true
      },
      "execution_count": 157,
      "outputs": []
    },
    {
      "cell_type": "code",
      "source": "L1",
      "metadata": {
        "trusted": true
      },
      "execution_count": 158,
      "outputs": [
        {
          "execution_count": 158,
          "output_type": "execute_result",
          "data": {
            "text/plain": "[10.1,\n 1982,\n [1, 2],\n ('A', 1),\n 'POP',\n 10,\n 11,\n 12,\n ['13', '14'],\n 'MICHEL JACKSON']"
          },
          "metadata": {}
        }
      ]
    },
    {
      "cell_type": "code",
      "source": "'MICHEL JACKSON'.split()",
      "metadata": {
        "trusted": true
      },
      "execution_count": 159,
      "outputs": [
        {
          "execution_count": 159,
          "output_type": "execute_result",
          "data": {
            "text/plain": "['MICHEL', 'JACKSON']"
          },
          "metadata": {}
        }
      ]
    },
    {
      "cell_type": "code",
      "source": "L1",
      "metadata": {
        "trusted": true
      },
      "execution_count": 160,
      "outputs": [
        {
          "execution_count": 160,
          "output_type": "execute_result",
          "data": {
            "text/plain": "[10.1,\n 1982,\n [1, 2],\n ('A', 1),\n 'POP',\n 10,\n 11,\n 12,\n ['13', '14'],\n 'MICHEL JACKSON']"
          },
          "metadata": {}
        }
      ]
    },
    {
      "cell_type": "code",
      "source": "\"A,B,C,D,E\".split(\",\")",
      "metadata": {
        "trusted": true
      },
      "execution_count": 163,
      "outputs": [
        {
          "execution_count": 163,
          "output_type": "execute_result",
          "data": {
            "text/plain": "['A', 'B', 'C', 'D', 'E']"
          },
          "metadata": {}
        }
      ]
    },
    {
      "cell_type": "code",
      "source": "L2=L1",
      "metadata": {
        "trusted": true
      },
      "execution_count": 164,
      "outputs": []
    },
    {
      "cell_type": "code",
      "source": "L2",
      "metadata": {
        "trusted": true
      },
      "execution_count": 165,
      "outputs": [
        {
          "execution_count": 165,
          "output_type": "execute_result",
          "data": {
            "text/plain": "[10.1,\n 1982,\n [1, 2],\n ('A', 1),\n 'POP',\n 10,\n 11,\n 12,\n ['13', '14'],\n 'MICHEL JACKSON']"
          },
          "metadata": {}
        }
      ]
    },
    {
      "cell_type": "code",
      "source": "del(L2[0])",
      "metadata": {
        "trusted": true
      },
      "execution_count": 166,
      "outputs": []
    },
    {
      "cell_type": "code",
      "source": "L2",
      "metadata": {
        "trusted": true
      },
      "execution_count": 167,
      "outputs": [
        {
          "execution_count": 167,
          "output_type": "execute_result",
          "data": {
            "text/plain": "[1982, [1, 2], ('A', 1), 'POP', 10, 11, 12, ['13', '14'], 'MICHEL JACKSON']"
          },
          "metadata": {}
        }
      ]
    },
    {
      "cell_type": "code",
      "source": "L1",
      "metadata": {
        "trusted": true
      },
      "execution_count": 168,
      "outputs": [
        {
          "execution_count": 168,
          "output_type": "execute_result",
          "data": {
            "text/plain": "[1982, [1, 2], ('A', 1), 'POP', 10, 11, 12, ['13', '14'], 'MICHEL JACKSON']"
          },
          "metadata": {}
        }
      ]
    },
    {
      "cell_type": "code",
      "source": "L2=L1[:]",
      "metadata": {
        "trusted": true
      },
      "execution_count": 169,
      "outputs": []
    },
    {
      "cell_type": "code",
      "source": "L2[0]=\"banana\"",
      "metadata": {
        "trusted": true
      },
      "execution_count": 170,
      "outputs": []
    },
    {
      "cell_type": "code",
      "source": "L2",
      "metadata": {
        "trusted": true
      },
      "execution_count": 171,
      "outputs": [
        {
          "execution_count": 171,
          "output_type": "execute_result",
          "data": {
            "text/plain": "['banana', [1, 2], ('A', 1), 'POP', 10, 11, 12, ['13', '14'], 'MICHEL JACKSON']"
          },
          "metadata": {}
        }
      ]
    },
    {
      "cell_type": "code",
      "source": "L1",
      "metadata": {
        "trusted": true
      },
      "execution_count": 172,
      "outputs": [
        {
          "execution_count": 172,
          "output_type": "execute_result",
          "data": {
            "text/plain": "[1982, [1, 2], ('A', 1), 'POP', 10, 11, 12, ['13', '14'], 'MICHEL JACKSON']"
          },
          "metadata": {}
        }
      ]
    },
    {
      "cell_type": "markdown",
      "source": "7. **Dictionaries**",
      "metadata": {}
    },
    {
      "cell_type": "code",
      "source": "dict={\"Thriller\":1982,\"black in black\":1980,\"The dark side of the moon\":1973,\"The Bodyguard\":1992}",
      "metadata": {
        "trusted": true
      },
      "execution_count": 179,
      "outputs": []
    },
    {
      "cell_type": "code",
      "source": "dict[\"Thriller\"]",
      "metadata": {
        "trusted": true
      },
      "execution_count": 182,
      "outputs": [
        {
          "execution_count": 182,
          "output_type": "execute_result",
          "data": {
            "text/plain": "1982"
          },
          "metadata": {}
        }
      ]
    },
    {
      "cell_type": "code",
      "source": "dict['graduation']=2007",
      "metadata": {
        "trusted": true
      },
      "execution_count": 186,
      "outputs": []
    },
    {
      "cell_type": "code",
      "source": "dict",
      "metadata": {
        "trusted": true
      },
      "execution_count": 187,
      "outputs": [
        {
          "execution_count": 187,
          "output_type": "execute_result",
          "data": {
            "text/plain": "{'Thriller': 1982,\n 'black in black': 1980,\n 'The dark side of the moon': 1973,\n 'The Bodyguard': 1992,\n 'graduation': 2007}"
          },
          "metadata": {}
        }
      ]
    },
    {
      "cell_type": "code",
      "source": "del(dict['Thriller'])",
      "metadata": {
        "trusted": true
      },
      "execution_count": 188,
      "outputs": []
    },
    {
      "cell_type": "code",
      "source": "dict",
      "metadata": {
        "trusted": true
      },
      "execution_count": 189,
      "outputs": [
        {
          "execution_count": 189,
          "output_type": "execute_result",
          "data": {
            "text/plain": "{'black in black': 1980,\n 'The dark side of the moon': 1973,\n 'The Bodyguard': 1992,\n 'graduation': 2007}"
          },
          "metadata": {}
        }
      ]
    },
    {
      "cell_type": "code",
      "source": "'The Bodyguard' in dict",
      "metadata": {
        "trusted": true
      },
      "execution_count": 190,
      "outputs": [
        {
          "execution_count": 190,
          "output_type": "execute_result",
          "data": {
            "text/plain": "True"
          },
          "metadata": {}
        }
      ]
    },
    {
      "cell_type": "code",
      "source": "'starboy' in dict",
      "metadata": {
        "trusted": true
      },
      "execution_count": 191,
      "outputs": [
        {
          "execution_count": 191,
          "output_type": "execute_result",
          "data": {
            "text/plain": "False"
          },
          "metadata": {}
        }
      ]
    },
    {
      "cell_type": "code",
      "source": "dict.keys()",
      "metadata": {
        "trusted": true
      },
      "execution_count": 192,
      "outputs": [
        {
          "execution_count": 192,
          "output_type": "execute_result",
          "data": {
            "text/plain": "dict_keys(['black in black', 'The dark side of the moon', 'The Bodyguard', 'graduation'])"
          },
          "metadata": {}
        }
      ]
    },
    {
      "cell_type": "code",
      "source": "dict.values()",
      "metadata": {
        "trusted": true
      },
      "execution_count": 193,
      "outputs": [
        {
          "execution_count": 193,
          "output_type": "execute_result",
          "data": {
            "text/plain": "dict_values([1980, 1973, 1992, 2007])"
          },
          "metadata": {}
        }
      ]
    },
    {
      "cell_type": "markdown",
      "source": "8. **SETS**",
      "metadata": {}
    },
    {
      "cell_type": "markdown",
      "source": "- Sets are type of collection.This Means like list and Touples you can input different python types.\n- Unlike List and touples they are unordered,ie. Sets do not record element position.\n- Sets only have unique elements this means there is only one of a particular element is a Set.\n- You can convert list to a set.",
      "metadata": {}
    },
    {
      "cell_type": "code",
      "source": "set1={\"pop\",\"rock\",\"soul\",\"hard rock\",\"rock\",\"R&B\",\"rock\",\"disco\"}",
      "metadata": {
        "trusted": true
      },
      "execution_count": 195,
      "outputs": []
    },
    {
      "cell_type": "code",
      "source": "set1",
      "metadata": {
        "trusted": true
      },
      "execution_count": 196,
      "outputs": [
        {
          "execution_count": 196,
          "output_type": "execute_result",
          "data": {
            "text/plain": "{'R&B', 'disco', 'hard rock', 'pop', 'rock', 'soul'}"
          },
          "metadata": {}
        }
      ]
    },
    {
      "cell_type": "code",
      "source": "L5=[1,2,2,3,4]",
      "metadata": {
        "trusted": true
      },
      "execution_count": 197,
      "outputs": []
    },
    {
      "cell_type": "code",
      "source": "L5",
      "metadata": {
        "trusted": true
      },
      "execution_count": 200,
      "outputs": [
        {
          "execution_count": 200,
          "output_type": "execute_result",
          "data": {
            "text/plain": "[1, 2, 2, 3, 4]"
          },
          "metadata": {}
        }
      ]
    },
    {
      "cell_type": "code",
      "source": "S1=set(L5)",
      "metadata": {
        "trusted": true
      },
      "execution_count": 198,
      "outputs": []
    },
    {
      "cell_type": "code",
      "source": "S1",
      "metadata": {
        "trusted": true
      },
      "execution_count": 199,
      "outputs": [
        {
          "execution_count": 199,
          "output_type": "execute_result",
          "data": {
            "text/plain": "{1, 2, 3, 4}"
          },
          "metadata": {}
        }
      ]
    },
    {
      "cell_type": "code",
      "source": "A={'Thriller','Back in black','AC/DC'}",
      "metadata": {
        "trusted": true
      },
      "execution_count": 201,
      "outputs": []
    },
    {
      "cell_type": "code",
      "source": "A.add(\"NSYNC\")",
      "metadata": {
        "trusted": true
      },
      "execution_count": 202,
      "outputs": []
    },
    {
      "cell_type": "code",
      "source": "A",
      "metadata": {
        "trusted": true
      },
      "execution_count": 203,
      "outputs": [
        {
          "execution_count": 203,
          "output_type": "execute_result",
          "data": {
            "text/plain": "{'AC/DC', 'Back in black', 'NSYNC', 'Thriller'}"
          },
          "metadata": {}
        }
      ]
    },
    {
      "cell_type": "code",
      "source": "A.remove('Thriller')",
      "metadata": {
        "trusted": true
      },
      "execution_count": 204,
      "outputs": []
    },
    {
      "cell_type": "code",
      "source": "A",
      "metadata": {
        "trusted": true
      },
      "execution_count": 205,
      "outputs": [
        {
          "execution_count": 205,
          "output_type": "execute_result",
          "data": {
            "text/plain": "{'AC/DC', 'Back in black', 'NSYNC'}"
          },
          "metadata": {}
        }
      ]
    },
    {
      "cell_type": "code",
      "source": "album_set_1={'Thriller','Back in black','Moon'}",
      "metadata": {
        "trusted": true
      },
      "execution_count": 3,
      "outputs": []
    },
    {
      "cell_type": "code",
      "source": "album_set_2={'Thriller','Back in black','NSYNC'}",
      "metadata": {
        "trusted": true
      },
      "execution_count": 4,
      "outputs": []
    },
    {
      "cell_type": "code",
      "source": "album_set_3=album_set_1&album_set_2",
      "metadata": {
        "trusted": true
      },
      "execution_count": 5,
      "outputs": []
    },
    {
      "cell_type": "code",
      "source": "album_set_3",
      "metadata": {
        "trusted": true
      },
      "execution_count": 6,
      "outputs": [
        {
          "execution_count": 6,
          "output_type": "execute_result",
          "data": {
            "text/plain": "{'Back in black', 'Thriller'}"
          },
          "metadata": {}
        }
      ]
    },
    {
      "cell_type": "code",
      "source": "album_set_4=album_set_1.union(album_set_2)",
      "metadata": {
        "trusted": true
      },
      "execution_count": 8,
      "outputs": []
    },
    {
      "cell_type": "code",
      "source": "album_set_4",
      "metadata": {
        "trusted": true
      },
      "execution_count": 9,
      "outputs": [
        {
          "execution_count": 9,
          "output_type": "execute_result",
          "data": {
            "text/plain": "{'Back in black', 'Moon', 'NSYNC', 'Thriller'}"
          },
          "metadata": {}
        }
      ]
    },
    {
      "cell_type": "code",
      "source": "album_set_4.issubset(album_set_1)",
      "metadata": {
        "trusted": true
      },
      "execution_count": 13,
      "outputs": [
        {
          "execution_count": 13,
          "output_type": "execute_result",
          "data": {
            "text/plain": "False"
          },
          "metadata": {}
        }
      ]
    },
    {
      "cell_type": "code",
      "source": "album_set_1.issubset(album_set_4)",
      "metadata": {
        "trusted": true
      },
      "execution_count": 14,
      "outputs": [
        {
          "execution_count": 14,
          "output_type": "execute_result",
          "data": {
            "text/plain": "True"
          },
          "metadata": {}
        }
      ]
    },
    {
      "cell_type": "markdown",
      "source": "9. **Conditions and Branching**",
      "metadata": {}
    },
    {
      "cell_type": "code",
      "source": "A=6",
      "metadata": {
        "trusted": true
      },
      "execution_count": 15,
      "outputs": []
    },
    {
      "cell_type": "code",
      "source": "A==6",
      "metadata": {
        "trusted": true
      },
      "execution_count": 16,
      "outputs": [
        {
          "execution_count": 16,
          "output_type": "execute_result",
          "data": {
            "text/plain": "True"
          },
          "metadata": {}
        }
      ]
    },
    {
      "cell_type": "code",
      "source": "A==7",
      "metadata": {
        "trusted": true
      },
      "execution_count": 17,
      "outputs": [
        {
          "execution_count": 17,
          "output_type": "execute_result",
          "data": {
            "text/plain": "False"
          },
          "metadata": {}
        }
      ]
    },
    {
      "cell_type": "code",
      "source": "A>7",
      "metadata": {
        "trusted": true
      },
      "execution_count": 25,
      "outputs": [
        {
          "execution_count": 25,
          "output_type": "execute_result",
          "data": {
            "text/plain": "False"
          },
          "metadata": {}
        }
      ]
    },
    {
      "cell_type": "code",
      "source": "A<7",
      "metadata": {
        "trusted": true
      },
      "execution_count": 26,
      "outputs": [
        {
          "execution_count": 26,
          "output_type": "execute_result",
          "data": {
            "text/plain": "True"
          },
          "metadata": {}
        }
      ]
    },
    {
      "cell_type": "code",
      "source": "A!=7",
      "metadata": {
        "trusted": true
      },
      "execution_count": 28,
      "outputs": [
        {
          "execution_count": 28,
          "output_type": "execute_result",
          "data": {
            "text/plain": "True"
          },
          "metadata": {}
        }
      ]
    },
    {
      "cell_type": "code",
      "source": "A!=6",
      "metadata": {
        "trusted": true
      },
      "execution_count": 29,
      "outputs": [
        {
          "execution_count": 29,
          "output_type": "execute_result",
          "data": {
            "text/plain": "False"
          },
          "metadata": {}
        }
      ]
    },
    {
      "cell_type": "code",
      "source": "\"LOVE\"==\"HATE\"",
      "metadata": {
        "trusted": true
      },
      "execution_count": 30,
      "outputs": [
        {
          "execution_count": 30,
          "output_type": "execute_result",
          "data": {
            "text/plain": "False"
          },
          "metadata": {}
        }
      ]
    },
    {
      "cell_type": "code",
      "source": "\"LOVE\"!=\"HATE\"",
      "metadata": {
        "trusted": true
      },
      "execution_count": 31,
      "outputs": [
        {
          "execution_count": 31,
          "output_type": "execute_result",
          "data": {
            "text/plain": "True"
          },
          "metadata": {}
        }
      ]
    },
    {
      "cell_type": "code",
      "source": "age=19",
      "metadata": {
        "trusted": true
      },
      "execution_count": 61,
      "outputs": []
    },
    {
      "cell_type": "code",
      "source": "if (age>18):\n    print(\"you can enter\")\nelse:\n    print(\"move on\")",
      "metadata": {
        "trusted": true
      },
      "execution_count": 60,
      "outputs": [
        {
          "name": "stdout",
          "text": "you can enter\n",
          "output_type": "stream"
        }
      ]
    },
    {
      "cell_type": "code",
      "source": "if (age>18):\n    print(\"you can enter\")\nelif (age>16):\n    print(\"medical test\")\nelse:\n    print(\"move on\")",
      "metadata": {
        "trusted": true
      },
      "execution_count": 48,
      "outputs": [
        {
          "name": "stdout",
          "text": "medical test\n",
          "output_type": "stream"
        }
      ]
    },
    {
      "cell_type": "code",
      "source": "if age<18 or age>16:\n    print (\"ok\")\nelse:\n    print(\"not ok\")",
      "metadata": {
        "trusted": true
      },
      "execution_count": 64,
      "outputs": [
        {
          "name": "stdout",
          "text": "ok\n",
          "output_type": "stream"
        }
      ]
    },
    {
      "cell_type": "code",
      "source": "if age<18 and age>16:\n    print (\"ok\")\nelse:\n    print(\"not ok\")",
      "metadata": {
        "trusted": true
      },
      "execution_count": 65,
      "outputs": [
        {
          "name": "stdout",
          "text": "not ok\n",
          "output_type": "stream"
        }
      ]
    },
    {
      "cell_type": "markdown",
      "source": "10. **Loops**",
      "metadata": {}
    },
    {
      "cell_type": "code",
      "source": "x = range(6)\nfor n in x:\n  print(n)",
      "metadata": {
        "trusted": true
      },
      "execution_count": 69,
      "outputs": [
        {
          "name": "stdout",
          "text": "0\n1\n2\n3\n4\n5\n",
          "output_type": "stream"
        }
      ]
    },
    {
      "cell_type": "code",
      "source": "x = range(3, 6)\nfor n in x:\n  print(n)",
      "metadata": {
        "trusted": true
      },
      "execution_count": 70,
      "outputs": [
        {
          "name": "stdout",
          "text": "3\n4\n5\n",
          "output_type": "stream"
        }
      ]
    },
    {
      "cell_type": "code",
      "source": "x = range(3, 20, 2)\nfor n in x:\n  print(n)",
      "metadata": {
        "trusted": true
      },
      "execution_count": 71,
      "outputs": [
        {
          "name": "stdout",
          "text": "3\n5\n7\n9\n11\n13\n15\n17\n19\n",
          "output_type": "stream"
        }
      ]
    },
    {
      "cell_type": "code",
      "source": "",
      "metadata": {
        "trusted": true
      },
      "execution_count": 73,
      "outputs": []
    },
    {
      "cell_type": "code",
      "source": "",
      "metadata": {},
      "execution_count": null,
      "outputs": []
    }
  ]
}