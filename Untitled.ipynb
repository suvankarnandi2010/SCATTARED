{
 "cells": [
  {
   "cell_type": "code",
   "execution_count": 1,
   "id": "ac9e6311",
   "metadata": {},
   "outputs": [
    {
     "name": "stdout",
     "output_type": "stream",
     "text": [
      "5 is greater than 2\n"
     ]
    }
   ],
   "source": [
    "if 5>2:\n",
    " print(\"5 is greater than 2\")"
   ]
  },
  {
   "cell_type": "code",
   "execution_count": 2,
   "id": "0c2595f4",
   "metadata": {},
   "outputs": [
    {
     "name": "stdout",
     "output_type": "stream",
     "text": [
      "Hello World\n"
     ]
    }
   ],
   "source": [
    "# This is a Comment\n",
    "print(\"Hello World\")"
   ]
  },
  {
   "cell_type": "code",
   "execution_count": 3,
   "id": "cebdbcdf",
   "metadata": {},
   "outputs": [],
   "source": [
    "x=4\n",
    "x=\"salary\""
   ]
  },
  {
   "cell_type": "code",
   "execution_count": 4,
   "id": "acd0a191",
   "metadata": {},
   "outputs": [
    {
     "data": {
      "text/plain": [
       "'salary'"
      ]
     },
     "execution_count": 4,
     "metadata": {},
     "output_type": "execute_result"
    }
   ],
   "source": [
    "x"
   ]
  },
  {
   "cell_type": "code",
   "execution_count": 5,
   "id": "154df89d",
   "metadata": {},
   "outputs": [],
   "source": [
    "x,y,z=1,2,3"
   ]
  },
  {
   "cell_type": "code",
   "execution_count": 6,
   "id": "db843c67",
   "metadata": {},
   "outputs": [
    {
     "data": {
      "text/plain": [
       "2"
      ]
     },
     "execution_count": 6,
     "metadata": {},
     "output_type": "execute_result"
    }
   ],
   "source": [
    "y"
   ]
  },
  {
   "cell_type": "code",
   "execution_count": 7,
   "id": "52bde930",
   "metadata": {},
   "outputs": [],
   "source": [
    "x=y=z=\"Orrange\""
   ]
  },
  {
   "cell_type": "code",
   "execution_count": 8,
   "id": "fc4cad60",
   "metadata": {},
   "outputs": [
    {
     "data": {
      "text/plain": [
       "'Orrange'"
      ]
     },
     "execution_count": 8,
     "metadata": {},
     "output_type": "execute_result"
    }
   ],
   "source": [
    "y"
   ]
  },
  {
   "cell_type": "code",
   "execution_count": 9,
   "id": "a3036ed8",
   "metadata": {},
   "outputs": [],
   "source": [
    "x=\"i\"\n",
    "y=\"love\"\n",
    "z=\"you\""
   ]
  },
  {
   "cell_type": "code",
   "execution_count": 10,
   "id": "481f2551",
   "metadata": {},
   "outputs": [
    {
     "name": "stdout",
     "output_type": "stream",
     "text": [
      "i love you\n"
     ]
    }
   ],
   "source": [
    "print(x,y,z)"
   ]
  },
  {
   "cell_type": "code",
   "execution_count": 11,
   "id": "be06b946",
   "metadata": {},
   "outputs": [
    {
     "name": "stdout",
     "output_type": "stream",
     "text": [
      "iloveyou\n"
     ]
    }
   ],
   "source": [
    "print(x+y+z)"
   ]
  },
  {
   "cell_type": "code",
   "execution_count": 12,
   "id": "b11a2dbe",
   "metadata": {},
   "outputs": [],
   "source": [
    "x=5\n",
    "y=10"
   ]
  },
  {
   "cell_type": "code",
   "execution_count": 13,
   "id": "66e9f345",
   "metadata": {},
   "outputs": [
    {
     "data": {
      "text/plain": [
       "15"
      ]
     },
     "execution_count": 13,
     "metadata": {},
     "output_type": "execute_result"
    }
   ],
   "source": [
    "x+y"
   ]
  },
  {
   "cell_type": "code",
   "execution_count": 14,
   "id": "bb5dad31",
   "metadata": {},
   "outputs": [],
   "source": [
    "x=5\n",
    "y=\"i\""
   ]
  },
  {
   "cell_type": "code",
   "execution_count": 15,
   "id": "d6fd232c",
   "metadata": {},
   "outputs": [
    {
     "name": "stdout",
     "output_type": "stream",
     "text": [
      "5 i\n"
     ]
    }
   ],
   "source": [
    "print(x,y)"
   ]
  },
  {
   "cell_type": "code",
   "execution_count": 16,
   "id": "f95c4c4d",
   "metadata": {},
   "outputs": [
    {
     "ename": "TypeError",
     "evalue": "unsupported operand type(s) for +: 'int' and 'str'",
     "output_type": "error",
     "traceback": [
      "\u001b[1;31m---------------------------------------------------------------------------\u001b[0m",
      "\u001b[1;31mTypeError\u001b[0m                                 Traceback (most recent call last)",
      "Cell \u001b[1;32mIn [16], line 1\u001b[0m\n\u001b[1;32m----> 1\u001b[0m \u001b[38;5;28mprint\u001b[39m(\u001b[43mx\u001b[49m\u001b[38;5;241;43m+\u001b[39;49m\u001b[43my\u001b[49m)\n",
      "\u001b[1;31mTypeError\u001b[0m: unsupported operand type(s) for +: 'int' and 'str'"
     ]
    }
   ],
   "source": [
    "print(x+y)"
   ]
  },
  {
   "cell_type": "code",
   "execution_count": null,
   "id": "306323a0",
   "metadata": {},
   "outputs": [],
   "source": [
    "x=\"Awesome\""
   ]
  },
  {
   "cell_type": "code",
   "execution_count": null,
   "id": "8cd0d95d",
   "metadata": {},
   "outputs": [],
   "source": [
    "def myfunc():\n",
    "    print(\"you are\"+ x)"
   ]
  },
  {
   "cell_type": "code",
   "execution_count": null,
   "id": "a7339717",
   "metadata": {},
   "outputs": [],
   "source": [
    "myfunc()"
   ]
  },
  {
   "cell_type": "code",
   "execution_count": null,
   "id": "a6893728",
   "metadata": {},
   "outputs": [],
   "source": [
    "x = 5\n",
    "print(type(x))"
   ]
  },
  {
   "cell_type": "code",
   "execution_count": null,
   "id": "5f6a6bde",
   "metadata": {},
   "outputs": [],
   "source": [
    "x=\"h\""
   ]
  },
  {
   "cell_type": "code",
   "execution_count": null,
   "id": "2b58ad0d",
   "metadata": {},
   "outputs": [],
   "source": [
    "print(type(x))"
   ]
  },
  {
   "cell_type": "code",
   "execution_count": null,
   "id": "fcd76655",
   "metadata": {},
   "outputs": [],
   "source": [
    "x=10"
   ]
  },
  {
   "cell_type": "code",
   "execution_count": null,
   "id": "50a81812",
   "metadata": {},
   "outputs": [],
   "source": [
    "y=float(x)"
   ]
  },
  {
   "cell_type": "code",
   "execution_count": null,
   "id": "4338d824",
   "metadata": {},
   "outputs": [],
   "source": [
    "y"
   ]
  },
  {
   "cell_type": "code",
   "execution_count": null,
   "id": "b66253c2",
   "metadata": {},
   "outputs": [],
   "source": [
    "import random\n",
    "print(random.randrange(1,10))"
   ]
  },
  {
   "cell_type": "code",
   "execution_count": null,
   "id": "ae92cef0",
   "metadata": {},
   "outputs": [],
   "source": [
    "z=str(\"1\")"
   ]
  },
  {
   "cell_type": "code",
   "execution_count": null,
   "id": "15b912f1",
   "metadata": {},
   "outputs": [],
   "source": [
    "z"
   ]
  },
  {
   "cell_type": "code",
   "execution_count": null,
   "id": "f0b5a2ab",
   "metadata": {},
   "outputs": [],
   "source": [
    "a=\"hello\""
   ]
  },
  {
   "cell_type": "code",
   "execution_count": null,
   "id": "4b9a36e3",
   "metadata": {},
   "outputs": [],
   "source": [
    "a"
   ]
  },
  {
   "cell_type": "code",
   "execution_count": null,
   "id": "5b25d07a",
   "metadata": {},
   "outputs": [],
   "source": [
    "b=\"i love you\""
   ]
  },
  {
   "cell_type": "code",
   "execution_count": null,
   "id": "35894374",
   "metadata": {},
   "outputs": [],
   "source": [
    "b[7:10]"
   ]
  },
  {
   "cell_type": "code",
   "execution_count": null,
   "id": "bf9fafc9",
   "metadata": {},
   "outputs": [],
   "source": [
    "b[:6]"
   ]
  },
  {
   "cell_type": "code",
   "execution_count": null,
   "id": "5237cda7",
   "metadata": {},
   "outputs": [],
   "source": [
    "b[6:]"
   ]
  },
  {
   "cell_type": "code",
   "execution_count": null,
   "id": "1d3c7d6a",
   "metadata": {},
   "outputs": [],
   "source": [
    "b[-3:]"
   ]
  },
  {
   "cell_type": "code",
   "execution_count": null,
   "id": "36db7e08",
   "metadata": {},
   "outputs": [],
   "source": [
    "b[2:6]"
   ]
  },
  {
   "cell_type": "code",
   "execution_count": null,
   "id": "6f8abde1",
   "metadata": {},
   "outputs": [],
   "source": [
    "b.upper()"
   ]
  },
  {
   "cell_type": "code",
   "execution_count": null,
   "id": "28012d63",
   "metadata": {},
   "outputs": [],
   "source": [
    "b.lower()"
   ]
  },
  {
   "cell_type": "code",
   "execution_count": null,
   "id": "963ba490",
   "metadata": {},
   "outputs": [],
   "source": [
    "c=\"  i   \""
   ]
  },
  {
   "cell_type": "code",
   "execution_count": null,
   "id": "ec6d0fe4",
   "metadata": {},
   "outputs": [],
   "source": [
    "c.strip()"
   ]
  },
  {
   "cell_type": "code",
   "execution_count": null,
   "id": "0bd8ba43",
   "metadata": {},
   "outputs": [],
   "source": [
    "d=\"dove\""
   ]
  },
  {
   "cell_type": "code",
   "execution_count": null,
   "id": "c8310078",
   "metadata": {},
   "outputs": [],
   "source": [
    "d.replace(\"d\",\"l\")"
   ]
  },
  {
   "cell_type": "code",
   "execution_count": null,
   "id": "6c4e9fad",
   "metadata": {},
   "outputs": [],
   "source": [
    "e=\"hello world\""
   ]
  },
  {
   "cell_type": "code",
   "execution_count": null,
   "id": "86d7cef3",
   "metadata": {},
   "outputs": [],
   "source": [
    "e.split(\" \")"
   ]
  },
  {
   "cell_type": "code",
   "execution_count": null,
   "id": "1afc52c9",
   "metadata": {},
   "outputs": [],
   "source": [
    "a=36\n",
    "b=\"{}Chowrangee Lane\""
   ]
  },
  {
   "cell_type": "code",
   "execution_count": null,
   "id": "476fea57",
   "metadata": {},
   "outputs": [],
   "source": [
    "b.format(a)"
   ]
  },
  {
   "cell_type": "code",
   "execution_count": null,
   "id": "2cf161aa",
   "metadata": {},
   "outputs": [],
   "source": [
    "Item=123\n",
    "quantity=10\n",
    "price=49.50"
   ]
  },
  {
   "cell_type": "code",
   "execution_count": null,
   "id": "5c59fa0e",
   "metadata": {},
   "outputs": [],
   "source": [
    "my_order = \"I have ordered {} {} which cost {}\""
   ]
  },
  {
   "cell_type": "code",
   "execution_count": null,
   "id": "57539eb1",
   "metadata": {},
   "outputs": [],
   "source": [
    "my_order.format(quantity,Item,price)"
   ]
  },
  {
   "cell_type": "code",
   "execution_count": null,
   "id": "c762d938",
   "metadata": {},
   "outputs": [],
   "source": [
    "a=\"you are \\\"the\\\" one\""
   ]
  },
  {
   "cell_type": "code",
   "execution_count": null,
   "id": "2280d27c",
   "metadata": {},
   "outputs": [],
   "source": [
    "a"
   ]
  },
  {
   "cell_type": "code",
   "execution_count": null,
   "id": "16e6c37c",
   "metadata": {},
   "outputs": [],
   "source": [
    "txt = \"Hello\\nWorld!\"\n",
    "print(txt) "
   ]
  },
  {
   "cell_type": "code",
   "execution_count": null,
   "id": "3b2ccb48",
   "metadata": {},
   "outputs": [],
   "source": [
    "p"
   ]
  },
  {
   "cell_type": "code",
   "execution_count": null,
   "id": "e6723f0e",
   "metadata": {},
   "outputs": [],
   "source": [
    "txt = \"banana\"\n",
    "\n",
    "x = txt.center(20)\n",
    "\n",
    "print(x)"
   ]
  },
  {
   "cell_type": "code",
   "execution_count": null,
   "id": "514443e9",
   "metadata": {},
   "outputs": [],
   "source": [
    "a=\"h\\te\\tl\\tl\\to\"\n",
    "pr"
   ]
  },
  {
   "cell_type": "code",
   "execution_count": null,
   "id": "2baef6b8",
   "metadata": {},
   "outputs": [],
   "source": [
    "print(a)"
   ]
  },
  {
   "cell_type": "code",
   "execution_count": null,
   "id": "be7d5ccd",
   "metadata": {},
   "outputs": [],
   "source": [
    "a.expandtabs(19)"
   ]
  },
  {
   "cell_type": "code",
   "execution_count": null,
   "id": "a27b0a3d",
   "metadata": {},
   "outputs": [],
   "source": [
    "txt = \"Hello, welcome to my world.\""
   ]
  },
  {
   "cell_type": "code",
   "execution_count": null,
   "id": "68af7e5b",
   "metadata": {},
   "outputs": [],
   "source": [
    "txt.find('to')"
   ]
  },
  {
   "cell_type": "code",
   "execution_count": null,
   "id": "086a3222",
   "metadata": {},
   "outputs": [],
   "source": [
    "txt = \"Hello, welcome to my world.\"\n",
    "\n",
    "print(txt.find(\"q\"))\n",
    "print(txt.index(\"q\"))"
   ]
  },
  {
   "cell_type": "code",
   "execution_count": null,
   "id": "47fc9ae4",
   "metadata": {},
   "outputs": [],
   "source": [
    "txt=\"price is only {price:.2f} Rupees\"\n",
    "print(txt.format(price=49))"
   ]
  },
  {
   "cell_type": "code",
   "execution_count": null,
   "id": "4a5049cf",
   "metadata": {},
   "outputs": [],
   "source": [
    "import datetime\n",
    "\n",
    "x = datetime.datetime.now()\n",
    "print(x)"
   ]
  },
  {
   "cell_type": "code",
   "execution_count": null,
   "id": "942e5870",
   "metadata": {},
   "outputs": [],
   "source": [
    "import datetime\n",
    "\n",
    "x = datetime.datetime.now()\n",
    "\n",
    "print(x.year)\n",
    "print(x.strftime(\"%A\"))"
   ]
  },
  {
   "cell_type": "code",
   "execution_count": null,
   "id": "ed90afc1",
   "metadata": {},
   "outputs": [],
   "source": [
    "import datetime\n",
    "\n",
    "x = datetime.datetime(2020, 5, 17)\n",
    "\n",
    "print(x)"
   ]
  },
  {
   "cell_type": "code",
   "execution_count": null,
   "id": "fc8461db",
   "metadata": {},
   "outputs": [],
   "source": [
    "mytuple = (\"apple\", \"banana\", \"cherry\")\n",
    "myit = iter(mytuple)\n",
    "\n",
    "print(next(myit))\n",
    "print(next(myit))\n",
    "print(next(myit))"
   ]
  },
  {
   "cell_type": "code",
   "execution_count": null,
   "id": "3da4fb82",
   "metadata": {},
   "outputs": [],
   "source": [
    "mystr = \"banana\"\n",
    "myit = iter(mystr)\n",
    "\n",
    "print(next(myit))\n",
    "print(next(myit))\n",
    "print(next(myit))\n",
    "print(next(myit))\n",
    "print(next(myit))\n",
    "print(next(myit))"
   ]
  },
  {
   "cell_type": "code",
   "execution_count": null,
   "id": "ca65754e",
   "metadata": {},
   "outputs": [],
   "source": [
    "mystr = \"banana\"\n",
    "\n",
    "for x in mystr:\n",
    "  print(x)"
   ]
  },
  {
   "cell_type": "code",
   "execution_count": null,
   "id": "4144f69f",
   "metadata": {},
   "outputs": [],
   "source": [
    "class MyNumbers:\n",
    "  def __iter__(self):\n",
    "    self.a = 1\n",
    "    return self\n",
    "\n",
    "  def __next__(self):\n",
    "    x = self.a\n",
    "    self.a += 1\n",
    "    return x\n",
    "\n",
    "myclass = MyNumbers()\n",
    "myiter = iter(myclass)\n",
    "\n",
    "print(next(myiter))\n",
    "print(next(myiter))\n",
    "print(next(myiter))\n",
    "print(next(myiter))\n",
    "print(next(myiter))"
   ]
  },
  {
   "cell_type": "code",
   "execution_count": null,
   "id": "6e7b4f1d",
   "metadata": {},
   "outputs": [],
   "source": [
    "class MyNumbers:\n",
    "  def __iter__(self):\n",
    "    self.a = 1\n",
    "    return self\n",
    "\n",
    "  def __next__(self):\n",
    "    x = self.a\n",
    "    self.a += 1\n",
    "    return x\n",
    "\n",
    "myclass = MyNumbers()\n",
    "myiter = iter(myclass)\n",
    "print(next(myiter))\n",
    "print(next(myiter))\n",
    "print(next(myiter))\n",
    "print(next(myiter))\n",
    "print(next(myiter))"
   ]
  },
  {
   "cell_type": "code",
   "execution_count": null,
   "id": "a19a97fd",
   "metadata": {},
   "outputs": [],
   "source": [
    "class MyNumbers:\n",
    "  def __iter__(self):\n",
    "    self.a = 1\n",
    "    return self\n",
    "\n",
    "  def __next__(self):\n",
    "    if self.a <= 20:\n",
    "      x = self.a\n",
    "      self.a += 1\n",
    "      return x\n",
    "    else:\n",
    "      raise StopIteration\n",
    "\n",
    "myclass = MyNumbers()\n",
    "myiter = iter(myclass)\n",
    "\n",
    "for x in myiter:\n",
    "  print(x)"
   ]
  },
  {
   "cell_type": "code",
   "execution_count": 44,
   "id": "2cd21365",
   "metadata": {},
   "outputs": [
    {
     "ename": "TypeError",
     "evalue": "bag() takes no arguments",
     "output_type": "error",
     "traceback": [
      "\u001b[1;31m---------------------------------------------------------------------------\u001b[0m",
      "\u001b[1;31mTypeError\u001b[0m                                 Traceback (most recent call last)",
      "Cell \u001b[1;32mIn [44], line 6\u001b[0m\n\u001b[0;32m      3\u001b[0m         \u001b[38;5;28mself\u001b[39m\u001b[38;5;241m.\u001b[39mbook\u001b[38;5;241m=\u001b[39mbook\n\u001b[0;32m      4\u001b[0m         \u001b[38;5;28mself\u001b[39m\u001b[38;5;241m.\u001b[39mnumber\u001b[38;5;241m=\u001b[39mnumber\n\u001b[1;32m----> 6\u001b[0m bigbag\u001b[38;5;241m=\u001b[39m\u001b[43mbag\u001b[49m\u001b[43m(\u001b[49m\u001b[38;5;124;43m\"\u001b[39;49m\u001b[38;5;124;43mCorporate\u001b[39;49m\u001b[38;5;124;43m\"\u001b[39;49m\u001b[43m,\u001b[49m\u001b[38;5;241;43m6\u001b[39;49m\u001b[43m)\u001b[49m\n\u001b[0;32m      8\u001b[0m \u001b[38;5;28mprint\u001b[39m(bigbag\u001b[38;5;241m.\u001b[39mbook)\n\u001b[0;32m      9\u001b[0m \u001b[38;5;28mprint\u001b[39m(bigbag\u001b[38;5;241m.\u001b[39mnumber)\n",
      "\u001b[1;31mTypeError\u001b[0m: bag() takes no arguments"
     ]
    }
   ],
   "source": [
    "class bag:\n",
    " def _init_(self,book,number):\n",
    "        self.book=book\n",
    "        self.number=number\n",
    "        \n",
    "bigbag=bag(\"Corporate\",6)\n",
    "\n",
    "print(bigbag.book)\n",
    "print(bigbag.number)"
   ]
  },
  {
   "cell_type": "code",
   "execution_count": 27,
   "id": "3c9233fb",
   "metadata": {},
   "outputs": [
    {
     "ename": "NameError",
     "evalue": "name 'bigbag' is not defined",
     "output_type": "error",
     "traceback": [
      "\u001b[1;31m---------------------------------------------------------------------------\u001b[0m",
      "\u001b[1;31mNameError\u001b[0m                                 Traceback (most recent call last)",
      "Cell \u001b[1;32mIn [27], line 1\u001b[0m\n\u001b[1;32m----> 1\u001b[0m \u001b[38;5;28mprint\u001b[39m(\u001b[43mbigbag\u001b[49m\u001b[38;5;241m.\u001b[39mbook)\n\u001b[0;32m      2\u001b[0m \u001b[38;5;28mprint\u001b[39m(bigbag\u001b[38;5;241m.\u001b[39mlaptop)\n",
      "\u001b[1;31mNameError\u001b[0m: name 'bigbag' is not defined"
     ]
    }
   ],
   "source": [
    "print(bigbag.book)\n",
    "print(bigbag.laptop)"
   ]
  },
  {
   "cell_type": "code",
   "execution_count": 46,
   "id": "1408ada0",
   "metadata": {},
   "outputs": [],
   "source": [
    "def myfunction():\n",
    "    print(\"helo World\")"
   ]
  },
  {
   "cell_type": "code",
   "execution_count": 50,
   "id": "55b2eef0",
   "metadata": {},
   "outputs": [
    {
     "name": "stdout",
     "output_type": "stream",
     "text": [
      "helo World\n"
     ]
    }
   ],
   "source": [
    "myfunction()"
   ]
  },
  {
   "cell_type": "code",
   "execution_count": 51,
   "id": "dee3fd51",
   "metadata": {},
   "outputs": [],
   "source": [
    "def myfunction(fname):\n",
    "    print(fname + \"References\")"
   ]
  },
  {
   "cell_type": "code",
   "execution_count": 52,
   "id": "aa2e79d2",
   "metadata": {},
   "outputs": [
    {
     "name": "stdout",
     "output_type": "stream",
     "text": [
      "emailReferences\n"
     ]
    }
   ],
   "source": [
    "myfunction(\"email\")"
   ]
  },
  {
   "cell_type": "code",
   "execution_count": null,
   "id": "4dc4bae1",
   "metadata": {},
   "outputs": [],
   "source": []
  }
 ],
 "metadata": {
  "kernelspec": {
   "display_name": "Python 3 (ipykernel)",
   "language": "python",
   "name": "python3"
  },
  "language_info": {
   "codemirror_mode": {
    "name": "ipython",
    "version": 3
   },
   "file_extension": ".py",
   "mimetype": "text/x-python",
   "name": "python",
   "nbconvert_exporter": "python",
   "pygments_lexer": "ipython3",
   "version": "3.11.0"
  }
 },
 "nbformat": 4,
 "nbformat_minor": 5
}
